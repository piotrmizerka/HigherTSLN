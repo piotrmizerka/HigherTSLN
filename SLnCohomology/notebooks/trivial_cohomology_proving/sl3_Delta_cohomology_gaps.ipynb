{
 "cells": [
  {
   "cell_type": "code",
   "execution_count": 1,
   "id": "0bdd5752",
   "metadata": {
    "scrolled": true
   },
   "outputs": [
    {
     "name": "stderr",
     "output_type": "stream",
     "text": [
      "\u001b[32m\u001b[1m  Activating\u001b[22m\u001b[39m project at `~/Desktop/LowCohomologySOS`\n",
      "\u001b[36m\u001b[1m[ \u001b[22m\u001b[39m\u001b[36m\u001b[1mInfo: \u001b[22m\u001b[39mPrecompiling LowCohomologySOS [70c9f613-c550-58ca-b626-6da403f9846d]\n"
     ]
    }
   ],
   "source": [
    "# Let's load the precompuded differential data\n",
    "include(\"../differentials/computation/sl3_utils.jl\");"
   ]
  },
  {
   "cell_type": "code",
   "execution_count": null,
   "id": "6f33ef1f",
   "metadata": {},
   "outputs": [],
   "source": [
    "# Sanity checks for vanishing compositions of differentials"
   ]
  },
  {
   "cell_type": "code",
   "execution_count": 2,
   "id": "46f11300",
   "metadata": {},
   "outputs": [
    {
     "data": {
      "text/plain": [
       "true"
      ]
     },
     "execution_count": 2,
     "metadata": {},
     "output_type": "execute_result"
    }
   ],
   "source": [
    "d₄*d₅ == reshape([zero(RG); zero(RG)],2,1)"
   ]
  },
  {
   "cell_type": "code",
   "execution_count": 6,
   "id": "51516d19",
   "metadata": {},
   "outputs": [
    {
     "data": {
      "text/plain": [
       "true"
      ]
     },
     "execution_count": 6,
     "metadata": {},
     "output_type": "execute_result"
    }
   ],
   "source": [
    "d₃*d₄ == [zero(RG)]"
   ]
  },
  {
   "attachments": {},
   "cell_type": "markdown",
   "id": "c8c063b7",
   "metadata": {},
   "source": [
    "# Computing Laplacians"
   ]
  },
  {
   "cell_type": "code",
   "execution_count": 10,
   "id": "213bf102",
   "metadata": {},
   "outputs": [],
   "source": [
    "# The stabiliser parts which we have to add to get free modules.\n",
    "# Hopefully (and quite suprisingly for me) the stabilisers' elements belong to half_basis.\n",
    "dim2_stab_part = reshape([one(RG)-averaged_rep(m2_stab, half_basis, RG)], 1, 1)\n",
    "dim3_stab_part = [\n",
    "    one(RG)-averaged_rep(m31_stab, half_basis, RG) zero(RG);\n",
    "    zero(RG) one(RG)-averaged_rep(m32_stab, half_basis, RG)\n",
    "]\n",
    "dim4_stab_part = reshape([one(RG)-averaged_rep(m4_stab, half_basis, RG)], 1, 1)\n",
    "dim5_stab_part = reshape([one(RG)-averaged_rep(m5_stab, half_basis, RG)], 1, 1);"
   ]
  },
  {
   "cell_type": "code",
   "execution_count": 17,
   "id": "2467cdd3",
   "metadata": {},
   "outputs": [],
   "source": [
    "# Compute the Laplacians.\n",
    "# At the end, we embed the Laplacian into RG_star, the group ring\n",
    "# with the same basis as RG but with twisted multiplciation, i.e.\n",
    "# (1+g)(1+h)=1+g+h+g^(-1)h. This is needed to translate hermitian squares\n",
    "# to the standard ones for the definition of the semi-definite optimization problem\n",
    "# (solvers prefer standard squares to hermitian :).\n",
    "# This has no effect on the shape of the Laplacian since we just embed it.\n",
    "RG_star = LowCohomologySOS.group_ring(sl3, half_basis, star_multiplication = true)\n",
    "\n",
    "Δ₂x = d₃*d₃'+dim2_stab_part\n",
    "Δ₃x = d₃'*d₃+d₄*d₄'+dim3_stab_part\n",
    "Δ₄x = reshape([d₄'*d₄],1,1)+d₅*d₅'+dim4_stab_part\n",
    "Δ₅x = d₅'*d₅+dim5_stab_part\n",
    "\n",
    "Δ₂ = LowCohomologySOS.embed.(identity, Δ₂x, Ref(RG_star))\n",
    "Δ₃ = LowCohomologySOS.embed.(identity, Δ₃x, Ref(RG_star))\n",
    "Δ₄ = LowCohomologySOS.embed.(identity, Δ₄x, Ref(RG_star))\n",
    "Δ₅ = LowCohomologySOS.embed.(identity, Δ₅x, Ref(RG_star));"
   ]
  },
  {
   "cell_type": "code",
   "execution_count": 18,
   "id": "4f8bc4af",
   "metadata": {},
   "outputs": [
    {
     "name": "stderr",
     "output_type": "stream",
     "text": [
      "\u001b[36m\u001b[1m[ \u001b[22m\u001b[39m\u001b[36m\u001b[1mInfo: \u001b[22m\u001b[39mtrue\n",
      "\u001b[36m\u001b[1m[ \u001b[22m\u001b[39m\u001b[36m\u001b[1mInfo: \u001b[22m\u001b[39mtrue\n",
      "\u001b[36m\u001b[1m[ \u001b[22m\u001b[39m\u001b[36m\u001b[1mInfo: \u001b[22m\u001b[39mtrue\n",
      "\u001b[36m\u001b[1m[ \u001b[22m\u001b[39m\u001b[36m\u001b[1mInfo: \u001b[22m\u001b[39mtrue\n"
     ]
    }
   ],
   "source": [
    "# Check if the Laplacians are hermitian (just to be sure we have not spolied something obvious)\n",
    "@info Δ₂' == Δ₂\n",
    "@info Δ₃' == Δ₃\n",
    "@info Δ₄' == Δ₄\n",
    "@info Δ₅' == Δ₅"
   ]
  },
  {
   "cell_type": "code",
   "execution_count": 20,
   "id": "0e2b4b27",
   "metadata": {},
   "outputs": [
    {
     "name": "stderr",
     "output_type": "stream",
     "text": [
      "\u001b[36m\u001b[1m[ \u001b[22m\u001b[39m\u001b[36m\u001b[1mInfo: \u001b[22m\u001b[39mPrecompiling SCS [c946c3f1-0d1f-5ce8-9dea-7daa1f7e2d13]\n"
     ]
    }
   ],
   "source": [
    "# Load the solver ...\n",
    "include(\"/home/mizerka/Desktop/LowCohomologySOS/scripts/optimizers.jl\");"
   ]
  },
  {
   "cell_type": "code",
   "execution_count": 21,
   "id": "92e62f4c",
   "metadata": {},
   "outputs": [],
   "source": [
    "# ... and the optimization package\n",
    "using JuMP"
   ]
  },
  {
   "attachments": {},
   "cell_type": "markdown",
   "id": "7c9f4aff",
   "metadata": {},
   "source": [
    "# Finding spectral gaps\n",
    "\n",
    "We want to find a numerical approximation: λ and Q such that Δₙ-λI ≈ 𝕩*QᵀQ𝕩,\n",
    "where 𝕩 is the vector formed from half_basis as in https://arxiv.org/abs/2207.02783, Lemma 3.3.\n",
    "\n",
    "Since H⁰ and H³ don't vanish for every unitary rep., there mustn't be spectral gaps for these Laplacians.\n",
    "Since SL(3,ℤ) has property (T), we hope to find a spectral gap for Δ₄.\n",
    "Finally, we want to prove H² = 0, that is find a spectral gap for Δ₃\n"
   ]
  },
  {
   "attachments": {},
   "cell_type": "markdown",
   "id": "8539511f",
   "metadata": {},
   "source": [
    "## Δ₂"
   ]
  },
  {
   "cell_type": "code",
   "execution_count": 58,
   "id": "02ff47cf",
   "metadata": {},
   "outputs": [
    {
     "name": "stdout",
     "output_type": "stream",
     "text": [
      "------------------------------------------------------------------\n",
      "\t       SCS v3.2.1 - Splitting Conic Solver\n",
      "\t(c) Brendan O'Donoghue, Stanford University, 2012\n",
      "------------------------------------------------------------------\n",
      "problem:  variables n: 50722, constraints m: 57536\n",
      "cones: \t  z: primal zero / dual free vars: 6814\n",
      "\t  l: linear vars: 1\n",
      "\t  s: psd vars: 50721, ssize: 1\n",
      "settings: eps_abs: 1.0e-09, eps_rel: 1.0e-09, eps_infeas: 1.0e-07\n",
      "\t  alpha: 1.50, scale: 1.00e-01, adaptive_scale: 1\n",
      "\t  max_iters: 20000, normalize: 1, rho_x: 1.00e-06\n",
      "\t  acceleration_lookback: 10, acceleration_interval: 10\n",
      "lin-sys:  sparse-direct-amd-qdldl\n",
      "\t  nnz(A): 148617, nnz(P): 0\n",
      "------------------------------------------------------------------\n",
      " iter | pri res | dua res |   gap   |   obj   |  scale  | time (s)\n",
      "------------------------------------------------------------------\n",
      "     0| 2.00e+01  1.00e+00  2.00e+01 -1.01e+01  1.00e-01  1.39e-01 \n",
      "   250| 5.80e-06  2.60e-07  7.67e-05 -5.00e-02  5.73e+00  1.13e+01 \n",
      "   500| 9.55e-06  1.38e-05  1.09e-03 -4.94e-02  2.33e+01  2.21e+01 \n",
      "   750| 1.75e-05  3.33e-05  2.41e-03 -4.88e-02  2.33e+01  3.60e+01 \n",
      "  1000| 2.76e-05  5.59e-05  4.07e-03 -4.79e-02  2.33e+01  5.06e+01 \n",
      "  1250| 4.33e-05  9.56e-05  6.66e-03 -4.66e-02  2.33e+01  6.30e+01 \n",
      "  1500| 7.66e-05  1.80e-04  1.22e-02 -4.38e-02  2.33e+01  7.52e+01 \n",
      "  1750| 2.29e-04  7.34e-04  3.74e-02 -3.11e-02  2.33e+01  8.77e+01 \n",
      "  2000| 1.27e-07  1.39e-04  1.38e-04  8.02e-05  2.33e+01  1.00e+02 \n",
      "  2250| 6.94e-09  2.25e-08  1.02e-07  5.88e-08  2.33e+01  1.13e+02 \n",
      "  2500| 4.96e-10  5.28e-08  3.15e-08  1.82e-08  2.33e+01  1.26e+02 \n",
      "  2675| 4.22e-10  4.01e-10  2.35e-10  1.23e-10  9.33e-01  1.35e+02 \n",
      "------------------------------------------------------------------\n",
      "status:  solved\n",
      "timings: total: 1.35e+02s = setup: 9.11e-02s + solve: 1.35e+02s\n",
      "\t lin-sys: 5.95e+00s, cones: 1.26e+02s, accel: 4.30e-01s\n",
      "------------------------------------------------------------------\n",
      "objective = 0.000000\n",
      "------------------------------------------------------------------\n"
     ]
    }
   ],
   "source": [
    "I = reshape([one(RG_star)],1,1)\n",
    "sos_problem = LowCohomologySOS.sos_problem(Δ₂, I, 0.05) # on the cost of optimality, bound the gap frome above for a quicker solution\n",
    "JuMP.set_optimizer(sos_problem, scs_opt(eps = 1e-9, max_iters = 20_000))\n",
    "JuMP.optimize!(sos_problem)"
   ]
  },
  {
   "cell_type": "code",
   "execution_count": 59,
   "id": "5bb3e98a",
   "metadata": {},
   "outputs": [
    {
     "name": "stderr",
     "output_type": "stream",
     "text": [
      "\u001b[36m\u001b[1m┌ \u001b[22m\u001b[39m\u001b[36m\u001b[1mInfo: \u001b[22m\u001b[39ml₁ norm of the error in interval arithmetic:\n",
      "\u001b[36m\u001b[1m│ \u001b[22m\u001b[39m  l1_norm = [2.73146e-07, 2.73149e-07]\n",
      "\u001b[36m\u001b[1m└ \u001b[22m\u001b[39m  radius(l1_norm) = 6.624725319600648e-13\n"
     ]
    },
    {
     "data": {
      "text/plain": [
       "(false, [-2.7339e-07, -2.73387e-07])"
      ]
     },
     "execution_count": 59,
     "metadata": {},
     "output_type": "execute_result"
    }
   ],
   "source": [
    "# Certify the solution.\n",
    "# For the certification theoretical background, see https://arxiv.org/abs/2207.02783, Proposition 3.2.\n",
    "λ, Q = LowCohomologySOS.get_solution(sos_problem)\n",
    "LowCohomologySOS.certify_sos_decomposition(Δ₂, I, λ, Q, half_basis)"
   ]
  },
  {
   "attachments": {},
   "cell_type": "markdown",
   "id": "b0026a87",
   "metadata": {},
   "source": [
    "## Δ₃\n",
    "\n",
    "It looks that we are unlucky - for the chosen support (i.e. half_basis defined by differentials), there is no spectral gap: λ = 0. Maybe the second cohomology is not vanishing for every unitary rep.?"
   ]
  },
  {
   "cell_type": "code",
   "execution_count": 56,
   "id": "ab7faa2c",
   "metadata": {},
   "outputs": [
    {
     "name": "stdout",
     "output_type": "stream",
     "text": [
      "------------------------------------------------------------------\n",
      "\t       SCS v3.2.1 - Splitting Conic Solver\n",
      "\t(c) Brendan O'Donoghue, Stanford University, 2012\n",
      "------------------------------------------------------------------\n",
      "problem:  variables n: 202567, constraints m: 229823\n",
      "cones: \t  z: primal zero / dual free vars: 27256\n",
      "\t  l: linear vars: 1\n",
      "\t  s: psd vars: 202566, ssize: 1\n",
      "settings: eps_abs: 1.0e-09, eps_rel: 1.0e-09, eps_infeas: 1.0e-07\n",
      "\t  alpha: 1.50, scale: 1.00e-01, adaptive_scale: 1\n",
      "\t  max_iters: 50000, normalize: 1, rho_x: 1.00e-06\n",
      "\t  acceleration_lookback: 10, acceleration_interval: 10\n",
      "lin-sys:  sparse-direct-amd-qdldl\n",
      "\t  nnz(A): 600605, nnz(P): 0\n",
      "------------------------------------------------------------------\n",
      " iter | pri res | dua res |   gap   |   obj   |  scale  | time (s)\n",
      "------------------------------------------------------------------\n",
      "     0| 2.00e+01  1.00e+00  1.99e+01 -1.01e+01  1.00e-01  7.32e-01 \n",
      "   250| 1.41e-05  2.73e-07  1.36e-05 -5.00e-02  3.17e-01  7.39e+01 \n",
      "   500| 1.46e-05  9.10e-06  5.45e-04 -4.97e-02  1.20e+01  1.53e+02 \n",
      "   750| 2.64e-01  2.61e+00  2.94e-02 -3.61e-02  1.20e+01  2.30e+02 \n",
      "  1000| 5.91e-05  6.96e-05  3.62e-03 -4.81e-02  1.20e+01  3.13e+02 \n",
      "  1250| 9.81e-05  1.41e-04  6.32e-03 -4.67e-02  1.20e+01  3.99e+02 \n",
      "  1500| 1.87e-04  3.58e-04  1.25e-02 -4.36e-02  1.20e+01  4.72e+02 \n",
      "  1750| 8.39e-06  2.39e-02  2.79e-02 -1.85e-02  1.20e+01  5.44e+02 \n",
      "  2000| 2.86e-07  1.77e-05  2.99e-05  1.78e-05  1.20e+01  6.18e+02 \n",
      "  2250| 1.31e-07  1.41e-05  4.99e-06 -3.69e-06  1.20e+01  6.92e+02 \n",
      "  2500| 2.09e-09  2.22e-08  1.90e-08  1.23e-08  1.20e+01  7.72e+02 \n",
      "  2750| 1.50e-10  4.40e-09  6.09e-09 -4.02e-09  1.20e+01  8.45e+02 \n",
      "  2900| 1.22e-10  1.64e-09  6.84e-10 -3.63e-10  3.75e+00  8.90e+02 \n",
      "------------------------------------------------------------------\n",
      "status:  solved\n",
      "timings: total: 8.90e+02s = setup: 4.45e-01s + solve: 8.89e+02s\n",
      "\t lin-sys: 2.69e+01s, cones: 8.47e+02s, accel: 2.10e+00s\n",
      "------------------------------------------------------------------\n",
      "objective = -0.000000\n",
      "------------------------------------------------------------------\n"
     ]
    }
   ],
   "source": [
    "I = [\n",
    "    one(RG_star) zero(RG_star);\n",
    "    zero(RG_star) one(RG_star)\n",
    "]\n",
    "sos_problem = LowCohomologySOS.sos_problem(Δ₃, I, 0.05)\n",
    "JuMP.set_optimizer(sos_problem, scs_opt(eps = 1e-9, max_iters = 20_000))\n",
    "JuMP.optimize!(sos_problem)"
   ]
  },
  {
   "cell_type": "code",
   "execution_count": 57,
   "id": "317ffd18",
   "metadata": {},
   "outputs": [
    {
     "name": "stderr",
     "output_type": "stream",
     "text": [
      "\u001b[36m\u001b[1m┌ \u001b[22m\u001b[39m\u001b[36m\u001b[1mInfo: \u001b[22m\u001b[39ml₁ norm of the error in interval arithmetic:\n",
      "\u001b[36m\u001b[1m│ \u001b[22m\u001b[39m  l1_norm = [2.45298e-07, 2.45308e-07]\n",
      "\u001b[36m\u001b[1m└ \u001b[22m\u001b[39m  radius(l1_norm) = 4.604003119329727e-12\n"
     ]
    },
    {
     "data": {
      "text/plain": [
       "(false, [-2.44603e-07, -2.44593e-07])"
      ]
     },
     "execution_count": 57,
     "metadata": {},
     "output_type": "execute_result"
    }
   ],
   "source": [
    "λ, Q = LowCohomologySOS.get_solution(sos_problem)\n",
    "LowCohomologySOS.certify_sos_decomposition(Δ₃, I, λ, Q, half_basis)"
   ]
  },
  {
   "attachments": {},
   "cell_type": "markdown",
   "id": "8e807eee",
   "metadata": {},
   "source": [
    "## Δ₄"
   ]
  },
  {
   "cell_type": "code",
   "execution_count": 54,
   "id": "df003b01",
   "metadata": {},
   "outputs": [
    {
     "name": "stdout",
     "output_type": "stream",
     "text": [
      "------------------------------------------------------------------\n",
      "\t       SCS v3.2.1 - Splitting Conic Solver\n",
      "\t(c) Brendan O'Donoghue, Stanford University, 2012\n",
      "------------------------------------------------------------------\n",
      "problem:  variables n: 50722, constraints m: 57536\n",
      "cones: \t  z: primal zero / dual free vars: 6814\n",
      "\t  l: linear vars: 1\n",
      "\t  s: psd vars: 50721, ssize: 1\n",
      "settings: eps_abs: 1.0e-09, eps_rel: 1.0e-09, eps_infeas: 1.0e-07\n",
      "\t  alpha: 1.50, scale: 1.00e-01, adaptive_scale: 1\n",
      "\t  max_iters: 20000, normalize: 1, rho_x: 1.00e-06\n",
      "\t  acceleration_lookback: 10, acceleration_interval: 10\n",
      "lin-sys:  sparse-direct-amd-qdldl\n",
      "\t  nnz(A): 148617, nnz(P): 0\n",
      "------------------------------------------------------------------\n",
      " iter | pri res | dua res |   gap   |   obj   |  scale  | time (s)\n",
      "------------------------------------------------------------------\n",
      "     0| 2.00e+01  1.00e+00  2.00e+01 -1.01e+01  1.00e-01  1.49e-01 \n",
      "   250| 5.92e-06  5.89e-07  2.77e-06 -5.00e-02  1.00e-01  9.71e+00 \n",
      "   500| 6.95e-06  4.81e-07  3.61e-06 -5.00e-02  1.00e-01  1.90e+01 \n",
      "   750| 8.01e-06  3.93e-07  4.41e-06 -5.00e-02  1.00e-01  2.97e+01 \n",
      "  1000| 9.06e-06  3.36e-07  5.18e-06 -5.00e-02  1.00e-01  4.10e+01 \n",
      "  1250| 1.01e-05  3.51e-07  5.92e-06 -5.00e-02  1.00e-01  5.20e+01 \n",
      "  1500| 1.11e-05  3.57e-07  6.63e-06 -5.00e-02  1.00e-01  6.27e+01 \n",
      "  1750| 1.20e-05  3.35e-07  7.33e-06 -5.00e-02  1.00e-01  7.34e+01 \n",
      "  2000| 8.01e-06  3.32e-07  1.42e-05 -5.00e-02  3.16e-01  8.37e+01 \n",
      "  2250| 6.15e-06  6.49e-07  3.50e-05 -5.00e-02  1.10e+00  9.35e+01 \n",
      "  2500| 8.51e-06  9.32e-07  5.33e-05 -5.00e-02  1.10e+00  1.03e+02 \n",
      "  2750| 1.08e-05  1.16e-06  7.14e-05 -5.00e-02  1.10e+00  1.13e+02 \n",
      "  3000| 1.31e-05  1.32e-06  8.93e-05 -4.99e-02  1.10e+00  1.23e+02 \n",
      "  3250| 1.54e-05  1.50e-06  1.07e-04 -4.99e-02  1.10e+00  1.33e+02 \n",
      "  3500| 1.77e-05  1.67e-06  1.25e-04 -4.99e-02  1.10e+00  1.44e+02 \n",
      "  3750| 1.99e-05  1.91e-06  1.42e-04 -4.99e-02  1.10e+00  1.54e+02 \n",
      "  4000| 7.47e-02  7.37e-02  8.25e-04 -5.05e-02  1.10e+00  1.64e+02 \n",
      "  4250| 2.45e-05  2.69e-06  1.78e-04 -4.99e-02  1.10e+00  1.75e+02 \n",
      "  4500| 2.68e-05  3.07e-06  1.95e-04 -4.99e-02  1.10e+00  1.85e+02 \n",
      "  4750| 2.91e-05  3.40e-06  2.14e-04 -4.99e-02  1.10e+00  1.96e+02 \n",
      "  5000| 3.15e-05  3.67e-06  2.32e-04 -4.99e-02  1.10e+00  2.06e+02 \n",
      "  5250| 3.39e-05  3.87e-06  2.51e-04 -4.98e-02  1.10e+00  2.17e+02 \n",
      "  5500| 3.64e-05  3.99e-06  2.70e-04 -4.98e-02  1.10e+00  2.28e+02 \n",
      "  5750| 3.89e-05  4.00e-06  2.90e-04 -4.98e-02  1.10e+00  2.39e+02 \n",
      "  6000| 4.15e-05  3.90e-06  3.10e-04 -4.98e-02  1.10e+00  2.50e+02 \n",
      "  6250| 4.42e-05  3.69e-06  3.31e-04 -4.98e-02  1.10e+00  2.61e+02 \n",
      "  6500| 4.69e-05  3.40e-06  3.52e-04 -4.98e-02  1.10e+00  2.72e+02 \n",
      "  6750| 1.83e+00  2.31e-01  2.08e+00 -8.38e-01  1.10e+00  2.83e+02 \n",
      "  7000| 5.27e-05  2.64e-06  3.97e-04 -4.97e-02  1.10e+00  2.93e+02 \n",
      "  7250| 5.57e-05  2.50e-06  4.20e-04 -4.97e-02  1.10e+00  3.04e+02 \n",
      "  7500| 5.89e-05  2.62e-06  4.45e-04 -4.97e-02  1.10e+00  3.15e+02 \n",
      "  7750| 6.22e-05  2.73e-06  4.71e-04 -4.97e-02  1.10e+00  3.26e+02 \n",
      "  8000| 6.57e-05  2.84e-06  4.98e-04 -4.97e-02  1.10e+00  3.36e+02 \n",
      "  8250| 6.95e-05  2.96e-06  5.27e-04 -4.97e-02  1.10e+00  3.47e+02 \n",
      "  8500| 7.34e-05  3.10e-06  5.58e-04 -4.96e-02  1.10e+00  3.58e+02 \n",
      "  8750| 7.76e-05  3.26e-06  5.90e-04 -4.96e-02  1.10e+00  3.68e+02 \n",
      "  9000| 8.20e-05  3.43e-06  6.25e-04 -4.96e-02  1.10e+00  3.79e+02 \n",
      "  9250| 8.68e-05  3.61e-06  6.62e-04 -4.96e-02  1.10e+00  3.90e+02 \n",
      "  9500| 1.83e+00  5.64e-02  2.07e+00 -8.41e-01  1.10e+00  4.01e+02 \n",
      "  9750| 9.75e-05  4.02e-06  7.45e-04 -4.95e-02  1.10e+00  4.11e+02 \n",
      " 10000| 1.03e-04  4.26e-06  7.91e-04 -4.95e-02  1.10e+00  4.22e+02 \n",
      " 10250| 1.10e-04  4.53e-06  8.42e-04 -4.95e-02  1.10e+00  4.33e+02 \n",
      " 10500| 1.17e-04  4.82e-06  8.97e-04 -4.94e-02  1.10e+00  4.44e+02 \n",
      " 10750| 1.25e-04  5.14e-06  9.58e-04 -4.94e-02  1.10e+00  4.55e+02 \n",
      " 11000| 1.34e-04  5.50e-06  1.03e-03 -4.94e-02  1.10e+00  4.66e+02 \n",
      " 11250| 1.43e-04  5.91e-06  1.10e-03 -4.93e-02  1.10e+00  4.81e+02 \n",
      " 11500| 1.54e-04  6.37e-06  1.18e-03 -4.93e-02  1.10e+00  4.98e+02 \n",
      " 11750| 1.66e-04  6.89e-06  1.28e-03 -4.92e-02  1.10e+00  5.15e+02 \n",
      " 12000| 1.80e-04  7.50e-06  1.39e-03 -4.91e-02  1.10e+00  5.30e+02 \n",
      " 12250| 1.15e-01  1.27e-01  3.12e-04 -4.98e-02  1.10e+00  5.41e+02 \n",
      " 12500| 2.16e-04  9.13e-06  1.66e-03 -4.90e-02  1.10e+00  5.52e+02 \n",
      " 12750| 2.38e-04  1.02e-05  1.84e-03 -4.88e-02  1.10e+00  5.63e+02 \n",
      " 13000| 2.66e-04  1.16e-05  2.05e-03 -4.87e-02  1.10e+00  5.74e+02 \n",
      " 13250| 3.00e-04  1.32e-05  2.32e-03 -4.85e-02  1.10e+00  5.85e+02 \n",
      " 13500| 3.43e-04  1.54e-05  2.65e-03 -4.83e-02  1.10e+00  5.96e+02 \n",
      " 13750| 4.01e-04  1.83e-05  3.10e-03 -4.80e-02  1.10e+00  6.07e+02 \n",
      " 14000| 4.81e-04  2.25e-05  3.72e-03 -4.77e-02  1.10e+00  6.18e+02 \n",
      " 14250| 5.99e-04  2.91e-05  4.64e-03 -4.71e-02  1.10e+00  6.29e+02 \n",
      " 14500| 7.94e-04  4.08e-05  6.16e-03 -4.61e-02  1.10e+00  6.40e+02 \n",
      " 14750| 1.17e-03  6.61e-05  9.10e-03 -4.43e-02  1.10e+00  6.52e+02 \n",
      " 15000| 1.18e-03  1.31e-03  1.49e-04 -4.99e-02  1.10e+00  6.68e+02 \n",
      " 15250| 2.79e-06  3.33e-05  4.39e-06 -2.09e-02  1.10e+00  6.86e+02 \n",
      " 15500| 1.74e-06  1.69e-05  1.86e-06 -2.08e-02  1.10e+00  7.03e+02 \n",
      " 15750| 1.52e-06  9.86e-06  1.67e-06 -2.08e-02  1.10e+00  7.21e+02 \n",
      " 16000| 1.33e-06  6.23e-06  1.49e-06 -2.08e-02  1.10e+00  7.38e+02 \n",
      " 16250| 1.16e-06  4.15e-06  1.33e-06 -2.08e-02  1.10e+00  7.56e+02 \n",
      " 16500| 1.02e-06  2.89e-06  1.20e-06 -2.08e-02  1.10e+00  7.73e+02 \n",
      " 16750| 9.05e-07  2.08e-06  1.08e-06 -2.08e-02  1.10e+00  7.91e+02 \n",
      " 17000| 8.03e-07  1.54e-06  9.76e-07 -2.08e-02  1.10e+00  8.08e+02 \n",
      " 17250| 7.52e-07  1.16e-06  8.85e-07 -2.08e-02  1.10e+00  8.26e+02 \n",
      " 17500| 7.06e-07  8.95e-07  8.05e-07 -2.08e-02  1.10e+00  8.43e+02 \n",
      " 17750| 3.44e-05  3.82e-05  1.43e-06 -2.08e-02  1.10e+00  8.61e+02 \n",
      " 18000| 6.22e-07  5.54e-07  6.71e-07 -2.08e-02  1.10e+00  8.74e+02 \n",
      " 18250| 5.84e-07  4.43e-07  6.14e-07 -2.08e-02  1.10e+00  8.86e+02 \n",
      " 18500| 5.48e-07  3.57e-07  5.63e-07 -2.08e-02  1.10e+00  8.98e+02 \n",
      " 18750| 5.15e-07  2.95e-07  5.17e-07 -2.08e-02  1.10e+00  9.13e+02 \n",
      " 19000| 4.84e-07  2.58e-07  4.74e-07 -2.08e-02  1.10e+00  9.26e+02 \n",
      " 19250| 4.55e-07  2.28e-07  4.37e-07 -2.08e-02  1.10e+00  9.43e+02 \n",
      " 19500| 4.28e-07  2.05e-07  4.03e-07 -2.08e-02  1.10e+00  9.61e+02 \n",
      " 19750| 4.03e-07  1.85e-07  3.71e-07 -2.08e-02  1.10e+00  9.78e+02 \n",
      " 20000| 3.80e-07  1.67e-07  3.43e-07 -2.08e-02  1.10e+00  9.96e+02 \n",
      "------------------------------------------------------------------\n",
      "status:  solved (inaccurate - reached max_iters)\n",
      "timings: total: 9.96e+02s = setup: 1.01e-01s + solve: 9.95e+02s\n",
      "\t lin-sys: 4.53e+01s, cones: 9.27e+02s, accel: 3.09e+00s\n",
      "------------------------------------------------------------------\n",
      "objective = -0.020795 (inaccurate)\n",
      "------------------------------------------------------------------\n"
     ]
    }
   ],
   "source": [
    "I = reshape([one(RG_star)],1,1)\n",
    "sos_problem = LowCohomologySOS.sos_problem(Δ₄, I, 0.05)\n",
    "JuMP.set_optimizer(sos_problem, scs_opt(eps = 1e-9, max_iters = 20_000))\n",
    "JuMP.optimize!(sos_problem)"
   ]
  },
  {
   "cell_type": "code",
   "execution_count": 55,
   "id": "1ce9bc29",
   "metadata": {},
   "outputs": [
    {
     "name": "stderr",
     "output_type": "stream",
     "text": [
      "\u001b[36m\u001b[1m┌ \u001b[22m\u001b[39m\u001b[36m\u001b[1mInfo: \u001b[22m\u001b[39ml₁ norm of the error in interval arithmetic:\n",
      "\u001b[36m\u001b[1m│ \u001b[22m\u001b[39m  l1_norm = [0.00343223, 0.00343224]\n",
      "\u001b[36m\u001b[1m└ \u001b[22m\u001b[39m  radius(l1_norm) = 1.7085048653608936e-12\n"
     ]
    },
    {
     "data": {
      "text/plain": [
       "(true, [0.0173627, 0.0173628])"
      ]
     },
     "execution_count": 55,
     "metadata": {},
     "output_type": "execute_result"
    }
   ],
   "source": [
    "λ, Q = LowCohomologySOS.get_solution(sos_problem)\n",
    "LowCohomologySOS.certify_sos_decomposition(Δ₄, I, λ, Q, half_basis)"
   ]
  },
  {
   "attachments": {},
   "cell_type": "markdown",
   "id": "5f2a6758",
   "metadata": {},
   "source": [
    "## Δ₅"
   ]
  },
  {
   "cell_type": "code",
   "execution_count": 60,
   "id": "057f9b94",
   "metadata": {},
   "outputs": [
    {
     "name": "stdout",
     "output_type": "stream",
     "text": [
      "------------------------------------------------------------------\n",
      "\t       SCS v3.2.1 - Splitting Conic Solver\n",
      "\t(c) Brendan O'Donoghue, Stanford University, 2012\n",
      "------------------------------------------------------------------\n",
      "problem:  variables n: 50722, constraints m: 57536\n",
      "cones: \t  z: primal zero / dual free vars: 6814\n",
      "\t  l: linear vars: 1\n",
      "\t  s: psd vars: 50721, ssize: 1\n",
      "settings: eps_abs: 1.0e-09, eps_rel: 1.0e-09, eps_infeas: 1.0e-07\n",
      "\t  alpha: 1.50, scale: 1.00e-01, adaptive_scale: 1\n",
      "\t  max_iters: 20000, normalize: 1, rho_x: 1.00e-06\n",
      "\t  acceleration_lookback: 10, acceleration_interval: 10\n",
      "lin-sys:  sparse-direct-amd-qdldl\n",
      "\t  nnz(A): 148617, nnz(P): 0\n",
      "------------------------------------------------------------------\n",
      " iter | pri res | dua res |   gap   |   obj   |  scale  | time (s)\n",
      "------------------------------------------------------------------\n",
      "     0| 2.00e+01  1.00e+00  2.00e+01 -1.01e+01  1.00e-01  1.63e-01 \n",
      "   250| 6.99e-07  3.08e-07  1.53e-05 -5.00e-02  1.11e+01  1.50e+01 \n",
      "   500| 1.35e-06  1.58e-06  7.81e-05 -5.00e-02  1.11e+01  2.98e+01 \n",
      "   750| 1.91e-01  2.15e+00  3.95e-02 -7.05e-02  1.11e+01  4.43e+01 \n",
      "  1000| 2.94e-06  4.40e-06  2.03e-04 -4.99e-02  1.11e+01  5.85e+01 \n",
      "  1250| 3.71e-06  5.77e-06  2.64e-04 -4.99e-02  1.11e+01  7.25e+01 \n",
      "  1500| 4.48e-06  7.30e-06  3.25e-04 -4.98e-02  1.11e+01  8.63e+01 \n",
      "  1750| 5.27e-06  8.70e-06  3.87e-04 -4.98e-02  1.11e+01  9.93e+01 \n",
      "  2000| 6.08e-06  1.14e-05  4.50e-04 -4.98e-02  1.11e+01  1.12e+02 \n",
      "  2250| 6.93e-06  1.48e-05  5.18e-04 -4.97e-02  1.11e+01  1.24e+02 \n",
      "  2500| 7.83e-06  1.83e-05  5.88e-04 -4.97e-02  1.11e+01  1.36e+02 \n",
      "  2750| 8.78e-06  2.16e-05  6.63e-04 -4.97e-02  1.11e+01  1.48e+02 \n",
      "  3000| 9.79e-06  2.47e-05  7.43e-04 -4.96e-02  1.11e+01  1.59e+02 \n",
      "  3250| 1.09e-05  2.80e-05  8.28e-04 -4.96e-02  1.11e+01  1.69e+02 \n",
      "  3500| 1.87e-01  3.12e-01  2.35e+00  9.40e-01  1.11e+01  1.80e+02 \n",
      "  3750| 1.33e-05  3.62e-05  1.02e-03 -4.95e-02  1.11e+01  1.90e+02 \n",
      "  4000| 1.47e-05  4.14e-05  1.13e-03 -4.94e-02  1.11e+01  2.00e+02 \n",
      "  4250| 1.62e-05  4.71e-05  1.24e-03 -4.94e-02  1.11e+01  2.11e+02 \n",
      "  4500| 1.78e-05  5.36e-05  1.37e-03 -4.93e-02  1.11e+01  2.20e+02 \n",
      "  4750| 1.97e-05  6.02e-05  1.52e-03 -4.92e-02  1.11e+01  2.30e+02 \n",
      "  5000| 2.19e-05  6.56e-05  1.69e-03 -4.91e-02  1.11e+01  2.39e+02 \n",
      "  5250| 2.44e-05  7.91e-05  1.89e-03 -4.90e-02  1.11e+01  2.48e+02 \n",
      "  5500| 2.74e-05  1.02e-04  2.13e-03 -4.89e-02  1.11e+01  2.58e+02 \n",
      "  5750| 3.11e-05  1.37e-04  2.42e-03 -4.88e-02  1.11e+01  2.67e+02 \n",
      "  6000| 3.58e-05  1.87e-04  2.79e-03 -4.86e-02  1.11e+01  2.77e+02 \n",
      "  6250| 1.87e-01  5.81e-01  2.35e+00  9.41e-01  1.11e+01  2.86e+02 \n",
      "  6500| 5.00e-05  3.68e-04  3.90e-03 -4.80e-02  1.11e+01  2.96e+02 \n",
      "  6750| 6.14e-05  5.56e-04  4.80e-03 -4.75e-02  1.11e+01  3.06e+02 \n",
      "  7000| 7.92e-05  9.08e-04  6.20e-03 -4.68e-02  1.11e+01  3.17e+02 \n",
      "  7250| 1.11e-04  1.73e-03  8.70e-03 -4.55e-02  1.11e+01  3.28e+02 \n",
      "  7500| 1.85e-04  4.12e-03  1.45e-02 -4.26e-02  1.11e+01  3.39e+02 \n",
      "  7750| 4.60e-06  2.47e-02  1.51e-03 -1.18e-03  1.11e+01  3.52e+02 \n",
      "  7925| 1.51e-13  7.58e-12  7.68e-11 -9.59e-11  1.11e+01  3.61e+02 \n",
      "------------------------------------------------------------------\n",
      "status:  solved\n",
      "timings: total: 3.61e+02s = setup: 9.11e-02s + solve: 3.61e+02s\n",
      "\t lin-sys: 1.73e+01s, cones: 3.35e+02s, accel: 1.22e+00s\n",
      "------------------------------------------------------------------\n",
      "objective = -0.000000\n",
      "------------------------------------------------------------------\n"
     ]
    }
   ],
   "source": [
    "I = reshape([one(RG_star)],1,1)\n",
    "sos_problem = LowCohomologySOS.sos_problem(Δ₅, I, 0.05)\n",
    "JuMP.set_optimizer(sos_problem, scs_opt(eps = 1e-9, max_iters = 20_000))\n",
    "JuMP.optimize!(sos_problem)"
   ]
  },
  {
   "cell_type": "code",
   "execution_count": 61,
   "id": "061c9592",
   "metadata": {},
   "outputs": [
    {
     "name": "stderr",
     "output_type": "stream",
     "text": [
      "\u001b[36m\u001b[1m┌ \u001b[22m\u001b[39m\u001b[36m\u001b[1mInfo: \u001b[22m\u001b[39ml₁ norm of the error in interval arithmetic:\n",
      "\u001b[36m\u001b[1m│ \u001b[22m\u001b[39m  l1_norm = [1.32979e-10, 1.35709e-10]\n",
      "\u001b[36m\u001b[1m└ \u001b[22m\u001b[39m  radius(l1_norm) = 1.364439889036215e-12\n"
     ]
    },
    {
     "data": {
      "text/plain": [
       "(false, [-1.36576e-12, 1.36313e-12])"
      ]
     },
     "execution_count": 61,
     "metadata": {},
     "output_type": "execute_result"
    }
   ],
   "source": [
    "λ, Q = LowCohomologySOS.get_solution(sos_problem)\n",
    "LowCohomologySOS.certify_sos_decomposition(Δ₅, I, λ, Q, half_basis)"
   ]
  },
  {
   "cell_type": "code",
   "execution_count": null,
   "id": "22305c99",
   "metadata": {},
   "outputs": [],
   "source": []
  }
 ],
 "metadata": {
  "kernelspec": {
   "display_name": "Julia 1.7.2",
   "language": "julia",
   "name": "julia-1.7"
  },
  "language_info": {
   "file_extension": ".jl",
   "mimetype": "application/julia",
   "name": "julia",
   "version": "1.7.2"
  }
 },
 "nbformat": 4,
 "nbformat_minor": 5
}
