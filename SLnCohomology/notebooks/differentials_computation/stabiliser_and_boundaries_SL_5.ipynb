{
 "cells": [
  {
   "cell_type": "code",
   "execution_count": 1,
   "id": "6b46d56d",
   "metadata": {},
   "outputs": [
    {
     "name": "stderr",
     "output_type": "stream",
     "text": [
      "\u001b[32m\u001b[1m  Activating\u001b[22m\u001b[39m project at `C:\\Git\\HigherTSL3\\Computations chain complex`\n"
     ]
    }
   ],
   "source": [
    "using Pkg\n",
    "Pkg.activate(normpath(joinpath(@__DIR__, \"../\")))"
   ]
  },
  {
   "cell_type": "code",
   "execution_count": 2,
   "id": "c05207f3",
   "metadata": {},
   "outputs": [
    {
     "name": "stderr",
     "output_type": "stream",
     "text": [
      "\u001b[32m\u001b[1m    Updating\u001b[22m\u001b[39m registry at `C:\\Users\\benja\\.julia\\registries\\General.toml`\n",
      "\u001b[32m\u001b[1m   Resolving\u001b[22m\u001b[39m package versions...\n",
      "\u001b[32m\u001b[1m  No Changes\u001b[22m\u001b[39m to `C:\\Git\\HigherTSL3\\Computations chain complex\\Project.toml`\n",
      "\u001b[32m\u001b[1m  No Changes\u001b[22m\u001b[39m to `C:\\Git\\HigherTSL3\\Computations chain complex\\Manifest.toml`\n"
     ]
    }
   ],
   "source": [
    "Pkg.add(\"Serialization\")"
   ]
  },
  {
   "cell_type": "code",
   "execution_count": 3,
   "id": "1295747b",
   "metadata": {},
   "outputs": [],
   "source": [
    "using LinearAlgebra\n",
    "using Combinatorics\n",
    "using Serialization"
   ]
  },
  {
   "cell_type": "code",
   "execution_count": 4,
   "id": "42004960",
   "metadata": {},
   "outputs": [],
   "source": [
    "include(\"functions_differential.jl\");"
   ]
  },
  {
   "cell_type": "markdown",
   "id": "d9e53587",
   "metadata": {},
   "source": [
    "# The SL_5 data"
   ]
  },
  {
   "cell_type": "markdown",
   "id": "fe73de3d",
   "metadata": {},
   "source": [
    "## GL_5 orbits in dimension >5\n",
    "Originally got this data from a meeting with Dan Yasaki at BIRS.\n",
    "Note: As n is odd, the GL_5 orbits of cells are the same as the SL_5 orbits"
   ]
  },
  {
   "cell_type": "code",
   "execution_count": 6,
   "id": "f4e6806b",
   "metadata": {},
   "outputs": [
    {
     "data": {
      "text/plain": [
       "31-element Vector{Vector{Int64}}:\n",
       " [0, 0, 0, 0, 1]\n",
       " [0, 0, 0, 1, -1]\n",
       " [0, 0, 0, 1, 0]\n",
       " [0, 0, 1, -1, 0]\n",
       " [0, 0, 1, 0, -1]\n",
       " [0, 0, 1, 0, 0]\n",
       " [0, 0, 1, 0, 1]\n",
       " [0, 0, 1, 1, -1]\n",
       " [0, 0, 1, 1, 0]\n",
       " [0, 1, -1, 0, 0]\n",
       " [0, 1, 0, -1, 0]\n",
       " [0, 1, 0, 0, -1]\n",
       " [0, 1, 0, 0, 0]\n",
       " ⋮\n",
       " [1, 0, -1, 0, 0]\n",
       " [1, 0, 0, -1, 0]\n",
       " [1, 0, 0, 0, -1]\n",
       " [1, 0, 0, 0, 0]\n",
       " [1, 0, 0, 0, 1]\n",
       " [1, 0, 0, 1, -1]\n",
       " [1, 0, 0, 1, 0]\n",
       " [1, 0, 1, 0, -1]\n",
       " [1, 0, 1, 1, 1]\n",
       " [1, 1, 0, 0, -1]\n",
       " [1, 1, 0, 1, 1]\n",
       " [1, 1, 1, 1, 1]"
      ]
     },
     "execution_count": 6,
     "metadata": {},
     "output_type": "execute_result"
    }
   ],
   "source": [
    "# list of vertices\n",
    "vertices_Voronoi_5 = [\n",
    "[ 0, 0, 0, 0, 1 ],\n",
    "[ 0, 0, 0, 1, -1 ],\n",
    "[ 0, 0, 0, 1, 0 ],\n",
    "[ 0, 0, 1, -1, 0 ],\n",
    "[ 0, 0, 1, 0, -1 ],\n",
    "[ 0, 0, 1, 0, 0 ],\n",
    "[ 0, 0, 1, 0, 1 ],\n",
    "[ 0, 0, 1, 1, -1 ],\n",
    "[ 0, 0, 1, 1, 0 ],\n",
    "[ 0, 1, -1, 0, 0 ],\n",
    "[ 0, 1, 0, -1, 0 ],\n",
    "[ 0, 1, 0, 0, -1 ],\n",
    "[ 0, 1, 0, 0, 0 ],\n",
    "[ 0, 1, 0, 0, 1 ],\n",
    "[ 0, 1, 0, 1, -1 ],\n",
    "[ 0, 1, 0, 1, 0 ],\n",
    "[ 0, 1, 1, 0, -1 ],\n",
    "[ 0, 1, 1, 1, 1 ],\n",
    "[ 1, -1, 0, 0, 0 ],\n",
    "[ 1, 0, -1, 0, 0 ],\n",
    "[ 1, 0, 0, -1, 0 ],\n",
    "[ 1, 0, 0, 0, -1 ],\n",
    "[ 1, 0, 0, 0, 0 ],\n",
    "[ 1, 0, 0, 0, 1 ],\n",
    "[ 1, 0, 0, 1, -1 ],\n",
    "[ 1, 0, 0, 1, 0 ],\n",
    "[ 1, 0, 1, 0, -1 ],\n",
    "[ 1, 0, 1, 1, 1 ],\n",
    "[ 1, 1, 0, 0, -1 ],\n",
    "[ 1, 1, 0, 1, 1 ],\n",
    "[ 1, 1, 1, 1, 1 ]\n",
    "]"
   ]
  },
  {
   "cell_type": "code",
   "execution_count": 7,
   "id": "a9ccca80",
   "metadata": {
    "scrolled": true
   },
   "outputs": [
    {
     "data": {
      "text/plain": [
       "11-element Vector{Vector{Vector{Int64}}}:\n",
       " [[3, 6, 8, 12, 19], [8, 12, 13, 20, 21]]\n",
       " [[3, 6, 8, 12, 13, 19], [3, 8, 12, 13, 15, 19], [3, 6, 8, 13, 15, 19], [6, 8, 12, 13, 20, 21], [3, 8, 13, 15, 20, 21]]\n",
       " [[3, 6, 8, 12, 13, 15, 19], [3, 6, 8, 12, 13, 19, 20], [3, 6, 8, 13, 15, 19, 20], [3, 6, 12, 13, 15, 19, 20], [3, 6, 8, 12, 13, 20, 21], [3, 6, 8, 13, 15, 20, 21], [3, 8, 12, 13, 15, 20, 21], [3, 6, 8, 12, 15, 19, 21], [3, 6, 8, 12, 15, 19, 22], [3, 6, 12, 19, 21, 22, 23]]\n",
       " [[3, 6, 8, 12, 13, 15, 19, 20], [3, 6, 8, 12, 13, 19, 20, 21], [3, 6, 8, 12, 13, 15, 20, 21], [3, 6, 8, 12, 13, 15, 19, 21], [3, 6, 8, 13, 15, 19, 20, 21], [3, 6, 8, 12, 13, 15, 19, 22], [3, 6, 12, 13, 15, 19, 21, 22], [3, 6, 8, 12, 19, 21, 22, 23], [3, 6, 8, 12, 19, 20, 21, 23], [3, 6, 12, 19, 20, 21, 22, 23], [3, 6, 8, 12, 13, 20, 21, 23], [3, 6, 12, 13, 20, 21, 22, 23], [3, 6, 12, 13, 19, 21, 22, 23], [3, 6, 8, 13, 19, 20, 21, 23], [3, 6, 12, 13, 19, 20, 21, 29], [3, 6, 12, 13, 19, 22, 23, 29]]\n",
       " [[3, 6, 8, 12, 13, 15, 19, 20, 21], [3, 6, 8, 12, 13, 15, 19, 21, 22], [3, 8, 12, 13, 15, 19, 20, 21, 22], [3, 6, 8, 13, 15, 19, 20, 21, 22], [3, 6, 8, 12, 19, 20, 21, 22, 23], [3, 6, 8, 12, 13, 20, 21, 22, 23], [3, 6, 8, 12, 13, 19, 21, 22, 23], [3, 6, 8, 12, 13, 19, 20, 21, 23], [3, 6, 12, 13, 19, 20, 21, 22, 23], [6, 8, 12, 13, 19, 20, 21, 22, 23]  …  [3, 6, 12, 13, 15, 19, 21, 22, 23], [3, 6, 12, 13, 15, 19, 20, 22, 23], [3, 6, 8, 12, 13, 19, 20, 21, 29], [3, 6, 12, 13, 19, 20, 21, 22, 29], [3, 6, 12, 13, 19, 21, 22, 23, 29], [3, 6, 8, 12, 13, 19, 22, 23, 29], [6, 8, 12, 13, 19, 21, 22, 23, 29], [3, 6, 12, 13, 19, 20, 21, 23, 29], [3, 6, 12, 13, 15, 20, 22, 23, 29], [2, 6, 8, 12, 13, 19, 22, 23, 29]]\n",
       " [[3, 6, 8, 12, 13, 15, 19, 20, 21, 22], [3, 6, 8, 12, 13, 19, 20, 21, 22, 23], [3, 6, 8, 12, 13, 15, 20, 21, 22, 23], [3, 6, 8, 12, 13, 15, 19, 21, 22, 23], [3, 6, 8, 12, 13, 15, 19, 20, 22, 23], [3, 6, 12, 13, 15, 19, 20, 21, 22, 23], [3, 8, 12, 13, 15, 19, 20, 21, 22, 23], [3, 6, 8, 13, 15, 19, 20, 21, 22, 23], [3, 6, 8, 12, 13, 19, 20, 21, 22, 29], [3, 6, 8, 12, 13, 19, 21, 22, 23, 29]  …  [3, 6, 8, 12, 13, 15, 20, 22, 23, 29], [3, 6, 12, 13, 15, 19, 20, 22, 23, 29], [3, 8, 13, 15, 19, 21, 22, 23, 25, 29], [2, 6, 8, 12, 13, 19, 21, 22, 23, 29], [2, 6, 8, 12, 13, 15, 19, 21, 23, 29], [2, 6, 8, 12, 13, 15, 21, 22, 23, 29], [3, 6, 8, 12, 13, 19, 20, 22, 23, 25], [3, 6, 8, 12, 19, 20, 22, 23, 25, 29], [6, 8, 13, 15, 20, 21, 22, 23, 25, 29], [3, 6, 8, 13, 15, 17, 19, 20, 21, 22]]\n",
       " [[3, 6, 8, 12, 13, 15, 19, 20, 21, 22, 23], [3, 6, 8, 12, 13, 19, 20, 21, 22, 23, 29], [3, 6, 8, 12, 13, 15, 19, 20, 21, 22, 29], [3, 6, 8, 12, 13, 15, 19, 21, 22, 23, 29], [3, 6, 8, 12, 13, 15, 19, 20, 22, 23, 29], [3, 6, 12, 13, 15, 19, 20, 21, 22, 23, 29], [3, 6, 8, 13, 15, 19, 21, 22, 23, 25, 29], [2, 3, 6, 11, 12, 13, 15, 19, 21, 22, 23, 25, 29], [2, 6, 8, 12, 13, 15, 19, 21, 22, 23, 29], [2, 6, 8, 12, 15, 19, 21, 22, 23, 25, 29]  …  [3, 6, 8, 12, 13, 15, 20, 22, 23, 25, 29], [3, 6, 8, 13, 15, 19, 20, 21, 22, 23, 25], [3, 6, 8, 13, 15, 20, 21, 22, 23, 25, 29], [2, 6, 8, 12, 13, 19, 20, 22, 23, 25, 29], [3, 6, 8, 12, 13, 15, 17, 19, 20, 21, 22], [3, 6, 8, 12, 15, 17, 19, 20, 21, 22, 25], [6, 8, 12, 15, 17, 19, 20, 21, 22, 23, 25], [3, 6, 8, 15, 17, 19, 20, 22, 23, 25, 29], [2, 6, 8, 12, 17, 19, 20, 21, 23, 25, 29], [2, 6, 8, 11, 12, 17, 19, 20, 23, 25, 29]]\n",
       " [[3, 6, 8, 12, 13, 15, 19, 20, 21, 22, 23, 29], [2, 3, 6, 8, 11, 12, 13, 15, 19, 21, 22, 23, 25, 29], [3, 6, 8, 12, 13, 15, 19, 20, 22, 23, 25, 29], [3, 6, 8, 13, 15, 19, 20, 21, 22, 23, 25, 29], [2, 6, 8, 12, 13, 15, 19, 20, 22, 23, 25, 29], [2, 6, 8, 12, 15, 19, 20, 21, 22, 23, 25, 29], [2, 3, 6, 8, 11, 12, 20, 21, 22, 23, 25, 29], [3, 6, 8, 11, 12, 13, 15, 19, 20, 21, 22, 29], [3, 6, 8, 12, 13, 15, 17, 19, 20, 21, 22, 23], [3, 6, 8, 12, 15, 17, 19, 20, 21, 22, 23, 25], [3, 6, 8, 15, 17, 19, 20, 21, 22, 23, 25, 29], [3, 6, 8, 12, 15, 17, 19, 20, 22, 23, 25, 29], [2, 6, 8, 12, 15, 17, 19, 20, 21, 22, 25, 29], [2, 6, 8, 12, 15, 17, 19, 20, 21, 23, 25, 29], [2, 6, 8, 11, 12, 17, 19, 20, 21, 23, 25, 29], [3, 6, 15, 17, 19, 20, 21, 22, 23, 25, 27, 29]]\n",
       " [[2, 3, 6, 8, 11, 12, 13, 15, 19, 20, 21, 22, 23, 25, 29], [3, 6, 8, 12, 13, 15, 17, 19, 20, 21, 22, 23, 29], [3, 6, 8, 12, 15, 17, 19, 20, 21, 22, 23, 25, 29], [3, 6, 8, 13, 15, 17, 19, 20, 21, 22, 23, 25, 29], [2, 6, 8, 12, 15, 17, 19, 20, 21, 22, 23, 25, 29], [2, 6, 8, 12, 13, 15, 17, 19, 20, 22, 23, 25, 29], [2, 6, 8, 11, 12, 17, 19, 20, 21, 22, 23, 25, 29], [3, 6, 8, 15, 17, 19, 20, 21, 22, 23, 25, 27, 29], [3, 6, 12, 15, 17, 19, 20, 21, 22, 23, 25, 27, 29]]\n",
       " [[2, 3, 6, 8, 11, 12, 13, 15, 17, 19, 20, 21, 22, 23, 25, 29], [3, 6, 8, 12, 15, 17, 19, 20, 21, 22, 23, 25, 27, 29], [3, 6, 8, 13, 15, 17, 19, 20, 21, 22, 23, 25, 27, 29], [3, 4, 6, 12, 15, 17, 19, 20, 21, 22, 23, 25, 27, 29]]\n",
       " [[2, 3, 4, 5, 6, 8, 10, 11, 12, 13, 15, 17, 19, 20, 21, 22, 23, 25, 27, 29], [1, 3, 6, 7, 9, 13, 14, 16, 18, 23, 24, 26, 28, 30, 31], [1, 2, 3, 4, 5, 6, 10, 11, 12, 13, 19, 20, 21, 22, 23]]"
      ]
     },
     "execution_count": 7,
     "metadata": {},
     "output_type": "execute_result"
    }
   ],
   "source": [
    "# the following is a list containing a representative of each orbit of cells\n",
    "# in the tesselation. It starts with cells of dimension 4 and is ordered\n",
    "# by dimension.\n",
    "# ATTENTION: The indexing here starts at 1, not at 0.\n",
    "indices_k_cells = [\n",
    "[\n",
    "[ 3, 6, 8, 12, 19 ],\n",
    "[ 8, 12, 13, 20, 21 ]\n",
    "],\n",
    "[\n",
    "[ 3, 6, 8, 12, 13, 19 ],\n",
    "[ 3, 8, 12, 13, 15, 19 ],\n",
    "[ 3, 6, 8, 13, 15, 19 ],\n",
    "[ 6, 8, 12, 13, 20, 21 ],\n",
    "[ 3, 8, 13, 15, 20, 21 ]\n",
    "],\n",
    "[\n",
    "[ 3, 6, 8, 12, 13, 15, 19 ],\n",
    "[ 3, 6, 8, 12, 13, 19, 20 ],\n",
    "[ 3, 6, 8, 13, 15, 19, 20 ],\n",
    "[ 3, 6, 12, 13, 15, 19, 20 ],\n",
    "[ 3, 6, 8, 12, 13, 20, 21 ],\n",
    "[ 3, 6, 8, 13, 15, 20, 21 ],\n",
    "[ 3, 8, 12, 13, 15, 20, 21 ],\n",
    "[ 3, 6, 8, 12, 15, 19, 21 ],\n",
    "[ 3, 6, 8, 12, 15, 19, 22 ],\n",
    "[ 3, 6, 12, 19, 21, 22, 23 ]\n",
    "],\n",
    "[\n",
    "[ 3, 6, 8, 12, 13, 15, 19, 20 ],\n",
    "[ 3, 6, 8, 12, 13, 19, 20, 21 ],\n",
    "[ 3, 6, 8, 12, 13, 15, 20, 21 ],\n",
    "[ 3, 6, 8, 12, 13, 15, 19, 21 ],\n",
    "[ 3, 6, 8, 13, 15, 19, 20, 21 ],\n",
    "[ 3, 6, 8, 12, 13, 15, 19, 22 ],\n",
    "[ 3, 6, 12, 13, 15, 19, 21, 22 ],\n",
    "[ 3, 6, 8, 12, 19, 21, 22, 23 ],\n",
    "[ 3, 6, 8, 12, 19, 20, 21, 23 ],\n",
    "[ 3, 6, 12, 19, 20, 21, 22, 23 ],\n",
    "[ 3, 6, 8, 12, 13, 20, 21, 23 ],\n",
    "[ 3, 6, 12, 13, 20, 21, 22, 23 ],\n",
    "[ 3, 6, 12, 13, 19, 21, 22, 23 ],\n",
    "[ 3, 6, 8, 13, 19, 20, 21, 23 ],\n",
    "[ 3, 6, 12, 13, 19, 20, 21, 29 ],\n",
    "[ 3, 6, 12, 13, 19, 22, 23, 29 ]\n",
    "],\n",
    "[\n",
    "[ 3, 6, 8, 12, 13, 15, 19, 20, 21 ],\n",
    "[ 3, 6, 8, 12, 13, 15, 19, 21, 22 ],\n",
    "[ 3, 8, 12, 13, 15, 19, 20, 21, 22 ],\n",
    "[ 3, 6, 8, 13, 15, 19, 20, 21, 22 ],\n",
    "[ 3, 6, 8, 12, 19, 20, 21, 22, 23 ],\n",
    "[ 3, 6, 8, 12, 13, 20, 21, 22, 23 ],\n",
    "[ 3, 6, 8, 12, 13, 19, 21, 22, 23 ],\n",
    "[ 3, 6, 8, 12, 13, 19, 20, 21, 23 ],\n",
    "[ 3, 6, 12, 13, 19, 20, 21, 22, 23 ],\n",
    "[ 6, 8, 12, 13, 19, 20, 21, 22, 23 ],\n",
    "[ 3, 6, 8, 13, 19, 20, 21, 22, 23 ],\n",
    "[ 3, 6, 8, 12, 13, 15, 20, 22, 23 ],\n",
    "[ 3, 6, 12, 13, 15, 20, 21, 22, 23 ],\n",
    "[ 3, 6, 12, 13, 15, 19, 21, 22, 23 ],\n",
    "[ 3, 6, 12, 13, 15, 19, 20, 22, 23 ],\n",
    "[ 3, 6, 8, 12, 13, 19, 20, 21, 29 ],\n",
    "[ 3, 6, 12, 13, 19, 20, 21, 22, 29 ],\n",
    "[ 3, 6, 12, 13, 19, 21, 22, 23, 29 ],\n",
    "[ 3, 6, 8, 12, 13, 19, 22, 23, 29 ],\n",
    "[ 6, 8, 12, 13, 19, 21, 22, 23, 29 ],\n",
    "[ 3, 6, 12, 13, 19, 20, 21, 23, 29 ],\n",
    "[ 3, 6, 12, 13, 15, 20, 22, 23, 29 ],\n",
    "[ 2, 6, 8, 12, 13, 19, 22, 23, 29 ]\n",
    "],\n",
    "[\n",
    "[ 3, 6, 8, 12, 13, 15, 19, 20, 21, 22 ],\n",
    "[ 3, 6, 8, 12, 13, 19, 20, 21, 22, 23 ],\n",
    "[ 3, 6, 8, 12, 13, 15, 20, 21, 22, 23 ],\n",
    "[ 3, 6, 8, 12, 13, 15, 19, 21, 22, 23 ],\n",
    "[ 3, 6, 8, 12, 13, 15, 19, 20, 22, 23 ],\n",
    "[ 3, 6, 12, 13, 15, 19, 20, 21, 22, 23 ],\n",
    "[ 3, 8, 12, 13, 15, 19, 20, 21, 22, 23 ],\n",
    "[ 3, 6, 8, 13, 15, 19, 20, 21, 22, 23 ],\n",
    "[ 3, 6, 8, 12, 13, 19, 20, 21, 22, 29 ],\n",
    "[ 3, 6, 8, 12, 13, 19, 21, 22, 23, 29 ],\n",
    "[ 3, 6, 8, 12, 13, 19, 20, 21, 23, 29 ],\n",
    "[ 3, 6, 12, 13, 19, 20, 21, 22, 23, 29 ],\n",
    "[ 3, 6, 12, 13, 15, 19, 20, 21, 22, 29 ],\n",
    "[ 3, 8, 12, 13, 15, 19, 21, 22, 23, 29 ],\n",
    "[ 3, 6, 8, 12, 13, 15, 21, 22, 23, 29 ],\n",
    "[ 3, 6, 8, 12, 13, 15, 20, 22, 23, 29 ],\n",
    "[ 3, 6, 12, 13, 15, 19, 20, 22, 23, 29 ],\n",
    "[ 3, 8, 13, 15, 19, 21, 22, 23, 25, 29 ],\n",
    "[ 2, 6, 8, 12, 13, 19, 21, 22, 23, 29 ],\n",
    "[ 2, 6, 8, 12, 13, 15, 19, 21, 23, 29 ],\n",
    "[ 2, 6, 8, 12, 13, 15, 21, 22, 23, 29 ],\n",
    "[ 3, 6, 8, 12, 13, 19, 20, 22, 23, 25 ],\n",
    "[ 3, 6, 8, 12, 19, 20, 22, 23, 25, 29 ],\n",
    "[ 6, 8, 13, 15, 20, 21, 22, 23, 25, 29 ],\n",
    "[ 3, 6, 8, 13, 15, 17, 19, 20, 21, 22 ]\n",
    "],\n",
    "[\n",
    "[ 3, 6, 8, 12, 13, 15, 19, 20, 21, 22, 23 ],\n",
    "[ 3, 6, 8, 12, 13, 19, 20, 21, 22, 23, 29 ],\n",
    "[ 3, 6, 8, 12, 13, 15, 19, 20, 21, 22, 29 ],\n",
    "[ 3, 6, 8, 12, 13, 15, 19, 21, 22, 23, 29 ],\n",
    "[ 3, 6, 8, 12, 13, 15, 19, 20, 22, 23, 29 ],\n",
    "[ 3, 6, 12, 13, 15, 19, 20, 21, 22, 23, 29 ],\n",
    "[ 3, 6, 8, 13, 15, 19, 21, 22, 23, 25, 29 ],\n",
    "[ 2, 3, 6, 11, 12, 13, 15, 19, 21, 22, 23, 25, 29 ],\n",
    "[ 2, 6, 8, 12, 13, 15, 19, 21, 22, 23, 29 ],\n",
    "[ 2, 6, 8, 12, 15, 19, 21, 22, 23, 25, 29 ],\n",
    "[ 3, 6, 8, 12, 13, 15, 19, 20, 22, 23, 25 ],\n",
    "[ 3, 6, 8, 12, 13, 19, 20, 22, 23, 25, 29 ],\n",
    "[ 3, 6, 8, 12, 13, 15, 19, 20, 23, 25, 29 ],\n",
    "[ 3, 6, 8, 12, 13, 15, 20, 22, 23, 25, 29 ],\n",
    "[ 3, 6, 8, 13, 15, 19, 20, 21, 22, 23, 25 ],\n",
    "[ 3, 6, 8, 13, 15, 20, 21, 22, 23, 25, 29 ],\n",
    "[ 2, 6, 8, 12, 13, 19, 20, 22, 23, 25, 29 ],\n",
    "[ 3, 6, 8, 12, 13, 15, 17, 19, 20, 21, 22 ],\n",
    "[ 3, 6, 8, 12, 15, 17, 19, 20, 21, 22, 25 ],\n",
    "[ 6, 8, 12, 15, 17, 19, 20, 21, 22, 23, 25 ],\n",
    "[ 3, 6, 8, 15, 17, 19, 20, 22, 23, 25, 29 ],\n",
    "[ 2, 6, 8, 12, 17, 19, 20, 21, 23, 25, 29 ],\n",
    "[ 2, 6, 8, 11, 12, 17, 19, 20, 23, 25, 29 ]\n",
    "],\n",
    "[\n",
    "[ 3, 6, 8, 12, 13, 15, 19, 20, 21, 22, 23, 29 ],\n",
    "[ 2, 3, 6, 8, 11, 12, 13, 15, 19, 21, 22, 23, 25, 29 ],\n",
    "[ 3, 6, 8, 12, 13, 15, 19, 20, 22, 23, 25, 29 ],\n",
    "[ 3, 6, 8, 13, 15, 19, 20, 21, 22, 23, 25, 29 ],\n",
    "[ 2, 6, 8, 12, 13, 15, 19, 20, 22, 23, 25, 29 ],\n",
    "[ 2, 6, 8, 12, 15, 19, 20, 21, 22, 23, 25, 29 ],\n",
    "[ 2, 3, 6, 8, 11, 12, 20, 21, 22, 23, 25, 29 ],\n",
    "[ 3, 6, 8, 11, 12, 13, 15, 19, 20, 21, 22, 29 ],\n",
    "[ 3, 6, 8, 12, 13, 15, 17, 19, 20, 21, 22, 23 ],\n",
    "[ 3, 6, 8, 12, 15, 17, 19, 20, 21, 22, 23, 25 ],\n",
    "[ 3, 6, 8, 15, 17, 19, 20, 21, 22, 23, 25, 29 ],\n",
    "[ 3, 6, 8, 12, 15, 17, 19, 20, 22, 23, 25, 29 ],\n",
    "[ 2, 6, 8, 12, 15, 17, 19, 20, 21, 22, 25, 29 ],\n",
    "[ 2, 6, 8, 12, 15, 17, 19, 20, 21, 23, 25, 29 ],\n",
    "[ 2, 6, 8, 11, 12, 17, 19, 20, 21, 23, 25, 29 ],\n",
    "[ 3, 6, 15, 17, 19, 20, 21, 22, 23, 25, 27, 29 ]\n",
    "],\n",
    "[\n",
    "[ 2, 3, 6, 8, 11, 12, 13, 15, 19, 20, 21, 22, 23, 25, 29 ],\n",
    "[ 3, 6, 8, 12, 13, 15, 17, 19, 20, 21, 22, 23, 29 ],\n",
    "[ 3, 6, 8, 12, 15, 17, 19, 20, 21, 22, 23, 25, 29 ],\n",
    "[ 3, 6, 8, 13, 15, 17, 19, 20, 21, 22, 23, 25, 29 ],\n",
    "[ 2, 6, 8, 12, 15, 17, 19, 20, 21, 22, 23, 25, 29 ],\n",
    "[ 2, 6, 8, 12, 13, 15, 17, 19, 20, 22, 23, 25, 29 ],\n",
    "[ 2, 6, 8, 11, 12, 17, 19, 20, 21, 22, 23, 25, 29 ],\n",
    "[ 3, 6, 8, 15, 17, 19, 20, 21, 22, 23, 25, 27, 29 ],\n",
    "[ 3, 6, 12, 15, 17, 19, 20, 21, 22, 23, 25, 27, 29 ]\n",
    "],\n",
    "[\n",
    "[ 2, 3, 6, 8, 11, 12, 13, 15, 17, 19, 20, 21, 22, 23, 25, 29 ],\n",
    "[ 3, 6, 8, 12, 15, 17, 19, 20, 21, 22, 23, 25, 27, 29 ],\n",
    "[ 3, 6, 8, 13, 15, 17, 19, 20, 21, 22, 23, 25, 27, 29 ],\n",
    "[ 3, 4, 6, 12, 15, 17, 19, 20, 21, 22, 23, 25, 27, 29 ]\n",
    "],\n",
    "[\n",
    "[ 2, 3, 4, 5, 6, 8, 10, 11, 12, 13, 15, 17, 19, 20, 21, 22, 23, 25, 27, 29 ],\n",
    "[ 1, 3, 6, 7, 9, 13, 14, 16, 18, 23, 24, 26, 28, 30, 31 ],\n",
    "[ 1, 2, 3, 4, 5, 6, 10, 11, 12, 13, 19, 20, 21, 22, 23 ]\n",
    "]\n",
    "]"
   ]
  },
  {
   "cell_type": "code",
   "execution_count": 8,
   "id": "4e2568dd",
   "metadata": {},
   "outputs": [
    {
     "name": "stdout",
     "output_type": "stream",
     "text": [
      "Number of cells in dimension 4: 2\n",
      "Number of cells in dimension 5: 5\n",
      "Number of cells in dimension 6: 10\n",
      "Number of cells in dimension 7: 16\n",
      "Number of cells in dimension 8: 23\n",
      "Number of cells in dimension 9: 25\n",
      "Number of cells in dimension 10: 23\n",
      "Number of cells in dimension 11: 16\n",
      "Number of cells in dimension 12: 9\n",
      "Number of cells in dimension 13: 4\n",
      "Number of cells in dimension 14: 3\n"
     ]
    }
   ],
   "source": [
    "current_dimension = 4\n",
    "for k in indices_k_cells\n",
    "    number_cells = length(k)\n",
    "    println(\"Number of cells in dimension $current_dimension: $number_cells\")\n",
    "    current_dimension +=1\n",
    "end"
   ]
  },
  {
   "cell_type": "code",
   "execution_count": 9,
   "id": "3e335fa0",
   "metadata": {},
   "outputs": [
    {
     "name": "stdout",
     "output_type": "stream",
     "text": [
      "Number of cells in dimension 4: 2\n",
      "Number of cells in dimension 5: 5\n",
      "Number of cells in dimension 6: 10\n",
      "Number of cells in dimension 7: 16\n",
      "Number of cells in dimension 8: 23\n",
      "Number of cells in dimension 9: 25\n",
      "Number of cells in dimension 10: 23\n",
      "Number of cells in dimension 11: 16\n",
      "Number of cells in dimension 12: 9\n",
      "Number of cells in dimension 13: 4\n",
      "Number of cells in dimension 14: 3\n"
     ]
    }
   ],
   "source": [
    "cells_GL5 = Dict()\n",
    "for dimension in range(4,14)\n",
    "    cells_current_dimension = []\n",
    "    for cell_indices in indices_k_cells[dimension-3]\n",
    "        cell = reduce(hcat,[vertices_Voronoi_5[index] for index in cell_indices])\n",
    "        push!(cells_current_dimension, cell)\n",
    "    end\n",
    "    cells_GL5[dimension] = cells_current_dimension\n",
    "    number_cells = length(cells_current_dimension)\n",
    "    println(\"Number of cells in dimension $dimension: $number_cells\")\n",
    "end"
   ]
  },
  {
   "cell_type": "code",
   "execution_count": 10,
   "id": "8e503304",
   "metadata": {},
   "outputs": [
    {
     "data": {
      "text/plain": [
       "Dict{Any, Any} with 11 entries:\n",
       "  5  => Any[[0 0 … 0 1; 0 0 … 1 -1; … ; 1 0 … 0 0; 0 0 … 0 0], [0 0 … 0 1; 0 0 …\n",
       "  12 => Any[[0 0 … 1 1; 0 0 … 0 1; … ; 1 1 … 1 0; -1 0 … -1 -1], [0 0 … 1 1; 0 …\n",
       "  8  => Any[[0 0 … 1 1; 0 0 … 0 0; … ; 1 0 … 0 -1; 0 0 … 0 0], [0 0 … 1 1; 0 0 …\n",
       "  6  => Any[[0 0 … 0 1; 0 0 … 1 -1; … ; 1 0 … 1 0; 0 0 … -1 0], [0 0 … 1 1; 0 0…\n",
       "  11 => Any[[0 0 … 1 1; 0 0 … 0 1; … ; 1 0 … 0 0; 0 0 … 0 -1], [0 0 … 1 1; 0 0 …\n",
       "  9  => Any[[0 0 … 1 1; 0 0 … 0 0; … ; 1 0 … -1 0; 0 0 … 0 -1], [0 0 … 1 1; 0 0…\n",
       "  14 => Any[[0 0 … 1 1; 0 0 … 0 1; … ; 1 1 … 0 0; -1 0 … -1 -1], [0 0 … 1 1; 0 …\n",
       "  7  => Any[[0 0 … 1 1; 0 0 … -1 0; … ; 1 0 … 0 0; 0 0 … 0 0], [0 0 … 1 1; 0 0 …\n",
       "  4  => Any[[0 0 … 0 1; 0 0 … 1 -1; … ; 1 0 … 0 0; 0 0 … -1 0], [0 0 … 1 1; 0 1…\n",
       "  13 => Any[[0 0 … 1 1; 0 0 … 0 1; … ; 1 1 … 1 0; -1 0 … -1 -1], [0 0 … 1 1; 0 …\n",
       "  10 => Any[[0 0 … 1 1; 0 0 … 0 0; … ; 1 0 … 0 0; 0 0 … -1 0], [0 0 … 1 1; 0 0 …"
      ]
     },
     "execution_count": 10,
     "metadata": {},
     "output_type": "execute_result"
    }
   ],
   "source": [
    "cells_GL5"
   ]
  },
  {
   "cell_type": "code",
   "execution_count": 11,
   "id": "67080926",
   "metadata": {},
   "outputs": [
    {
     "name": "stdout",
     "output_type": "stream",
     "text": [
      "5.0\n",
      "3.0\n",
      "4.0\n",
      "9.0\n",
      "6.0\n",
      "1323.0\n",
      "648.0\n",
      "624.0\n",
      "672.0\n",
      "616.0\n",
      "588.0\n",
      "540.0\n",
      "640.0\n",
      "576.0\n",
      "84.0\n",
      "69.0\n",
      "72.0\n",
      "81.0\n",
      "64.0\n",
      "76.0\n",
      "66.0\n",
      "72.0\n",
      "52.0\n",
      "70.0\n",
      "60.0\n",
      "75.0\n",
      "61.0\n",
      "45.0\n",
      "55.0\n",
      "96.0\n",
      "64.0\n",
      "40.0\n",
      "64.0\n",
      "56.0\n",
      "48.0\n",
      "54.0\n",
      "48.0\n",
      "11.0\n",
      "16.0\n",
      "12.0\n",
      "12.0\n",
      "20.0\n",
      "15.0\n",
      "18.0\n",
      "14.0\n",
      "8.0\n",
      "9.0\n",
      "396.0\n",
      "756.0\n",
      "371.0\n",
      "384.0\n",
      "336.0\n",
      "363.0\n",
      "324.0\n",
      "432.0\n",
      "432.0\n",
      "395.0\n",
      "416.0\n",
      "384.0\n",
      "392.0\n",
      "360.0\n",
      "300.0\n",
      "384.0\n",
      "153.0\n",
      "136.0\n",
      "145.0\n",
      "126.0\n",
      "130.0\n",
      "111.0\n",
      "129.0\n",
      "135.0\n",
      "160.0\n",
      "124.0\n",
      "144.0\n",
      "96.0\n",
      "120.0\n",
      "75.0\n",
      "115.0\n",
      "135.0\n",
      "99.0\n",
      "81.0\n",
      "104.0\n",
      "114.0\n",
      "100.0\n",
      "121.0\n",
      "125.0\n",
      "128.0\n",
      "162.0\n",
      "8192.0\n",
      "1536.0\n",
      "1296.0\n",
      "32.0\n",
      "44.0\n",
      "39.0\n",
      "35.0\n",
      "36.0\n",
      "29.0\n",
      "24.0\n",
      "30.0\n",
      "32.0\n",
      "24.0\n",
      "36.0\n",
      "28.0\n",
      "21.0\n",
      "20.0\n",
      "32.0\n",
      "16.0\n",
      "1.0\n",
      "4.0\n",
      "2058.0\n",
      "960.0\n",
      "1024.0\n",
      "864.0\n",
      "246.0\n",
      "240.0\n",
      "264.0\n",
      "210.0\n",
      "234.0\n",
      "180.0\n",
      "216.0\n",
      "324.0\n",
      "185.0\n",
      "198.0\n",
      "209.0\n",
      "220.0\n",
      "230.0\n",
      "231.0\n",
      "216.0\n",
      "224.0\n",
      "192.0\n",
      "270.0\n",
      "225.0\n",
      "250.0\n",
      "256.0\n",
      "200.0\n",
      "125.0\n"
     ]
    }
   ],
   "source": [
    "# Now, the forms are not determined by their determinant anymore:\n",
    "for (dimension,cells) in cells_GL5\n",
    "    for cell in cells\n",
    "        println(round(det(quadratic_form(cell))))\n",
    "    end\n",
    "end"
   ]
  },
  {
   "cell_type": "code",
   "execution_count": 12,
   "id": "d6e2ea2a",
   "metadata": {
    "scrolled": true
   },
   "outputs": [
    {
     "data": {
      "text/plain": [
       "Dict{Any, Any} with 11 entries:\n",
       "  5  => Any[[0 0 … 0 1; 0 0 … 1 -1; … ; 1 0 … 0 0; 0 0 … 0 0], [0 0 … 0 1; 0 0 …\n",
       "  12 => Any[[0 0 … 1 1; 0 0 … 0 1; … ; 1 1 … 1 0; -1 0 … -1 -1], [0 0 … 1 1; 0 …\n",
       "  8  => Any[[0 0 … 1 1; 0 0 … 0 0; … ; 1 0 … 0 -1; 0 0 … 0 0], [0 0 … 1 1; 0 0 …\n",
       "  6  => Any[[0 0 … 0 1; 0 0 … 1 -1; … ; 1 0 … 1 0; 0 0 … -1 0], [0 0 … 1 1; 0 0…\n",
       "  11 => Any[[0 0 … 1 1; 0 0 … 0 1; … ; 1 0 … 0 0; 0 0 … 0 -1], [0 0 … 1 1; 0 0 …\n",
       "  9  => Any[[0 0 … 1 1; 0 0 … 0 0; … ; 1 0 … -1 0; 0 0 … 0 -1], [0 0 … 1 1; 0 0…\n",
       "  14 => Any[[0 0 … 1 1; 0 0 … 0 1; … ; 1 1 … 0 0; -1 0 … -1 -1], [0 0 … 1 1; 0 …\n",
       "  7  => Any[[0 0 … 1 1; 0 0 … -1 0; … ; 1 0 … 0 0; 0 0 … 0 0], [0 0 … 1 1; 0 0 …\n",
       "  4  => Any[[0 0 … 0 1; 0 0 … 1 -1; … ; 1 0 … 0 0; 0 0 … -1 0], [0 0 … 1 1; 0 1…\n",
       "  13 => Any[[0 0 … 1 1; 0 0 … 0 1; … ; 1 1 … 1 0; -1 0 … -1 -1], [0 0 … 1 1; 0 …\n",
       "  10 => Any[[0 0 … 1 1; 0 0 … 0 0; … ; 1 0 … 0 0; 0 0 … -1 0], [0 0 … 1 1; 0 0 …"
      ]
     },
     "execution_count": 12,
     "metadata": {},
     "output_type": "execute_result"
    }
   ],
   "source": [
    "cells_SL5 = cells_GL5"
   ]
  },
  {
   "cell_type": "markdown",
   "id": "4bf52230",
   "metadata": {},
   "source": [
    "# CAREFUL!!!\n",
    "Everything from now on is just copy-paste from the SL_4 version and still needs to be adapted"
   ]
  },
  {
   "cell_type": "markdown",
   "id": "3e644df7",
   "metadata": {},
   "source": [
    "# Stabilisers"
   ]
  },
  {
   "cell_type": "code",
   "execution_count": null,
   "id": "5962123d",
   "metadata": {},
   "outputs": [],
   "source": [
    "stabilisers = Dict()\n",
    "for (dimension, cell_list) in cells_SL5\n",
    "    stabilisers_this_dimension = []\n",
    "    for cell in cell_list\n",
    "        push!(stabilisers_this_dimension,stabiliser_coset_with_orientation(cell,cell))\n",
    "    end\n",
    "    stabilisers[dimension] = stabilisers_this_dimension\n",
    "end"
   ]
  },
  {
   "cell_type": "code",
   "execution_count": 32,
   "id": "587b46b0",
   "metadata": {},
   "outputs": [],
   "source": [
    "for (dim,cells) in stabilisers\n",
    "    println(\"\\n Dimension $dim\\n\")\n",
    "    for cell in cells\n",
    "        size = length(cell)\n",
    "        println(\"Stabiliser size: $size\")\n",
    "        preserves_orientation = true\n",
    "        for element in cell\n",
    "            if element[2] == -1\n",
    "                preserves_orientation = false\n",
    "            end\n",
    "        end\n",
    "        if preserves_orientation\n",
    "            println(\"The stabiliser preserves the orientation.\")\n",
    "        else\n",
    "            println(\"The stabiliser can revert the orientation.\")\n",
    "        end\n",
    "    end\n",
    "end"
   ]
  },
  {
   "cell_type": "markdown",
   "id": "8d07d91e",
   "metadata": {},
   "source": [
    "# Boundaries"
   ]
  },
  {
   "cell_type": "code",
   "execution_count": 33,
   "id": "82cc3d30",
   "metadata": {},
   "outputs": [],
   "source": [
    "boundaries_SL4 = Dict()\n",
    "for (dimension, cell_list) in cells_SL4\n",
    "    boundaries_this_dimension = []\n",
    "    for cell in cell_list\n",
    "        push!(boundaries_this_dimension,boundaries_in_group_ring_with_orientation(cell,cells_SL4))\n",
    "    end\n",
    "    boundaries_SL4[dimension] = boundaries_this_dimension\n",
    "end"
   ]
  },
  {
   "cell_type": "code",
   "execution_count": 34,
   "id": "61cea4b7",
   "metadata": {
    "scrolled": true
   },
   "outputs": [
    {
     "data": {
      "text/plain": [
       "Dict{Any, Any} with 6 entries:\n",
       "  5 => Any[Any[Dict{Any, Any}(\"sign\"=>1, \"orbit_coset_with_orientation\"=>Any[([…\n",
       "  4 => Any[Any[Dict{Any, Any}(\"sign\"=>1, \"orbit_coset_with_orientation\"=>Any[([…\n",
       "  6 => Any[Any[Dict{Any, Any}(\"sign\"=>1, \"orbit_coset_with_orientation\"=>Any[([…\n",
       "  7 => Any[Any[Dict{Any, Any}(\"sign\"=>1, \"orbit_coset_with_orientation\"=>Any[([…\n",
       "  8 => Any[Any[Dict{Any, Any}(\"sign\"=>1, \"orbit_coset_with_orientation\"=>Any[([…\n",
       "  3 => Any[Any[]]"
      ]
     },
     "execution_count": 34,
     "metadata": {},
     "output_type": "execute_result"
    }
   ],
   "source": [
    "boundaries_SL4"
   ]
  },
  {
   "cell_type": "code",
   "execution_count": 35,
   "id": "1a0bb140",
   "metadata": {},
   "outputs": [],
   "source": [
    "sl4_data = Dict()\n",
    "sl4_data[\"boundaries\"] = boundaries_SL4\n",
    "sl4_data[\"stabilisers\"] = stabilisers;"
   ]
  },
  {
   "cell_type": "code",
   "execution_count": 36,
   "id": "e8e770a7",
   "metadata": {},
   "outputs": [],
   "source": [
    "serialize(joinpath(@__DIR__, \"../trivial_cohomology_proving/sl4_bound_stab.sjl\"), sl4_data)"
   ]
  },
  {
   "cell_type": "code",
   "execution_count": 37,
   "id": "4219398d",
   "metadata": {},
   "outputs": [
    {
     "data": {
      "text/plain": [
       "3-element Vector{Any}:\n",
       " Dict{Any, Any}(\"sign\" => 1, \"orbit_coset_with_orientation\" => Any[([1 0 0 0; 0 1 0 0; 0 0 1 0; 0 0 0 1], 1), ([-1 0 -2 2; 0 -1 -2 2; -2 0 -1 2; -2 0 -2 3], 1), ([-1 -2 0 2; -2 -1 0 2; 0 -2 -1 2; -2 -2 0 3], 1), ([3 -2 -2 0; 2 -1 -2 0; 2 -2 -1 0; 4 -2 -2 -1], 1), ([-3 2 2 0; -2 1 2 0; -2 2 1 0; -4 2 2 1], 1), ([1 2 0 -2; 2 1 0 -2; 0 2 1 -2; 2 2 0 -3], 1), ([1 0 2 -2; 0 1 2 -2; 2 0 1 -2; 2 0 2 -3], 1), ([-1 0 0 0; 0 -1 0 0; 0 0 -1 0; 0 0 0 -1], 1), ([1 -2 0 0; 0 -1 0 0; 0 -2 0 1; 0 -2 1 0], -1), ([-1 2 2 -2; 0 1 2 -2; -2 2 2 -1; -2 2 3 -2], -1)  …  ([1 -2 -2 2; 0 -2 -1 2; 1 -1 -1 1; 2 -3 -2 2], -1), ([1 -2 0 0; 2 -2 -1 0; 1 -1 1 -1; 2 -3 0 0], -1), ([3 -2 -2 0; 2 -2 -1 0; 2 -1 -2 0; 3 -3 -3 1], 1), ([-1 -2 0 2; 0 -2 -1 2; -2 -1 0 2; -1 -3 -1 3], 1), ([-1 0 -2 2; -2 0 -1 2; 0 -1 -2 2; -1 -1 -3 3], 1), ([1 0 0 0; 0 0 1 0; 0 1 0 0; 1 1 1 -1], 1), ([-1 0 0 0; 0 0 -1 0; 0 -1 0 0; -1 -1 -1 1], 1), ([1 0 2 -2; 2 0 1 -2; 0 1 2 -2; 1 1 3 -3], 1), ([1 2 0 -2; 0 2 1 -2; 2 1 0 -2; 1 3 1 -3], 1), ([-3 2 2 0; -2 2 1 0; -2 1 2 0; -3 3 3 -1], 1)], \"orbit_standard_cell\" => 1)\n",
       " Dict{Any, Any}(\"sign\" => 1, \"orbit_coset_with_orientation\" => Any[([0 2 0 -1; 0 1 -1 0; -1 2 1 -1; -1 2 0 0], 1), ([0 -2 -2 3; 0 -1 -1 2; -1 -2 -1 3; -1 -2 -2 4], 1), ([-2 0 2 1; -2 -1 1 2; -1 0 1 1; -3 0 2 2], 1), ([2 0 0 -1; 2 -1 -1 0; 1 0 1 -1; 3 0 0 -2], 1), ([-2 0 0 1; -2 1 1 0; -1 0 -1 1; -3 0 0 2], 1), ([2 0 -2 -1; 2 1 -1 -2; 1 0 -1 -1; 3 0 -2 -2], 1), ([0 2 2 -3; 0 1 1 -2; 1 2 1 -3; 1 2 2 -4], 1), ([0 -2 0 1; 0 -1 1 0; 1 -2 -1 1; 1 -2 0 0], 1), ([0 0 2 -1; 0 -1 1 0; -1 0 2 0; -1 0 3 -1], -1), ([0 0 0 -1; 0 1 1 -2; -1 0 0 0; -1 0 1 -1], -1)  …  ([0 0 0 1; -1 0 1 1; 0 1 0 0; 0 1 1 0], -1), ([0 0 2 -1; 1 0 1 -1; 0 1 2 -2; 0 1 3 -2], -1), ([2 0 0 -1; 1 0 1 -1; 2 -1 -1 0; 2 -1 0 0], 1), ([-2 0 2 1; -1 0 1 1; -2 -1 1 2; -2 -1 2 2], 1), ([0 -2 -2 3; -1 -2 -1 3; 0 -1 -1 2; 0 -3 -2 4], 1), ([0 2 0 -1; -1 2 1 -1; 0 1 -1 0; 0 3 0 -2], 1), ([0 -2 0 1; 1 -2 -1 1; 0 -1 1 0; 0 -3 0 2], 1), ([0 2 2 -3; 1 2 1 -3; 0 1 1 -2; 0 3 2 -4], 1), ([2 0 -2 -1; 1 0 -1 -1; 2 1 -1 -2; 2 1 -2 -2], 1), ([-2 0 0 1; -1 0 -1 1; -2 1 1 0; -2 1 0 0], 1)], \"orbit_standard_cell\" => 1)\n",
       " Dict{Any, Any}(\"sign\" => 1, \"orbit_coset_with_orientation\" => Any[([0 -1 2 0; 0 -2 1 1; -1 0 2 0; -1 -1 3 0], 1), ([0 -1 0 0; 0 0 1 -1; -1 0 0 0; -1 -1 1 0], 1), ([-2 3 2 -2; -2 2 1 -1; -1 2 2 -2; -3 3 3 -2], 1), ([2 1 0 -2; 2 0 -1 -1; 1 2 0 -2; 3 1 -1 -2], 1), ([-2 -1 0 2; -2 0 1 1; -1 -2 0 2; -3 -1 1 2], 1), ([2 -3 -2 2; 2 -2 -1 1; 1 -2 -2 2; 3 -3 -3 2], 1), ([0 1 0 0; 0 0 -1 1; 1 0 0 0; 1 1 -1 0], 1), ([0 1 -2 0; 0 2 -1 -1; 1 0 -2 0; 1 1 -3 0], 1), ([0 3 0 -2; 0 2 -1 -1; -1 3 1 -2; -1 4 0 -2], -1), ([0 -1 -2 2; 0 0 -1 1; -1 -1 -1 2; -1 0 -2 2], -1)  …  ([2 -1 0 0; 1 0 0 0; 2 0 0 -1; 2 0 1 -1], -1), ([-2 1 2 0; -1 0 2 0; -2 2 2 -1; -2 2 3 -1], -1), ([0 -1 2 0; -1 0 2 0; 0 -2 1 1; 0 -2 2 1], 1), ([0 1 0 0; 1 0 0 0; 0 0 -1 1; 0 0 0 1], 1), ([2 -3 -2 2; 1 -2 -2 2; 2 -2 -1 1; 2 -4 -2 3], 1), ([2 1 0 -2; 1 2 0 -2; 2 0 -1 -1; 2 2 0 -3], 1), ([-2 -1 0 2; -1 -2 0 2; -2 0 1 1; -2 -2 0 3], 1), ([-2 3 2 -2; -1 2 2 -2; -2 2 1 -1; -2 4 2 -3], 1), ([0 -1 0 0; -1 0 0 0; 0 0 1 -1; 0 0 0 -1], 1), ([0 1 -2 0; 1 0 -2 0; 0 2 -1 -1; 0 2 -2 -1], 1)], \"orbit_standard_cell\" => 1)"
      ]
     },
     "execution_count": 37,
     "metadata": {},
     "output_type": "execute_result"
    }
   ],
   "source": [
    "boundaries_SL4[4][2]"
   ]
  },
  {
   "cell_type": "markdown",
   "id": "f026560a",
   "metadata": {},
   "source": [
    "## Some sanity checks"
   ]
  },
  {
   "cell_type": "code",
   "execution_count": 38,
   "id": "8c7931ef",
   "metadata": {},
   "outputs": [
    {
     "name": "stdout",
     "output_type": "stream",
     "text": [
      "A cell boundary looks like this:\n",
      "\n",
      " cell orbit: 1\n",
      " Coset size: 192\n",
      " cell orbit: 1\n",
      " Coset size: 192\n",
      " cell orbit: 1\n",
      " Coset size: 192\n",
      " cell orbit: 1\n",
      " Coset size: 192\n",
      "A cell boundary looks like this:\n",
      "\n",
      " cell orbit: 1\n",
      " Coset size: 192\n",
      " cell orbit: 1\n",
      " Coset size: 192\n",
      " cell orbit: 1\n",
      " Coset size: 192\n",
      "A cell boundary looks like this:\n",
      "\n",
      " cell orbit: 1\n",
      " Coset size: 192\n",
      " cell orbit: 1\n",
      " Coset size: 192\n",
      " cell orbit: 1\n",
      " Coset size: 192\n",
      " cell orbit: 1\n",
      " Coset size: 192\n",
      " cell orbit: 1\n",
      " Coset size: 192\n"
     ]
    }
   ],
   "source": [
    "for cell in  boundaries_SL4[4]\n",
    "    println(\"A cell boundary looks like this:\")\n",
    "    for boundary in cell\n",
    "        print(\"\\n cell orbit: \")\n",
    "        print(boundary[\"orbit_standard_cell\"])\n",
    "        print(\"\\n Coset size: \")\n",
    "        print(length(boundary[\"orbit_coset_with_orientation\"]))\n",
    "    end\n",
    "    println()\n",
    "end"
   ]
  },
  {
   "cell_type": "code",
   "execution_count": 39,
   "id": "c685b5f0",
   "metadata": {
    "scrolled": true
   },
   "outputs": [
    {
     "name": "stdout",
     "output_type": "stream",
     "text": [
      "A cell boundary looks like this:\n",
      "\n",
      " cell orbit: 1\n",
      " Coset size: 48\n",
      " cell orbit: 2\n",
      " Coset size: 48\n",
      " cell orbit: 2\n",
      " Coset size: 48\n",
      " cell orbit: 1\n",
      " Coset size: 48\n",
      " cell orbit: 2\n",
      " Coset size: 48\n",
      " cell orbit: 3\n",
      " Coset size: 120\n",
      "A cell boundary looks like this:\n",
      "\n",
      " cell orbit: 1\n",
      " Coset size: 48\n",
      " cell orbit: 1\n",
      " Coset size: 48\n",
      " cell orbit: 1\n",
      " Coset size: 48\n",
      " cell orbit: 1\n",
      " Coset size: 48\n",
      " cell orbit: 1\n",
      " Coset size: 48\n",
      " cell orbit: 1\n",
      " Coset size: 48\n",
      "A cell boundary looks like this:\n",
      "\n",
      " cell orbit: 2\n",
      " Coset size: 48\n",
      " cell orbit: 1\n",
      " Coset size: 48\n",
      " cell orbit: 2\n",
      " Coset size: 48\n",
      " cell orbit: 2\n",
      " Coset size: 48\n",
      " cell orbit: 2\n",
      " Coset size: 48\n",
      "A cell boundary looks like this:\n",
      "\n",
      " cell orbit: 2\n",
      " Coset size: 48\n",
      " cell orbit: 2\n",
      " Coset size: 48\n",
      " cell orbit: 2\n",
      " Coset size: 48\n",
      " cell orbit: 2\n",
      " Coset size: 48\n",
      " cell orbit: 2\n",
      " Coset size: 48\n",
      " cell orbit: 2\n",
      " Coset size: 48\n"
     ]
    }
   ],
   "source": [
    "for cell in  boundaries_SL4[5]\n",
    "    println(\"A cell boundary looks like this:\")\n",
    "    for boundary in cell\n",
    "        print(\"\\n cell orbit: \")\n",
    "        print(boundary[\"orbit_standard_cell\"])\n",
    "        print(\"\\n Coset size: \")\n",
    "        print(length(boundary[\"orbit_coset_with_orientation\"]))\n",
    "    end\n",
    "    println()\n",
    "end"
   ]
  },
  {
   "cell_type": "code",
   "execution_count": 40,
   "id": "1f635faf",
   "metadata": {
    "scrolled": true
   },
   "outputs": [
    {
     "name": "stdout",
     "output_type": "stream",
     "text": [
      "A cell boundary looks like this:\n",
      "\n",
      " cell orbit: 1\n",
      " Coset size: 12\n",
      " cell orbit: 2\n",
      " Coset size: 48\n",
      " cell orbit: 3\n",
      " Coset size: 16\n",
      " cell orbit: 1\n",
      " Coset size: 12\n",
      " cell orbit: 1\n",
      " Coset size: 12\n",
      " cell orbit: 3\n",
      " Coset size: 16\n",
      " cell orbit: 1\n",
      " Coset size: 12\n",
      "A cell boundary looks like this:\n",
      "\n",
      " cell orbit: 3\n",
      " Coset size: 16\n",
      " cell orbit: 3\n",
      " Coset size: 16\n",
      " cell orbit: 4\n",
      " Coset size: 144\n",
      " cell orbit: 1\n",
      " Coset size: 12\n",
      " cell orbit: 3\n",
      " Coset size: 16\n",
      " cell orbit: 3\n",
      " Coset size: 16\n",
      " cell orbit: 1\n",
      " Coset size: 12\n",
      "A cell boundary looks like this:\n",
      "\n",
      " cell orbit: 3\n",
      " Coset size: 16\n",
      " cell orbit: 3\n",
      " Coset size: 16\n",
      " cell orbit: 3\n",
      " Coset size: 16\n",
      " cell orbit: 3\n",
      " Coset size: 16\n",
      " cell orbit: 3\n",
      " Coset size: 16\n",
      " cell orbit: 3\n",
      " Coset size: 16\n",
      "A cell boundary looks like this:\n",
      "\n",
      " cell orbit: 3\n",
      " Coset size: 16\n",
      " cell orbit: 3\n",
      " Coset size: 16\n",
      " cell orbit: 3\n",
      " Coset size: 16\n",
      " cell orbit: 3\n",
      " Coset size: 16\n",
      " cell orbit: 3\n",
      " Coset size: 16\n",
      " cell orbit: 2\n",
      " Coset size: 48\n",
      " cell orbit: 3\n",
      " Coset size: 16\n"
     ]
    }
   ],
   "source": [
    "for cell in  boundaries_SL4[6]\n",
    "    println(\"A cell boundary looks like this:\")\n",
    "    for boundary in cell\n",
    "        print(\"\\n cell orbit: \")\n",
    "        print(boundary[\"orbit_standard_cell\"])\n",
    "        print(\"\\n Coset size: \")\n",
    "        print(length(boundary[\"orbit_coset_with_orientation\"]))\n",
    "    end\n",
    "    println()\n",
    "end"
   ]
  },
  {
   "cell_type": "code",
   "execution_count": 41,
   "id": "a6bdace4",
   "metadata": {},
   "outputs": [
    {
     "name": "stdout",
     "output_type": "stream",
     "text": [
      "A cell boundary looks like this:\n",
      "\n",
      " cell orbit: 1\n",
      " Coset size: 8\n",
      " cell orbit: 1\n",
      " Coset size: 8\n",
      " cell orbit: 2\n",
      " Coset size: 8\n",
      " cell orbit: 2\n",
      " Coset size: 8\n",
      " cell orbit: 1\n",
      " Coset size: 8\n",
      " cell orbit: 2\n",
      " Coset size: 8\n",
      " cell orbit: 2\n",
      " Coset size: 8\n",
      " cell orbit: 1\n",
      " Coset size: 8\n",
      "A cell boundary looks like this:\n",
      "\n",
      " cell orbit: 3\n",
      " Coset size: 48\n",
      " cell orbit: 2\n",
      " Coset size: 8\n",
      " cell orbit: 2\n",
      " Coset size: 8\n",
      " cell orbit: 2\n",
      " Coset size: 8\n",
      " cell orbit: 3\n",
      " Coset size: 48\n",
      " cell orbit: 4\n",
      " Coset size: 48\n",
      " cell orbit: 1\n",
      " Coset size: 8\n",
      " cell orbit: 2\n",
      " Coset size: 8\n"
     ]
    }
   ],
   "source": [
    "for cell in  boundaries_SL4[7]\n",
    "    println(\"A cell boundary looks like this:\")\n",
    "    for boundary in cell\n",
    "        print(\"\\n cell orbit: \")\n",
    "        print(boundary[\"orbit_standard_cell\"])\n",
    "        print(\"\\n Coset size: \")\n",
    "        print(length(boundary[\"orbit_coset_with_orientation\"]))\n",
    "    end\n",
    "    println()\n",
    "end"
   ]
  },
  {
   "cell_type": "code",
   "execution_count": 42,
   "id": "59cc62af",
   "metadata": {},
   "outputs": [
    {
     "name": "stdout",
     "output_type": "stream",
     "text": [
      "A cell boundary looks like this:\n",
      "\n",
      " cell orbit: 2\n",
      " Coset size: 8\n",
      " cell orbit: 1\n",
      " Coset size: 8\n",
      " cell orbit: 2\n",
      " Coset size: 8\n",
      " cell orbit: 2\n",
      " Coset size: 8\n",
      " cell orbit: 2\n",
      " Coset size: 8\n",
      " cell orbit: 2\n",
      " Coset size: 8\n",
      " cell orbit: 2\n",
      " Coset size: 8\n",
      " cell orbit: 1\n",
      " Coset size: 8\n",
      " cell orbit: 1\n",
      " Coset size: 8\n",
      "A cell boundary looks like this:\n",
      "\n",
      " cell orbit: 1\n",
      " Coset size: 8\n",
      " cell orbit: 1\n",
      " Coset size: 8\n",
      " cell orbit: 1\n",
      " Coset size: 8\n",
      " cell orbit: 1\n",
      " Coset size: 8\n",
      " cell orbit: 1\n",
      " Coset size: 8\n",
      " cell orbit: 1\n",
      " Coset size: 8\n",
      " cell orbit: 1\n",
      " Coset size: 8\n",
      " cell orbit: 1\n",
      " Coset size: 8\n",
      " cell orbit: 1\n",
      " Coset size: 8\n"
     ]
    }
   ],
   "source": [
    "for cell in  boundaries_SL4[8]\n",
    "    println(\"A cell boundary looks like this:\")\n",
    "    for boundary in cell\n",
    "        print(\"\\n cell orbit: \")\n",
    "        print(boundary[\"orbit_standard_cell\"])\n",
    "        print(\"\\n Coset size: \")\n",
    "        print(length(boundary[\"orbit_coset_with_orientation\"]))\n",
    "    end\n",
    "    println()\n",
    "end"
   ]
  },
  {
   "cell_type": "markdown",
   "id": "89e24b7a",
   "metadata": {},
   "source": [
    "# SL_3 redone\n",
    "To check both the new code and the old results. At least the sizes of stabilisers etc coincide."
   ]
  },
  {
   "cell_type": "code",
   "execution_count": 43,
   "id": "1d5bad25",
   "metadata": {},
   "outputs": [
    {
     "data": {
      "text/plain": [
       "1-element Vector{Matrix{Int64}}:\n",
       " [1 0 … 1 1; 0 1 … 0 1; 0 0 … 1 1]"
      ]
     },
     "execution_count": 43,
     "metadata": {},
     "output_type": "execute_result"
    }
   ],
   "source": [
    "e1 = [1,0,0]\n",
    "e2 = [0,1,0]\n",
    "e3 = [0,0,1]\n",
    "e12 = [1,1,0]\n",
    "e13 = [1,0,1]\n",
    "e123 = [1,1,1]\n",
    "m2 = [e1 e2 e3] # standard\n",
    "m3_1 = [e1 e2 e3 e12] # 2-additive\n",
    "m3_2 = [e1 e2 e3 e123] # 3-additive\n",
    "m4 = [e1 e2 e3 e12 e13] # double-triple\n",
    "m5 = [e1 e2 e3 e12 e13 e123] # Q\n",
    "cells_SL3 = Dict()\n",
    "cells_SL3[2] = [m2]\n",
    "cells_SL3[3] = [m3_1,m3_2]\n",
    "cells_SL3[4] = [m4]\n",
    "cells_SL3[5] = [m5]"
   ]
  },
  {
   "cell_type": "code",
   "execution_count": 44,
   "id": "6ff70cbd",
   "metadata": {},
   "outputs": [],
   "source": [
    "stabilisers = Dict()\n",
    "for (dimension, cell_list) in cells_SL3\n",
    "    stabilisers_this_dimension = []\n",
    "    for cell in cell_list\n",
    "        push!(stabilisers_this_dimension,stabiliser_coset_with_orientation(cell,cell))\n",
    "    end\n",
    "    stabilisers[dimension] = stabilisers_this_dimension\n",
    "end"
   ]
  },
  {
   "cell_type": "code",
   "execution_count": 45,
   "id": "0338df0f",
   "metadata": {},
   "outputs": [],
   "source": [
    "boundaries_SL3 = Dict()\n",
    "for (dimension, cell_list) in cells_SL3\n",
    "    boundaries_this_dimension = []\n",
    "    for cell in cell_list\n",
    "        push!(boundaries_this_dimension,boundaries_in_group_ring_with_orientation(cell,cells_SL3))\n",
    "    end\n",
    "    boundaries_SL3[dimension] = boundaries_this_dimension\n",
    "end"
   ]
  },
  {
   "cell_type": "code",
   "execution_count": 46,
   "id": "532b1b13",
   "metadata": {},
   "outputs": [
    {
     "data": {
      "text/plain": [
       "Dict{Any, Any} with 4 entries:\n",
       "  5 => Any[Any[Dict{Any, Any}(\"sign\"=>1, \"orbit_coset_with_orientation\"=>Any[([…\n",
       "  4 => Any[Any[Dict{Any, Any}(\"sign\"=>1, \"orbit_coset_with_orientation\"=>Any[([…\n",
       "  2 => Any[Any[]]\n",
       "  3 => Any[Any[Dict{Any, Any}(\"sign\"=>1, \"orbit_coset_with_orientation\"=>Any[([…"
      ]
     },
     "execution_count": 46,
     "metadata": {},
     "output_type": "execute_result"
    }
   ],
   "source": [
    "boundaries_SL3"
   ]
  },
  {
   "cell_type": "code",
   "execution_count": 47,
   "id": "79b995b0",
   "metadata": {},
   "outputs": [
    {
     "name": "stdout",
     "output_type": "stream",
     "text": [
      "A cell boundary looks like this:\n",
      "\n",
      " cell orbit: 1\n",
      " Coset size: 24\n",
      " cell orbit: 1\n",
      " Coset size: 24\n",
      " cell orbit: 1\n",
      " Coset size: 24\n",
      "A cell boundary looks like this:\n",
      "\n",
      " cell orbit: 1\n",
      " Coset size: 24\n",
      " cell orbit: 1\n",
      " Coset size: 24\n",
      " cell orbit: 1\n",
      " Coset size: 24\n",
      " cell orbit: 1\n",
      " Coset size: 24\n"
     ]
    }
   ],
   "source": [
    "for cell in  boundaries_SL3[3]\n",
    "    println(\"A cell boundary looks like this:\")\n",
    "    for boundary in cell\n",
    "        print(\"\\n cell orbit: \")\n",
    "        print(boundary[\"orbit_standard_cell\"])\n",
    "        print(\"\\n Coset size: \")\n",
    "        print(length(boundary[\"orbit_coset_with_orientation\"]))\n",
    "    end\n",
    "    println()\n",
    "end"
   ]
  },
  {
   "cell_type": "code",
   "execution_count": 48,
   "id": "ca0ef882",
   "metadata": {},
   "outputs": [
    {
     "name": "stdout",
     "output_type": "stream",
     "text": [
      "A cell boundary looks like this:\n",
      "\n",
      " cell orbit: 2\n",
      " Coset size: 24\n",
      " cell orbit: 1\n",
      " Coset size: 12\n",
      " cell orbit: 1\n",
      " Coset size: 12\n",
      " cell orbit: 1\n",
      " Coset size: 12\n",
      " cell orbit: 1\n",
      " Coset size: 12\n"
     ]
    }
   ],
   "source": [
    "for cell in  boundaries_SL3[4]\n",
    "    println(\"A cell boundary looks like this:\")\n",
    "    for boundary in cell\n",
    "        print(\"\\n cell orbit: \")\n",
    "        print(boundary[\"orbit_standard_cell\"])\n",
    "        print(\"\\n Coset size: \")\n",
    "        print(length(boundary[\"orbit_coset_with_orientation\"]))\n",
    "    end\n",
    "    println()\n",
    "end"
   ]
  },
  {
   "cell_type": "code",
   "execution_count": 49,
   "id": "2047fd9c",
   "metadata": {},
   "outputs": [
    {
     "name": "stdout",
     "output_type": "stream",
     "text": [
      "A cell boundary looks like this:\n",
      "\n",
      " cell orbit: 1\n",
      " Coset size: 8\n",
      " cell orbit: 1\n",
      " Coset size: 8\n",
      " cell orbit: 1\n",
      " Coset size: 8\n",
      " cell orbit: 1\n",
      " Coset size: 8\n",
      " cell orbit: 1\n",
      " Coset size: 8\n",
      " cell orbit: 1\n",
      " Coset size: 8\n"
     ]
    }
   ],
   "source": [
    "for cell in  boundaries_SL3[5]\n",
    "    println(\"A cell boundary looks like this:\")\n",
    "    for boundary in cell\n",
    "        print(\"\\n cell orbit: \")\n",
    "        print(boundary[\"orbit_standard_cell\"])\n",
    "        print(\"\\n Coset size: \")\n",
    "        print(length(boundary[\"orbit_coset_with_orientation\"]))\n",
    "    end\n",
    "    println()\n",
    "end"
   ]
  },
  {
   "cell_type": "code",
   "execution_count": null,
   "id": "f74e8794",
   "metadata": {},
   "outputs": [],
   "source": []
  },
  {
   "cell_type": "code",
   "execution_count": null,
   "id": "cf429ee1",
   "metadata": {},
   "outputs": [],
   "source": []
  },
  {
   "cell_type": "code",
   "execution_count": null,
   "id": "1f372e54",
   "metadata": {},
   "outputs": [],
   "source": []
  }
 ],
 "metadata": {
  "kernelspec": {
   "display_name": "Julia 1.8.5",
   "language": "julia",
   "name": "julia-1.8"
  },
  "language_info": {
   "file_extension": ".jl",
   "mimetype": "application/julia",
   "name": "julia",
   "version": "1.8.5"
  }
 },
 "nbformat": 4,
 "nbformat_minor": 5
}
