{
 "cells": [
  {
   "cell_type": "markdown",
   "id": "d61888be",
   "metadata": {},
   "source": [
    "Notebook used for the compuation of the SL_4 chain complex. The SL_5 chain complex required optimising the code, so this is outdated. "
   ]
  },
  {
   "cell_type": "code",
   "execution_count": 1,
   "id": "6b46d56d",
   "metadata": {},
   "outputs": [
    {
     "name": "stderr",
     "output_type": "stream",
     "text": [
      "\u001b[32m\u001b[1m  Activating\u001b[22m\u001b[39m project at `~/HigherTSL3/SLnCohomology`\n"
     ]
    }
   ],
   "source": [
    "using Pkg\n",
    "Pkg.activate(normpath(joinpath(@__DIR__, \"../../\")))"
   ]
  },
  {
   "cell_type": "code",
   "execution_count": 2,
   "id": "c05207f3",
   "metadata": {},
   "outputs": [
    {
     "name": "stderr",
     "output_type": "stream",
     "text": [
      "\u001b[32m\u001b[1m    Updating\u001b[22m\u001b[39m registry at `~/.julia/registries/General.toml`\n"
     ]
    },
    {
     "name": "stderr",
     "output_type": "stream",
     "text": [
      "\u001b[32m\u001b[1m   Resolving\u001b[22m\u001b[39m package versions...\n"
     ]
    },
    {
     "name": "stderr",
     "output_type": "stream",
     "text": [
      "\u001b[32m\u001b[1m  No Changes\u001b[22m\u001b[39m to `~/HigherTSL3/SLnCohomology/Project.toml`\n",
      "\u001b[32m\u001b[1m  No Changes\u001b[22m\u001b[39m to `~/HigherTSL3/SLnCohomology/Manifest.toml`\n"
     ]
    },
    {
     "name": "stderr",
     "output_type": "stream",
     "text": [
      "\u001b[32m\u001b[1mPrecompiling\u001b[22m\u001b[39m project...\n"
     ]
    },
    {
     "name": "stderr",
     "output_type": "stream",
     "text": [
      "\u001b[32m  ✓ \u001b[39mSLnCohomology\n"
     ]
    },
    {
     "name": "stderr",
     "output_type": "stream",
     "text": [
      "  1 dependency successfully precompiled in 10 seconds. 140 already precompiled.\n"
     ]
    }
   ],
   "source": [
    "Pkg.add(\"Serialization\")"
   ]
  },
  {
   "cell_type": "code",
   "execution_count": 3,
   "id": "1295747b",
   "metadata": {},
   "outputs": [],
   "source": [
    "using LinearAlgebra\n",
    "using Combinatorics\n",
    "using Serialization"
   ]
  },
  {
   "cell_type": "markdown",
   "id": "9304cfbd",
   "metadata": {},
   "source": [
    "# Functions\n",
    "Should probably be moved to a separate file at some point."
   ]
  },
  {
   "cell_type": "code",
   "execution_count": 4,
   "id": "9e2270f7",
   "metadata": {},
   "outputs": [
    {
     "data": {
      "text/plain": [
       "signed_matrices (generic function with 1 method)"
      ]
     },
     "metadata": {},
     "output_type": "display_data"
    }
   ],
   "source": [
    "function signed_matrices(dimension)\n",
    "    # Returns all diagonal square \"sign matrices\" in dimension\n",
    "    signs_list = []\n",
    "    for set in powerset(1:dimension)\n",
    "        matrix = zeros(Int8,dimension,dimension)\n",
    "        for i in 1:dimension\n",
    "            if i in set\n",
    "                matrix[(i-1)*dimension+(i)] = -1\n",
    "            else\n",
    "                matrix[(i-1)*dimension+(i)] = 1\n",
    "            end\n",
    "        end\n",
    "        push!(signs_list,matrix)\n",
    "    end    \n",
    "    return signs_list\n",
    "end"
   ]
  },
  {
   "cell_type": "code",
   "execution_count": 5,
   "id": "e840b1dd",
   "metadata": {},
   "outputs": [
    {
     "data": {
      "text/plain": [
       "bases_in_integer_lattices (generic function with 1 method)"
      ]
     },
     "metadata": {},
     "output_type": "display_data"
    }
   ],
   "source": [
    "function bases_in_integer_lattices(matrix)\n",
    "    #= matrix an integer matrix whose columns form a basis of the lattice\n",
    "    returns all sets of bases, with all possible sign combinations \n",
    "    =#\n",
    "    bases = []\n",
    "    columns = collect(eachcol(matrix)) # set of all columns\n",
    "    dimension = length(columns[1])\n",
    "    sign_changes = signed_matrices(dimension)\n",
    "    for candidate in Combinatorics.permutations(columns,dimension) # all subsets of columns of with dimension-many elements\n",
    "        matrix_candidate = transpose(reduce(vcat,transpose.(candidate)))\n",
    "        if (round(det(matrix_candidate)) == 1) || (round(det(matrix_candidate)) == -1)\n",
    "            #if that's the case, candidate is a basis of Z^dimension\n",
    "            for sign in sign_changes\n",
    "                # each basis element can be multiplied by +-1. Add all combinations\n",
    "                push!(bases, matrix_candidate*sign)\n",
    "            end\n",
    "        end\n",
    "    end\n",
    "    return bases\n",
    "end"
   ]
  },
  {
   "cell_type": "code",
   "execution_count": 6,
   "id": "73eafc05",
   "metadata": {},
   "outputs": [
    {
     "data": {
      "text/plain": [
       "relative_orientation (generic function with 1 method)"
      ]
     },
     "metadata": {},
     "output_type": "display_data"
    }
   ],
   "source": [
    "function relative_orientation(matrix1,matrix2)\n",
    "    #= matrix1, matrix2 need to be integer matrices such that the set of lines spanned by the columns of \n",
    "        matrix1 is the same as that of matrix2\n",
    "        computes the orientation of the simplex spanned by the columns\n",
    "    =# \n",
    "    permutation = Int64[]\n",
    "    for vector in eachcol(matrix2)\n",
    "        vertex_index_in_matrix1 = 1\n",
    "        vector_is_column_of_matrix1 = false\n",
    "        for vector_standard in eachcol(matrix1)\n",
    "            if vector == vector_standard || -vector == vector_standard\n",
    "                push!(permutation,vertex_index_in_matrix1)\n",
    "                vector_is_column_of_matrix1 = true\n",
    "            end\n",
    "            vertex_index_in_matrix1 += 1\n",
    "        end\n",
    "        vector_is_column_of_matrix1 || error(\"matrix1 isn't a permutation of matrix2.\")\n",
    "    end\n",
    "    sign = Combinatorics.levicivita(permutation)\n",
    "    return sign\n",
    "end"
   ]
  },
  {
   "cell_type": "code",
   "execution_count": 7,
   "id": "352f9992",
   "metadata": {},
   "outputs": [
    {
     "data": {
      "text/plain": [
       "quadratic_form (generic function with 1 method)"
      ]
     },
     "metadata": {},
     "output_type": "display_data"
    }
   ],
   "source": [
    "function quadratic_form(matrix)\n",
    "    form = matrix*transpose(matrix)\n",
    "    return form\n",
    "end"
   ]
  },
  {
   "cell_type": "code",
   "execution_count": 8,
   "id": "aad574d9",
   "metadata": {},
   "outputs": [
    {
     "data": {
      "text/plain": [
       "stabiliser_coset_with_orientation (generic function with 1 method)"
      ]
     },
     "metadata": {},
     "output_type": "display_data"
    }
   ],
   "source": [
    "function stabiliser_coset_with_orientation(matrix1, matrix2)\n",
    "    #= \n",
    "    matrix1, matrix2 integer matrix whose columns form a basis of the lattice.\n",
    "    Returns all (g,orientation) such that g\\in SL_dimension(Z) sends the quadratic form associated to matrix1 to \n",
    "    the one associated to matrix 2 and orientation is the relative orientation of the corresponding simplices\n",
    "    =#\n",
    "    elements = []\n",
    "    dimension = size(matrix1)[1]\n",
    "    quadratic_form1 = quadratic_form(matrix1) # the quadratic form associated to the lattice\n",
    "    quadratic_form2 = quadratic_form(matrix2) # the quadratic form associated to the lattice\n",
    "    bases_in_image = bases_in_integer_lattices(matrix2) # bases in the image\n",
    "    basis_in_matrix_1 = bases_in_integer_lattices(matrix1)[1] # a fixed basis in the domain\n",
    "    basis_in_matrix_1_inverse = Int.(basis_in_matrix_1^(-1))  #inverse as integer matrix\n",
    "    for basis in bases_in_image\n",
    "        g_transpose = basis*basis_in_matrix_1_inverse # this sends the fixed basis_in_matrix_1 to basis in matrix2\n",
    "        if round(det(g_transpose)) == 1\n",
    "            # then it lies in SL\n",
    "            g = transpose(g_transpose)\n",
    "            if (g_transpose*quadratic_form1*g == quadratic_form2) # then g sends the first form to the second one\n",
    "                orientation = relative_orientation(g_transpose*matrix1,matrix2)\n",
    "                # this is the relative orientation of g.first cell compared to second cell\n",
    "                push!(elements, (g,orientation))\n",
    "            end\n",
    "        end\n",
    "    end\n",
    "    return elements\n",
    "end"
   ]
  },
  {
   "cell_type": "code",
   "execution_count": 9,
   "id": "0e88dc25",
   "metadata": {},
   "outputs": [
    {
     "data": {
      "text/plain": [
       "same_orbit (generic function with 1 method)"
      ]
     },
     "metadata": {},
     "output_type": "display_data"
    }
   ],
   "source": [
    "function same_orbit(matrix1,matrix2)\n",
    "    #= Checks whether matrix1 lies in the SL_n orbit as matrix2\n",
    "    =#\n",
    "    if length(stabiliser_coset_with_orientation(matrix1,matrix2)) > 0\n",
    "        return true\n",
    "    else\n",
    "        return false\n",
    "    end\n",
    "end"
   ]
  },
  {
   "cell_type": "code",
   "execution_count": 10,
   "id": "1cc1dbd3",
   "metadata": {},
   "outputs": [
    {
     "data": {
      "text/plain": [
       "orbit_in_list (generic function with 1 method)"
      ]
     },
     "metadata": {},
     "output_type": "display_data"
    }
   ],
   "source": [
    "function orbit_in_list(matrix,list)\n",
    "    #= Checks whether matrix lies in the SL_n orbit of one of the elements in list\n",
    "    =#\n",
    "    for matrix2 in list\n",
    "        if same_orbit(matrix,matrix2)\n",
    "            return true\n",
    "        end\n",
    "    end\n",
    "    return false\n",
    "end"
   ]
  },
  {
   "cell_type": "code",
   "execution_count": 11,
   "id": "6c31ed4c",
   "metadata": {},
   "outputs": [
    {
     "data": {
      "text/plain": [
       "cell_in_interior (generic function with 1 method)"
      ]
     },
     "metadata": {},
     "output_type": "display_data"
    }
   ],
   "source": [
    "function cell_in_interior(matrix)\n",
    "    #= check whether the matrix determines a cell in the interior of the symmetric space\n",
    "    =#\n",
    "    if length(bases_in_integer_lattices(matrix))>0\n",
    "        return true\n",
    "    else\n",
    "        return false\n",
    "    end\n",
    "end"
   ]
  },
  {
   "cell_type": "code",
   "execution_count": 12,
   "id": "f2256581",
   "metadata": {},
   "outputs": [
    {
     "data": {
      "text/plain": [
       "boundaries_in_group_ring_with_orientation (generic function with 1 method)"
      ]
     },
     "metadata": {},
     "output_type": "display_data"
    }
   ],
   "source": [
    "function boundaries_in_group_ring_with_orientation(matrix,cell_dictionary)\n",
    "    #= cell dictionary should have the cells of the complex\n",
    "    This only works if the cells are simplicial!\n",
    "    =#\n",
    "    boundary_cells = []\n",
    "    cell_dimension = size(matrix)[2] - 1 # only true if the cell is simplicial\n",
    "    for j in 1:size(matrix)[2]\n",
    "        sign = (-1)^(j-1) # the sign of the differential\n",
    "        boundary = matrix[begin:end,begin:end .!=j] # exclude the j-th column\n",
    "        if cell_in_interior(boundary)\n",
    "            boundary_information = Dict()\n",
    "            boundary_information[\"sign\"] = sign\n",
    "            for cell_index in 1:length(cell_dictionary[cell_dimension-1])\n",
    "                # check in the list of codimension 1 cells which orbit we have\n",
    "                standard_cell = cell_dictionary[cell_dimension-1][cell_index]\n",
    "                if same_orbit(standard_cell,boundary)\n",
    "                    boundary_information[\"orbit_standard_cell\"] = cell_index\n",
    "                    boundary_information[\"orbit_coset_with_orientation\"] = stabiliser_coset_with_orientation(standard_cell,boundary)\n",
    "                end\n",
    "            end\n",
    "            push!(boundary_cells,boundary_information)\n",
    "        end\n",
    "    end\n",
    "    return boundary_cells\n",
    "end"
   ]
  },
  {
   "cell_type": "markdown",
   "id": "d9e53587",
   "metadata": {},
   "source": [
    "# The SL_4 data"
   ]
  },
  {
   "cell_type": "markdown",
   "id": "fe73de3d",
   "metadata": {},
   "source": [
    "## GL_4 orbits in dimension >5\n",
    "Originally got this data from a meeting with Dan Yasaki at BIRS."
   ]
  },
  {
   "cell_type": "code",
   "execution_count": 13,
   "id": "f4e6806b",
   "metadata": {},
   "outputs": [
    {
     "data": {
      "text/plain": [
       "13-element Vector{Vector{Int64}}:\n",
       " [0, 0, 0, 1]\n",
       " [0, 0, 1, -1]\n",
       " [0, 0, 1, 0]\n",
       " [0, 1, -1, 0]\n",
       " [0, 1, 0, -1]\n",
       " [0, 1, 0, 0]\n",
       " [0, 1, 1, -1]\n",
       " [1, -1, 0, 0]\n",
       " [1, 0, -1, 0]\n",
       " [1, 0, 0, -1]\n",
       " [1, 0, 0, 0]\n",
       " [1, 0, 1, -1]\n",
       " [1, 1, 0, -1]"
      ]
     },
     "metadata": {},
     "output_type": "display_data"
    }
   ],
   "source": [
    "# list of vertices\n",
    "vertices_Voronoi_4 = [[ 0, 0, 0, 1 ],\n",
    "[ 0, 0, 1, -1 ],\n",
    "[ 0, 0, 1, 0 ],\n",
    "[ 0, 1, -1, 0 ],\n",
    "[ 0, 1, 0, -1 ],\n",
    "[ 0, 1, 0, 0 ],\n",
    "[ 0, 1, 1, -1 ],\n",
    "[ 1, -1, 0, 0 ],\n",
    "[ 1, 0, -1, 0 ],\n",
    "[ 1, 0, 0, -1 ],\n",
    "[ 1, 0, 0, 0 ],\n",
    "[ 1, 0, 1, -1 ],\n",
    "[ 1, 1, 0, -1 ]\n",
    "]"
   ]
  },
  {
   "cell_type": "markdown",
   "id": "81ce31d2",
   "metadata": {},
   "source": [
    "Number of orbits of simplices of different types, starting from lowest dimension 3 up to highest dimension 9:\n",
    "\n",
    "[1, 3, 4, 4, 2, 2, 2]\n",
    "\n",
    "This only includes those cells that intersect the interior of the symmetric space non-trivially."
   ]
  },
  {
   "cell_type": "code",
   "execution_count": 14,
   "id": "952f4f8b",
   "metadata": {},
   "outputs": [
    {
     "data": {
      "text/plain": [
       "2-element Vector{Matrix{Int64}}:\n",
       " [0 0 … 1 1; 0 1 … 0 1; 1 0 … 0 0; 0 -1 … 0 -1]\n",
       " [0 0 … 1 1; 0 1 … 0 1; 1 0 … 1 0; 0 0 … -1 -1]"
      ]
     },
     "metadata": {},
     "output_type": "display_data"
    }
   ],
   "source": [
    "# types of 6-dimensional simplices for GL_4:\n",
    "index6_1 = [3,5,6,7,8,9,10]\n",
    "type6_1 = reduce(hcat,[vertices_Voronoi_4[index] for index in index6_1])\n",
    "index6_2 = [3,5,6,8,9,10,11]\n",
    "type6_2 = reduce(hcat,[vertices_Voronoi_4[index] for index in index6_2])\n",
    "index6_3 = [3,5,6,8,10,11,13]\n",
    "type6_3 = reduce(hcat,[vertices_Voronoi_4[index] for index in index6_3])\n",
    "index6_4 = [3,5,6,8,9,11,13]\n",
    "type6_4 = reduce(hcat,[vertices_Voronoi_4[index] for index in index6_4])\n",
    "\n",
    "# types of 7-dimensional simplices for GL_4:\n",
    "index7_1 = [3,5,6,7,8,9,10,11]\n",
    "type7_1 = reduce(hcat,[vertices_Voronoi_4[index] for index in index7_1])\n",
    "index7_2 = [3,5,6,8,9,10,11,13]\n",
    "type7_2 = reduce(hcat,[vertices_Voronoi_4[index] for index in index7_2])\n",
    "\n",
    "# types of 8-dimensional simplices for GL_4:\n",
    "index8_1 = [3,5,6,7,8,9,10,11,13]\n",
    "type8_1 = reduce(hcat,[vertices_Voronoi_4[index] for index in index8_1])\n",
    "index8_2 = [3,6,7,8,9,10,11,12,13]\n",
    "type8_2 = reduce(hcat,[vertices_Voronoi_4[index] for index in index8_2])\n",
    "\n",
    "# 9-dimensional simplices missing for now (one of them non-simplicial)\n",
    "\n",
    "cells_GL4 = Dict()\n",
    "cells_GL4[6] = [type6_1,type6_2,type6_3,type6_4]\n",
    "cells_GL4[7] = [type7_1,type7_2]\n",
    "cells_GL4[8] = [type8_1,type8_2]"
   ]
  },
  {
   "cell_type": "code",
   "execution_count": 15,
   "id": "67080926",
   "metadata": {},
   "outputs": [
    {
     "name": "stdout",
     "output_type": "stream",
     "text": [
      "23.99999999999999\n",
      "20.999999999999996\n",
      "16.0\n",
      "19.999999999999996\n",
      "45.00000000000001\n",
      "40.0\n",
      "74.99999999999997\n",
      "80.99999999999999\n"
     ]
    }
   ],
   "source": [
    "# Actually, the forms here also seem to be determined by the their determinant.\n",
    "# However, I don't use this below (reduce speed but avoid potential problems)\n",
    "for (dimension,cells) in cells_GL4\n",
    "    for cell in cells\n",
    "        println(det(quadratic_form(cell)))\n",
    "    end\n",
    "end"
   ]
  },
  {
   "cell_type": "markdown",
   "id": "066f18c5",
   "metadata": {},
   "source": [
    "## Add SL orbits for dimension >5"
   ]
  },
  {
   "cell_type": "code",
   "execution_count": 16,
   "id": "66f82d08",
   "metadata": {},
   "outputs": [
    {
     "data": {
      "text/plain": [
       "2-element Vector{Matrix{Int64}}:\n",
       " [0 0 … 1 1; 0 1 … 0 1; 1 0 … 0 0; 0 -1 … 0 -1]\n",
       " [0 0 … 1 1; 0 1 … 0 1; 1 0 … 1 0; 0 0 … -1 -1]"
      ]
     },
     "metadata": {},
     "output_type": "display_data"
    }
   ],
   "source": [
    "cells_SL4 = Dict()\n",
    "cells_SL4[6] = [type6_1,type6_2,type6_3,type6_4]\n",
    "cells_SL4[7] = [type7_1,type7_2]\n",
    "cells_SL4[8] = [type8_1,type8_2]"
   ]
  },
  {
   "cell_type": "code",
   "execution_count": 17,
   "id": "c9faf5c7",
   "metadata": {},
   "outputs": [
    {
     "data": {
      "text/plain": [
       "4×4 Matrix{Int64}:\n",
       " -1  0  0  0\n",
       "  0  1  0  0\n",
       "  0  0  1  0\n",
       "  0  0  0  1"
      ]
     },
     "metadata": {},
     "output_type": "display_data"
    }
   ],
   "source": [
    "flip_matrix = [-1 0 0 0; 0 1 0 0; 0 0 1 0; 0 0 0 1]\n",
    "# multiplying with this matrix gives the potential second SL_n orbit contained in a GL_n orbit"
   ]
  },
  {
   "cell_type": "code",
   "execution_count": 18,
   "id": "16acadc2",
   "metadata": {},
   "outputs": [],
   "source": [
    "for (dimension,cells) in cells_GL4\n",
    "    for cell in cells\n",
    "        SL_orbit = flip_matrix*cell\n",
    "        # check whether its in the orbit of one of the other cells\n",
    "        if ! orbit_in_list(SL_orbit,cells_SL4[dimension])\n",
    "            push!(cells_SL4[dimension],SL_orbit)\n",
    "        end         \n",
    "    end\n",
    "end"
   ]
  },
  {
   "cell_type": "code",
   "execution_count": 19,
   "id": "f72de145",
   "metadata": {},
   "outputs": [
    {
     "data": {
      "text/plain": [
       "Dict{Any, Any} with 3 entries:\n",
       "  6 => [[0 0 … 1 1; 0 1 … 0 0; 1 0 … -1 0; 0 -1 … 0 -1], [0 0 … 1 1; 0 1 … 0 0;…\n",
       "  7 => [[0 0 … 1 1; 0 1 … 0 0; 1 0 … 0 0; 0 -1 … -1 0], [0 0 … 1 1; 0 1 … 0 1; …\n",
       "  8 => [[0 0 … 1 1; 0 1 … 0 1; 1 0 … 0 0; 0 -1 … 0 -1], [0 0 … 1 1; 0 1 … 0 1; …"
      ]
     },
     "metadata": {},
     "output_type": "display_data"
    }
   ],
   "source": [
    "cells_SL4"
   ]
  },
  {
   "cell_type": "code",
   "execution_count": 20,
   "id": "02b2e993",
   "metadata": {},
   "outputs": [
    {
     "data": {
      "text/plain": [
       "4-element Vector{Matrix{Int64}}:\n",
       " [0 0 … 1 1; 0 1 … 0 0; 1 0 … -1 0; 0 -1 … 0 -1]\n",
       " [0 0 … 1 1; 0 1 … 0 0; 1 0 … 0 0; 0 -1 … -1 0]\n",
       " [0 0 … 1 1; 0 1 … 0 1; 1 0 … 0 0; 0 -1 … 0 -1]\n",
       " [0 0 … 1 1; 0 1 … 0 1; 1 0 … 0 0; 0 -1 … 0 -1]"
      ]
     },
     "metadata": {},
     "output_type": "display_data"
    }
   ],
   "source": [
    "cells_SL4[6]"
   ]
  },
  {
   "cell_type": "code",
   "execution_count": 21,
   "id": "df757cf2",
   "metadata": {},
   "outputs": [
    {
     "data": {
      "text/plain": [
       "2-element Vector{Matrix{Int64}}:\n",
       " [0 0 … 1 1; 0 1 … 0 0; 1 0 … 0 0; 0 -1 … -1 0]\n",
       " [0 0 … 1 1; 0 1 … 0 1; 1 0 … 0 0; 0 -1 … 0 -1]"
      ]
     },
     "metadata": {},
     "output_type": "display_data"
    }
   ],
   "source": [
    "cells_SL4[7]"
   ]
  },
  {
   "cell_type": "code",
   "execution_count": 22,
   "id": "f4a81e76",
   "metadata": {},
   "outputs": [
    {
     "data": {
      "text/plain": [
       "2-element Vector{Matrix{Int64}}:\n",
       " [0 0 … 1 1; 0 1 … 0 1; 1 0 … 0 0; 0 -1 … 0 -1]\n",
       " [0 0 … 1 1; 0 1 … 0 1; 1 0 … 1 0; 0 0 … -1 -1]"
      ]
     },
     "metadata": {},
     "output_type": "display_data"
    }
   ],
   "source": [
    "cells_SL4[8]"
   ]
  },
  {
   "cell_type": "markdown",
   "id": "a75e2f6c",
   "metadata": {},
   "source": [
    "Maye a bit surprising: There seem to be no new SL_n orbits."
   ]
  },
  {
   "cell_type": "markdown",
   "id": "c881e201",
   "metadata": {},
   "source": [
    "### Some sanity checks here"
   ]
  },
  {
   "cell_type": "code",
   "execution_count": 23,
   "id": "8f26bae6",
   "metadata": {},
   "outputs": [
    {
     "data": {
      "text/plain": [
       "4×7 Matrix{Int64}:\n",
       " 0   0  0   0   1   1   1\n",
       " 0   1  1   1  -1   0   0\n",
       " 1   0  0   1   0  -1   0\n",
       " 0  -1  0  -1   0   0  -1"
      ]
     },
     "metadata": {},
     "output_type": "display_data"
    }
   ],
   "source": [
    "unflipped_matrix = cells_SL4[6][1]"
   ]
  },
  {
   "cell_type": "code",
   "execution_count": 24,
   "id": "3704eae1",
   "metadata": {},
   "outputs": [
    {
     "data": {
      "text/plain": [
       "4×7 Matrix{Int64}:\n",
       " 0   0  0   0  -1  -1  -1\n",
       " 0   1  1   1  -1   0   0\n",
       " 1   0  0   1   0  -1   0\n",
       " 0  -1  0  -1   0   0  -1"
      ]
     },
     "metadata": {},
     "output_type": "display_data"
    }
   ],
   "source": [
    "flipped_matrix = flip_matrix*unflipped_matrix"
   ]
  },
  {
   "cell_type": "code",
   "execution_count": 25,
   "id": "7c70771e",
   "metadata": {},
   "outputs": [
    {
     "data": {
      "text/plain": [
       "4×4 transpose(::Matrix{Int64}) with eltype Int64:\n",
       "  0   1  -1  0\n",
       " -1   0   1  0\n",
       "  0   0   1  0\n",
       " -1  -1   1  1"
      ]
     },
     "metadata": {},
     "output_type": "display_data"
    }
   ],
   "source": [
    "g = stabiliser_coset_with_orientation(flipped_matrix, unflipped_matrix)[1][1]"
   ]
  },
  {
   "cell_type": "code",
   "execution_count": 26,
   "id": "891cdbdd",
   "metadata": {},
   "outputs": [
    {
     "data": {
      "text/plain": [
       "1.0"
      ]
     },
     "metadata": {},
     "output_type": "display_data"
    }
   ],
   "source": [
    "det(g)"
   ]
  },
  {
   "cell_type": "code",
   "execution_count": 27,
   "id": "4c8fe58d",
   "metadata": {},
   "outputs": [
    {
     "data": {
      "text/plain": [
       "4×7 Matrix{Int64}:\n",
       " 0   0  -1   0   1   0   1\n",
       " 0   1   0   1  -1  -1   0\n",
       " 1   0   1   1   0   0   0\n",
       " 0  -1   0  -1   0   0  -1"
      ]
     },
     "metadata": {},
     "output_type": "display_data"
    }
   ],
   "source": [
    "transpose(g)*flipped_matrix"
   ]
  },
  {
   "cell_type": "code",
   "execution_count": 28,
   "id": "e9c3ec21",
   "metadata": {},
   "outputs": [],
   "source": []
  },
  {
   "cell_type": "markdown",
   "id": "45963190",
   "metadata": {},
   "source": [
    "## Compute lower dimensional cells"
   ]
  },
  {
   "cell_type": "code",
   "execution_count": 29,
   "id": "e9a8472d",
   "metadata": {},
   "outputs": [
    {
     "data": {
      "text/plain": [
       "4-element Vector{Matrix{Int64}}:\n",
       " [0 0 … 1 1; 1 1 … 0 0; 0 0 … -1 0; -1 0 … 0 -1]\n",
       " [0 0 … 1 1; 0 1 … 0 0; 1 0 … -1 0; 0 0 … 0 -1]\n",
       " [0 0 … 1 1; 0 1 … 0 0; 1 0 … -1 0; 0 -1 … 0 -1]\n",
       " [0 0 … 1 1; 0 1 … 0 0; 1 0 … 0 0; 0 -1 … -1 0]"
      ]
     },
     "metadata": {},
     "output_type": "display_data"
    }
   ],
   "source": [
    "cell_orbits_in_dimension_5 = Matrix{Int64}[]\n",
    "for higher_cell in cells_SL4[6]\n",
    "    for j in 1:size(higher_cell)[2]\n",
    "        boundary = higher_cell[begin:end,begin:end .!=j] # exclude the j-th column\n",
    "        if cell_in_interior(boundary)\n",
    "            # only go on if it lies in the interior of the symmetric space\n",
    "            if !orbit_in_list(boundary,cell_orbits_in_dimension_5)\n",
    "                push!(cell_orbits_in_dimension_5,boundary)\n",
    "            end\n",
    "        end\n",
    "    end\n",
    "end\n",
    "cells_SL4[5] = cell_orbits_in_dimension_5"
   ]
  },
  {
   "cell_type": "code",
   "execution_count": 30,
   "id": "17d0e990",
   "metadata": {},
   "outputs": [
    {
     "data": {
      "text/plain": [
       "3-element Vector{Matrix{Int64}}:\n",
       " [0 0 … 1 1; 1 1 … 0 0; 0 1 … -1 0; 0 -1 … 0 -1]\n",
       " [0 0 … 1 1; 1 1 … 0 0; 0 1 … -1 0; -1 -1 … 0 -1]\n",
       " [0 0 … 1 1; 1 1 … -1 0; 0 0 … 0 -1; -1 0 … 0 0]"
      ]
     },
     "metadata": {},
     "output_type": "display_data"
    }
   ],
   "source": [
    "cell_orbits_in_dimension_4 = Matrix{Int64}[]\n",
    "for higher_cell in cells_SL4[5]\n",
    "    for j in 1:size(higher_cell)[2]\n",
    "        boundary = higher_cell[begin:end,begin:end .!=j] # exclude the j-th column\n",
    "        if cell_in_interior(boundary)\n",
    "            # only go on if it lies in the interior of the symmetric space\n",
    "            if !orbit_in_list(boundary,cell_orbits_in_dimension_4)\n",
    "                push!(cell_orbits_in_dimension_4,boundary)\n",
    "            end\n",
    "        end\n",
    "    end\n",
    "end\n",
    "cells_SL4[4] = cell_orbits_in_dimension_4"
   ]
  },
  {
   "cell_type": "code",
   "execution_count": 31,
   "id": "38729731",
   "metadata": {},
   "outputs": [
    {
     "data": {
      "text/plain": [
       "1-element Vector{Matrix{Int64}}:\n",
       " [0 1 1 1; 1 -1 0 0; 1 0 -1 0; -1 0 0 -1]"
      ]
     },
     "metadata": {},
     "output_type": "display_data"
    }
   ],
   "source": [
    "cell_orbits_in_dimension_3 = Matrix{Int64}[]\n",
    "for higher_cell in cells_SL4[4]\n",
    "    for j in 1:size(higher_cell)[2]\n",
    "        boundary = higher_cell[begin:end,begin:end .!=j] # exclude the j-th column\n",
    "        if cell_in_interior(boundary)\n",
    "            # only go on if it lies in the interior of the symmetric space\n",
    "            if !orbit_in_list(boundary,cell_orbits_in_dimension_3)\n",
    "                push!(cell_orbits_in_dimension_3,boundary)\n",
    "            end\n",
    "        end\n",
    "    end\n",
    "end\n",
    "cells_SL4[3] = cell_orbits_in_dimension_3"
   ]
  },
  {
   "cell_type": "markdown",
   "id": "4ff0efb1",
   "metadata": {},
   "source": [
    "Also here, the SL_4 orbits seem to be the same as the GL_4 orbits"
   ]
  },
  {
   "cell_type": "code",
   "execution_count": 32,
   "id": "22d4a704",
   "metadata": {},
   "outputs": [],
   "source": [
    "# export the cells to redo computations with the SL_5 code\n",
    "serialize(joinpath(@__DIR__, \"./sl4_cells.sjl\"), cells_SL4)"
   ]
  },
  {
   "cell_type": "markdown",
   "id": "3e644df7",
   "metadata": {},
   "source": [
    "# Stabilisers"
   ]
  },
  {
   "cell_type": "code",
   "execution_count": 33,
   "id": "5962123d",
   "metadata": {},
   "outputs": [],
   "source": [
    "stabilisers = Dict()\n",
    "for (dimension, cell_list) in cells_SL4\n",
    "    stabilisers_this_dimension = []\n",
    "    for cell in cell_list\n",
    "        push!(stabilisers_this_dimension,stabiliser_coset_with_orientation(cell,cell))\n",
    "    end\n",
    "    stabilisers[dimension] = stabilisers_this_dimension\n",
    "end"
   ]
  },
  {
   "cell_type": "code",
   "execution_count": 32,
   "id": "587b46b0",
   "metadata": {},
   "outputs": [
    {
     "name": "stdout",
     "output_type": "stream",
     "text": [
      "\n",
      " Dimension 5\n",
      "\n",
      "Stabiliser size: 12\n",
      "The stabiliser preserves the orientation.\n",
      "Stabiliser size: 48\n",
      "The stabiliser can revert the orientation.\n",
      "Stabiliser size: 16\n",
      "The stabiliser can revert the orientation.\n",
      "Stabiliser size: 144\n",
      "The stabiliser can revert the orientation.\n",
      "\n",
      " Dimension 4\n",
      "\n",
      "Stabiliser size: 48\n",
      "The stabiliser can revert the orientation.\n",
      "Stabiliser size: 48\n",
      "The stabiliser can revert the orientation.\n",
      "Stabiliser size: 120\n",
      "The stabiliser preserves the orientation.\n",
      "\n",
      " Dimension 6\n",
      "\n",
      "Stabiliser size: 8\n",
      "The stabiliser can revert the orientation.\n",
      "Stabiliser size: 8\n",
      "The stabiliser can revert the orientation.\n",
      "Stabiliser size: 48\n",
      "The stabiliser preserves the orientation.\n",
      "Stabiliser size: 48\n",
      "The stabiliser can revert the orientation.\n",
      "\n",
      " Dimension 7\n",
      "\n",
      "Stabiliser size: 8\n",
      "The stabiliser can revert the orientation.\n",
      "Stabiliser size: 8\n",
      "The stabiliser can revert the orientation.\n",
      "\n",
      " Dimension 8\n",
      "\n",
      "Stabiliser size: 12\n",
      "The stabiliser preserves the orientation.\n",
      "Stabiliser size: 72\n",
      "The stabiliser can revert the orientation.\n",
      "\n",
      " Dimension 3\n",
      "\n",
      "Stabiliser size: 192\n",
      "The stabiliser can revert the orientation.\n"
     ]
    }
   ],
   "source": [
    "for (dim,cells) in stabilisers\n",
    "    println(\"\\n Dimension $dim\\n\")\n",
    "    for cell in cells\n",
    "        size = length(cell)\n",
    "        println(\"Stabiliser size: $size\")\n",
    "        preserves_orientation = true\n",
    "        for element in cell\n",
    "            if element[2] == -1\n",
    "                preserves_orientation = false\n",
    "            end\n",
    "        end\n",
    "        if preserves_orientation\n",
    "            println(\"The stabiliser preserves the orientation.\")\n",
    "        else\n",
    "            println(\"The stabiliser can revert the orientation.\")\n",
    "        end\n",
    "    end\n",
    "end"
   ]
  },
  {
   "cell_type": "markdown",
   "id": "8d07d91e",
   "metadata": {},
   "source": [
    "# Boundaries"
   ]
  },
  {
   "cell_type": "code",
   "execution_count": 34,
   "id": "82cc3d30",
   "metadata": {},
   "outputs": [],
   "source": [
    "boundaries_SL4 = Dict()\n",
    "for (dimension, cell_list) in cells_SL4\n",
    "    boundaries_this_dimension = []\n",
    "    for cell in cell_list\n",
    "        push!(boundaries_this_dimension,boundaries_in_group_ring_with_orientation(cell,cells_SL4))\n",
    "    end\n",
    "    boundaries_SL4[dimension] = boundaries_this_dimension\n",
    "end"
   ]
  },
  {
   "cell_type": "code",
   "execution_count": 35,
   "id": "61cea4b7",
   "metadata": {
    "scrolled": true
   },
   "outputs": [
    {
     "data": {
      "text/plain": [
       "Dict{Any, Any} with 6 entries:\n",
       "  5 => Any[Any[Dict{Any, Any}(\"sign\"=>1, \"orbit_coset_with_orientation\"=>Any[([…\n",
       "  4 => Any[Any[Dict{Any, Any}(\"sign\"=>1, \"orbit_coset_with_orientation\"=>Any[([…\n",
       "  6 => Any[Any[Dict{Any, Any}(\"sign\"=>1, \"orbit_coset_with_orientation\"=>Any[([…\n",
       "  7 => Any[Any[Dict{Any, Any}(\"sign\"=>1, \"orbit_coset_with_orientation\"=>Any[([…\n",
       "  8 => Any[Any[Dict{Any, Any}(\"sign\"=>1, \"orbit_coset_with_orientation\"=>Any[([…\n",
       "  3 => Any[Any[]]"
      ]
     },
     "metadata": {},
     "output_type": "display_data"
    }
   ],
   "source": [
    "boundaries_SL4"
   ]
  },
  {
   "cell_type": "code",
   "execution_count": 36,
   "id": "1a0bb140",
   "metadata": {},
   "outputs": [],
   "source": [
    "sl4_data = Dict()\n",
    "sl4_data[\"boundaries\"] = boundaries_SL4\n",
    "sl4_data[\"stabilisers\"] = stabilisers;"
   ]
  },
  {
   "cell_type": "code",
   "execution_count": 37,
   "id": "e8e770a7",
   "metadata": {},
   "outputs": [],
   "source": [
    "serialize(joinpath(@__DIR__, \"../../scripts/differentials_computation/precomputed_boundaries/sl4_bound_stab_old.sjl\"), sl4_data)"
   ]
  },
  {
   "cell_type": "code",
   "execution_count": 38,
   "id": "4219398d",
   "metadata": {},
   "outputs": [
    {
     "data": {
      "text/plain": [
       "3-element Vector{Any}:\n",
       " Dict{Any, Any}(\"sign\" => 1, \"orbit_coset_with_orientation\" => Any[([1 0 0 0; 0 1 0 0; 0 0 1 0; 0 0 0 1], 1), ([-1 0 -2 2; 0 -1 -2 2; -2 0 -1 2; -2 0 -2 3], 1), ([-1 -2 0 2; -2 -1 0 2; 0 -2 -1 2; -2 -2 0 3], 1), ([3 -2 -2 0; 2 -1 -2 0; 2 -2 -1 0; 4 -2 -2 -1], 1), ([-3 2 2 0; -2 1 2 0; -2 2 1 0; -4 2 2 1], 1), ([1 2 0 -2; 2 1 0 -2; 0 2 1 -2; 2 2 0 -3], 1), ([1 0 2 -2; 0 1 2 -2; 2 0 1 -2; 2 0 2 -3], 1), ([-1 0 0 0; 0 -1 0 0; 0 0 -1 0; 0 0 0 -1], 1), ([1 -2 0 0; 0 -1 0 0; 0 -2 0 1; 0 -2 1 0], -1), ([-1 2 2 -2; 0 1 2 -2; -2 2 2 -1; -2 2 3 -2], -1)  …  ([1 -2 -2 2; 0 -2 -1 2; 1 -1 -1 1; 2 -3 -2 2], -1), ([1 -2 0 0; 2 -2 -1 0; 1 -1 1 -1; 2 -3 0 0], -1), ([3 -2 -2 0; 2 -2 -1 0; 2 -1 -2 0; 3 -3 -3 1], 1), ([-1 -2 0 2; 0 -2 -1 2; -2 -1 0 2; -1 -3 -1 3], 1), ([-1 0 -2 2; -2 0 -1 2; 0 -1 -2 2; -1 -1 -3 3], 1), ([1 0 0 0; 0 0 1 0; 0 1 0 0; 1 1 1 -1], 1), ([-1 0 0 0; 0 0 -1 0; 0 -1 0 0; -1 -1 -1 1], 1), ([1 0 2 -2; 2 0 1 -2; 0 1 2 -2; 1 1 3 -3], 1), ([1 2 0 -2; 0 2 1 -2; 2 1 0 -2; 1 3 1 -3], 1), ([-3 2 2 0; -2 2 1 0; -2 1 2 0; -3 3 3 -1], 1)], \"orbit_standard_cell\" => 1)\n",
       " Dict{Any, Any}(\"sign\" => 1, \"orbit_coset_with_orientation\" => Any[([0 2 0 -1; 0 1 -1 0; -1 2 1 -1; -1 2 0 0], 1), ([0 -2 -2 3; 0 -1 -1 2; -1 -2 -1 3; -1 -2 -2 4], 1), ([-2 0 2 1; -2 -1 1 2; -1 0 1 1; -3 0 2 2], 1), ([2 0 0 -1; 2 -1 -1 0; 1 0 1 -1; 3 0 0 -2], 1), ([-2 0 0 1; -2 1 1 0; -1 0 -1 1; -3 0 0 2], 1), ([2 0 -2 -1; 2 1 -1 -2; 1 0 -1 -1; 3 0 -2 -2], 1), ([0 2 2 -3; 0 1 1 -2; 1 2 1 -3; 1 2 2 -4], 1), ([0 -2 0 1; 0 -1 1 0; 1 -2 -1 1; 1 -2 0 0], 1), ([0 0 2 -1; 0 -1 1 0; -1 0 2 0; -1 0 3 -1], -1), ([0 0 0 -1; 0 1 1 -2; -1 0 0 0; -1 0 1 -1], -1)  …  ([0 0 0 1; -1 0 1 1; 0 1 0 0; 0 1 1 0], -1), ([0 0 2 -1; 1 0 1 -1; 0 1 2 -2; 0 1 3 -2], -1), ([2 0 0 -1; 1 0 1 -1; 2 -1 -1 0; 2 -1 0 0], 1), ([-2 0 2 1; -1 0 1 1; -2 -1 1 2; -2 -1 2 2], 1), ([0 -2 -2 3; -1 -2 -1 3; 0 -1 -1 2; 0 -3 -2 4], 1), ([0 2 0 -1; -1 2 1 -1; 0 1 -1 0; 0 3 0 -2], 1), ([0 -2 0 1; 1 -2 -1 1; 0 -1 1 0; 0 -3 0 2], 1), ([0 2 2 -3; 1 2 1 -3; 0 1 1 -2; 0 3 2 -4], 1), ([2 0 -2 -1; 1 0 -1 -1; 2 1 -1 -2; 2 1 -2 -2], 1), ([-2 0 0 1; -1 0 -1 1; -2 1 1 0; -2 1 0 0], 1)], \"orbit_standard_cell\" => 1)\n",
       " Dict{Any, Any}(\"sign\" => 1, \"orbit_coset_with_orientation\" => Any[([0 -1 2 0; 0 -2 1 1; -1 0 2 0; -1 -1 3 0], 1), ([0 -1 0 0; 0 0 1 -1; -1 0 0 0; -1 -1 1 0], 1), ([-2 3 2 -2; -2 2 1 -1; -1 2 2 -2; -3 3 3 -2], 1), ([2 1 0 -2; 2 0 -1 -1; 1 2 0 -2; 3 1 -1 -2], 1), ([-2 -1 0 2; -2 0 1 1; -1 -2 0 2; -3 -1 1 2], 1), ([2 -3 -2 2; 2 -2 -1 1; 1 -2 -2 2; 3 -3 -3 2], 1), ([0 1 0 0; 0 0 -1 1; 1 0 0 0; 1 1 -1 0], 1), ([0 1 -2 0; 0 2 -1 -1; 1 0 -2 0; 1 1 -3 0], 1), ([0 3 0 -2; 0 2 -1 -1; -1 3 1 -2; -1 4 0 -2], -1), ([0 -1 -2 2; 0 0 -1 1; -1 -1 -1 2; -1 0 -2 2], -1)  …  ([2 -1 0 0; 1 0 0 0; 2 0 0 -1; 2 0 1 -1], -1), ([-2 1 2 0; -1 0 2 0; -2 2 2 -1; -2 2 3 -1], -1), ([0 -1 2 0; -1 0 2 0; 0 -2 1 1; 0 -2 2 1], 1), ([0 1 0 0; 1 0 0 0; 0 0 -1 1; 0 0 0 1], 1), ([2 -3 -2 2; 1 -2 -2 2; 2 -2 -1 1; 2 -4 -2 3], 1), ([2 1 0 -2; 1 2 0 -2; 2 0 -1 -1; 2 2 0 -3], 1), ([-2 -1 0 2; -1 -2 0 2; -2 0 1 1; -2 -2 0 3], 1), ([-2 3 2 -2; -1 2 2 -2; -2 2 1 -1; -2 4 2 -3], 1), ([0 -1 0 0; -1 0 0 0; 0 0 1 -1; 0 0 0 -1], 1), ([0 1 -2 0; 1 0 -2 0; 0 2 -1 -1; 0 2 -2 -1], 1)], \"orbit_standard_cell\" => 1)"
      ]
     },
     "metadata": {},
     "output_type": "display_data"
    }
   ],
   "source": [
    "boundaries_SL4[4][2]"
   ]
  },
  {
   "cell_type": "markdown",
   "id": "f026560a",
   "metadata": {},
   "source": [
    "## Some sanity checks"
   ]
  },
  {
   "cell_type": "code",
   "execution_count": 38,
   "id": "8c7931ef",
   "metadata": {},
   "outputs": [
    {
     "name": "stdout",
     "output_type": "stream",
     "text": [
      "A cell boundary looks like this:\n",
      "\n",
      " cell orbit: 1\n",
      " Coset size: 192\n",
      " cell orbit: 1\n",
      " Coset size: 192\n",
      " cell orbit: 1\n",
      " Coset size: 192\n",
      " cell orbit: 1\n",
      " Coset size: 192\n",
      "A cell boundary looks like this:\n",
      "\n",
      " cell orbit: 1\n",
      " Coset size: 192\n",
      " cell orbit: 1\n",
      " Coset size: 192\n",
      " cell orbit: 1\n",
      " Coset size: 192\n",
      "A cell boundary looks like this:\n",
      "\n",
      " cell orbit: 1\n",
      " Coset size: 192\n",
      " cell orbit: 1\n",
      " Coset size: 192\n",
      " cell orbit: 1\n",
      " Coset size: 192\n",
      " cell orbit: 1\n",
      " Coset size: 192\n",
      " cell orbit: 1\n",
      " Coset size: 192\n"
     ]
    }
   ],
   "source": [
    "for cell in  boundaries_SL4[4]\n",
    "    println(\"A cell boundary looks like this:\")\n",
    "    for boundary in cell\n",
    "        print(\"\\n cell orbit: \")\n",
    "        print(boundary[\"orbit_standard_cell\"])\n",
    "        print(\"\\n Coset size: \")\n",
    "        print(length(boundary[\"orbit_coset_with_orientation\"]))\n",
    "    end\n",
    "    println()\n",
    "end"
   ]
  },
  {
   "cell_type": "code",
   "execution_count": 39,
   "id": "c685b5f0",
   "metadata": {
    "scrolled": true
   },
   "outputs": [
    {
     "name": "stdout",
     "output_type": "stream",
     "text": [
      "A cell boundary looks like this:\n",
      "\n",
      " cell orbit: 1\n",
      " Coset size: 48\n",
      " cell orbit: 2\n",
      " Coset size: 48\n",
      " cell orbit: 2\n",
      " Coset size: 48\n",
      " cell orbit: 1\n",
      " Coset size: 48\n",
      " cell orbit: 2\n",
      " Coset size: 48\n",
      " cell orbit: 3\n",
      " Coset size: 120\n",
      "A cell boundary looks like this:\n",
      "\n",
      " cell orbit: 1\n",
      " Coset size: 48\n",
      " cell orbit: 1\n",
      " Coset size: 48\n",
      " cell orbit: 1\n",
      " Coset size: 48\n",
      " cell orbit: 1\n",
      " Coset size: 48\n",
      " cell orbit: 1\n",
      " Coset size: 48\n",
      " cell orbit: 1\n",
      " Coset size: 48\n",
      "A cell boundary looks like this:\n",
      "\n",
      " cell orbit: 2\n",
      " Coset size: 48\n",
      " cell orbit: 1\n",
      " Coset size: 48\n",
      " cell orbit: 2\n",
      " Coset size: 48\n",
      " cell orbit: 2\n",
      " Coset size: 48\n",
      " cell orbit: 2\n",
      " Coset size: 48\n",
      "A cell boundary looks like this:\n",
      "\n",
      " cell orbit: 2\n",
      " Coset size: 48\n",
      " cell orbit: 2\n",
      " Coset size: 48\n",
      " cell orbit: 2\n",
      " Coset size: 48\n",
      " cell orbit: 2\n",
      " Coset size: 48\n",
      " cell orbit: 2\n",
      " Coset size: 48\n",
      " cell orbit: 2\n",
      " Coset size: 48\n"
     ]
    }
   ],
   "source": [
    "for cell in  boundaries_SL4[5]\n",
    "    println(\"A cell boundary looks like this:\")\n",
    "    for boundary in cell\n",
    "        print(\"\\n cell orbit: \")\n",
    "        print(boundary[\"orbit_standard_cell\"])\n",
    "        print(\"\\n Coset size: \")\n",
    "        print(length(boundary[\"orbit_coset_with_orientation\"]))\n",
    "    end\n",
    "    println()\n",
    "end"
   ]
  },
  {
   "cell_type": "code",
   "execution_count": 40,
   "id": "1f635faf",
   "metadata": {
    "scrolled": true
   },
   "outputs": [
    {
     "name": "stdout",
     "output_type": "stream",
     "text": [
      "A cell boundary looks like this:\n",
      "\n",
      " cell orbit: 1\n",
      " Coset size: 12\n",
      " cell orbit: 2\n",
      " Coset size: 48\n",
      " cell orbit: 3\n",
      " Coset size: 16\n",
      " cell orbit: 1\n",
      " Coset size: 12\n",
      " cell orbit: 1\n",
      " Coset size: 12\n",
      " cell orbit: 3\n",
      " Coset size: 16\n",
      " cell orbit: 1\n",
      " Coset size: 12\n",
      "A cell boundary looks like this:\n",
      "\n",
      " cell orbit: 3\n",
      " Coset size: 16\n",
      " cell orbit: 3\n",
      " Coset size: 16\n",
      " cell orbit: 4\n",
      " Coset size: 144\n",
      " cell orbit: 1\n",
      " Coset size: 12\n",
      " cell orbit: 3\n",
      " Coset size: 16\n",
      " cell orbit: 3\n",
      " Coset size: 16\n",
      " cell orbit: 1\n",
      " Coset size: 12\n",
      "A cell boundary looks like this:\n",
      "\n",
      " cell orbit: 3\n",
      " Coset size: 16\n",
      " cell orbit: 3\n",
      " Coset size: 16\n",
      " cell orbit: 3\n",
      " Coset size: 16\n",
      " cell orbit: 3\n",
      " Coset size: 16\n",
      " cell orbit: 3\n",
      " Coset size: 16\n",
      " cell orbit: 3\n",
      " Coset size: 16\n",
      "A cell boundary looks like this:\n",
      "\n",
      " cell orbit: 3\n",
      " Coset size: 16\n",
      " cell orbit: 3\n",
      " Coset size: 16\n",
      " cell orbit: 3\n",
      " Coset size: 16\n",
      " cell orbit: 3\n",
      " Coset size: 16\n",
      " cell orbit: 3\n",
      " Coset size: 16\n",
      " cell orbit: 2\n",
      " Coset size: 48\n",
      " cell orbit: 3\n",
      " Coset size: 16\n"
     ]
    }
   ],
   "source": [
    "for cell in  boundaries_SL4[6]\n",
    "    println(\"A cell boundary looks like this:\")\n",
    "    for boundary in cell\n",
    "        print(\"\\n cell orbit: \")\n",
    "        print(boundary[\"orbit_standard_cell\"])\n",
    "        print(\"\\n Coset size: \")\n",
    "        print(length(boundary[\"orbit_coset_with_orientation\"]))\n",
    "    end\n",
    "    println()\n",
    "end"
   ]
  },
  {
   "cell_type": "code",
   "execution_count": 42,
   "id": "a6bdace4",
   "metadata": {},
   "outputs": [
    {
     "name": "stdout",
     "output_type": "stream",
     "text": [
      "A cell boundary looks like this:\n",
      "\n",
      " cell orbit: 1\n",
      " Coset size: 8\n",
      " cell orbit: 1\n",
      " Coset size: 8\n",
      " cell orbit: 2\n",
      " Coset size: 8\n",
      " cell orbit: 2\n",
      " Coset size: 8\n",
      " cell orbit: 1\n",
      " Coset size: 8\n",
      " cell orbit: 2\n",
      " Coset size: 8\n",
      " cell orbit: 2\n",
      " Coset size: 8\n",
      " cell orbit: 1\n",
      " Coset size: 8\n",
      "A cell boundary looks like this:\n",
      "\n",
      " cell orbit: 3\n",
      " Coset size: 48\n",
      " cell orbit: 2\n",
      " Coset size: 8\n",
      " cell orbit: 2\n",
      " Coset size: 8\n",
      " cell orbit: 2\n",
      " Coset size: 8\n",
      " cell orbit: 3\n",
      " Coset size: 48\n",
      " cell orbit: 4\n",
      " Coset size: 48\n",
      " cell orbit: 1\n",
      " Coset size: 8\n",
      " cell orbit: 2\n",
      " Coset size: 8\n"
     ]
    }
   ],
   "source": [
    "for cell in  boundaries_SL4[7]\n",
    "    println(\"A cell boundary looks like this:\")\n",
    "    for boundary in cell\n",
    "        print(\"\\n cell orbit: \")\n",
    "        print(boundary[\"orbit_standard_cell\"])\n",
    "        print(\"\\n Coset size: \")\n",
    "        print(length(boundary[\"orbit_coset_with_orientation\"]))\n",
    "    end\n",
    "    println()\n",
    "end"
   ]
  },
  {
   "cell_type": "code",
   "execution_count": 43,
   "id": "59cc62af",
   "metadata": {},
   "outputs": [
    {
     "name": "stdout",
     "output_type": "stream",
     "text": [
      "A cell boundary looks like this:\n",
      "\n",
      " cell orbit: 2\n",
      " Coset size: 8\n",
      " cell orbit: 1\n",
      " Coset size: 8\n",
      " cell orbit: 2\n",
      " Coset size: 8\n",
      " cell orbit: 2\n",
      " Coset size: 8\n",
      " cell orbit: 2\n",
      " Coset size: 8\n",
      " cell orbit: 2\n",
      " Coset size: 8\n",
      " cell orbit: 2\n",
      " Coset size: 8\n",
      " cell orbit: 1\n",
      " Coset size: 8\n",
      " cell orbit: 1\n",
      " Coset size: 8\n",
      "A cell boundary looks like this:\n",
      "\n",
      " cell orbit: 1\n",
      " Coset size: 8\n",
      " cell orbit: 1\n",
      " Coset size: 8\n",
      " cell orbit: 1\n",
      " Coset size: 8\n",
      " cell orbit: 1\n",
      " Coset size: 8\n",
      " cell orbit: 1\n",
      " Coset size: 8\n",
      " cell orbit: 1\n",
      " Coset size: 8\n",
      " cell orbit: 1\n",
      " Coset size: 8\n",
      " cell orbit: 1\n",
      " Coset size: 8\n",
      " cell orbit: 1\n",
      " Coset size: 8\n"
     ]
    }
   ],
   "source": [
    "for cell in  boundaries_SL4[8]\n",
    "    println(\"A cell boundary looks like this:\")\n",
    "    for boundary in cell\n",
    "        print(\"\\n cell orbit: \")\n",
    "        print(boundary[\"orbit_standard_cell\"])\n",
    "        print(\"\\n Coset size: \")\n",
    "        print(length(boundary[\"orbit_coset_with_orientation\"]))\n",
    "    end\n",
    "    println()\n",
    "end"
   ]
  },
  {
   "cell_type": "markdown",
   "id": "89e24b7a",
   "metadata": {},
   "source": [
    "# SL_3 redone\n",
    "To check both the new code and the old results. At least the sizes of stabilisers etc coincide."
   ]
  },
  {
   "cell_type": "code",
   "execution_count": 41,
   "id": "1d5bad25",
   "metadata": {},
   "outputs": [
    {
     "data": {
      "text/plain": [
       "1-element Vector{Matrix{Int64}}:\n",
       " [1 0 … 1 1; 0 1 … 0 1; 0 0 … 1 1]"
      ]
     },
     "metadata": {},
     "output_type": "display_data"
    }
   ],
   "source": [
    "e1 = [1,0,0]\n",
    "e2 = [0,1,0]\n",
    "e3 = [0,0,1]\n",
    "e12 = [1,1,0]\n",
    "e13 = [1,0,1]\n",
    "e123 = [1,1,1]\n",
    "m2 = [e1 e2 e3] # standard\n",
    "m3_1 = [e1 e2 e3 e12] # 2-additive\n",
    "m3_2 = [e1 e2 e3 e123] # 3-additive\n",
    "m4 = [e1 e2 e3 e12 e13] # double-triple\n",
    "m5 = [e1 e2 e3 e12 e13 e123] # Q\n",
    "cells_SL3 = Dict()\n",
    "cells_SL3[2] = [m2]\n",
    "cells_SL3[3] = [m3_1,m3_2]\n",
    "cells_SL3[4] = [m4]\n",
    "cells_SL3[5] = [m5]"
   ]
  },
  {
   "cell_type": "code",
   "execution_count": 42,
   "id": "6ff70cbd",
   "metadata": {},
   "outputs": [],
   "source": [
    "stabilisers = Dict()\n",
    "for (dimension, cell_list) in cells_SL3\n",
    "    stabilisers_this_dimension = []\n",
    "    for cell in cell_list\n",
    "        push!(stabilisers_this_dimension,stabiliser_coset_with_orientation(cell,cell))\n",
    "    end\n",
    "    stabilisers[dimension] = stabilisers_this_dimension\n",
    "end"
   ]
  },
  {
   "cell_type": "code",
   "execution_count": 43,
   "id": "0338df0f",
   "metadata": {},
   "outputs": [],
   "source": [
    "boundaries_SL3 = Dict()\n",
    "for (dimension, cell_list) in cells_SL3\n",
    "    boundaries_this_dimension = []\n",
    "    for cell in cell_list\n",
    "        push!(boundaries_this_dimension,boundaries_in_group_ring_with_orientation(cell,cells_SL3))\n",
    "    end\n",
    "    boundaries_SL3[dimension] = boundaries_this_dimension\n",
    "end"
   ]
  },
  {
   "cell_type": "code",
   "execution_count": 44,
   "id": "532b1b13",
   "metadata": {},
   "outputs": [
    {
     "data": {
      "text/plain": [
       "Dict{Any, Any} with 4 entries:\n",
       "  5 => Any[Any[Dict{Any, Any}(\"sign\"=>1, \"orbit_coset_with_orientation\"=>Any[([…\n",
       "  4 => Any[Any[Dict{Any, Any}(\"sign\"=>1, \"orbit_coset_with_orientation\"=>Any[([…\n",
       "  2 => Any[Any[]]\n",
       "  3 => Any[Any[Dict{Any, Any}(\"sign\"=>1, \"orbit_coset_with_orientation\"=>Any[([…"
      ]
     },
     "metadata": {},
     "output_type": "display_data"
    }
   ],
   "source": [
    "boundaries_SL3"
   ]
  },
  {
   "cell_type": "code",
   "execution_count": 45,
   "id": "9eb102e5",
   "metadata": {},
   "outputs": [],
   "source": [
    "sl3_data = Dict()\n",
    "sl3_data[\"boundaries\"] = boundaries_SL3\n",
    "sl3_data[\"stabilisers\"] = stabilisers;"
   ]
  },
  {
   "cell_type": "code",
   "execution_count": 46,
   "id": "fc96ad3d",
   "metadata": {},
   "outputs": [],
   "source": [
    "serialize(\"../../scripts/differentials_computation/precomputed_boundaries/sl3_bound_stab_old.sjl\", sl3_data)"
   ]
  },
  {
   "cell_type": "code",
   "execution_count": 50,
   "id": "79b995b0",
   "metadata": {},
   "outputs": [
    {
     "name": "stdout",
     "output_type": "stream",
     "text": [
      "A cell boundary looks like this:\n",
      "\n",
      " cell orbit: 1\n",
      " Coset size: 24\n",
      " cell orbit: 1\n",
      " Coset size: 24\n",
      " cell orbit: 1\n",
      " Coset size: 24\n",
      "A cell boundary looks like this:\n",
      "\n",
      " cell orbit: 1\n",
      " Coset size: 24\n",
      " cell orbit: 1\n",
      " Coset size: 24\n",
      " cell orbit: 1\n",
      " Coset size: 24\n",
      " cell orbit: 1\n",
      " Coset size: 24\n"
     ]
    }
   ],
   "source": [
    "for cell in  boundaries_SL3[3]\n",
    "    println(\"A cell boundary looks like this:\")\n",
    "    for boundary in cell\n",
    "        print(\"\\n cell orbit: \")\n",
    "        print(boundary[\"orbit_standard_cell\"])\n",
    "        print(\"\\n Coset size: \")\n",
    "        print(length(boundary[\"orbit_coset_with_orientation\"]))\n",
    "    end\n",
    "    println()\n",
    "end"
   ]
  },
  {
   "cell_type": "code",
   "execution_count": 51,
   "id": "ca0ef882",
   "metadata": {},
   "outputs": [
    {
     "name": "stdout",
     "output_type": "stream",
     "text": [
      "A cell boundary looks like this:\n",
      "\n",
      " cell orbit: 2\n",
      " Coset size: 24\n",
      " cell orbit: 1\n",
      " Coset size: 12\n",
      " cell orbit: 1\n",
      " Coset size: 12\n",
      " cell orbit: 1\n",
      " Coset size: 12\n",
      " cell orbit: 1\n",
      " Coset size: 12\n"
     ]
    }
   ],
   "source": [
    "for cell in  boundaries_SL3[4]\n",
    "    println(\"A cell boundary looks like this:\")\n",
    "    for boundary in cell\n",
    "        print(\"\\n cell orbit: \")\n",
    "        print(boundary[\"orbit_standard_cell\"])\n",
    "        print(\"\\n Coset size: \")\n",
    "        print(length(boundary[\"orbit_coset_with_orientation\"]))\n",
    "    end\n",
    "    println()\n",
    "end"
   ]
  },
  {
   "cell_type": "code",
   "execution_count": 52,
   "id": "2047fd9c",
   "metadata": {},
   "outputs": [
    {
     "name": "stdout",
     "output_type": "stream",
     "text": [
      "A cell boundary looks like this:\n",
      "\n",
      " cell orbit: 1\n",
      " Coset size: 8\n",
      " cell orbit: 1\n",
      " Coset size: 8\n",
      " cell orbit: 1\n",
      " Coset size: 8\n",
      " cell orbit: 1\n",
      " Coset size: 8\n",
      " cell orbit: 1\n",
      " Coset size: 8\n",
      " cell orbit: 1\n",
      " Coset size: 8\n"
     ]
    }
   ],
   "source": [
    "for cell in  boundaries_SL3[5]\n",
    "    println(\"A cell boundary looks like this:\")\n",
    "    for boundary in cell\n",
    "        print(\"\\n cell orbit: \")\n",
    "        print(boundary[\"orbit_standard_cell\"])\n",
    "        print(\"\\n Coset size: \")\n",
    "        print(length(boundary[\"orbit_coset_with_orientation\"]))\n",
    "    end\n",
    "    println()\n",
    "end"
   ]
  },
  {
   "cell_type": "code",
   "execution_count": null,
   "id": "f74e8794",
   "metadata": {},
   "outputs": [],
   "source": []
  },
  {
   "cell_type": "code",
   "execution_count": null,
   "id": "cf429ee1",
   "metadata": {},
   "outputs": [],
   "source": []
  },
  {
   "cell_type": "code",
   "execution_count": null,
   "id": "1f372e54",
   "metadata": {},
   "outputs": [],
   "source": []
  }
 ],
 "metadata": {
  "kernelspec": {
   "display_name": "Julia 1.9.1",
   "language": "julia",
   "name": "julia-1.9"
  },
  "language_info": {
   "file_extension": ".jl",
   "mimetype": "application/julia",
   "name": "julia",
   "version": "1.9.1"
  }
 },
 "nbformat": 4,
 "nbformat_minor": 5
}
