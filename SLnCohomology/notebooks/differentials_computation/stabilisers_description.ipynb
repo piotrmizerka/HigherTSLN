{
 "cells": [
  {
   "cell_type": "markdown",
   "id": "409cb11d",
   "metadata": {},
   "source": [
    "Testing which groups the stabilisers are. From my side, not needed right now."
   ]
  },
  {
   "cell_type": "code",
   "execution_count": 1,
   "id": "5737cdee",
   "metadata": {},
   "outputs": [],
   "source": [
    "using LinearAlgebra\n",
    "ENV[\"JULIA_NUM_THREADS\"] = Sys.CPU_THREADS÷2\n",
    "LinearAlgebra.BLAS.set_num_threads(Sys.CPU_THREADS÷2)"
   ]
  },
  {
   "cell_type": "code",
   "execution_count": 2,
   "id": "4ffdbead",
   "metadata": {
    "collapsed": true
   },
   "outputs": [
    {
     "name": "stderr",
     "output_type": "stream",
     "text": [
      "\u001b[32m\u001b[1m  Activating\u001b[22m\u001b[39m project at `~/Desktop/HigherTSL3/Computations chain complex`\n"
     ]
    }
   ],
   "source": [
    "using Pkg\n",
    "Pkg.activate(normpath(joinpath(@__DIR__, \"./\")))"
   ]
  },
  {
   "cell_type": "code",
   "execution_count": 4,
   "id": "5475a8aa",
   "metadata": {
    "collapsed": true
   },
   "outputs": [
    {
     "name": "stderr",
     "output_type": "stream",
     "text": [
      "\u001b[32m\u001b[1m   Resolving\u001b[22m\u001b[39m package versions...\n",
      "\u001b[32m\u001b[1m  No Changes\u001b[22m\u001b[39m to `~/Desktop/HigherTSL3/Computations chain complex/Project.toml`\n",
      "\u001b[32m\u001b[1m  No Changes\u001b[22m\u001b[39m to `~/Desktop/HigherTSL3/Computations chain complex/Manifest.toml`\n"
     ]
    }
   ],
   "source": [
    "Pkg.add(\"GAP\")"
   ]
  },
  {
   "cell_type": "code",
   "execution_count": 5,
   "id": "93eff5fd",
   "metadata": {
    "collapsed": true
   },
   "outputs": [
    {
     "name": "stdout",
     "output_type": "stream",
     "text": [
      " ┌───────┐   GAP 4.12.2 of 2022-12-18\n",
      " │  GAP  │   https://www.gap-system.org\n",
      " └───────┘   Architecture: x86_64-pc-linux-gnu-julia1.7-64-kv8\n",
      " Configuration:  gmp 6.2.1, Julia GC, Julia 1.7.2\n",
      " Loading the library and packages ...\n",
      " Packages:   AClib 1.3.2, Alnuth 3.2.1, AtlasRep 2.1.6, AutPGrp 1.11, \n",
      "             CRISP 1.4.6, Cryst 4.1.25, CrystCat 1.1.10, CTblLib 1.3.4, \n",
      "             FactInt 1.6.3, FGA 1.4.0, GAPDoc 1.6.6, IRREDSOL 1.4.4, \n",
      "             JuliaInterface 0.9.3, LAGUNA 3.9.5, Polenta 1.3.10, \n",
      "             Polycyclic 2.16, PrimGrp 3.4.3, RadiRoot 2.9, ResClasses 4.7.3, \n",
      "             SmallGrp 1.5.1, Sophus 1.27, SpinSym 1.5.2, TomLib 1.2.9, \n",
      "             TransGrp 3.6.3, utils 0.81\n",
      " Try '??help' for help. See also '?copyright', '?cite' and '?authors'\n"
     ]
    }
   ],
   "source": [
    "using GAP"
   ]
  },
  {
   "cell_type": "code",
   "execution_count": 66,
   "id": "aaa1f704",
   "metadata": {},
   "outputs": [],
   "source": [
    "# REPRESENT STABILISERS AS GAP OBJECTS\n",
    "\n",
    "m2_gap_stab = GAP.julia_to_gap([\n",
    "    [1 0 0; 0 1 0; 0 0 1], [-1 0 0; 0 -1 0; 0 0 1], [-1 0 0; 0 1 0; 0 0 -1], \n",
    "    [1 0 0; 0 -1 0; 0 0 -1], [-1 0 0; 0 0 1; 0 1 0], [1 0 0; 0 0 -1; 0 1 0], \n",
    "    [1 0 0; 0 0 1; 0 -1 0], [-1 0 0; 0 0 -1; 0 -1 0], [0 -1 0; 1 0 0; 0 0 1], \n",
    "    [0 1 0; -1 0 0; 0 0 1], [0 1 0; 1 0 0; 0 0 -1], [0 -1 0; -1 0 0; 0 0 -1], \n",
    "    [0 1 0; 0 0 1; 1 0 0], [0 -1 0; 0 0 -1; 1 0 0], [0 -1 0; 0 0 1; -1 0 0], \n",
    "    [0 1 0; 0 0 -1; -1 0 0], [0 0 1; 1 0 0; 0 1 0], [0 0 -1; -1 0 0; 0 1 0], \n",
    "    [0 0 -1; 1 0 0; 0 -1 0], [0 0 1; -1 0 0; 0 -1 0], [0 0 -1; 0 1 0; 1 0 0], \n",
    "    [0 0 1; 0 -1 0; 1 0 0], [0 0 1; 0 1 0; -1 0 0], [0 0 -1; 0 -1 0; -1 0 0]\n",
    "], recursive = true)\n",
    "m31_gap_stab = GAP.julia_to_gap([\n",
    "    [1 0 0; 0 1 0; 0 0 1], [-1 0 0; 0 -1 0; 0 0 1], [-1 0 0; 1 1 0; 0 0 -1], \n",
    "    [1 0 0; -1 -1 0; 0 0 -1], [0 1 0; 1 0 0; 0 0 -1], [0 -1 0; -1 0 0; 0 0 -1], \n",
    "    [0 -1 0; 1 1 0; 0 0 1], [0 1 0; -1 -1 0; 0 0 1], [-1 -1 0; 1 0 0; 0 0 1], \n",
    "    [1 1 0; -1 0 0; 0 0 1], [-1 -1 0; 0 1 0; 0 0 -1], [1 1 0; 0 -1 0; 0 0 -1]\n",
    "], recursive = true)\n",
    "m32_gap_stab = GAP.julia_to_gap([\n",
    "    [1 0 0; 0 1 0; 0 0 1], [-1 0 0; 0 -1 0; 1 1 1], [-1 0 0; 0 0 -1; 0 -1 0], \n",
    "    [1 0 0; 0 0 1; -1 -1 -1], [1 0 0; -1 -1 -1; 0 1 0], [-1 0 0; 1 1 1; 0 0 -1], \n",
    "    [0 -1 0; -1 0 0; 0 0 -1], [0 1 0; 1 0 0; -1 -1 -1], [0 1 0; 0 0 1; 1 0 0], \n",
    "    [0 -1 0; 0 0 -1; 1 1 1], [0 -1 0; 1 1 1; -1 0 0], [0 1 0; -1 -1 -1; 0 0 1], \n",
    "    [0 0 1; 1 0 0; 0 1 0], [0 0 -1; -1 0 0; 1 1 1], [0 0 -1; 0 -1 0; -1 0 0], \n",
    "    [0 0 1; 0 1 0; -1 -1 -1], [0 0 1; -1 -1 -1; 1 0 0], [0 0 -1; 1 1 1; 0 -1 0], \n",
    "    [1 1 1; -1 0 0; 0 -1 0], [-1 -1 -1; 1 0 0; 0 0 1], [-1 -1 -1; 0 1 0; 1 0 0], \n",
    "    [1 1 1; 0 -1 0; 0 0 -1], [1 1 1; 0 0 -1; -1 0 0], [-1 -1 -1; 0 0 1; 0 1 0]\n",
    "],recursive = true);"
   ]
  },
  {
   "cell_type": "code",
   "execution_count": 67,
   "id": "17163aad",
   "metadata": {},
   "outputs": [
    {
     "data": {
      "text/plain": [
       "GAP: [ [ [ 1, 0, 0 ], [ 0, 1, 0 ], [ 0, 0, 1 ] ], [ [ -1, 0, 0 ], [ 0, -1, 0 ], [ 0, 0, 1 ] ], [ [ -1, 0, 0 ], [ 0, 1, 0 ], [ 0, 0, -1 ] ], [ [ 1, 0, 0 ], [ 0, -1, 0 ], [ 0, 0, -1 ] ], [ [ -1, 0, 0 ], [ 0, 0, 1 ], [ 0, 1, 0 ] ], [ [ 1, 0, 0 ], [ 0, 0, -1 ], [ 0, 1, 0 ] ], [ [ 1, 0, 0 ], [ 0, 0, 1 ], [ 0, -1, 0 ] ], [ [ -1, 0, 0 ], [ 0, 0, -1 ], [ 0, -1, 0 ] ], [ [ 0, -1, 0 ], [ 1, 0, 0 ], [ 0, 0, 1 ] ], [ [ 0, 1, 0 ], [ -1, 0, 0 ], [ 0, 0, 1 ] ], [ [ 0, 1, 0 ], [ 1, 0, 0 ], [ 0, 0, -1 ] ], [ [ 0, -1, 0 ], [ -1, 0, 0 ], [ 0, 0, -1 ] ], [ [ 0, 1, 0 ], [ 0, 0, 1 ], [ 1, 0, 0 ] ], [ [ 0, -1, 0 ], [ 0, 0, -1 ], [ 1, 0, 0 ] ], [ [ 0, -1, 0 ], [ 0, 0, 1 ], [ -1, 0, 0 ] ], [ [ 0, 1, 0 ], [ 0, 0, -1 ], [ -1, 0, 0 ] ], [ [ 0, 0, 1 ], [ 1, 0, 0 ], [ 0, 1, 0 ] ], [ [ 0, 0, -1 ], [ -1, 0, 0 ], [ 0, 1, 0 ] ], [ [ 0, 0, -1 ], [ 1, 0, 0 ], [ 0, -1, 0 ] ], [ [ 0, 0, 1 ], [ -1, 0, 0 ], [ 0, -1, 0 ] ], [ [ 0, 0, -1 ], [ 0, 1, 0 ], [ 1, 0, 0 ] ], [ [ 0, 0, 1 ], [ 0, -1, 0 ], [ 1, 0, 0 ] ], [ [ 0, 0, 1 ], [ 0, 1, 0 ], [ -1, 0, 0 ] ], [ [ 0, 0, -1 ], [ 0, -1, 0 ], [ -1, 0, 0 ] ] ]"
      ]
     },
     "execution_count": 67,
     "metadata": {},
     "output_type": "execute_result"
    }
   ],
   "source": [
    "m2_gap_stab"
   ]
  },
  {
   "cell_type": "code",
   "execution_count": 68,
   "id": "ff1cc3b9",
   "metadata": {},
   "outputs": [
    {
     "data": {
      "text/plain": [
       "GAP: [ [ [ 1, 0, 0 ], [ 0, 1, 0 ], [ 0, 0, 1 ] ], [ [ -1, 0, 0 ], [ 0, -1, 0 ], [ 0, 0, 1 ] ], [ [ -1, 0, 0 ], [ 1, 1, 0 ], [ 0, 0, -1 ] ], [ [ 1, 0, 0 ], [ -1, -1, 0 ], [ 0, 0, -1 ] ], [ [ 0, 1, 0 ], [ 1, 0, 0 ], [ 0, 0, -1 ] ], [ [ 0, -1, 0 ], [ -1, 0, 0 ], [ 0, 0, -1 ] ], [ [ 0, -1, 0 ], [ 1, 1, 0 ], [ 0, 0, 1 ] ], [ [ 0, 1, 0 ], [ -1, -1, 0 ], [ 0, 0, 1 ] ], [ [ -1, -1, 0 ], [ 1, 0, 0 ], [ 0, 0, 1 ] ], [ [ 1, 1, 0 ], [ -1, 0, 0 ], [ 0, 0, 1 ] ], [ [ -1, -1, 0 ], [ 0, 1, 0 ], [ 0, 0, -1 ] ], [ [ 1, 1, 0 ], [ 0, -1, 0 ], [ 0, 0, -1 ] ] ]"
      ]
     },
     "execution_count": 68,
     "metadata": {},
     "output_type": "execute_result"
    }
   ],
   "source": [
    "m31_gap_stab"
   ]
  },
  {
   "cell_type": "code",
   "execution_count": 69,
   "id": "7a1d05e5",
   "metadata": {},
   "outputs": [
    {
     "data": {
      "text/plain": [
       "GAP: [ [ [ 1, 0, 0 ], [ 0, 1, 0 ], [ 0, 0, 1 ] ], [ [ -1, 0, 0 ], [ 0, -1, 0 ], [ 1, 1, 1 ] ], [ [ -1, 0, 0 ], [ 0, 0, -1 ], [ 0, -1, 0 ] ], [ [ 1, 0, 0 ], [ 0, 0, 1 ], [ -1, -1, -1 ] ], [ [ 1, 0, 0 ], [ -1, -1, -1 ], [ 0, 1, 0 ] ], [ [ -1, 0, 0 ], [ 1, 1, 1 ], [ 0, 0, -1 ] ], [ [ 0, -1, 0 ], [ -1, 0, 0 ], [ 0, 0, -1 ] ], [ [ 0, 1, 0 ], [ 1, 0, 0 ], [ -1, -1, -1 ] ], [ [ 0, 1, 0 ], [ 0, 0, 1 ], [ 1, 0, 0 ] ], [ [ 0, -1, 0 ], [ 0, 0, -1 ], [ 1, 1, 1 ] ], [ [ 0, -1, 0 ], [ 1, 1, 1 ], [ -1, 0, 0 ] ], [ [ 0, 1, 0 ], [ -1, -1, -1 ], [ 0, 0, 1 ] ], [ [ 0, 0, 1 ], [ 1, 0, 0 ], [ 0, 1, 0 ] ], [ [ 0, 0, -1 ], [ -1, 0, 0 ], [ 1, 1, 1 ] ], [ [ 0, 0, -1 ], [ 0, -1, 0 ], [ -1, 0, 0 ] ], [ [ 0, 0, 1 ], [ 0, 1, 0 ], [ -1, -1, -1 ] ], [ [ 0, 0, 1 ], [ -1, -1, -1 ], [ 1, 0, 0 ] ], [ [ 0, 0, -1 ], [ 1, 1, 1 ], [ 0, -1, 0 ] ], [ [ 1, 1, 1 ], [ -1, 0, 0 ], [ 0, -1, 0 ] ], [ [ -1, -1, -1 ], [ 1, 0, 0 ], [ 0, 0, 1 ] ], [ [ -1, -1, -1 ], [ 0, 1, 0 ], [ 1, 0, 0 ] ], [ [ 1, 1, 1 ], [ 0, -1, 0 ], [ 0, 0, -1 ] ], [ [ 1, 1, 1 ], [ 0, 0, -1 ], [ -1, 0, 0 ] ], [ [ -1, -1, -1 ], [ 0, 0, 1 ], [ 0, 1, 0 ] ] ]"
      ]
     },
     "execution_count": 69,
     "metadata": {},
     "output_type": "execute_result"
    }
   ],
   "source": [
    "m32_gap_stab"
   ]
  },
  {
   "cell_type": "code",
   "execution_count": 70,
   "id": "5a8bf89a",
   "metadata": {},
   "outputs": [],
   "source": [
    "# LET'S SEE WHAT'S OUR STABILISERS ARE\n",
    "# Just copy & pasted the appropriate outputs above to construct groups in GAP"
   ]
  },
  {
   "cell_type": "code",
   "execution_count": 71,
   "id": "aa8952c6",
   "metadata": {},
   "outputs": [
    {
     "data": {
      "text/plain": [
       "GAP: \"S4\""
      ]
     },
     "execution_count": 71,
     "metadata": {},
     "output_type": "execute_result"
    }
   ],
   "source": [
    "# m2 stabiliser\n",
    "@gap StructureDescription(Group([ [ [ 1, 0, 0 ], [ 0, 1, 0 ], [ 0, 0, 1 ] ], [ [ -1, 0, 0 ], [ 0, -1, 0 ], [ 0, 0, 1 ] ], [ [ -1, 0, 0 ], [ 0, 1, 0 ], [ 0, 0, -1 ] ], [ [ 1, 0, 0 ], [ 0, -1, 0 ], [ 0, 0, -1 ] ], [ [ -1, 0, 0 ], [ 0, 0, 1 ], [ 0, 1, 0 ] ], [ [ 1, 0, 0 ], [ 0, 0, -1 ], [ 0, 1, 0 ] ], [ [ 1, 0, 0 ], [ 0, 0, 1 ], [ 0, -1, 0 ] ], [ [ -1, 0, 0 ], [ 0, 0, -1 ], [ 0, -1, 0 ] ], [ [ 0, -1, 0 ], [ 1, 0, 0 ], [ 0, 0, 1 ] ], [ [ 0, 1, 0 ], [ -1, 0, 0 ], [ 0, 0, 1 ] ], [ [ 0, 1, 0 ], [ 1, 0, 0 ], [ 0, 0, -1 ] ], [ [ 0, -1, 0 ], [ -1, 0, 0 ], [ 0, 0, -1 ] ], [ [ 0, 1, 0 ], [ 0, 0, 1 ], [ 1, 0, 0 ] ], [ [ 0, -1, 0 ], [ 0, 0, -1 ], [ 1, 0, 0 ] ], [ [ 0, -1, 0 ], [ 0, 0, 1 ], [ -1, 0, 0 ] ], [ [ 0, 1, 0 ], [ 0, 0, -1 ], [ -1, 0, 0 ] ], [ [ 0, 0, 1 ], [ 1, 0, 0 ], [ 0, 1, 0 ] ], [ [ 0, 0, -1 ], [ -1, 0, 0 ], [ 0, 1, 0 ] ], [ [ 0, 0, -1 ], [ 1, 0, 0 ], [ 0, -1, 0 ] ], [ [ 0, 0, 1 ], [ -1, 0, 0 ], [ 0, -1, 0 ] ], [ [ 0, 0, -1 ], [ 0, 1, 0 ], [ 1, 0, 0 ] ], [ [ 0, 0, 1 ], [ 0, -1, 0 ], [ 1, 0, 0 ] ], [ [ 0, 0, 1 ], [ 0, 1, 0 ], [ -1, 0, 0 ] ], [ [ 0, 0, -1 ], [ 0, -1, 0 ], [ -1, 0, 0 ] ] ]))"
   ]
  },
  {
   "cell_type": "code",
   "execution_count": 72,
   "id": "41c9a7bf",
   "metadata": {},
   "outputs": [
    {
     "data": {
      "text/plain": [
       "GAP: \"D12\""
      ]
     },
     "execution_count": 72,
     "metadata": {},
     "output_type": "execute_result"
    }
   ],
   "source": [
    "# m31 stabiliser\n",
    "@gap StructureDescription(Group([ [ [ 1, 0, 0 ], [ 0, 1, 0 ], [ 0, 0, 1 ] ], [ [ -1, 0, 0 ], [ 0, -1, 0 ], [ 0, 0, 1 ] ], [ [ -1, 0, 0 ], [ 1, 1, 0 ], [ 0, 0, -1 ] ], [ [ 1, 0, 0 ], [ -1, -1, 0 ], [ 0, 0, -1 ] ], [ [ 0, 1, 0 ], [ 1, 0, 0 ], [ 0, 0, -1 ] ], [ [ 0, -1, 0 ], [ -1, 0, 0 ], [ 0, 0, -1 ] ], [ [ 0, -1, 0 ], [ 1, 1, 0 ], [ 0, 0, 1 ] ], [ [ 0, 1, 0 ], [ -1, -1, 0 ], [ 0, 0, 1 ] ], [ [ -1, -1, 0 ], [ 1, 0, 0 ], [ 0, 0, 1 ] ], [ [ 1, 1, 0 ], [ -1, 0, 0 ], [ 0, 0, 1 ] ], [ [ -1, -1, 0 ], [ 0, 1, 0 ], [ 0, 0, -1 ] ], [ [ 1, 1, 0 ], [ 0, -1, 0 ], [ 0, 0, -1 ] ] ]))"
   ]
  },
  {
   "cell_type": "code",
   "execution_count": 78,
   "id": "ac858f2c",
   "metadata": {
    "scrolled": true
   },
   "outputs": [
    {
     "data": {
      "text/plain": [
       "GAP: \"S4\""
      ]
     },
     "execution_count": 78,
     "metadata": {},
     "output_type": "execute_result"
    }
   ],
   "source": [
    "# m32 stabiliser\n",
    "@gap StructureDescription(Group([ [ [ 1, 0, 0 ], [ 0, 1, 0 ], [ 0, 0, 1 ] ], [ [ -1, 0, 0 ], [ 0, -1, 0 ], [ 1, 1, 1 ] ], [ [ -1, 0, 0 ], [ 0, 0, -1 ], [ 0, -1, 0 ] ], [ [ 1, 0, 0 ], [ 0, 0, 1 ], [ -1, -1, -1 ] ], [ [ 1, 0, 0 ], [ -1, -1, -1 ], [ 0, 1, 0 ] ], [ [ -1, 0, 0 ], [ 1, 1, 1 ], [ 0, 0, -1 ] ], [ [ 0, -1, 0 ], [ -1, 0, 0 ], [ 0, 0, -1 ] ], [ [ 0, 1, 0 ], [ 1, 0, 0 ], [ -1, -1, -1 ] ], [ [ 0, 1, 0 ], [ 0, 0, 1 ], [ 1, 0, 0 ] ], [ [ 0, -1, 0 ], [ 0, 0, -1 ], [ 1, 1, 1 ] ], [ [ 0, -1, 0 ], [ 1, 1, 1 ], [ -1, 0, 0 ] ], [ [ 0, 1, 0 ], [ -1, -1, -1 ], [ 0, 0, 1 ] ], [ [ 0, 0, 1 ], [ 1, 0, 0 ], [ 0, 1, 0 ] ], [ [ 0, 0, -1 ], [ -1, 0, 0 ], [ 1, 1, 1 ] ], [ [ 0, 0, -1 ], [ 0, -1, 0 ], [ -1, 0, 0 ] ], [ [ 0, 0, 1 ], [ 0, 1, 0 ], [ -1, -1, -1 ] ], [ [ 0, 0, 1 ], [ -1, -1, -1 ], [ 1, 0, 0 ] ], [ [ 0, 0, -1 ], [ 1, 1, 1 ], [ 0, -1, 0 ] ], [ [ 1, 1, 1 ], [ -1, 0, 0 ], [ 0, -1, 0 ] ], [ [ -1, -1, -1 ], [ 1, 0, 0 ], [ 0, 0, 1 ] ], [ [ -1, -1, -1 ], [ 0, 1, 0 ], [ 1, 0, 0 ] ], [ [ 1, 1, 1 ], [ 0, -1, 0 ], [ 0, 0, -1 ] ], [ [ 1, 1, 1 ], [ 0, 0, -1 ], [ -1, 0, 0 ] ], [ [ -1, -1, -1 ], [ 0, 0, 1 ], [ 0, 1, 0 ] ] ]))"
   ]
  },
  {
   "cell_type": "code",
   "execution_count": 125,
   "id": "9ef97c95",
   "metadata": {},
   "outputs": [
    {
     "data": {
      "text/plain": [
       "false"
      ]
     },
     "execution_count": 125,
     "metadata": {},
     "output_type": "execute_result"
    }
   ],
   "source": [
    "# Note, however, that m2 and m32 stabilisers are not the same subgroups of SL(3,Z)\n",
    "m2_gap_stab == m32_gap_stab"
   ]
  },
  {
   "cell_type": "code",
   "execution_count": null,
   "id": "ad67e85d",
   "metadata": {},
   "outputs": [],
   "source": []
  }
 ],
 "metadata": {
  "kernelspec": {
   "display_name": "Julia 1.7.2",
   "language": "julia",
   "name": "julia-1.7"
  },
  "language_info": {
   "file_extension": ".jl",
   "mimetype": "application/julia",
   "name": "julia",
   "version": "1.7.2"
  }
 },
 "nbformat": 4,
 "nbformat_minor": 5
}
