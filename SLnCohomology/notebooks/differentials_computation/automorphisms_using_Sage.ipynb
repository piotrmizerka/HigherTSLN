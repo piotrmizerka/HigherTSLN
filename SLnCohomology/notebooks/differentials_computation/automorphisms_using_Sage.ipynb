{
 "cells": [
  {
   "cell_type": "markdown",
   "id": "995f83d8",
   "metadata": {},
   "source": [
    "Stabiliser computations, now with Sage (wasn't aware of this function when I wrote my version.)\n",
    "This is not used at the moment because I don't see how Sage would determine whether two forms are in the same orbit. For this, Plesken-Souvignier is needed anyways, so I also use it to compute the stabilisers directly in Julia."
   ]
  },
  {
   "cell_type": "code",
   "execution_count": 59,
   "id": "bd541e83",
   "metadata": {},
   "outputs": [],
   "source": [
    "# Careful: The data format in Sage is different than one might think.\n",
    "# The \"matrix\" of the quadratic is not the corresponding symmetric matrix but the list of coefficient of the form\n",
    "# (i.e. need to double off-diagonal entries)\n",
    "q2 = QuadraticForm(ZZ, 3, [1,0,0,1,0,1])\n",
    "q3_1 = QuadraticForm(ZZ, 3, [2,2,0,2,0,1])\n",
    "q3_2 = QuadraticForm(ZZ, 3, [2, 2, 2, 2, 2, 2])\n",
    "q4 = QuadraticForm(ZZ, 3, [3,2,2,2,0,2])\n",
    "q5 = QuadraticForm(ZZ, 3, [4,4,4,3,2,3]) "
   ]
  },
  {
   "cell_type": "code",
   "execution_count": 60,
   "id": "ef97d9c8",
   "metadata": {},
   "outputs": [
    {
     "data": {
      "text/plain": [
       "Quadratic form in 3 variables over Integer Ring with coefficients: \n",
       "[ 2 2 0 ]\n",
       "[ * 2 0 ]\n",
       "[ * * 1 ]"
      ]
     },
     "execution_count": 60,
     "metadata": {},
     "output_type": "execute_result"
    }
   ],
   "source": [
    "q3_1"
   ]
  },
  {
   "cell_type": "code",
   "execution_count": 61,
   "id": "b34a5765",
   "metadata": {},
   "outputs": [],
   "source": [
    "stab2 = q2.automorphisms()\n",
    "stab3_1 = q3_1.automorphisms()\n",
    "stab3_2 = q3_2.automorphisms()\n",
    "stab4 = q4.automorphisms()\n",
    "stab5 = q5.automorphisms()"
   ]
  },
  {
   "cell_type": "code",
   "execution_count": 62,
   "id": "005e20c6",
   "metadata": {},
   "outputs": [],
   "source": [
    "# The above are the stabilisers in GL_3, we only need the ones lying in SL\n",
    "sl_stab2 = []\n",
    "for g in stab2:\n",
    "    if det(g)==1:\n",
    "        sl_stab2.append(g)\n",
    "sl_stab3_1 = []\n",
    "for g in stab3_1:\n",
    "    if det(g)==1:\n",
    "        sl_stab3_1.append(g)\n",
    "sl_stab3_2 = []\n",
    "for g in stab3_2:\n",
    "    if det(g)==1:\n",
    "        sl_stab3_2.append(g)\n",
    "sl_stab4 = []\n",
    "for g in stab4:\n",
    "    if det(g)==1:\n",
    "        sl_stab4.append(g)\n",
    "sl_stab5 = []\n",
    "for g in stab5:\n",
    "    if det(g)==1:\n",
    "        sl_stab5.append(g)"
   ]
  },
  {
   "cell_type": "code",
   "execution_count": 8,
   "id": "82fda891",
   "metadata": {},
   "outputs": [
    {
     "name": "stdout",
     "output_type": "stream",
     "text": [
      "24\n"
     ]
    },
    {
     "data": {
      "text/plain": [
       "[\n",
       "[1 0 0]  [ 1  0  0]  [0 0 1]  [ 0  0  1]  [0 1 0]  [ 0  1  0]\n",
       "[0 1 0]  [ 0 -1  0]  [1 0 0]  [-1  0  0]  [0 0 1]  [ 0  0 -1]\n",
       "[0 0 1], [ 0  0 -1], [0 1 0], [ 0 -1  0], [1 0 0], [-1  0  0],\n",
       "\n",
       "[-1  0  0]  [-1  0  0]  [ 0  0 -1]  [ 0  0 -1]  [ 0 -1  0]  [ 0 -1  0]\n",
       "[ 0  1  0]  [ 0 -1  0]  [ 1  0  0]  [-1  0  0]  [ 0  0  1]  [ 0  0 -1]\n",
       "[ 0  0 -1], [ 0  0  1], [ 0 -1  0], [ 0  1  0], [-1  0  0], [ 1  0  0],\n",
       "\n",
       "[ 0  0 -1]  [ 0  0  1]  [ 0 -1  0]  [ 0  1  0]  [-1  0  0]  [ 1  0  0]\n",
       "[ 0 -1  0]  [ 0  1  0]  [-1  0  0]  [ 1  0  0]  [ 0  0 -1]  [ 0  0  1]\n",
       "[-1  0  0], [-1  0  0], [ 0  0 -1], [ 0  0 -1], [ 0 -1  0], [ 0 -1  0],\n",
       "\n",
       "[ 0  0  1]  [ 0  0 -1]  [ 0  1  0]  [ 0 -1  0]  [ 1  0  0]  [-1  0  0]\n",
       "[ 0 -1  0]  [ 0  1  0]  [-1  0  0]  [ 1  0  0]  [ 0  0 -1]  [ 0  0  1]\n",
       "[ 1  0  0], [ 1  0  0], [ 0  0  1], [ 0  0  1], [ 0  1  0], [ 0  1  0]\n",
       "]"
      ]
     },
     "execution_count": 8,
     "metadata": {},
     "output_type": "execute_result"
    }
   ],
   "source": [
    "print(len(sl_stab2))\n",
    "sl_stab2"
   ]
  },
  {
   "cell_type": "code",
   "execution_count": 9,
   "id": "ea7f63fb",
   "metadata": {},
   "outputs": [
    {
     "name": "stdout",
     "output_type": "stream",
     "text": [
      "12\n"
     ]
    },
    {
     "data": {
      "text/plain": [
       "[\n",
       "[1 0 0]  [ 1  1  0]  [ 1  1  0]  [ 0  1  0]  [ 0 -1  0]  [ 1  0  0]\n",
       "[0 1 0]  [-1  0  0]  [ 0 -1  0]  [-1 -1  0]  [-1  0  0]  [-1 -1  0]\n",
       "[0 0 1], [ 0  0  1], [ 0  0 -1], [ 0  0  1], [ 0  0 -1], [ 0  0 -1],\n",
       "\n",
       "[ 0 -1  0]  [ 0  1  0]  [-1  0  0]  [-1  0  0]  [-1 -1  0]  [-1 -1  0]\n",
       "[ 1  1  0]  [ 1  0  0]  [ 1  1  0]  [ 0 -1  0]  [ 1  0  0]  [ 0  1  0]\n",
       "[ 0  0  1], [ 0  0 -1], [ 0  0 -1], [ 0  0  1], [ 0  0  1], [ 0  0 -1]\n",
       "]"
      ]
     },
     "execution_count": 9,
     "metadata": {},
     "output_type": "execute_result"
    }
   ],
   "source": [
    "print(len(sl_stab3_1))\n",
    "sl_stab3_1"
   ]
  },
  {
   "cell_type": "code",
   "execution_count": 10,
   "id": "4c462b11",
   "metadata": {},
   "outputs": [
    {
     "name": "stdout",
     "output_type": "stream",
     "text": [
      "24\n"
     ]
    },
    {
     "data": {
      "text/plain": [
       "[\n",
       "[1 0 0]  [-1 -1 -1]  [ 1  0  0]  [0 1 0]  [ 0  0  1]  [0 0 1]\n",
       "[0 1 0]  [ 1  0  0]  [-1 -1 -1]  [0 0 1]  [ 0  1  0]  [1 0 0]\n",
       "[0 0 1], [ 0  0  1], [ 0  1  0], [1 0 0], [-1 -1 -1], [0 1 0],\n",
       "\n",
       "[ 0  1  0]  [ 1  0  0]  [-1 -1 -1]  [ 0  1  0]  [ 0  0  1]  [-1 -1 -1]\n",
       "[-1 -1 -1]  [ 0  0  1]  [ 0  1  0]  [ 1  0  0]  [-1 -1 -1]  [ 0  0  1]\n",
       "[ 0  0  1], [-1 -1 -1], [ 1  0  0], [-1 -1 -1], [ 1  0  0], [ 0  1  0],\n",
       "\n",
       "[ 1  1  1]  [-1  0  0]  [ 1  1  1]  [-1  0  0]  [ 0 -1  0]  [ 0  0 -1]\n",
       "[ 0  0 -1]  [ 0 -1  0]  [-1  0  0]  [ 1  1  1]  [ 0  0 -1]  [ 0 -1  0]\n",
       "[-1  0  0], [ 1  1  1], [ 0 -1  0], [ 0  0 -1], [ 1  1  1], [-1  0  0],\n",
       "\n",
       "[ 0  0 -1]  [ 0 -1  0]  [-1  0  0]  [ 1  1  1]  [ 0 -1  0]  [ 0  0 -1]\n",
       "[-1  0  0]  [ 1  1  1]  [ 0  0 -1]  [ 0 -1  0]  [-1  0  0]  [ 1  1  1]\n",
       "[ 1  1  1], [-1  0  0], [ 0 -1  0], [ 0  0 -1], [ 0  0 -1], [ 0 -1  0]\n",
       "]"
      ]
     },
     "execution_count": 10,
     "metadata": {},
     "output_type": "execute_result"
    }
   ],
   "source": [
    "print(len(sl_stab3_2))\n",
    "sl_stab3_2"
   ]
  },
  {
   "cell_type": "code",
   "execution_count": 11,
   "id": "ca7a2a75",
   "metadata": {},
   "outputs": [
    {
     "name": "stdout",
     "output_type": "stream",
     "text": [
      "8\n"
     ]
    },
    {
     "data": {
      "text/plain": [
       "[\n",
       "[1 0 0]  [-1  0  0]  [-1  0  0]  [ 1  0  0]  [ 1  0  0]  [-1  0  0]\n",
       "[0 1 0]  [ 1  1  0]  [ 0  0 -1]  [ 0  0  1]  [-1 -1  0]  [ 0 -1  0]\n",
       "[0 0 1], [ 0  0 -1], [ 0 -1  0], [-1 -1  0], [-1  0 -1], [ 1  0  1],\n",
       "\n",
       "[-1  0  0]  [ 1  0  0]\n",
       "[ 1  0  1]  [-1  0 -1]\n",
       "[ 1  1  0], [ 0  1  0]\n",
       "]"
      ]
     },
     "execution_count": 11,
     "metadata": {},
     "output_type": "execute_result"
    }
   ],
   "source": [
    "print(len(sl_stab4))\n",
    "sl_stab4"
   ]
  },
  {
   "cell_type": "code",
   "execution_count": 12,
   "id": "a3d3cb76",
   "metadata": {
    "scrolled": true
   },
   "outputs": [
    {
     "name": "stdout",
     "output_type": "stream",
     "text": [
      "24\n"
     ]
    },
    {
     "data": {
      "text/plain": [
       "[\n",
       "[1 0 0]  [ 1  1  1]  [ 0  0 -1]  [ 0 -1  0]  [ 1  1  0]  [-1  0 -1]\n",
       "[0 1 0]  [ 0 -1  0]  [ 1  0  1]  [-1  0 -1]  [-1 -1 -1]  [ 1  1  1]\n",
       "[0 0 1], [ 0  0 -1], [-1 -1  0], [ 1  1  0], [-1  0  0], [ 1  0  0],\n",
       "\n",
       "[-1  0  0]  [-1 -1 -1]  [ 0  0  1]  [ 0  1  0]  [-1 -1  0]  [ 1  0  1]\n",
       "[ 0  0 -1]  [ 0  0  1]  [ 1  1  0]  [-1 -1  0]  [ 1  0  0]  [-1  0  0]\n",
       "[ 0 -1  0], [ 0  1  0], [-1  0 -1], [ 1  0  1], [ 1  1  1], [-1 -1 -1],\n",
       "\n",
       "[-1  0  0]  [-1 -1 -1]  [ 0  0  1]  [ 0  1  0]  [-1 -1  0]  [ 1  0  1]\n",
       "[ 1  0  1]  [ 1  1  0]  [-1 -1 -1]  [ 1  0  0]  [ 0  1  0]  [ 0  0 -1]\n",
       "[ 1  1  0], [ 1  0  1], [ 1  0  0], [-1 -1 -1], [ 0  0 -1], [ 0  1  0],\n",
       "\n",
       "[ 1  0  0]  [ 1  1  1]  [ 0  0 -1]  [ 0 -1  0]  [ 1  1  0]  [-1  0 -1]\n",
       "[-1 -1  0]  [-1  0 -1]  [-1  0  0]  [ 1  1  1]  [ 0  0  1]  [ 0 -1  0]\n",
       "[-1  0 -1], [-1 -1  0], [ 1  1  1], [-1  0  0], [ 0 -1  0], [ 0  0  1]\n",
       "]"
      ]
     },
     "execution_count": 12,
     "metadata": {},
     "output_type": "execute_result"
    }
   ],
   "source": [
    "print(len(sl_stab5))\n",
    "sl_stab5"
   ]
  },
  {
   "cell_type": "code",
   "execution_count": 41,
   "id": "4c1e643a",
   "metadata": {},
   "outputs": [],
   "source": [
    "dict_stabilisers = {\n",
    "    \"stab2\": sl_stab2,\n",
    "    \"stab3_1\": sl_stab3_1,\n",
    "    \"stab3_2\": sl_stab3_2,\n",
    "    \"stab4\": sl_stab4,\n",
    "    \"stab5\": sl_stab5,\n",
    "}"
   ]
  },
  {
   "cell_type": "markdown",
   "id": "d82edf90",
   "metadata": {},
   "source": [
    "Format for transfer to Julia:"
   ]
  },
  {
   "cell_type": "code",
   "execution_count": 51,
   "id": "f3543e99",
   "metadata": {},
   "outputs": [],
   "source": [
    "def julia_matrices(string):\n",
    "    matrix_string = str()\n",
    "    matrix_string = matrix_string+string+\"_sage = \"\n",
    "    matrix_string = matrix_string+\"[\"\n",
    "    first_matrix = True\n",
    "    for matrix in dict_stabilisers[string]:\n",
    "        if not first_matrix:\n",
    "            matrix_string = matrix_string+\", \"\n",
    "        matrix_string = matrix_string+\"[\"\n",
    "        first_row = True\n",
    "        for row in matrix:\n",
    "            first_entry = True\n",
    "            if not first_row:\n",
    "                matrix_string = matrix_string+\";\"\n",
    "            for entry in row:\n",
    "                if not first_entry:\n",
    "                    matrix_string = matrix_string+\" \"\n",
    "                matrix_string = matrix_string+str(entry)\n",
    "                first_entry = False\n",
    "            first_row = False\n",
    "        matrix_string = matrix_string+\"]\"\n",
    "        first_matrix = False\n",
    "    matrix_string = matrix_string+\"]\"\n",
    "    return matrix_string"
   ]
  },
  {
   "cell_type": "code",
   "execution_count": 50,
   "id": "f6de1cb5",
   "metadata": {},
   "outputs": [
    {
     "data": {
      "text/plain": [
       "'stab2_sage = [[1 0 0;0 1 0;0 0 1], [1 0 0;0 -1 0;0 0 -1], [0 0 1;1 0 0;0 1 0], [0 0 1;-1 0 0;0 -1 0], [0 1 0;0 0 1;1 0 0], [0 1 0;0 0 -1;-1 0 0], [-1 0 0;0 1 0;0 0 -1], [-1 0 0;0 -1 0;0 0 1], [0 0 -1;1 0 0;0 -1 0], [0 0 -1;-1 0 0;0 1 0], [0 -1 0;0 0 1;-1 0 0], [0 -1 0;0 0 -1;1 0 0], [0 0 -1;0 -1 0;-1 0 0], [0 0 1;0 1 0;-1 0 0], [0 -1 0;-1 0 0;0 0 -1], [0 1 0;1 0 0;0 0 -1], [-1 0 0;0 0 -1;0 -1 0], [1 0 0;0 0 1;0 -1 0], [0 0 1;0 -1 0;1 0 0], [0 0 -1;0 1 0;1 0 0], [0 1 0;-1 0 0;0 0 1], [0 -1 0;1 0 0;0 0 1], [1 0 0;0 0 -1;0 1 0], [-1 0 0;0 0 1;0 1 0]]'"
      ]
     },
     "execution_count": 50,
     "metadata": {},
     "output_type": "execute_result"
    }
   ],
   "source": [
    "julia_matrices(\"stab2\")"
   ]
  },
  {
   "cell_type": "code",
   "execution_count": 52,
   "id": "86707678",
   "metadata": {},
   "outputs": [
    {
     "data": {
      "text/plain": [
       "'stab3_1_sage = [[1 0 0;0 1 0;0 0 1], [1 1 0;-1 0 0;0 0 1], [1 1 0;0 -1 0;0 0 -1], [0 1 0;-1 -1 0;0 0 1], [0 -1 0;-1 0 0;0 0 -1], [1 0 0;-1 -1 0;0 0 -1], [0 -1 0;1 1 0;0 0 1], [0 1 0;1 0 0;0 0 -1], [-1 0 0;1 1 0;0 0 -1], [-1 0 0;0 -1 0;0 0 1], [-1 -1 0;1 0 0;0 0 1], [-1 -1 0;0 1 0;0 0 -1]]'"
      ]
     },
     "execution_count": 52,
     "metadata": {},
     "output_type": "execute_result"
    }
   ],
   "source": [
    "julia_matrices(\"stab3_1\")"
   ]
  },
  {
   "cell_type": "code",
   "execution_count": 53,
   "id": "86e8f5be",
   "metadata": {},
   "outputs": [
    {
     "data": {
      "text/plain": [
       "'stab3_2_sage = [[1 0 0;0 1 0;0 0 1], [-1 -1 -1;1 0 0;0 0 1], [1 0 0;-1 -1 -1;0 1 0], [0 1 0;0 0 1;1 0 0], [0 0 1;0 1 0;-1 -1 -1], [0 0 1;1 0 0;0 1 0], [0 1 0;-1 -1 -1;0 0 1], [1 0 0;0 0 1;-1 -1 -1], [-1 -1 -1;0 1 0;1 0 0], [0 1 0;1 0 0;-1 -1 -1], [0 0 1;-1 -1 -1;1 0 0], [-1 -1 -1;0 0 1;0 1 0], [1 1 1;0 0 -1;-1 0 0], [-1 0 0;0 -1 0;1 1 1], [1 1 1;-1 0 0;0 -1 0], [-1 0 0;1 1 1;0 0 -1], [0 -1 0;0 0 -1;1 1 1], [0 0 -1;0 -1 0;-1 0 0], [0 0 -1;-1 0 0;1 1 1], [0 -1 0;1 1 1;-1 0 0], [-1 0 0;0 0 -1;0 -1 0], [1 1 1;0 -1 0;0 0 -1], [0 -1 0;-1 0 0;0 0 -1], [0 0 -1;1 1 1;0 -1 0]]'"
      ]
     },
     "execution_count": 53,
     "metadata": {},
     "output_type": "execute_result"
    }
   ],
   "source": [
    "julia_matrices(\"stab3_2\")"
   ]
  },
  {
   "cell_type": "code",
   "execution_count": 54,
   "id": "14df1994",
   "metadata": {},
   "outputs": [
    {
     "data": {
      "text/plain": [
       "'stab4_sage = [[1 0 0;0 1 0;0 0 1], [-1 0 0;1 1 0;0 0 -1], [-1 0 0;0 0 -1;0 -1 0], [1 0 0;0 0 1;-1 -1 0], [1 0 0;-1 -1 0;-1 0 -1], [-1 0 0;0 -1 0;1 0 1], [-1 0 0;1 0 1;1 1 0], [1 0 0;-1 0 -1;0 1 0]]'"
      ]
     },
     "execution_count": 54,
     "metadata": {},
     "output_type": "execute_result"
    }
   ],
   "source": [
    "julia_matrices(\"stab4\")"
   ]
  },
  {
   "cell_type": "code",
   "execution_count": 55,
   "id": "7f9b3f35",
   "metadata": {},
   "outputs": [
    {
     "data": {
      "text/plain": [
       "'stab5_sage = [[1 0 0;0 1 0;0 0 1], [1 1 1;0 -1 0;0 0 -1], [0 0 -1;1 0 1;-1 -1 0], [0 -1 0;-1 0 -1;1 1 0], [1 1 0;-1 -1 -1;-1 0 0], [-1 0 -1;1 1 1;1 0 0], [-1 0 0;0 0 -1;0 -1 0], [-1 -1 -1;0 0 1;0 1 0], [0 0 1;1 1 0;-1 0 -1], [0 1 0;-1 -1 0;1 0 1], [-1 -1 0;1 0 0;1 1 1], [1 0 1;-1 0 0;-1 -1 -1], [-1 0 0;1 0 1;1 1 0], [-1 -1 -1;1 1 0;1 0 1], [0 0 1;-1 -1 -1;1 0 0], [0 1 0;1 0 0;-1 -1 -1], [-1 -1 0;0 1 0;0 0 -1], [1 0 1;0 0 -1;0 1 0], [1 0 0;-1 -1 0;-1 0 -1], [1 1 1;-1 0 -1;-1 -1 0], [0 0 -1;-1 0 0;1 1 1], [0 -1 0;1 1 1;-1 0 0], [1 1 0;0 0 1;0 -1 0], [-1 0 -1;0 -1 0;0 0 1]]'"
      ]
     },
     "execution_count": 55,
     "metadata": {},
     "output_type": "execute_result"
    }
   ],
   "source": [
    "julia_matrices(\"stab5\")"
   ]
  },
  {
   "cell_type": "code",
   "execution_count": null,
   "id": "c0c1dedf",
   "metadata": {},
   "outputs": [],
   "source": []
  }
 ],
 "metadata": {
  "kernelspec": {
   "display_name": "SageMath 9.6",
   "language": "sage",
   "name": "sagemath"
  },
  "language_info": {
   "codemirror_mode": {
    "name": "ipython",
    "version": 3
   },
   "file_extension": ".py",
   "mimetype": "text/x-python",
   "name": "python",
   "nbconvert_exporter": "python",
   "pygments_lexer": "ipython3",
   "version": "3.10.9"
  }
 },
 "nbformat": 4,
 "nbformat_minor": 5
}
