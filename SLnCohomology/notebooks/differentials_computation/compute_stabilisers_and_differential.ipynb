{
 "cells": [
  {
   "cell_type": "markdown",
   "id": "dafda4a8",
   "metadata": {},
   "source": [
    "This was the initial notebook used for the computations of the SL_3 chain complex. Outdated now."
   ]
  },
  {
   "cell_type": "code",
   "execution_count": 2,
   "id": "530baa4c",
   "metadata": {},
   "outputs": [
    {
     "name": "stderr",
     "output_type": "stream",
     "text": [
      "\u001b[32m\u001b[1m  Activating\u001b[22m\u001b[39m project at `~/Desktop/HigherTSL3/Computations chain complex`\n"
     ]
    }
   ],
   "source": [
    "using Pkg\n",
    "Pkg.activate(\"../\")"
   ]
  },
  {
   "cell_type": "code",
   "execution_count": 4,
   "id": "7f299e07",
   "metadata": {},
   "outputs": [
    {
     "name": "stderr",
     "output_type": "stream",
     "text": [
      "\u001b[32m\u001b[1m    Updating\u001b[22m\u001b[39m registry at `~/.julia/registries/General.toml`\n",
      "\u001b[32m\u001b[1m   Resolving\u001b[22m\u001b[39m package versions...\n",
      "\u001b[32m\u001b[1m    Updating\u001b[22m\u001b[39m `~/Desktop/HigherTSL3/Computations chain complex/Project.toml`\n",
      " \u001b[90m [861a8166] \u001b[39m\u001b[92m+ Combinatorics v1.0.2\u001b[39m\n",
      "\u001b[32m\u001b[1m    Updating\u001b[22m\u001b[39m `~/Desktop/HigherTSL3/Computations chain complex/Manifest.toml`\n",
      " \u001b[90m [861a8166] \u001b[39m\u001b[92m+ Combinatorics v1.0.2\u001b[39m\n"
     ]
    }
   ],
   "source": [
    "Pkg.add(\"Combinatorics\")"
   ]
  },
  {
   "cell_type": "code",
   "execution_count": 5,
   "id": "9691a547",
   "metadata": {},
   "outputs": [],
   "source": [
    "using LinearAlgebra\n",
    "using Combinatorics"
   ]
  },
  {
   "cell_type": "markdown",
   "id": "f020d492",
   "metadata": {},
   "source": [
    "Computations of SL_3(Z) stabilisers of the cells in the interior of the Voronoi tesselation of the corresponding symmetric space. Also below computations of the \"equivariant differentials\".\n",
    "\n",
    "General strategy: Compute the barycenters corresponding to the cells. Check whether they lie in the same orbits. Go back and forth between descriptions via quadratic forms and minimal vectors.\n",
    "\n",
    "Just the computations I did, would probably need more documentation and clean up. Also, I'm new to Julia, probably that does show."
   ]
  },
  {
   "cell_type": "markdown",
   "id": "82af6612",
   "metadata": {},
   "source": [
    "# The data"
   ]
  },
  {
   "cell_type": "code",
   "execution_count": 6,
   "id": "ce7ed0c1",
   "metadata": {},
   "outputs": [
    {
     "data": {
      "text/plain": [
       "3-element Vector{Int64}:\n",
       " 1\n",
       " 1\n",
       " 1"
      ]
     },
     "execution_count": 6,
     "metadata": {},
     "output_type": "execute_result"
    }
   ],
   "source": [
    "e1 = [1,0,0]\n",
    "e2 = [0,1,0]\n",
    "e3 = [0,0,1]\n",
    "e12 = [1,1,0]\n",
    "e13 = [1,0,1]\n",
    "e123 = [1,1,1]"
   ]
  },
  {
   "cell_type": "code",
   "execution_count": 7,
   "id": "c5a9f4b2",
   "metadata": {},
   "outputs": [
    {
     "data": {
      "text/plain": [
       "Dict{Any, Any} with 5 entries:\n",
       "  \"m2\"   => [1 0 0; 0 1 0; 0 0 1]\n",
       "  \"m3_1\" => [1 0 0 1; 0 1 0 1; 0 0 1 0]\n",
       "  \"m3_2\" => [1 0 0 1; 0 1 0 1; 0 0 1 1]\n",
       "  \"m4\"   => [1 0 … 1 1; 0 1 … 1 0; 0 0 … 0 1]\n",
       "  \"m5\"   => [1 0 … 1 1; 0 1 … 0 1; 0 0 … 1 1]"
      ]
     },
     "execution_count": 7,
     "metadata": {},
     "output_type": "execute_result"
    }
   ],
   "source": [
    "# The following are the different orbits of cells in the interior:\n",
    "m2 = [e1 e2 e3] # standard\n",
    "m3_1 = [e1 e2 e3 e12] # 2-additive\n",
    "m3_2 = [e1 e2 e3 e123] # 3-additive\n",
    "m4 = [e1 e2 e3 e12 e13] # double-triple\n",
    "m5 = [e1 e2 e3 e12 e13 e123] # Q\n",
    "cells = Dict()\n",
    "cells[\"m2\"] = m2\n",
    "cells[\"m3_1\"] = m3_1\n",
    "cells[\"m3_2\"] = m3_2\n",
    "cells[\"m4\"] = m4\n",
    "cells[\"m5\"] = m5\n",
    "cells"
   ]
  },
  {
   "cell_type": "code",
   "execution_count": 22,
   "id": "8dc46857",
   "metadata": {},
   "outputs": [
    {
     "data": {
      "text/plain": [
       "5-element Vector{Matrix{Int64}}:\n",
       " [1 0 0; 0 1 0; 0 0 1]\n",
       " [2 1 0; 1 2 0; 0 0 1]\n",
       " [2 1 1; 1 2 1; 1 1 2]\n",
       " [3 1 1; 1 2 0; 1 0 2]\n",
       " [4 2 2; 2 3 1; 2 1 3]"
      ]
     },
     "execution_count": 22,
     "metadata": {},
     "output_type": "execute_result"
    }
   ],
   "source": [
    "# in terms of quadratic forms, they look like this:\n",
    "standard_cells_quadratic = [m2, m3_1*transpose(m3_1),m3_2*transpose(m3_2),m4*transpose(m4), m5*transpose(m5)]"
   ]
  },
  {
   "cell_type": "markdown",
   "id": "065040dd",
   "metadata": {},
   "source": [
    "Determinants of the standard cells, seen as quadratic forms:"
   ]
  },
  {
   "cell_type": "code",
   "execution_count": 23,
   "id": "e1c79337",
   "metadata": {},
   "outputs": [
    {
     "data": {
      "text/plain": [
       "Dict{Any, Any} with 5 entries:\n",
       "  \"m2\"   => 1\n",
       "  \"m3_1\" => 3\n",
       "  \"m3_2\" => 4\n",
       "  \"m4\"   => 8\n",
       "  \"m5\"   => 16"
      ]
     },
     "execution_count": 23,
     "metadata": {},
     "output_type": "execute_result"
    }
   ],
   "source": [
    "det_cells = Dict()\n",
    "det_cells[\"m2\"] = round(Int64,det(m2))\n",
    "det_cells[\"m3_1\"] = round(Int64,(det(m3_1*transpose(m3_1))))\n",
    "det_cells[\"m3_2\"] = round(Int64,(det(m3_2*transpose(m3_2))))\n",
    "det_cells[\"m4\"] = round(Int64,(det(m4*transpose(m4))))\n",
    "det_cells[\"m5\"] = round(Int64,(det(m5*transpose(m5))))\n",
    "det_cells"
   ]
  },
  {
   "cell_type": "markdown",
   "id": "358ff5ed",
   "metadata": {},
   "source": [
    "Note that these determinants already allow one to see which matrix must be in which orbit as congruence with a matrix in SL_n doesn't change the determinant."
   ]
  },
  {
   "cell_type": "markdown",
   "id": "1a3ba013",
   "metadata": {},
   "source": [
    "# Computations"
   ]
  },
  {
   "cell_type": "markdown",
   "id": "98c005f2",
   "metadata": {},
   "source": [
    "## Stabilisers"
   ]
  },
  {
   "cell_type": "code",
   "execution_count": 24,
   "id": "9048dcbc",
   "metadata": {},
   "outputs": [
    {
     "data": {
      "text/plain": [
       "signed_matrices (generic function with 1 method)"
      ]
     },
     "execution_count": 24,
     "metadata": {},
     "output_type": "execute_result"
    }
   ],
   "source": [
    "function signed_matrices(dimension)\n",
    "    # Returns all diagional square \"sign matrices\" in dimension\n",
    "    signs_list = []\n",
    "    for set in powerset(1:dimension)\n",
    "        matrix = zeros(Int8,dimension,dimension)\n",
    "        for i in 1:dimension\n",
    "            if i in set\n",
    "                matrix[(i-1)*dimension+(i)] = -1\n",
    "            else\n",
    "                matrix[(i-1)*dimension+(i)] = 1\n",
    "            end\n",
    "        end\n",
    "        push!(signs_list,matrix)\n",
    "    end    \n",
    "    return signs_list\n",
    "end"
   ]
  },
  {
   "cell_type": "code",
   "execution_count": 25,
   "id": "b3b818b9",
   "metadata": {},
   "outputs": [
    {
     "data": {
      "text/plain": [
       "bases_in_integer_lattices (generic function with 1 method)"
      ]
     },
     "execution_count": 25,
     "metadata": {},
     "output_type": "execute_result"
    }
   ],
   "source": [
    "function bases_in_integer_lattices(matrix)\n",
    "    # matrix an integer matrix whose columns form a basis of the lattice\n",
    "    # returns all sets of bases, with all possible sign combinations\n",
    "    bases = []\n",
    "    columns = collect(eachcol(matrix)) # set of all columns\n",
    "    dimension = length(columns[1])\n",
    "    sign_changes = signed_matrices(dimension)\n",
    "    for candidate in Combinatorics.permutations(columns,dimension) # all subsets of columns of with dimension-many elements\n",
    "        matrix_candidate = transpose(reduce(vcat,transpose.(candidate)))\n",
    "        if (det(matrix_candidate) == 1) || (det(matrix_candidate) == -1)\n",
    "            #if that's the case, candidate is a basis of Z^dimension\n",
    "            for sign in sign_changes\n",
    "                # each basis element can be multiplied by +-1. Add all combinations\n",
    "                push!(bases, matrix_candidate*sign)\n",
    "            end\n",
    "        end\n",
    "    end\n",
    "    return bases\n",
    "end"
   ]
  },
  {
   "cell_type": "code",
   "execution_count": 26,
   "id": "dad3ea03",
   "metadata": {},
   "outputs": [
    {
     "data": {
      "text/plain": [
       "144-element Vector{Any}:\n",
       " [1 0 0; 0 1 0; 0 0 1]\n",
       " [-1 0 0; 0 1 0; 0 0 1]\n",
       " [1 0 0; 0 -1 0; 0 0 1]\n",
       " [1 0 0; 0 1 0; 0 0 -1]\n",
       " [-1 0 0; 0 -1 0; 0 0 1]\n",
       " [-1 0 0; 0 1 0; 0 0 -1]\n",
       " [1 0 0; 0 -1 0; 0 0 -1]\n",
       " [-1 0 0; 0 -1 0; 0 0 -1]\n",
       " [1 0 0; 0 0 1; 0 1 0]\n",
       " [-1 0 0; 0 0 1; 0 1 0]\n",
       " [1 0 0; 0 0 1; 0 -1 0]\n",
       " [1 0 0; 0 0 -1; 0 1 0]\n",
       " [-1 0 0; 0 0 1; 0 -1 0]\n",
       " ⋮\n",
       " [-1 0 1; -1 0 0; 0 -1 0]\n",
       " [-1 0 -1; -1 0 0; 0 1 0]\n",
       " [1 0 -1; 1 0 0; 0 -1 0]\n",
       " [-1 0 -1; -1 0 0; 0 -1 0]\n",
       " [1 0 0; 1 0 1; 0 1 0]\n",
       " [-1 0 0; -1 0 1; 0 1 0]\n",
       " [1 0 0; 1 0 1; 0 -1 0]\n",
       " [1 0 0; 1 0 -1; 0 1 0]\n",
       " [-1 0 0; -1 0 1; 0 -1 0]\n",
       " [-1 0 0; -1 0 -1; 0 1 0]\n",
       " [1 0 0; 1 0 -1; 0 -1 0]\n",
       " [-1 0 0; -1 0 -1; 0 -1 0]"
      ]
     },
     "execution_count": 26,
     "metadata": {},
     "output_type": "execute_result"
    }
   ],
   "source": [
    "bases_in_integer_lattices(m3_1)"
   ]
  },
  {
   "cell_type": "markdown",
   "id": "2c538583",
   "metadata": {},
   "source": [
    "If a g\\in SL_3 sends e.g. m3_1 to m3_1, it in particular needs to send the first three of its vertices, given by the identity matrix, to a basis B in m3_1 \"modulio +-1\" again. I.e. we must have g^t id = B. So all candidate g must be of the form B^t for one of the Bs above."
   ]
  },
  {
   "cell_type": "code",
   "execution_count": 27,
   "id": "d3bcccf1",
   "metadata": {},
   "outputs": [
    {
     "data": {
      "text/plain": [
       "stabiliser_coset (generic function with 1 method)"
      ]
     },
     "execution_count": 27,
     "metadata": {},
     "output_type": "execute_result"
    }
   ],
   "source": [
    "function stabiliser_coset(matrix1, matrix2)\n",
    "    #= \n",
    "    matrix1, matrix2 integer matrix whose columns form a basis of the lattice. \n",
    "    The first columns of matrix1 need to be the standard basis.\n",
    "    Returns all g \\in SL_dimension(Z) that send the quadratic form associated to matrix1 to \n",
    "    the one associated to matrix 2\n",
    "    =#\n",
    "    elements = []\n",
    "    quadratic_form1 = matrix1*transpose(matrix1) # the quadratic form associated to the lattice\n",
    "    quadratic_form2 = matrix2*transpose(matrix2) # the quadratic form associated to the lattice\n",
    "    candidates = bases_in_integer_lattices(matrix2) # bases in the image\n",
    "    for g_transpose in candidates\n",
    "        if det(g_transpose) == 1\n",
    "            # then it lies in SL\n",
    "            g = transpose(g_transpose)\n",
    "            if (g_transpose*quadratic_form1*g == quadratic_form2)\n",
    "                push!(elements,g)\n",
    "            end\n",
    "        end\n",
    "    end\n",
    "    return elements\n",
    "end"
   ]
  },
  {
   "cell_type": "code",
   "execution_count": 28,
   "id": "3295899b",
   "metadata": {},
   "outputs": [
    {
     "data": {
      "text/plain": [
       "stabiliser (generic function with 1 method)"
      ]
     },
     "execution_count": 28,
     "metadata": {},
     "output_type": "execute_result"
    }
   ],
   "source": [
    "function stabiliser(matrix)\n",
    "    # matrix an integer matrix whose columns form a basis of the lattice\n",
    "    stab = stabiliser_coset(matrix,matrix)\n",
    "    return stab\n",
    "end"
   ]
  },
  {
   "cell_type": "code",
   "execution_count": 29,
   "id": "964204e0",
   "metadata": {},
   "outputs": [
    {
     "data": {
      "text/plain": [
       "Dict{Any, Any} with 5 entries:\n",
       "  \"m2\"   => Any[[1 0 0; 0 1 0; 0 0 1], [-1 0 0; 0 -1 0; 0 0 1], [-1 0 0; 0 1 0;…\n",
       "  \"m3_1\" => Any[[1 0 0; 0 1 0; 0 0 1], [-1 0 0; 0 -1 0; 0 0 1], [-1 0 0; 1 1 0;…\n",
       "  \"m3_2\" => Any[[1 0 0; 0 1 0; 0 0 1], [-1 0 0; 0 -1 0; 1 1 1], [-1 0 0; 0 0 -1…\n",
       "  \"m4\"   => Any[[1 0 0; 0 1 0; 0 0 1], [-1 0 0; 0 -1 0; 1 0 1], [-1 0 0; 0 0 -1…\n",
       "  \"m5\"   => Any[[1 0 0; 0 1 0; 0 0 1], [-1 0 0; 0 0 -1; 0 -1 0], [1 0 0; -1 -1 …"
      ]
     },
     "execution_count": 29,
     "metadata": {},
     "output_type": "execute_result"
    }
   ],
   "source": [
    "stab2 = stabiliser(m2)\n",
    "stab3_1 = stabiliser(m3_1)\n",
    "stab3_2 = stabiliser(m3_2)\n",
    "stab4 = stabiliser(m4)\n",
    "stab5 = stabiliser(m5)\n",
    "stabilisers_dict = Dict()\n",
    "stabilisers_dict[\"m2\"] = stab2\n",
    "stabilisers_dict[\"m3_1\"] = stab3_1\n",
    "stabilisers_dict[\"m3_2\"] = stab3_2\n",
    "stabilisers_dict[\"m4\"] = stab4\n",
    "stabilisers_dict[\"m5\"] = stab5\n",
    "stabilisers_dict"
   ]
  },
  {
   "cell_type": "code",
   "execution_count": 30,
   "id": "88a1b459",
   "metadata": {},
   "outputs": [],
   "source": [
    "#output to file\n",
    "open(\"sl3_stabilisers.txt\",\"w\") do io\n",
    "    for (name, stabiliser) in stabilisers_dict\n",
    "        println(io,\"The stabiliser of the standard cell \" * name * \" is a group of size \"*string(length(stabiliser))*\".\")\n",
    "        println(io,\"Its elements are:\")\n",
    "        println(io,stabiliser)\n",
    "        println(io)\n",
    "    end\n",
    "end"
   ]
  },
  {
   "cell_type": "markdown",
   "id": "6568d3cf",
   "metadata": {},
   "source": [
    "### Compare to Sage computations\n",
    "Some checks to see whether the above is correct. It at least agrees with the ones from Sage."
   ]
  },
  {
   "cell_type": "code",
   "execution_count": 31,
   "id": "1dd22253",
   "metadata": {},
   "outputs": [
    {
     "data": {
      "text/plain": [
       "is_group (generic function with 1 method)"
      ]
     },
     "execution_count": 31,
     "metadata": {},
     "output_type": "execute_result"
    }
   ],
   "source": [
    "function is_group(list)\n",
    "    # checks whether a list of matrices is closed under multiplication\n",
    "    for g in list\n",
    "        for h in list\n",
    "            if !(g*h in list)\n",
    "                return false\n",
    "            end\n",
    "        end\n",
    "    end\n",
    "    return true\n",
    "end"
   ]
  },
  {
   "cell_type": "code",
   "execution_count": 32,
   "id": "f1a7e47e",
   "metadata": {},
   "outputs": [
    {
     "data": {
      "text/plain": [
       "true"
      ]
     },
     "execution_count": 32,
     "metadata": {},
     "output_type": "execute_result"
    }
   ],
   "source": [
    "is_group(stabiliser(m3_1))"
   ]
  },
  {
   "cell_type": "code",
   "execution_count": 33,
   "id": "4d195224",
   "metadata": {},
   "outputs": [
    {
     "data": {
      "text/plain": [
       "true"
      ]
     },
     "execution_count": 33,
     "metadata": {},
     "output_type": "execute_result"
    }
   ],
   "source": [
    "is_group(stabiliser(m3_2))"
   ]
  },
  {
   "cell_type": "code",
   "execution_count": 34,
   "id": "7b51f048",
   "metadata": {},
   "outputs": [
    {
     "data": {
      "text/plain": [
       "true"
      ]
     },
     "execution_count": 34,
     "metadata": {},
     "output_type": "execute_result"
    }
   ],
   "source": [
    "is_group(stabiliser(m4))"
   ]
  },
  {
   "cell_type": "code",
   "execution_count": 35,
   "id": "88641815",
   "metadata": {
    "scrolled": true
   },
   "outputs": [
    {
     "data": {
      "text/plain": [
       "true"
      ]
     },
     "execution_count": 35,
     "metadata": {},
     "output_type": "execute_result"
    }
   ],
   "source": [
    "is_group(stabiliser(m5))"
   ]
  },
  {
   "cell_type": "code",
   "execution_count": 36,
   "id": "42fcc138",
   "metadata": {
    "scrolled": true
   },
   "outputs": [
    {
     "data": {
      "text/plain": [
       "24-element Vector{Matrix{Int64}}:\n",
       " [1 0 0; 0 1 0; 0 0 1]\n",
       " [1 1 1; 0 -1 0; 0 0 -1]\n",
       " [0 0 -1; 1 0 1; -1 -1 0]\n",
       " [0 -1 0; -1 0 -1; 1 1 0]\n",
       " [1 1 0; -1 -1 -1; -1 0 0]\n",
       " [-1 0 -1; 1 1 1; 1 0 0]\n",
       " [-1 0 0; 0 0 -1; 0 -1 0]\n",
       " [-1 -1 -1; 0 0 1; 0 1 0]\n",
       " [0 0 1; 1 1 0; -1 0 -1]\n",
       " [0 1 0; -1 -1 0; 1 0 1]\n",
       " [-1 -1 0; 1 0 0; 1 1 1]\n",
       " [1 0 1; -1 0 0; -1 -1 -1]\n",
       " [-1 0 0; 1 0 1; 1 1 0]\n",
       " [-1 -1 -1; 1 1 0; 1 0 1]\n",
       " [0 0 1; -1 -1 -1; 1 0 0]\n",
       " [0 1 0; 1 0 0; -1 -1 -1]\n",
       " [-1 -1 0; 0 1 0; 0 0 -1]\n",
       " [1 0 1; 0 0 -1; 0 1 0]\n",
       " [1 0 0; -1 -1 0; -1 0 -1]\n",
       " [1 1 1; -1 0 -1; -1 -1 0]\n",
       " [0 0 -1; -1 0 0; 1 1 1]\n",
       " [0 -1 0; 1 1 1; -1 0 0]\n",
       " [1 1 0; 0 0 1; 0 -1 0]\n",
       " [-1 0 -1; 0 -1 0; 0 0 1]"
      ]
     },
     "execution_count": 36,
     "metadata": {},
     "output_type": "execute_result"
    }
   ],
   "source": [
    "# I copied in the following from the sage computations (using automorphisms() of sage.quadratic_forms.quadratic_form.QuadraticForm)\n",
    "stab2_sage = [[1 0 0;0 1 0;0 0 1], [1 0 0;0 -1 0;0 0 -1], [0 0 1;1 0 0;0 1 0], [0 0 1;-1 0 0;0 -1 0], [0 1 0;0 0 1;1 0 0], [0 1 0;0 0 -1;-1 0 0], [-1 0 0;0 1 0;0 0 -1], [-1 0 0;0 -1 0;0 0 1], [0 0 -1;1 0 0;0 -1 0], [0 0 -1;-1 0 0;0 1 0], [0 -1 0;0 0 1;-1 0 0], [0 -1 0;0 0 -1;1 0 0], [0 0 -1;0 -1 0;-1 0 0], [0 0 1;0 1 0;-1 0 0], [0 -1 0;-1 0 0;0 0 -1], [0 1 0;1 0 0;0 0 -1], [-1 0 0;0 0 -1;0 -1 0], [1 0 0;0 0 1;0 -1 0], [0 0 1;0 -1 0;1 0 0], [0 0 -1;0 1 0;1 0 0], [0 1 0;-1 0 0;0 0 1], [0 -1 0;1 0 0;0 0 1], [1 0 0;0 0 -1;0 1 0], [-1 0 0;0 0 1;0 1 0]]\n",
    "stab3_1_sage = [[1 0 0;0 1 0;0 0 1], [1 1 0;-1 0 0;0 0 1], [1 1 0;0 -1 0;0 0 -1], [0 1 0;-1 -1 0;0 0 1], [0 -1 0;-1 0 0;0 0 -1], [1 0 0;-1 -1 0;0 0 -1], [0 -1 0;1 1 0;0 0 1], [0 1 0;1 0 0;0 0 -1], [-1 0 0;1 1 0;0 0 -1], [-1 0 0;0 -1 0;0 0 1], [-1 -1 0;1 0 0;0 0 1], [-1 -1 0;0 1 0;0 0 -1]]\n",
    "stab3_2_sage = [[1 0 0;0 1 0;0 0 1], [-1 -1 -1;1 0 0;0 0 1], [1 0 0;-1 -1 -1;0 1 0], [0 1 0;0 0 1;1 0 0], [0 0 1;0 1 0;-1 -1 -1], [0 0 1;1 0 0;0 1 0], [0 1 0;-1 -1 -1;0 0 1], [1 0 0;0 0 1;-1 -1 -1], [-1 -1 -1;0 1 0;1 0 0], [0 1 0;1 0 0;-1 -1 -1], [0 0 1;-1 -1 -1;1 0 0], [-1 -1 -1;0 0 1;0 1 0], [1 1 1;0 0 -1;-1 0 0], [-1 0 0;0 -1 0;1 1 1], [1 1 1;-1 0 0;0 -1 0], [-1 0 0;1 1 1;0 0 -1], [0 -1 0;0 0 -1;1 1 1], [0 0 -1;0 -1 0;-1 0 0], [0 0 -1;-1 0 0;1 1 1], [0 -1 0;1 1 1;-1 0 0], [-1 0 0;0 0 -1;0 -1 0], [1 1 1;0 -1 0;0 0 -1], [0 -1 0;-1 0 0;0 0 -1], [0 0 -1;1 1 1;0 -1 0]]\n",
    "stab4_sage = [[1 0 0;0 1 0;0 0 1], [-1 0 0;1 1 0;0 0 -1], [-1 0 0;0 0 -1;0 -1 0], [1 0 0;0 0 1;-1 -1 0], [1 0 0;-1 -1 0;-1 0 -1], [-1 0 0;0 -1 0;1 0 1], [-1 0 0;1 0 1;1 1 0], [1 0 0;-1 0 -1;0 1 0]]\n",
    "stab5_sage = [[1 0 0;0 1 0;0 0 1], [1 1 1;0 -1 0;0 0 -1], [0 0 -1;1 0 1;-1 -1 0], [0 -1 0;-1 0 -1;1 1 0], [1 1 0;-1 -1 -1;-1 0 0], [-1 0 -1;1 1 1;1 0 0], [-1 0 0;0 0 -1;0 -1 0], [-1 -1 -1;0 0 1;0 1 0], [0 0 1;1 1 0;-1 0 -1], [0 1 0;-1 -1 0;1 0 1], [-1 -1 0;1 0 0;1 1 1], [1 0 1;-1 0 0;-1 -1 -1], [-1 0 0;1 0 1;1 1 0], [-1 -1 -1;1 1 0;1 0 1], [0 0 1;-1 -1 -1;1 0 0], [0 1 0;1 0 0;-1 -1 -1], [-1 -1 0;0 1 0;0 0 -1], [1 0 1;0 0 -1;0 1 0], [1 0 0;-1 -1 0;-1 0 -1], [1 1 1;-1 0 -1;-1 -1 0], [0 0 -1;-1 0 0;1 1 1], [0 -1 0;1 1 1;-1 0 0], [1 1 0;0 0 1;0 -1 0], [-1 0 -1;0 -1 0;0 0 1]]"
   ]
  },
  {
   "cell_type": "code",
   "execution_count": 37,
   "id": "78633155",
   "metadata": {},
   "outputs": [
    {
     "data": {
      "text/plain": [
       "true"
      ]
     },
     "execution_count": 37,
     "metadata": {},
     "output_type": "execute_result"
    }
   ],
   "source": [
    "Set(stab2) == Set(stab2_sage)"
   ]
  },
  {
   "cell_type": "code",
   "execution_count": 38,
   "id": "94cc1706",
   "metadata": {},
   "outputs": [
    {
     "data": {
      "text/plain": [
       "true"
      ]
     },
     "execution_count": 38,
     "metadata": {},
     "output_type": "execute_result"
    }
   ],
   "source": [
    "Set(stab3_1) == Set(stab3_1_sage)"
   ]
  },
  {
   "cell_type": "code",
   "execution_count": 39,
   "id": "f9259271",
   "metadata": {},
   "outputs": [
    {
     "data": {
      "text/plain": [
       "true"
      ]
     },
     "execution_count": 39,
     "metadata": {},
     "output_type": "execute_result"
    }
   ],
   "source": [
    "Set(stab3_2) == Set(stab3_2_sage)"
   ]
  },
  {
   "cell_type": "code",
   "execution_count": 40,
   "id": "a8c8e90f",
   "metadata": {},
   "outputs": [
    {
     "data": {
      "text/plain": [
       "true"
      ]
     },
     "execution_count": 40,
     "metadata": {},
     "output_type": "execute_result"
    }
   ],
   "source": [
    "Set(stab4) == Set(stab4_sage)"
   ]
  },
  {
   "cell_type": "code",
   "execution_count": 41,
   "id": "67a6aad5",
   "metadata": {},
   "outputs": [
    {
     "data": {
      "text/plain": [
       "true"
      ]
     },
     "execution_count": 41,
     "metadata": {},
     "output_type": "execute_result"
    }
   ],
   "source": [
    "Set(stab5) == Set(stab5_sage)"
   ]
  },
  {
   "cell_type": "markdown",
   "id": "fb5d5bc8",
   "metadata": {},
   "source": [
    "## Differential"
   ]
  },
  {
   "cell_type": "markdown",
   "id": "a6105906",
   "metadata": {},
   "source": [
    "### Old version using quadratic forms"
   ]
  },
  {
   "cell_type": "code",
   "execution_count": 42,
   "id": "dcdccb72",
   "metadata": {},
   "outputs": [
    {
     "data": {
      "text/plain": [
       "compute_boundaries_quadratic (generic function with 1 method)"
      ]
     },
     "execution_count": 42,
     "metadata": {},
     "output_type": "execute_result"
    }
   ],
   "source": [
    "function compute_boundaries_quadratic(matrix)\n",
    "    boundaries_matrix = []\n",
    "    for j in 1:size(matrix)[2]\n",
    "        barycentre = zeros(Int8,3,3)\n",
    "        for i in 1:size(matrix)[2]\n",
    "            if j!=i\n",
    "                barycentre = barycentre+ matrix[:,i]* transpose(matrix[:,i])\n",
    "            end\n",
    "        end\n",
    "        push!(boundaries_matrix, barycentre)\n",
    "    end\n",
    "    return boundaries_matrix\n",
    "end"
   ]
  },
  {
   "cell_type": "code",
   "execution_count": 43,
   "id": "4f0f60d9",
   "metadata": {},
   "outputs": [],
   "source": [
    "boundaries = []\n",
    "for matrix in (m3_1,m3_2,m4,m5)\n",
    "     push!(boundaries,compute_boundaries_quadratic(matrix))\n",
    "end"
   ]
  },
  {
   "cell_type": "markdown",
   "id": "95d62255",
   "metadata": {},
   "source": [
    "Among these boundary matrices, there is one that is not positive definite. Namely the 2-dimensional 2-additive boundary of the 3-dimensional 2-additive matrix:"
   ]
  },
  {
   "cell_type": "code",
   "execution_count": 44,
   "id": "8fb10592",
   "metadata": {},
   "outputs": [
    {
     "name": "stdout",
     "output_type": "stream",
     "text": [
      "truetruefalsetruetruetruetruetruetruetruetruetruetruetruetruetruetruetruetrue"
     ]
    }
   ],
   "source": [
    "for i in 1:4\n",
    "    for matrix in boundaries[i]\n",
    "        print(isposdef(matrix))\n",
    "    end\n",
    "end"
   ]
  },
  {
   "cell_type": "code",
   "execution_count": 45,
   "id": "a6edfac9",
   "metadata": {
    "scrolled": true
   },
   "outputs": [
    {
     "name": "stdout",
     "output_type": "stream",
     "text": [
      "Determinant of cells in the boundary:\n",
      "1.0\n",
      "1.0\n",
      "0.0\n",
      "1.0\n",
      "Determinant of cells in the boundary:\n",
      "1.0\n",
      "1.0\n",
      "1.0\n",
      "1.0\n",
      "Determinant of cells in the boundary:\n",
      "4.0\n",
      "3.0\n",
      "3.0000000000000004\n",
      "3.0\n",
      "3.0\n",
      "Determinant of cells in the boundary:\n",
      "8.0\n",
      "8.0\n",
      "8.0\n",
      "8.0\n",
      "8.0\n",
      "8.0\n"
     ]
    }
   ],
   "source": [
    "for i in 1:4\n",
    "    println(\"Determinant of cells in the boundary:\")\n",
    "    for matrix in boundaries[i]\n",
    "        println(det(matrix))\n",
    "    end\n",
    "end"
   ]
  },
  {
   "cell_type": "markdown",
   "id": "5108c300",
   "metadata": {},
   "source": [
    "### New version using bases"
   ]
  },
  {
   "cell_type": "code",
   "execution_count": 46,
   "id": "26f2766f",
   "metadata": {},
   "outputs": [
    {
     "data": {
      "text/plain": [
       "compute_boundaries (generic function with 1 method)"
      ]
     },
     "execution_count": 46,
     "metadata": {},
     "output_type": "execute_result"
    }
   ],
   "source": [
    "# a simplified version to check whether everything works:\n",
    "function compute_boundaries(matrix)\n",
    "    boundaries_matrix = []\n",
    "    for j in 1:size(matrix)[2]\n",
    "        boundary = matrix[begin:end,begin:end .!=j]\n",
    "        push!(boundaries_matrix, boundary)\n",
    "    end\n",
    "    return boundaries_matrix\n",
    "end"
   ]
  },
  {
   "cell_type": "code",
   "execution_count": 47,
   "id": "6fe87d0b",
   "metadata": {},
   "outputs": [
    {
     "data": {
      "text/plain": [
       "3×6 Matrix{Int64}:\n",
       " 1  0  0  1  1  1\n",
       " 0  1  0  1  0  1\n",
       " 0  0  1  0  1  1"
      ]
     },
     "metadata": {},
     "output_type": "display_data"
    },
    {
     "data": {
      "text/plain": [
       "3×5 Matrix{Int64}:\n",
       " 0  0  1  1  1\n",
       " 1  0  1  0  1\n",
       " 0  1  0  1  1"
      ]
     },
     "metadata": {},
     "output_type": "display_data"
    },
    {
     "data": {
      "text/plain": [
       "3×5 Matrix{Int64}:\n",
       " 1  0  1  1  1\n",
       " 0  0  1  0  1\n",
       " 0  1  0  1  1"
      ]
     },
     "metadata": {},
     "output_type": "display_data"
    },
    {
     "data": {
      "text/plain": [
       "3×5 Matrix{Int64}:\n",
       " 1  0  1  1  1\n",
       " 0  1  1  0  1\n",
       " 0  0  0  1  1"
      ]
     },
     "metadata": {},
     "output_type": "display_data"
    },
    {
     "data": {
      "text/plain": [
       "3×5 Matrix{Int64}:\n",
       " 1  0  0  1  1\n",
       " 0  1  0  0  1\n",
       " 0  0  1  1  1"
      ]
     },
     "metadata": {},
     "output_type": "display_data"
    },
    {
     "data": {
      "text/plain": [
       "3×5 Matrix{Int64}:\n",
       " 1  0  0  1  1\n",
       " 0  1  0  1  1\n",
       " 0  0  1  0  1"
      ]
     },
     "metadata": {},
     "output_type": "display_data"
    },
    {
     "data": {
      "text/plain": [
       "3×5 Matrix{Int64}:\n",
       " 1  0  0  1  1\n",
       " 0  1  0  1  0\n",
       " 0  0  1  0  1"
      ]
     },
     "metadata": {},
     "output_type": "display_data"
    }
   ],
   "source": [
    "display(m5)\n",
    "for matrix in compute_boundaries(m5)\n",
    "    display(matrix)\n",
    "end"
   ]
  },
  {
   "cell_type": "code",
   "execution_count": 48,
   "id": "605eb7db",
   "metadata": {},
   "outputs": [
    {
     "data": {
      "text/plain": [
       "boundaries_in_group_ring (generic function with 1 method)"
      ]
     },
     "execution_count": 48,
     "metadata": {},
     "output_type": "execute_result"
    }
   ],
   "source": [
    "function boundaries_in_group_ring(matrix)\n",
    "    boundaries_cosets = []\n",
    "    for j in 1:size(matrix)[2]\n",
    "        sign = (-1)^(j-1) # the sign of the differential\n",
    "        boundary = matrix[begin:end,begin:end .!=j] # exclude the j-th column\n",
    "        boundary_form = boundary*transpose(boundary)\n",
    "        boundary_det  = round(det(boundary_form)) # use the determinant to identify its orbit \n",
    "        for (cell_name, determinant) in det_cells\n",
    "            # here, there is a unique such cell\n",
    "            if determinant == boundary_det\n",
    "                coset = stabiliser_coset(cells[cell_name],boundary)\n",
    "                push!(boundaries_cosets, (sign, cell_name,coset))\n",
    "            end\n",
    "        end\n",
    "    end\n",
    "    return boundaries_cosets\n",
    "end"
   ]
  },
  {
   "cell_type": "code",
   "execution_count": 49,
   "id": "0c34673f",
   "metadata": {},
   "outputs": [
    {
     "data": {
      "text/plain": [
       "Dict{Any, Any} with 4 entries:\n",
       "  \"m3_1\" => Any[(1, \"m2\", Any[[0 1 0; 0 0 1; 1 1 0], [0 -1 0; 0 0 -1; 1 1 0], […\n",
       "  \"m3_2\" => Any[(1, \"m2\", Any[[0 1 0; 0 0 1; 1 1 1], [0 -1 0; 0 0 -1; 1 1 1], […\n",
       "  \"m4\"   => Any[(1, \"m3_2\", Any[[0 1 0; 0 0 -1; -1 -1 0], [0 -1 0; 0 0 1; -1 0 …\n",
       "  \"m5\"   => Any[(1, \"m4\", Any[[1 1 1; 0 -1 0; 0 0 -1], [-1 -1 -1; 0 1 0; 1 1 0]…"
      ]
     },
     "execution_count": 49,
     "metadata": {},
     "output_type": "execute_result"
    }
   ],
   "source": [
    "bound_m3_1 = boundaries_in_group_ring(m3_1)\n",
    "bound_m3_2 = boundaries_in_group_ring(m3_2)\n",
    "bound_m4 = boundaries_in_group_ring(m4)\n",
    "bound_m5 = boundaries_in_group_ring(m5)\n",
    "boundaries_dict = Dict()\n",
    "boundaries_dict[\"m3_1\"]= bound_m3_1\n",
    "boundaries_dict[\"m3_2\"]= bound_m3_2\n",
    "boundaries_dict[\"m4\"]= bound_m4\n",
    "boundaries_dict[\"m5\"]= bound_m5\n",
    "boundaries_dict"
   ]
  },
  {
   "cell_type": "code",
   "execution_count": 50,
   "id": "fc14e92f",
   "metadata": {},
   "outputs": [],
   "source": [
    "#output to file\n",
    "open(\"sl3_boundary_data.txt\",\"w\") do io\n",
    "    for (name, boundary_information) in boundaries_dict\n",
    "        println(io,\"The boundary of \" * name * \" is a sum of \"*string(length(boundary_information))*\" elements:\")\n",
    "        println(io)\n",
    "        for entry in boundary_information\n",
    "            println(io,\"Orbit type of cell in the boundary:\")\n",
    "            println(io,entry[2])\n",
    "            println(io,\"Sign coming from the alternating sum in the differential:\")\n",
    "            println(io,entry[1])\n",
    "            println(io,\"Elements of SL_3 sending the standard cell \" * entry[2] * \" to this one (i.e. coset of the corresponding stabiliser):\")\n",
    "            println(io,entry[3])\n",
    "            println(io)\n",
    "        end\n",
    "        println(io)\n",
    "    end\n",
    "end"
   ]
  },
  {
   "cell_type": "markdown",
   "id": "418dae0a",
   "metadata": {},
   "source": [
    "#### Some sanity checks"
   ]
  },
  {
   "cell_type": "code",
   "execution_count": 51,
   "id": "42c77afa",
   "metadata": {},
   "outputs": [
    {
     "data": {
      "text/plain": [
       "(-1, \"m2\", Any[[-1 0 0; 0 0 1; 1 1 0], [1 0 0; 0 0 -1; 1 1 0], [1 0 0; 0 0 1; -1 -1 0], [-1 0 0; 0 0 -1; -1 -1 0], [1 0 0; 1 1 0; 0 0 1], [-1 0 0; -1 -1 0; 0 0 1], [-1 0 0; 1 1 0; 0 0 -1], [1 0 0; -1 -1 0; 0 0 -1], [0 0 1; 1 0 0; 1 1 0], [0 0 -1; -1 0 0; 1 1 0]  …  [0 0 1; 1 1 0; -1 0 0], [0 0 -1; -1 -1 0; -1 0 0], [-1 -1 0; 1 0 0; 0 0 1], [1 1 0; -1 0 0; 0 0 1], [1 1 0; 1 0 0; 0 0 -1], [-1 -1 0; -1 0 0; 0 0 -1], [1 1 0; 0 0 1; 1 0 0], [-1 -1 0; 0 0 -1; 1 0 0], [-1 -1 0; 0 0 1; -1 0 0], [1 1 0; 0 0 -1; -1 0 0]])"
      ]
     },
     "execution_count": 51,
     "metadata": {},
     "output_type": "execute_result"
    }
   ],
   "source": [
    "bound_m3_1[2]"
   ]
  },
  {
   "cell_type": "code",
   "execution_count": 52,
   "id": "53cc4570",
   "metadata": {},
   "outputs": [
    {
     "data": {
      "text/plain": [
       "24-element Vector{Any}:\n",
       " [1 0 0; 0 1 0; 0 0 1]\n",
       " [-1 0 0; 0 -1 0; 0 0 1]\n",
       " [-1 0 0; 0 1 0; 0 0 -1]\n",
       " [1 0 0; 0 -1 0; 0 0 -1]\n",
       " [-1 0 0; 0 0 1; 0 1 0]\n",
       " [1 0 0; 0 0 -1; 0 1 0]\n",
       " [1 0 0; 0 0 1; 0 -1 0]\n",
       " [-1 0 0; 0 0 -1; 0 -1 0]\n",
       " [0 -1 0; 1 0 0; 0 0 1]\n",
       " [0 1 0; -1 0 0; 0 0 1]\n",
       " [0 1 0; 1 0 0; 0 0 -1]\n",
       " [0 -1 0; -1 0 0; 0 0 -1]\n",
       " [0 1 0; 0 0 1; 1 0 0]\n",
       " [0 -1 0; 0 0 -1; 1 0 0]\n",
       " [0 -1 0; 0 0 1; -1 0 0]\n",
       " [0 1 0; 0 0 -1; -1 0 0]\n",
       " [0 0 1; 1 0 0; 0 1 0]\n",
       " [0 0 -1; -1 0 0; 0 1 0]\n",
       " [0 0 -1; 1 0 0; 0 -1 0]\n",
       " [0 0 1; -1 0 0; 0 -1 0]\n",
       " [0 0 -1; 0 1 0; 1 0 0]\n",
       " [0 0 1; 0 -1 0; 1 0 0]\n",
       " [0 0 1; 0 1 0; -1 0 0]\n",
       " [0 0 -1; 0 -1 0; -1 0 0]"
      ]
     },
     "execution_count": 52,
     "metadata": {},
     "output_type": "execute_result"
    }
   ],
   "source": [
    "bound_m3_1[3][3]"
   ]
  },
  {
   "cell_type": "code",
   "execution_count": 53,
   "id": "471e61ff",
   "metadata": {},
   "outputs": [
    {
     "data": {
      "text/plain": [
       "true"
      ]
     },
     "execution_count": 53,
     "metadata": {},
     "output_type": "execute_result"
    }
   ],
   "source": [
    "Set(bound_m3_1[3][3]) == Set(stab2)"
   ]
  },
  {
   "cell_type": "code",
   "execution_count": 54,
   "id": "e1bd54fa",
   "metadata": {},
   "outputs": [
    {
     "name": "stdout",
     "output_type": "stream",
     "text": [
      "Orbit of cell in boundary: m2 Size of coset: 24\n",
      "Orbit of cell in boundary: m2 Size of coset: 24\n",
      "Orbit of cell in boundary: m2 Size of coset: 24\n"
     ]
    }
   ],
   "source": [
    "# check whether at least all cosets have the correct size\n",
    "for (sign,name,coset) in bound_m3_1\n",
    "    print(\"Orbit of cell in boundary: \")\n",
    "    print(name)\n",
    "    print(\" Size of coset: \")\n",
    "    print(length(coset))\n",
    "    print(\"\\n\")\n",
    "end"
   ]
  },
  {
   "cell_type": "code",
   "execution_count": 55,
   "id": "425ae8e6",
   "metadata": {},
   "outputs": [
    {
     "name": "stdout",
     "output_type": "stream",
     "text": [
      "Orbit of cell in boundary: m2 Size of coset: 24\n",
      "Orbit of cell in boundary: m2 Size of coset: 24\n",
      "Orbit of cell in boundary: m2 Size of coset: 24\n",
      "Orbit of cell in boundary: m2 Size of coset: 24\n"
     ]
    }
   ],
   "source": [
    "# check whether at least all cosets have the correct size\n",
    "for (sign,name,coset) in bound_m3_2\n",
    "    print(\"Orbit of cell in boundary: \")\n",
    "    print(name)\n",
    "    print(\" Size of coset: \")\n",
    "    print(length(coset))\n",
    "    print(\"\\n\")\n",
    "end"
   ]
  },
  {
   "cell_type": "code",
   "execution_count": 56,
   "id": "42e284a4",
   "metadata": {},
   "outputs": [
    {
     "name": "stdout",
     "output_type": "stream",
     "text": [
      "Orbit of cell in boundary: m3_2 Size of coset: 24\n",
      "Orbit of cell in boundary: m3_1 Size of coset: 12\n",
      "Orbit of cell in boundary: m3_1 Size of coset: 12\n",
      "Orbit of cell in boundary: m3_1 Size of coset: 12\n",
      "Orbit of cell in boundary: m3_1 Size of coset: 12\n"
     ]
    }
   ],
   "source": [
    "# check whether at least all cosets have the correct size\n",
    "for (sign,name,coset) in bound_m4\n",
    "    print(\"Orbit of cell in boundary: \")\n",
    "    print(name)\n",
    "    print(\" Size of coset: \")\n",
    "    print(length(coset))\n",
    "    print(\"\\n\")\n",
    "end"
   ]
  },
  {
   "cell_type": "code",
   "execution_count": 57,
   "id": "eb813cdd",
   "metadata": {},
   "outputs": [
    {
     "name": "stdout",
     "output_type": "stream",
     "text": [
      "Orbit of cell in boundary: m4 Size of coset: 8\n",
      "Orbit of cell in boundary: m4 Size of coset: 8\n",
      "Orbit of cell in boundary: m4 Size of coset: 8\n",
      "Orbit of cell in boundary: m4 Size of coset: 8\n",
      "Orbit of cell in boundary: m4 Size of coset: 8\n",
      "Orbit of cell in boundary: m4 Size of coset: 8\n"
     ]
    }
   ],
   "source": [
    "# check whether at least all cosets have the correct size\n",
    "for (sign,name,coset) in bound_m5\n",
    "    print(\"Orbit of cell in boundary: \")\n",
    "    print(name)\n",
    "    print(\" Size of coset: \")\n",
    "    print(length(coset))\n",
    "    print(\"\\n\")\n",
    "end"
   ]
  },
  {
   "cell_type": "code",
   "execution_count": 58,
   "id": "051b97c1",
   "metadata": {},
   "outputs": [
    {
     "name": "stdout",
     "output_type": "stream",
     "text": [
      "truetruetruetruetruetruetruetruetruetruetruetrue"
     ]
    }
   ],
   "source": [
    "bounds = compute_boundaries(m4)\n",
    "for element in bound_m4[4][3]\n",
    "    if !(transpose(element)*m3_1*transpose(m3_1)*element==compute_boundaries_quadratic(m4)[4])\n",
    "        print(false)\n",
    "    else\n",
    "        print(true)\n",
    "    end\n",
    "end"
   ]
  },
  {
   "cell_type": "code",
   "execution_count": 59,
   "id": "7f1ea3b4",
   "metadata": {},
   "outputs": [
    {
     "name": "stdout",
     "output_type": "stream",
     "text": [
      "truetruetruetruetruetruetruetrue"
     ]
    }
   ],
   "source": [
    "bounds = compute_boundaries(m5)\n",
    "for element in bound_m5[4][3]\n",
    "    if !(transpose(element)*m4*transpose(m4)*element==compute_boundaries_quadratic(m5)[4])\n",
    "        print(false)\n",
    "    else\n",
    "        print(true)\n",
    "    end\n",
    "end"
   ]
  },
  {
   "cell_type": "markdown",
   "id": "8496e2fc",
   "metadata": {},
   "source": [
    "# Orientations\n",
    "Hadn't done this properly before."
   ]
  },
  {
   "cell_type": "code",
   "execution_count": 60,
   "id": "eb35f989",
   "metadata": {},
   "outputs": [
    {
     "data": {
      "text/plain": [
       "relative_orientation (generic function with 1 method)"
      ]
     },
     "execution_count": 60,
     "metadata": {},
     "output_type": "execute_result"
    }
   ],
   "source": [
    "function relative_orientation(matrix1,matrix2)\n",
    "    #= matrix1, matrix2 need to be matrices such that the set of lines spanned by the columns of matrix1\n",
    "        is the same as that of matrix2\n",
    "        again, probably more elegant via forms\n",
    "        computes the orientation of the simplex spanned by the columns\n",
    "    =# \n",
    "    # make signs all positive (could be avoided when working with quadratic forms)\n",
    "    for x in [matrix1,matrix2]\n",
    "        for entry in 1:length(x)\n",
    "            x[entry] = abs(x[entry])\n",
    "        end\n",
    "    end\n",
    "    permutation = Int64[]\n",
    "    for vector in eachcol(matrix2)\n",
    "        vertex_index_in_matrix1 = 1\n",
    "        vector_is_column_of_matrix1 = false\n",
    "        for vector_standard in eachcol(matrix1)\n",
    "            if vector == vector_standard\n",
    "                push!(permutation,vertex_index_in_matrix1)\n",
    "                vector_is_column_of_matrix1 = true\n",
    "            end\n",
    "            vertex_index_in_matrix1 += 1\n",
    "        end\n",
    "        vector_is_column_of_matrix1 || error(\"matrix1 isn't a permutation of matrix2.\")\n",
    "    end\n",
    "    sign = Combinatorics.levicivita(permutation)\n",
    "    return sign\n",
    "end\n",
    "    "
   ]
  },
  {
   "cell_type": "code",
   "execution_count": 61,
   "id": "843d5720",
   "metadata": {},
   "outputs": [
    {
     "data": {
      "text/plain": [
       "orientation_stabiliser (generic function with 1 method)"
      ]
     },
     "execution_count": 61,
     "metadata": {},
     "output_type": "execute_result"
    }
   ],
   "source": [
    "# Could surely be done more elegantly (in particular, using quadratic forms would be cleaner)\n",
    "function orientation_stabiliser(matrix, stabiliser)\n",
    "    orientation_orbit = []\n",
    "    # create a list of all ordered simplices coming from matrix under elements of stabiliser\n",
    "    for g in stabiliser\n",
    "        push!(orientation_orbit,transpose(g)*matrix)\n",
    "    end\n",
    "    signs = []\n",
    "    for matrix2 in orientation_orbit\n",
    "        sign = relative_orientation(matrix,matrix2)\n",
    "        push!(signs,sign)\n",
    "    end\n",
    "    return signs\n",
    "end"
   ]
  },
  {
   "cell_type": "code",
   "execution_count": 69,
   "id": "b56ae662",
   "metadata": {},
   "outputs": [
    {
     "data": {
      "text/plain": [
       "24-element Vector{Any}:\n",
       " [1 0 0; 0 1 0; 0 0 1]\n",
       " [-1 0 0; 0 -1 0; 0 0 1]\n",
       " [-1 0 0; 0 1 0; 0 0 -1]\n",
       " [1 0 0; 0 -1 0; 0 0 -1]\n",
       " [-1 0 0; 0 0 1; 0 1 0]\n",
       " [1 0 0; 0 0 -1; 0 1 0]\n",
       " [1 0 0; 0 0 1; 0 -1 0]\n",
       " [-1 0 0; 0 0 -1; 0 -1 0]\n",
       " [0 -1 0; 1 0 0; 0 0 1]\n",
       " [0 1 0; -1 0 0; 0 0 1]\n",
       " [0 1 0; 1 0 0; 0 0 -1]\n",
       " [0 -1 0; -1 0 0; 0 0 -1]\n",
       " [0 1 0; 0 0 1; 1 0 0]\n",
       " [0 -1 0; 0 0 -1; 1 0 0]\n",
       " [0 -1 0; 0 0 1; -1 0 0]\n",
       " [0 1 0; 0 0 -1; -1 0 0]\n",
       " [0 0 1; 1 0 0; 0 1 0]\n",
       " [0 0 -1; -1 0 0; 0 1 0]\n",
       " [0 0 -1; 1 0 0; 0 -1 0]\n",
       " [0 0 1; -1 0 0; 0 -1 0]\n",
       " [0 0 -1; 0 1 0; 1 0 0]\n",
       " [0 0 1; 0 -1 0; 1 0 0]\n",
       " [0 0 1; 0 1 0; -1 0 0]\n",
       " [0 0 -1; 0 -1 0; -1 0 0]"
      ]
     },
     "execution_count": 69,
     "metadata": {},
     "output_type": "execute_result"
    }
   ],
   "source": [
    "stab2"
   ]
  },
  {
   "cell_type": "code",
   "execution_count": 68,
   "id": "dc346e84",
   "metadata": {},
   "outputs": [
    {
     "data": {
      "text/plain": [
       "12-element Vector{Any}:\n",
       " [1 0 0; 0 1 0; 0 0 1]\n",
       " [-1 0 0; 0 -1 0; 0 0 1]\n",
       " [-1 0 0; 1 1 0; 0 0 -1]\n",
       " [1 0 0; -1 -1 0; 0 0 -1]\n",
       " [0 1 0; 1 0 0; 0 0 -1]\n",
       " [0 -1 0; -1 0 0; 0 0 -1]\n",
       " [0 -1 0; 1 1 0; 0 0 1]\n",
       " [0 1 0; -1 -1 0; 0 0 1]\n",
       " [-1 -1 0; 1 0 0; 0 0 1]\n",
       " [1 1 0; -1 0 0; 0 0 1]\n",
       " [-1 -1 0; 0 1 0; 0 0 -1]\n",
       " [1 1 0; 0 -1 0; 0 0 -1]"
      ]
     },
     "execution_count": 68,
     "metadata": {},
     "output_type": "execute_result"
    }
   ],
   "source": [
    "stab3_1"
   ]
  },
  {
   "cell_type": "code",
   "execution_count": 70,
   "id": "d0dcb7d2",
   "metadata": {},
   "outputs": [
    {
     "data": {
      "text/plain": [
       "24-element Vector{Any}:\n",
       " [1 0 0; 0 1 0; 0 0 1]\n",
       " [-1 0 0; 0 -1 0; 1 1 1]\n",
       " [-1 0 0; 0 0 -1; 0 -1 0]\n",
       " [1 0 0; 0 0 1; -1 -1 -1]\n",
       " [1 0 0; -1 -1 -1; 0 1 0]\n",
       " [-1 0 0; 1 1 1; 0 0 -1]\n",
       " [0 -1 0; -1 0 0; 0 0 -1]\n",
       " [0 1 0; 1 0 0; -1 -1 -1]\n",
       " [0 1 0; 0 0 1; 1 0 0]\n",
       " [0 -1 0; 0 0 -1; 1 1 1]\n",
       " [0 -1 0; 1 1 1; -1 0 0]\n",
       " [0 1 0; -1 -1 -1; 0 0 1]\n",
       " [0 0 1; 1 0 0; 0 1 0]\n",
       " [0 0 -1; -1 0 0; 1 1 1]\n",
       " [0 0 -1; 0 -1 0; -1 0 0]\n",
       " [0 0 1; 0 1 0; -1 -1 -1]\n",
       " [0 0 1; -1 -1 -1; 1 0 0]\n",
       " [0 0 -1; 1 1 1; 0 -1 0]\n",
       " [1 1 1; -1 0 0; 0 -1 0]\n",
       " [-1 -1 -1; 1 0 0; 0 0 1]\n",
       " [-1 -1 -1; 0 1 0; 1 0 0]\n",
       " [1 1 1; 0 -1 0; 0 0 -1]\n",
       " [1 1 1; 0 0 -1; -1 0 0]\n",
       " [-1 -1 -1; 0 0 1; 0 1 0]"
      ]
     },
     "execution_count": 70,
     "metadata": {},
     "output_type": "execute_result"
    }
   ],
   "source": [
    "stab3_2"
   ]
  },
  {
   "cell_type": "code",
   "execution_count": 71,
   "id": "10d4b8cb",
   "metadata": {},
   "outputs": [
    {
     "data": {
      "text/plain": [
       "8-element Vector{Any}:\n",
       " [1 0 0; 0 1 0; 0 0 1]\n",
       " [-1 0 0; 0 -1 0; 1 0 1]\n",
       " [-1 0 0; 0 0 -1; 0 -1 0]\n",
       " [1 0 0; 0 0 1; -1 -1 0]\n",
       " [-1 0 0; 1 1 0; 0 0 -1]\n",
       " [1 0 0; -1 -1 0; -1 0 -1]\n",
       " [1 0 0; -1 0 -1; 0 1 0]\n",
       " [-1 0 0; 1 0 1; 1 1 0]"
      ]
     },
     "execution_count": 71,
     "metadata": {},
     "output_type": "execute_result"
    }
   ],
   "source": [
    "stab4"
   ]
  },
  {
   "cell_type": "code",
   "execution_count": 72,
   "id": "1fc63e0f",
   "metadata": {},
   "outputs": [
    {
     "data": {
      "text/plain": [
       "24-element Vector{Any}:\n",
       " [1 0 0; 0 1 0; 0 0 1]\n",
       " [-1 0 0; 0 0 -1; 0 -1 0]\n",
       " [1 0 0; -1 -1 0; -1 0 -1]\n",
       " [-1 0 0; 1 0 1; 1 1 0]\n",
       " [0 1 0; 1 0 0; -1 -1 -1]\n",
       " [0 1 0; -1 -1 0; 1 0 1]\n",
       " [0 -1 0; -1 0 -1; 1 1 0]\n",
       " [0 -1 0; 1 1 1; -1 0 0]\n",
       " [0 0 -1; -1 0 0; 1 1 1]\n",
       " [0 0 1; 1 1 0; -1 0 -1]\n",
       " [0 0 -1; 1 0 1; -1 -1 0]\n",
       " [0 0 1; -1 -1 -1; 1 0 0]\n",
       " [-1 -1 0; 1 0 0; 1 1 1]\n",
       " [-1 -1 0; 0 1 0; 0 0 -1]\n",
       " [1 1 0; 0 0 1; 0 -1 0]\n",
       " [1 1 0; -1 -1 -1; -1 0 0]\n",
       " [1 0 1; -1 0 0; -1 -1 -1]\n",
       " [-1 0 -1; 0 -1 0; 0 0 1]\n",
       " [1 0 1; 0 0 -1; 0 1 0]\n",
       " [-1 0 -1; 1 1 1; 1 0 0]\n",
       " [1 1 1; 0 -1 0; 0 0 -1]\n",
       " [-1 -1 -1; 0 0 1; 0 1 0]\n",
       " [-1 -1 -1; 1 1 0; 1 0 1]\n",
       " [1 1 1; -1 0 -1; -1 -1 0]"
      ]
     },
     "execution_count": 72,
     "metadata": {},
     "output_type": "execute_result"
    }
   ],
   "source": [
    "stab5"
   ]
  },
  {
   "cell_type": "markdown",
   "id": "fdabb757",
   "metadata": {},
   "source": [
    "The following calculations show that only for m5, every element of the stabiliser preserves the orientation of the simplex."
   ]
  },
  {
   "cell_type": "code",
   "execution_count": 62,
   "id": "dde9f3c8",
   "metadata": {
    "scrolled": true
   },
   "outputs": [
    {
     "data": {
      "text/plain": [
       "24-element Vector{Any}:\n",
       "  1\n",
       "  1\n",
       "  1\n",
       "  1\n",
       " -1\n",
       " -1\n",
       " -1\n",
       " -1\n",
       " -1\n",
       " -1\n",
       " -1\n",
       " -1\n",
       "  1\n",
       "  1\n",
       "  1\n",
       "  1\n",
       "  1\n",
       "  1\n",
       "  1\n",
       "  1\n",
       " -1\n",
       " -1\n",
       " -1\n",
       " -1"
      ]
     },
     "execution_count": 62,
     "metadata": {},
     "output_type": "execute_result"
    }
   ],
   "source": [
    "orientation_stabiliser(m2,stab2)"
   ]
  },
  {
   "cell_type": "code",
   "execution_count": 51,
   "id": "cb43ad61",
   "metadata": {},
   "outputs": [
    {
     "data": {
      "text/plain": [
       "12-element Vector{Any}:\n",
       "  1\n",
       "  1\n",
       " -1\n",
       " -1\n",
       " -1\n",
       " -1\n",
       "  1\n",
       "  1\n",
       "  1\n",
       "  1\n",
       " -1\n",
       " -1"
      ]
     },
     "execution_count": 51,
     "metadata": {},
     "output_type": "execute_result"
    }
   ],
   "source": [
    "orientation_stabiliser(m3_1,stab3_1)"
   ]
  },
  {
   "cell_type": "code",
   "execution_count": 52,
   "id": "3d7c0660",
   "metadata": {},
   "outputs": [
    {
     "data": {
      "text/plain": [
       "24-element Vector{Any}:\n",
       "  1\n",
       " -1\n",
       " -1\n",
       "  1\n",
       "  1\n",
       " -1\n",
       " -1\n",
       "  1\n",
       "  1\n",
       " -1\n",
       " -1\n",
       "  1\n",
       "  1\n",
       " -1\n",
       " -1\n",
       "  1\n",
       "  1\n",
       " -1\n",
       " -1\n",
       "  1\n",
       "  1\n",
       " -1\n",
       " -1\n",
       "  1"
      ]
     },
     "execution_count": 52,
     "metadata": {},
     "output_type": "execute_result"
    }
   ],
   "source": [
    "orientation_stabiliser(m3_2,stab3_2)"
   ]
  },
  {
   "cell_type": "code",
   "execution_count": 46,
   "id": "bf425933",
   "metadata": {},
   "outputs": [
    {
     "data": {
      "text/plain": [
       "8-element Vector{Any}:\n",
       "  1\n",
       " -1\n",
       "  1\n",
       " -1\n",
       " -1\n",
       "  1\n",
       " -1\n",
       "  1"
      ]
     },
     "execution_count": 46,
     "metadata": {},
     "output_type": "execute_result"
    }
   ],
   "source": [
    "orientation_stabiliser(m4,stab4)"
   ]
  },
  {
   "cell_type": "code",
   "execution_count": 47,
   "id": "db409818",
   "metadata": {},
   "outputs": [
    {
     "data": {
      "text/plain": [
       "24-element Vector{Any}:\n",
       " 1\n",
       " 1\n",
       " 1\n",
       " 1\n",
       " 1\n",
       " 1\n",
       " 1\n",
       " 1\n",
       " 1\n",
       " 1\n",
       " 1\n",
       " 1\n",
       " 1\n",
       " 1\n",
       " 1\n",
       " 1\n",
       " 1\n",
       " 1\n",
       " 1\n",
       " 1\n",
       " 1\n",
       " 1\n",
       " 1\n",
       " 1"
      ]
     },
     "execution_count": 47,
     "metadata": {},
     "output_type": "execute_result"
    }
   ],
   "source": [
    "orientation_stabiliser(m5,stab5)"
   ]
  },
  {
   "cell_type": "markdown",
   "id": "869863d8",
   "metadata": {},
   "source": [
    "## Boundaries with relative orientations"
   ]
  },
  {
   "cell_type": "code",
   "execution_count": 73,
   "id": "a87b7a5d",
   "metadata": {},
   "outputs": [
    {
     "data": {
      "text/plain": [
       "stabiliser_coset_with_orientation (generic function with 1 method)"
      ]
     },
     "execution_count": 73,
     "metadata": {},
     "output_type": "execute_result"
    }
   ],
   "source": [
    "function stabiliser_coset_with_orientation(matrix1, matrix2)\n",
    "    #= \n",
    "    matrix1, matrix2 integer matrix whose columns form a basis of the lattice. \n",
    "    The first columns of matrix1 need to be the standard basis.\n",
    "    Returns all (g,orientation) such that g\\in SL_dimension(Z) sends the quadratic form associated to matrix1 to \n",
    "    the one associated to matrix 2 and orientation is the relative orientation of the corresponding simplices\n",
    "    =#\n",
    "    elements = []\n",
    "    quadratic_form1 = matrix1*transpose(matrix1) # the quadratic form associated to the lattice\n",
    "    quadratic_form2 = matrix2*transpose(matrix2) # the quadratic form associated to the lattice\n",
    "    candidates = bases_in_integer_lattices(matrix2) # bases in the image\n",
    "    for g_transpose in candidates\n",
    "        if det(g_transpose) == 1\n",
    "            # then it lies in SL\n",
    "            g = transpose(g_transpose)\n",
    "            if (g_transpose*quadratic_form1*g == quadratic_form2)\n",
    "                orientation = relative_orientation(g_transpose*matrix1,matrix2)\n",
    "                # this is the relative orientation of g.standard cell compared to the boundary\n",
    "                push!(elements, (g,orientation))\n",
    "            end\n",
    "        end\n",
    "    end\n",
    "    return elements\n",
    "end"
   ]
  },
  {
   "cell_type": "code",
   "execution_count": 92,
   "id": "4cb79722",
   "metadata": {},
   "outputs": [
    {
     "data": {
      "text/plain": [
       "boundaries_in_group_ring_with_orientation (generic function with 1 method)"
      ]
     },
     "execution_count": 92,
     "metadata": {},
     "output_type": "execute_result"
    }
   ],
   "source": [
    "function boundaries_in_group_ring_with_orientation(matrix)\n",
    "    boundaries_cosets = []\n",
    "    for j in 1:size(matrix)[2]\n",
    "        sign = (-1)^(j-1) # the sign of the differential\n",
    "        boundary = matrix[begin:end,begin:end .!=j] # exclude the j-th column\n",
    "        boundary_form = boundary*transpose(boundary)\n",
    "        boundary_det  = round(det(boundary_form)) # use the determinant to identify its orbit \n",
    "        for (cell_name, determinant) in det_cells\n",
    "            # here, there is a unique such cell\n",
    "            if determinant == boundary_det\n",
    "                coset_with_orientation = stabiliser_coset_with_orientation(cells[cell_name],boundary)\n",
    "                @info coset_with_orientation\n",
    "                push!(boundaries_cosets, (sign, cell_name, coset_with_orientation))\n",
    "            end\n",
    "        end\n",
    "    end\n",
    "    return boundaries_cosets\n",
    "end"
   ]
  },
  {
   "cell_type": "code",
   "execution_count": 75,
   "id": "f76e08af",
   "metadata": {},
   "outputs": [
    {
     "data": {
      "text/plain": [
       "Dict{Any, Any} with 4 entries:\n",
       "  \"m3_1\" => Any[(1, \"m2\", Any[([0 1 0; 0 0 1; 1 1 0], 1), ([0 -1 0; 0 0 -1; 1 1…\n",
       "  \"m3_2\" => Any[(1, \"m2\", Any[([0 1 0; 0 0 1; 1 1 1], 1), ([0 -1 0; 0 0 -1; 1 1…\n",
       "  \"m4\"   => Any[(1, \"m3_2\", Any[([0 1 0; 0 0 -1; -1 -1 0], 1), ([0 -1 0; 0 0 1;…\n",
       "  \"m5\"   => Any[(1, \"m4\", Any[([1 1 1; 0 -1 0; 0 0 -1], -1), ([-1 -1 -1; 0 1 0;…"
      ]
     },
     "execution_count": 75,
     "metadata": {},
     "output_type": "execute_result"
    }
   ],
   "source": [
    "bound_m3_1 = boundaries_in_group_ring_with_orientation(m3_1)\n",
    "bound_m3_2 = boundaries_in_group_ring_with_orientation(m3_2)\n",
    "bound_m4 = boundaries_in_group_ring_with_orientation(m4)\n",
    "bound_m5 = boundaries_in_group_ring_with_orientation(m5)\n",
    "boundaries_dict = Dict()\n",
    "boundaries_dict[\"m3_1\"]= bound_m3_1\n",
    "boundaries_dict[\"m3_2\"]= bound_m3_2\n",
    "boundaries_dict[\"m4\"]= bound_m4\n",
    "boundaries_dict[\"m5\"]= bound_m5\n",
    "boundaries_dict"
   ]
  },
  {
   "cell_type": "code",
   "execution_count": 143,
   "id": "13020f75",
   "metadata": {
    "scrolled": true
   },
   "outputs": [
    {
     "data": {
      "text/plain": [
       "6-element Vector{Any}:\n",
       " (1, \"m4\", Any[([1 1 1; 0 -1 0; 0 0 -1], -1), ([-1 -1 -1; 0 1 0; 1 1 0], 1), ([-1 -1 -1; 0 0 1; 0 1 0], -1), ([1 1 1; 0 0 -1; -1 0 -1], 1), ([1 1 1; -1 -1 0; 0 -1 0], 1), ([-1 -1 -1; 1 1 0; 1 0 1], -1), ([-1 -1 -1; 1 0 1; 0 0 1], 1), ([1 1 1; -1 0 -1; -1 -1 0], -1)])\n",
       " (-1, \"m4\", Any[([0 0 1; 1 0 0; 1 1 0], -1), ([0 0 -1; -1 0 0; 1 1 1], 1), ([0 0 -1; -1 -1 0; -1 0 0], -1), ([0 0 1; 1 1 0; -1 0 -1], 1), ([0 0 -1; 1 0 1; -1 -1 0], 1), ([0 0 1; -1 0 -1; -1 -1 -1], -1), ([0 0 1; -1 -1 -1; 1 0 0], 1), ([0 0 -1; 1 1 1; 1 0 1], -1)])\n",
       " (1, \"m4\", Any[([0 -1 0; -1 0 0; -1 0 -1], 1), ([0 1 0; 1 0 0; -1 -1 -1], -1), ([0 1 0; -1 -1 0; 1 0 1], -1), ([0 -1 0; 1 1 0; 1 1 1], 1), ([0 1 0; 1 0 1; 1 0 0], 1), ([0 -1 0; -1 0 -1; 1 1 0], -1), ([0 -1 0; 1 1 1; -1 0 0], -1), ([0 1 0; -1 -1 -1; -1 -1 0], 1)])\n",
       " (-1, \"m4\", Any[([-1 0 -1; 1 0 0; 0 -1 0], -1), ([1 0 1; -1 0 0; -1 -1 -1], 1), ([1 0 1; 0 1 0; -1 0 0], -1), ([-1 0 -1; 0 -1 0; 0 0 1], 1), ([1 0 1; 0 0 -1; 0 1 0], 1), ([-1 0 -1; 0 0 1; 1 1 1], -1), ([-1 0 -1; 1 1 1; 1 0 0], 1), ([1 0 1; -1 -1 -1; 0 0 -1], -1)])\n",
       " (1, \"m4\", Any[([1 1 0; -1 0 0; 0 0 1], 1), ([-1 -1 0; 1 0 0; 1 1 1], -1), ([-1 -1 0; 0 1 0; 0 0 -1], -1), ([1 1 0; 0 -1 0; -1 -1 -1], 1), ([-1 -1 0; 0 0 -1; 1 0 0], 1), ([1 1 0; 0 0 1; 0 -1 0], -1), ([1 1 0; -1 -1 -1; -1 0 0], -1), ([-1 -1 0; 1 1 1; 0 1 0], 1)])\n",
       " (-1, \"m4\", Any[([1 0 0; 0 1 0; 0 0 1], 1), ([-1 0 0; 0 -1 0; 1 0 1], -1), ([-1 0 0; 0 0 -1; 0 -1 0], 1), ([1 0 0; 0 0 1; -1 -1 0], -1), ([-1 0 0; 1 1 0; 0 0 -1], -1), ([1 0 0; -1 -1 0; -1 0 -1], 1), ([1 0 0; -1 0 -1; 0 1 0], -1), ([-1 0 0; 1 0 1; 1 1 0], 1)])"
      ]
     },
     "execution_count": 143,
     "metadata": {},
     "output_type": "execute_result"
    }
   ],
   "source": [
    "bound_m5"
   ]
  },
  {
   "cell_type": "code",
   "execution_count": 90,
   "id": "a0a17b25",
   "metadata": {},
   "outputs": [
    {
     "data": {
      "text/plain": [
       "Dict{Any, Any} with 5 entries:\n",
       "  \"m2\"   => Any[([1 0 0; 0 1 0; 0 0 1], 1), ([-1 0 0; 0 -1 0; 0 0 1], 1), ([-1 …\n",
       "  \"m3_1\" => Any[([1 0 0; 0 1 0; 0 0 1], 1), ([-1 0 0; 0 -1 0; 0 0 1], 1), ([-1 …\n",
       "  \"m3_2\" => Any[([1 0 0; 0 1 0; 0 0 1], 1), ([-1 0 0; 0 -1 0; 1 1 1], -1), ([-1…\n",
       "  \"m4\"   => Any[([1 0 0; 0 1 0; 0 0 1], 1), ([-1 0 0; 0 -1 0; 1 0 1], -1), ([-1…\n",
       "  \"m5\"   => Any[([1 0 0; 0 1 0; 0 0 1], 1), ([-1 0 0; 0 0 -1; 0 -1 0], 1), ([1 …"
      ]
     },
     "execution_count": 90,
     "metadata": {},
     "output_type": "execute_result"
    }
   ],
   "source": [
    "stab2 = stabiliser_coset_with_orientation(m2,m2)\n",
    "stab3_1 = stabiliser_coset_with_orientation(m3_1,m3_1)\n",
    "stab3_2 = stabiliser_coset_with_orientation(m3_2,m3_2)\n",
    "stab4 = stabiliser_coset_with_orientation(m4,m4)\n",
    "stab5 = stabiliser_coset_with_orientation(m5,m5)\n",
    "stabilisers_dict = Dict()\n",
    "stabilisers_dict[\"m2\"] = stab2\n",
    "stabilisers_dict[\"m3_1\"] = stab3_1\n",
    "stabilisers_dict[\"m3_2\"] = stab3_2\n",
    "stabilisers_dict[\"m4\"] = stab4\n",
    "stabilisers_dict[\"m5\"] = stab5\n",
    "stabilisers_dict"
   ]
  },
  {
   "cell_type": "code",
   "execution_count": 101,
   "id": "cd1d9362",
   "metadata": {},
   "outputs": [
    {
     "data": {
      "text/plain": [
       "24-element Vector{Any}:\n",
       " ([1 0 0; 0 1 0; 0 0 1], 1)\n",
       " ([-1 0 0; 0 0 -1; 0 -1 0], 1)\n",
       " ([1 0 0; -1 -1 0; -1 0 -1], 1)\n",
       " ([-1 0 0; 1 0 1; 1 1 0], 1)\n",
       " ([0 1 0; 1 0 0; -1 -1 -1], 1)\n",
       " ([0 1 0; -1 -1 0; 1 0 1], 1)\n",
       " ([0 -1 0; -1 0 -1; 1 1 0], 1)\n",
       " ([0 -1 0; 1 1 1; -1 0 0], 1)\n",
       " ([0 0 -1; -1 0 0; 1 1 1], 1)\n",
       " ([0 0 1; 1 1 0; -1 0 -1], 1)\n",
       " ([0 0 -1; 1 0 1; -1 -1 0], 1)\n",
       " ([0 0 1; -1 -1 -1; 1 0 0], 1)\n",
       " ([-1 -1 0; 1 0 0; 1 1 1], 1)\n",
       " ([-1 -1 0; 0 1 0; 0 0 -1], 1)\n",
       " ([1 1 0; 0 0 1; 0 -1 0], 1)\n",
       " ([1 1 0; -1 -1 -1; -1 0 0], 1)\n",
       " ([1 0 1; -1 0 0; -1 -1 -1], 1)\n",
       " ([-1 0 -1; 0 -1 0; 0 0 1], 1)\n",
       " ([1 0 1; 0 0 -1; 0 1 0], 1)\n",
       " ([-1 0 -1; 1 1 1; 1 0 0], 1)\n",
       " ([1 1 1; 0 -1 0; 0 0 -1], 1)\n",
       " ([-1 -1 -1; 0 0 1; 0 1 0], 1)\n",
       " ([-1 -1 -1; 1 1 0; 1 0 1], 1)\n",
       " ([1 1 1; -1 0 -1; -1 -1 0], 1)"
      ]
     },
     "execution_count": 101,
     "metadata": {},
     "output_type": "execute_result"
    }
   ],
   "source": [
    "stabilisers_dict[\"m5\"]"
   ]
  },
  {
   "cell_type": "code",
   "execution_count": null,
   "id": "e856b196",
   "metadata": {},
   "outputs": [],
   "source": []
  }
 ],
 "metadata": {
  "kernelspec": {
   "display_name": "Julia 1.8.5",
   "language": "julia",
   "name": "julia-1.8"
  },
  "language_info": {
   "file_extension": ".jl",
   "mimetype": "application/julia",
   "name": "julia",
   "version": "1.8.5"
  }
 },
 "nbformat": 4,
 "nbformat_minor": 5
}
