{
 "cells": [
  {
   "cell_type": "markdown",
   "metadata": {},
   "source": [
    "Experimenting in order to ultimately compute the cell structures of Voronoi complexes"
   ]
  },
  {
   "cell_type": "code",
   "execution_count": 1,
   "metadata": {},
   "outputs": [
    {
     "name": "stderr",
     "output_type": "stream",
     "text": [
      "\u001b[32m\u001b[1m  Activating\u001b[22m\u001b[39m project at `/mnt/c/Git/HigherTSL3/SLnCohomology`\n"
     ]
    },
    {
     "name": "stderr",
     "output_type": "stream",
     "text": [
      "\u001b[32m\u001b[1m    Updating\u001b[22m\u001b[39m registry at `~/.julia/registries/General.toml`\n"
     ]
    },
    {
     "name": "stderr",
     "output_type": "stream",
     "text": [
      "\u001b[32m\u001b[1m   Resolving\u001b[22m\u001b[39m package versions...\n"
     ]
    },
    {
     "name": "stderr",
     "output_type": "stream",
     "text": [
      "\u001b[32m\u001b[1m  No Changes\u001b[22m\u001b[39m to `/mnt/c/Git/HigherTSL3/SLnCohomology/Project.toml`\n",
      "\u001b[32m\u001b[1m  No Changes\u001b[22m\u001b[39m to `/mnt/c/Git/HigherTSL3/SLnCohomology/Manifest.toml`\n"
     ]
    },
    {
     "name": "stderr",
     "output_type": "stream",
     "text": [
      "\u001b[32m\u001b[1mPrecompiling\u001b[22m\u001b[39m "
     ]
    },
    {
     "name": "stderr",
     "output_type": "stream",
     "text": [
      "project...\n"
     ]
    },
    {
     "name": "stderr",
     "output_type": "stream",
     "text": [
      "\u001b[32m  ✓ \u001b[39m\u001b[90mLogExpFunctions → LogExpFunctionsInverseFunctionsExt\u001b[39m\n",
      "\u001b[32m  ✓ \u001b[39m\u001b[90mMemoize\u001b[39m\n"
     ]
    },
    {
     "name": "stderr",
     "output_type": "stream",
     "text": [
      "\u001b[32m  ✓ \u001b[39m\u001b[90mCRlibm_jll\u001b[39m\n"
     ]
    },
    {
     "name": "stderr",
     "output_type": "stream",
     "text": [
      "\u001b[32m  ✓ \u001b[39m\u001b[90mNcurses_jll\u001b[39m\n",
      "\u001b[32m  ✓ \u001b[39m\u001b[90mEarCut_jll\u001b[39m\n"
     ]
    },
    {
     "name": "stderr",
     "output_type": "stream",
     "text": [
      "\u001b[32m  ✓ \u001b[39m\u001b[90mSortingAlgorithms\u001b[39m\n"
     ]
    },
    {
     "name": "stderr",
     "output_type": "stream",
     "text": [
      "\u001b[32m  ✓ \u001b[39m\u001b[90mReferenceables\u001b[39m\n"
     ]
    },
    {
     "name": "stderr",
     "output_type": "stream",
     "text": [
      "\u001b[32m  ✓ \u001b[39m\u001b[90mSetfield\u001b[39m\n"
     ]
    },
    {
     "name": "stderr",
     "output_type": "stream",
     "text": [
      "\u001b[32m  ✓ \u001b[39m\u001b[90mReadline_jll\u001b[39m\n"
     ]
    },
    {
     "name": "stderr",
     "output_type": "stream",
     "text": [
      "\u001b[32m  ✓ \u001b[39m\u001b[90mConda\u001b[39m\n"
     ]
    },
    {
     "name": "stderr",
     "output_type": "stream",
     "text": [
      "\u001b[32m  ✓ \u001b[39m\u001b[90mCRlibm\u001b[39m\n"
     ]
    },
    {
     "name": "stderr",
     "output_type": "stream",
     "text": [
      "\u001b[32m  ✓ \u001b[39m\u001b[90mChainRulesCore\u001b[39m\n"
     ]
    },
    {
     "name": "stderr",
     "output_type": "stream",
     "text": [
      "\u001b[32m  ✓ \u001b[39m\u001b[90mGAP_jll\u001b[39m\n"
     ]
    },
    {
     "name": "stderr",
     "output_type": "stream",
     "text": [
      "\u001b[32m  ✓ \u001b[39m\u001b[90mAccessors\u001b[39m\n"
     ]
    },
    {
     "name": "stderr",
     "output_type": "stream",
     "text": [
      "\u001b[32m  ✓ \u001b[39m\u001b[90mAbstractFFTs → AbstractFFTsChainRulesCoreExt\u001b[39m\n"
     ]
    },
    {
     "name": "stderr",
     "output_type": "stream",
     "text": [
      "\u001b[32m  ✓ \u001b[39m\u001b[90mSplittablesBase\u001b[39m\n"
     ]
    },
    {
     "name": "stderr",
     "output_type": "stream",
     "text": [
      "\u001b[32m  ✓ \u001b[39m\u001b[90mBangBang\u001b[39m\n"
     ]
    },
    {
     "name": "stderr",
     "output_type": "stream",
     "text": [
      "\u001b[32m  ✓ \u001b[39m\u001b[90mCyclotomics\u001b[39m\n"
     ]
    },
    {
     "name": "stderr",
     "output_type": "stream",
     "text": [
      "\u001b[32m  ✓ \u001b[39m\u001b[90mGAP_pkg_juliainterface_jll\u001b[39m\n"
     ]
    },
    {
     "name": "stderr",
     "output_type": "stream",
     "text": [
      "\u001b[32m  ✓ \u001b[39m\u001b[90mAccessors → AccessorsStructArraysExt\u001b[39m\n"
     ]
    },
    {
     "name": "stderr",
     "output_type": "stream",
     "text": [
      "\u001b[32m  ✓ \u001b[39m\u001b[90mBangBang → BangBangChainRulesCoreExt\u001b[39m\n"
     ]
    },
    {
     "name": "stderr",
     "output_type": "stream",
     "text": [
      "\u001b[32m  ✓ \u001b[39m\u001b[90mBangBang → BangBangStructArraysExt\u001b[39m\n"
     ]
    },
    {
     "name": "stderr",
     "output_type": "stream",
     "text": [
      "\u001b[32m  ✓ \u001b[39m\u001b[90mAccessors → AccessorsStaticArraysExt\u001b[39m\n"
     ]
    },
    {
     "name": "stderr",
     "output_type": "stream",
     "text": [
      "\u001b[32m  ✓ \u001b[39m\u001b[90mLogExpFunctions → LogExpFunctionsChainRulesCoreExt\u001b[39m\n"
     ]
    },
    {
     "name": "stderr",
     "output_type": "stream",
     "text": [
      "\u001b[32m  ✓ \u001b[39m\u001b[90mBangBang → BangBangStaticArraysExt\u001b[39m\n"
     ]
    },
    {
     "name": "stderr",
     "output_type": "stream",
     "text": [
      "\u001b[32m  ✓ \u001b[39m\u001b[90mSymbolicWedderburn\u001b[39m\n"
     ]
    },
    {
     "name": "stderr",
     "output_type": "stream",
     "text": [
      "\u001b[32m  ✓ \u001b[39m\u001b[90mMicroCollections\u001b[39m\n"
     ]
    },
    {
     "name": "stderr",
     "output_type": "stream",
     "text": [
      "\u001b[32m  ✓ \u001b[39m\u001b[90mIntervalArithmetic\u001b[39m\n"
     ]
    },
    {
     "name": "stderr",
     "output_type": "stream",
     "text": [
      "\u001b[32m  ✓ \u001b[39m\u001b[90mStatsBase\u001b[39m\n"
     ]
    },
    {
     "name": "stderr",
     "output_type": "stream",
     "text": [
      "\u001b[32m  ✓ \u001b[39m\u001b[90mCovarianceEstimation\u001b[39m\n"
     ]
    },
    {
     "name": "stderr",
     "output_type": "stream",
     "text": [
      "\u001b[32m  ✓ \u001b[39m\u001b[90mSpecialFunctions\u001b[39m\n"
     ]
    },
    {
     "name": "stderr",
     "output_type": "stream",
     "text": [
      "\u001b[32m  ✓ \u001b[39m\u001b[90mDiffRules\u001b[39m\n"
     ]
    },
    {
     "name": "stderr",
     "output_type": "stream",
     "text": [
      "\u001b[32m  ✓ \u001b[39m\u001b[90mTransducers\u001b[39m\n"
     ]
    },
    {
     "name": "stderr",
     "output_type": "stream",
     "text": [
      "\u001b[32m  ✓ \u001b[39mGAP\n",
      "\u001b[32m  ✓ \u001b[39m\u001b[90mNamedDims\u001b[39m\n"
     ]
    },
    {
     "name": "stderr",
     "output_type": "stream",
     "text": [
      "\u001b[32m  ✓ \u001b[39m\u001b[90mSpecialFunctions → SpecialFunctionsChainRulesCoreExt\u001b[39m\n"
     ]
    },
    {
     "name": "stderr",
     "output_type": "stream",
     "text": [
      "\u001b[32m  ✓ \u001b[39m\u001b[90mTransducers → TransducersReferenceablesExt\u001b[39m\n"
     ]
    },
    {
     "name": "stderr",
     "output_type": "stream",
     "text": [
      "\u001b[32m  ✓ \u001b[39m\u001b[90mGeometryBasics\u001b[39m\n"
     ]
    },
    {
     "name": "stderr",
     "output_type": "stream",
     "text": [
      "\u001b[32m  ✓ \u001b[39m\u001b[90mKronecker\u001b[39m\n"
     ]
    },
    {
     "name": "stderr",
     "output_type": "stream",
     "text": [
      "\u001b[32m  ✓ \u001b[39m\u001b[90mTransducers → TransducersBlockArraysExt\u001b[39m\n"
     ]
    },
    {
     "name": "stderr",
     "output_type": "stream",
     "text": [
      "\u001b[32m  ✓ \u001b[39m\u001b[90mForwardDiff\u001b[39m\n"
     ]
    },
    {
     "name": "stderr",
     "output_type": "stream",
     "text": [
      "\u001b[32m  ✓ \u001b[39m\u001b[90mForwardDiff → ForwardDiffStaticArraysExt\u001b[39m\n"
     ]
    },
    {
     "name": "stderr",
     "output_type": "stream",
     "text": [
      "\u001b[32m  ✓ \u001b[39m\u001b[90mFolds\u001b[39m\n"
     ]
    },
    {
     "name": "stderr",
     "output_type": "stream",
     "text": [
      "\u001b[32m  ✓ \u001b[39mGroups\n"
     ]
    },
    {
     "name": "stderr",
     "output_type": "stream",
     "text": [
      "\u001b[32m  ✓ \u001b[39m\u001b[90mPyCall\u001b[39m\n"
     ]
    },
    {
     "name": "stderr",
     "output_type": "stream",
     "text": [
      "\u001b[32m  ✓ \u001b[39m\u001b[90mMathOptInterface\u001b[39m\n"
     ]
    },
    {
     "name": "stderr",
     "output_type": "stream",
     "text": [
      "\u001b[32m  ✓ \u001b[39m\u001b[90mSCS\u001b[39m\n"
     ]
    },
    {
     "name": "stderr",
     "output_type": "stream",
     "text": [
      "\u001b[32m  ✓ \u001b[39m\u001b[90mCOSMO\u001b[39m\n"
     ]
    },
    {
     "name": "stderr",
     "output_type": "stream",
     "text": [
      "\u001b[32m  ✓ \u001b[39mJuMP\n"
     ]
    },
    {
     "name": "stderr",
     "output_type": "stream",
     "text": [
      "\u001b[32m  ✓ \u001b[39mPropertyT\n"
     ]
    },
    {
     "name": "stderr",
     "output_type": "stream",
     "text": [
      "\u001b[32m  ✓ \u001b[39mPolyhedra\n"
     ]
    },
    {
     "name": "stderr",
     "output_type": "stream",
     "text": [
      "\u001b[32m  ✓ \u001b[39mLowCohomologySOS\n"
     ]
    },
    {
     "name": "stderr",
     "output_type": "stream",
     "text": [
      "\u001b[32m  ✓ \u001b[39mQHull\n"
     ]
    },
    {
     "name": "stderr",
     "output_type": "stream",
     "text": [
      "\u001b[32m  ✓ \u001b[39mSLnCohomology\n",
      "  54 dependencies successfully precompiled in 318 seconds. 109 already precompiled.\n",
      "  \u001b[33m1\u001b[39m dependency had warnings during precompilation:\u001b[33m\n",
      "┌ \u001b[39mLowCohomologySOS [70c9f613-c550-58ca-b626-6da403f9846d]\u001b[33m\n",
      "│  \u001b[39mWARNING: method definition for getindex at /home/bbrueck/.julia/packages/LowCohomologySOS/oTSwD/src/tensors.jl:111 declares type variable N but does not use it.\u001b[33m\n",
      "└  \u001b[39m\n"
     ]
    },
    {
     "name": "stderr",
     "output_type": "stream",
     "text": [
      "\u001b[32m\u001b[1m   Resolving\u001b[22m\u001b[39m package versions...\n"
     ]
    },
    {
     "name": "stderr",
     "output_type": "stream",
     "text": [
      "\u001b[32m\u001b[1m  No Changes\u001b[22m\u001b[39m to `/mnt/c/Git/HigherTSL3/SLnCohomology/Project.toml`\n",
      "\u001b[32m\u001b[1m  No Changes\u001b[22m\u001b[39m to `/mnt/c/Git/HigherTSL3/SLnCohomology/Manifest.toml`\n"
     ]
    },
    {
     "name": "stdout",
     "output_type": "stream",
     "text": [
      "\r"
     ]
    }
   ],
   "source": [
    "using Pkg\n",
    "Pkg.activate(normpath(joinpath(@__DIR__, \"../\")))\n",
    "Pkg.add(\"Polyhedra\")\n",
    "Pkg.add(\"QHull\")\n",
    "using Revise\n",
    "using LinearAlgebra\n",
    "using Polyhedra\n",
    "using QHull\n",
    "ENV[\"JULIA_NUM_THREADS\"] = Sys.CPU_THREADS÷2\n",
    "LinearAlgebra.BLAS.set_num_threads(Sys.CPU_THREADS÷2)\n",
    "\n",
    "using SLnCohomology"
   ]
  },
  {
   "cell_type": "code",
   "execution_count": 11,
   "metadata": {},
   "outputs": [
    {
     "data": {
      "text/plain": [
       "V-representation Polyhedra.PointsHull{Float64, Vector{Float64}, Int64}:\n",
       "3-element iterator of Vector{Float64}:\n",
       " [0.0, 0.0]\n",
       " [0.0, 1.0]\n",
       " [0.5, 0.5]"
      ]
     },
     "metadata": {},
     "output_type": "display_data"
    }
   ],
   "source": [
    "test = vrep([[0, 0], [0, 1], [1/2, 1/2]])"
   ]
  },
  {
   "cell_type": "code",
   "execution_count": 9,
   "metadata": {},
   "outputs": [
    {
     "data": {
      "text/plain": [
       "H-representation LiftedHRepresentation{Float64, Matrix{Float64}}:\n",
       "3-element iterator of HalfSpace{Float64, Vector{Float64}}:\n",
       " HalfSpace([1.0, 1.0], 1.0)\n",
       " HalfSpace([0.5, -0.5], 0.0)\n",
       " HalfSpace([-2.0, -0.0], 0.0)"
      ]
     },
     "metadata": {},
     "output_type": "display_data"
    }
   ],
   "source": [
    "doubledescription(test)"
   ]
  },
  {
   "cell_type": "code",
   "execution_count": 12,
   "metadata": {},
   "outputs": [
    {
     "data": {
      "text/plain": [
       "Polyhedron DefaultPolyhedron{Float64, Polyhedra.Intersection{Float64, Vector{Float64}, Int64}, Polyhedra.Hull{Float64, Vector{Float64}, Int64}}:\n",
       "3-element iterator of Vector{Float64}:\n",
       " [0.0, 0.0]\n",
       " [0.0, 1.0]\n",
       " [0.5, 0.5]"
      ]
     },
     "metadata": {},
     "output_type": "display_data"
    }
   ],
   "source": [
    "test_poly = polyhedron(test)"
   ]
  },
  {
   "cell_type": "code",
   "execution_count": 14,
   "metadata": {},
   "outputs": [
    {
     "data": {
      "text/plain": [
       "false"
      ]
     },
     "metadata": {},
     "output_type": "display_data"
    }
   ],
   "source": [
    "hrepiscomputed(test_poly)"
   ]
  },
  {
   "cell_type": "code",
   "execution_count": null,
   "metadata": {},
   "outputs": [],
   "source": [
    "incidentpoints(test_poly, )"
   ]
  },
  {
   "cell_type": "code",
   "execution_count": 15,
   "metadata": {},
   "outputs": [
    {
     "ename": "TypeError",
     "evalue": "TypeError: in Incident, in IdxT, expected IdxT<:(Polyhedra.Index{Float64}), got Type{Vector{Int64}}",
     "output_type": "error",
     "traceback": [
      "TypeError: in Incident, in IdxT, expected IdxT<:(Polyhedra.Index{Float64}), got Type{Vector{Int64}}\n",
      "\n",
      "Stacktrace:\n",
      " [1] (Polyhedra.IncidentElements{Float64, HalfSpace{Float64, Vector{Float64}}})(p::DefaultPolyhedron{Float64, Polyhedra.Intersection{Float64, Vector{Float64}, Int64}, Polyhedra.Hull{Float64, Vector{Float64}, Int64}}, idx::Vector{Int64})\n",
      "   @ Polyhedra ~/.julia/packages/Polyhedra/Xhcfx/src/incidence.jl:23\n",
      " [2] incidenthalfspaces(p::DefaultPolyhedron{Float64, Polyhedra.Intersection{Float64, Vector{Float64}, Int64}, Polyhedra.Hull{Float64, Vector{Float64}, Int64}}, idx::Vector{Int64})\n",
      "   @ Polyhedra ~/.julia/packages/Polyhedra/Xhcfx/src/iterators.jl:152\n",
      " [3] top-level scope\n",
      "   @ /mnt/c/Git/HigherTSL3/SLnCohomology/scripts/playing_with_polyhedra.ipynb:1"
     ]
    }
   ],
   "source": [
    "incidenthalfspaces(test_poly, [0, 0])"
   ]
  },
  {
   "cell_type": "code",
   "execution_count": 18,
   "metadata": {},
   "outputs": [
    {
     "name": "stdout",
     "output_type": "stream",
     "text": [
      "get(test_poly, point) = [0.0, 0.0]\n",
      "get(test_poly, point) = [0.0, 1.0]\n",
      "get(test_poly, point) = [0.5, 0.5]\n"
     ]
    }
   ],
   "source": [
    "for point in eachindex(points(test_poly))\n",
    "    @show get(test_poly, point)\n",
    "end"
   ]
  },
  {
   "cell_type": "code",
   "execution_count": 24,
   "metadata": {},
   "outputs": [
    {
     "name": "stdout",
     "output_type": "stream",
     "text": [
      "get(test_poly, halfspace) = HalfSpace([1.0, 1.0], 1.0)\n",
      "get(test_poly, halfspace) = HalfSpace([0.5, -0.5], 0.0)\n",
      "get(test_poly, halfspace) = HalfSpace([-2.0, -0.0], 0.0)\n"
     ]
    }
   ],
   "source": [
    "for halfspace in eachindex(halfspaces(test_poly))\n",
    "    @show get(test_poly, halfspace)\n",
    "end"
   ]
  },
  {
   "cell_type": "code",
   "execution_count": 98,
   "metadata": {},
   "outputs": [
    {
     "name": "stdout",
     "output_type": "stream",
     "text": [
      "halfspace = Polyhedra.Index{Float64, HalfSpace{Float64, Vector{Float64}}}(1)\n",
      "halfspace = Polyhedra.Index{Float64, HalfSpace{Float64, Vector{Float64}}}(2)\n",
      "halfspace = Polyhedra.Index{Float64, HalfSpace{Float64, Vector{Float64}}}(3)\n"
     ]
    }
   ],
   "source": [
    "for halfspace in eachindex(halfspaces(test_poly))\n",
    "    @show halfspace\n",
    "end"
   ]
  },
  {
   "cell_type": "code",
   "execution_count": 22,
   "metadata": {},
   "outputs": [
    {
     "name": "stdout",
     "output_type": "stream",
     "text": [
      "HalfSpace{Float64, Vector{Float64}}[HalfSpace([0.5, -0.5], 0.0), HalfSpace([-2.0, -0.0], 0.0)]\n",
      "HalfSpace{Float64, Vector{Float64}}[HalfSpace([1.0, 1.0], 1.0), HalfSpace([-2.0, -0.0], 0.0)]\n",
      "HalfSpace{Float64, Vector{Float64}}[HalfSpace([1.0, 1.0], 1.0), HalfSpace([0.5, -0.5], 0.0)]\n"
     ]
    }
   ],
   "source": [
    "for point in eachindex(points(test_poly))\n",
    "    println(incidenthalfspaces(test_poly, point))\n",
    "end"
   ]
  },
  {
   "cell_type": "code",
   "execution_count": 28,
   "metadata": {},
   "outputs": [
    {
     "name": "stdout",
     "output_type": "stream",
     "text": [
      "incidentpointindices(test_poly, halfspace) = Polyhedra.Index{Float64, Vector{Float64}}[Polyhedra.Index{Float64, Vector{Float64}}(2), Polyhedra.Index{Float64, Vector{Float64}}(3)]\n",
      "incidentpointindices(test_poly, halfspace) = Polyhedra.Index{Float64, Vector{Float64}}[Polyhedra.Index{Float64, Vector{Float64}}(1), Polyhedra.Index{Float64, Vector{Float64}}(3)]\n",
      "incidentpointindices(test_poly, halfspace) = Polyhedra.Index{Float64, Vector{Float64}}[Polyhedra.Index{Float64, Vector{Float64}}(1), Polyhedra.Index{Float64, Vector{Float64}}(2)]\n"
     ]
    }
   ],
   "source": [
    "for halfspace in eachindex(halfspaces(test_poly))\n",
    "    @show incidentpointindices(test_poly, halfspace)\n",
    "end"
   ]
  },
  {
   "cell_type": "code",
   "execution_count": 34,
   "metadata": {},
   "outputs": [
    {
     "name": "stdout",
     "output_type": "stream",
     "text": [
      "A halfspace with points:\n",
      "Polyhedra.Index{Float64, Vector{Float64}}(2)\n",
      "Polyhedra.Index{Float64, Vector{Float64}}(3)\n",
      "A halfspace with points:\n",
      "Polyhedra.Index{Float64, Vector{Float64}}(1)\n",
      "Polyhedra.Index{Float64, Vector{Float64}}(3)\n",
      "A halfspace with points:\n",
      "Polyhedra.Index{Float64, Vector{Float64}}(1)\n",
      "Polyhedra.Index{Float64, Vector{Float64}}(2)\n"
     ]
    }
   ],
   "source": [
    "for halfspace in eachindex(halfspaces(test_poly))\n",
    "    println(\"A halfspace with points:\")\n",
    "    for number in incidentpointindices(test_poly, halfspace)\n",
    "        println(number)\n",
    "    end\n",
    "end"
   ]
  },
  {
   "cell_type": "code",
   "execution_count": 89,
   "metadata": {},
   "outputs": [
    {
     "name": "stdout",
     "output_type": "stream",
     "text": [
      "A halfspace with points:\n",
      "Polyhedra.Index{Float64, Vector{Float64}}(2)\n",
      "Polyhedra.Index{Float64, Vector{Float64}}(3)\n",
      "A halfspace with points:\n",
      "Polyhedra.Index{Float64, Vector{Float64}}(1)\n",
      "Polyhedra.Index{Float64, Vector{Float64}}(3)\n",
      "A halfspace with points:\n",
      "Polyhedra.Index{Float64, Vector{Float64}}(1)\n",
      "Polyhedra.Index{Float64, Vector{Float64}}(2)\n"
     ]
    }
   ],
   "source": [
    "for halfspace in eachindex(halfspaces(test_poly))\n",
    "    println(\"A halfspace with points:\")\n",
    "    for number in incidentpointindices(test_poly, halfspace)\n",
    "        println(number)\n",
    "    end\n",
    "end"
   ]
  },
  {
   "cell_type": "code",
   "execution_count": 95,
   "metadata": {},
   "outputs": [
    {
     "data": {
      "text/plain": [
       "Polyhedra.Index{Float64, Vector{Float64}}(2)"
      ]
     },
     "metadata": {},
     "output_type": "display_data"
    },
    {
     "data": {
      "text/plain": [
       "Polyhedra.Index{Float64, Vector{Float64}}(3)"
      ]
     },
     "metadata": {},
     "output_type": "display_data"
    },
    {
     "data": {
      "text/plain": [
       "Polyhedra.Index{Float64, Vector{Float64}}(1)"
      ]
     },
     "metadata": {},
     "output_type": "display_data"
    },
    {
     "data": {
      "text/plain": [
       "Polyhedra.Index{Float64, Vector{Float64}}(3)"
      ]
     },
     "metadata": {},
     "output_type": "display_data"
    },
    {
     "data": {
      "text/plain": [
       "Polyhedra.Index{Float64, Vector{Float64}}(1)"
      ]
     },
     "metadata": {},
     "output_type": "display_data"
    },
    {
     "data": {
      "text/plain": [
       "Polyhedra.Index{Float64, Vector{Float64}}(2)"
      ]
     },
     "metadata": {},
     "output_type": "display_data"
    },
    {
     "name": "stdout",
     "output_type": "stream",
     "text": [
      "A halfspace with points:\n",
      "A halfspace with points:\n",
      "A halfspace with points:\n"
     ]
    }
   ],
   "source": [
    "for halfspace in eachindex(halfspaces(test_poly))\n",
    "    println(\"A halfspace with points:\")\n",
    "    for number in incidentpointindices(test_poly, halfspace)\n",
    "        display(number)\n",
    "    end\n",
    "end"
   ]
  },
  {
   "cell_type": "code",
   "execution_count": 58,
   "metadata": {},
   "outputs": [
    {
     "name": "stdout",
     "output_type": "stream",
     "text": [
      "A halfspace with points:\n",
      "[0.0, 1.0]\n",
      "[0.5, 0.5]\n",
      "A halfspace with points:\n",
      "[0.0, 0.0]\n",
      "[0.5, 0.5]\n",
      "A halfspace with points:\n",
      "[0.0, 0.0]\n",
      "[0.0, 1.0]\n"
     ]
    }
   ],
   "source": [
    "for halfspace in eachindex(halfspaces(test_poly))\n",
    "    println(\"A halfspace with points:\")\n",
    "    for x in incidentpoints(test_poly, halfspace)\n",
    "        println(x)\n",
    "    end\n",
    "end"
   ]
  },
  {
   "cell_type": "markdown",
   "metadata": {},
   "source": [
    "One should be able to convert this into a number. But maybe that's also not necessary when staying in the polyhedra package?"
   ]
  },
  {
   "cell_type": "code",
   "execution_count": 47,
   "metadata": {},
   "outputs": [
    {
     "data": {
      "text/plain": [
       "3-element iterator of Vector{Float64}:\n",
       " [0.0, 0.0]\n",
       " [0.0, 1.0]\n",
       " [0.5, 0.5]"
      ]
     },
     "metadata": {},
     "output_type": "display_data"
    }
   ],
   "source": [
    "points(test_poly)"
   ]
  },
  {
   "cell_type": "markdown",
   "metadata": {},
   "source": [
    "## Removing redundancy\n",
    "To really only obtain the facets. Though it might be that if I always start with a v representation, I get no redundancy anyway..."
   ]
  },
  {
   "cell_type": "code",
   "execution_count": 48,
   "metadata": {},
   "outputs": [
    {
     "data": {
      "text/plain": [
       "Polyhedron DefaultPolyhedron{Float64, Polyhedra.Intersection{Float64, Vector{Float64}, Int64}, Polyhedra.Hull{Float64, Vector{Float64}, Int64}}:\n",
       "4-element iterator of HalfSpace{Float64, Vector{Float64}}:\n",
       " HalfSpace([1.0, 1.0], 1.0)\n",
       " HalfSpace([0.5, -0.5], 0.0)\n",
       " HalfSpace([-2.0, -0.0], 0.0)\n",
       " HalfSpace([-2.0, -0.0], 1.0)"
      ]
     },
     "metadata": {},
     "output_type": "display_data"
    }
   ],
   "source": [
    "red_rep = polyhedron(hrep([HalfSpace([1.0, 1.0], 1.0), HalfSpace([0.5, -0.5], 0.0), HalfSpace([-2.0, -0.0], 0.0), HalfSpace([-2.0, -0.0], 1.0)]))"
   ]
  },
  {
   "cell_type": "code",
   "execution_count": 54,
   "metadata": {},
   "outputs": [
    {
     "name": "stderr",
     "output_type": "stream",
     "text": [
      "┌ Warning: `removehredundancy!` will trigger the computation of the H-representation, which\n",
      "│ is computationally demanding because no solver was provided to the library.\n",
      "│ If this is expected, call `computevrep!` explicitely before calling this\n",
      "│ function to remove this warning.\n",
      "│ To provide a solver to a polyhedron, first select a solver from https://jump.dev/JuMP.jl/stable/installation/#Getting-Solvers-1.\n",
      "│ If you choose for instance `GLPK`, do `using GLPK; solver = GLPK.Optimizer`.\n",
      "│ Then provide the solver to the library. For instance, with the default library, do `lib = DefaultLibrary{Float64}(solver)`\n",
      "│ or if you use an external library, say `QHull`, do `lib = QHull.Library(solver)`.\n",
      "│ Then when you create the polyhedron, say from a representation `rep`, do `polyhedron(rep, lib)`.\n",
      "└ @ Polyhedra /home/bbrueck/.julia/packages/Polyhedra/Xhcfx/src/redundancy.jl:107\n",
      "┌ Warning: Cannot detect exact linearity as no solver was provided and the polyhedron is not affine.\n",
      "│ As fallback, we will only detect halfspaces from opposite hyperplanes but that may not detect all halfspaces.\n",
      "│ Set a solver if you believe that the polyhedron may have more linearity.\n",
      "│ To provide a solver to a polyhedron, first select a solver from https://jump.dev/JuMP.jl/stable/installation/#Getting-Solvers-1.\n",
      "│ If you choose for instance `GLPK`, do `using GLPK; solver = GLPK.Optimizer`.\n",
      "│ Then provide the solver to the library. For instance, with the default library, do `lib = DefaultLibrary{Float64}(solver)`\n",
      "│ or if you use an external library, say `QHull`, do `lib = QHull.Library(solver)`.\n",
      "│ Then when you create the polyhedron, say from a representation `rep`, do `polyhedron(rep, lib)`.\n",
      "└ @ Polyhedra /home/bbrueck/.julia/packages/Polyhedra/Xhcfx/src/linearity.jl:239\n"
     ]
    }
   ],
   "source": [
    "removehredundancy!(red_rep)"
   ]
  },
  {
   "cell_type": "code",
   "execution_count": 56,
   "metadata": {},
   "outputs": [
    {
     "data": {
      "text/plain": [
       "Polyhedron DefaultPolyhedron{Float64, Polyhedra.Intersection{Float64, Vector{Float64}, Int64}, Polyhedra.Hull{Float64, Vector{Float64}, Int64}}:\n",
       "3-element iterator of HalfSpace{Float64, Vector{Float64}}:\n",
       " HalfSpace([1.0, 1.0], 1.0)\n",
       " HalfSpace([0.5, -0.5], 0.0)\n",
       " HalfSpace([-2.0, -0.0], 0.0):\n",
       "3-element iterator of Vector{Float64}:\n",
       " [0.0, 0.0]\n",
       " [0.0, 1.0]\n",
       " [0.5, 0.5]"
      ]
     },
     "metadata": {},
     "output_type": "display_data"
    }
   ],
   "source": [
    "red_rep"
   ]
  },
  {
   "cell_type": "markdown",
   "metadata": {},
   "source": [
    "# Test space for Voronoi cells"
   ]
  },
  {
   "cell_type": "code",
   "execution_count": 2,
   "metadata": {},
   "outputs": [
    {
     "data": {
      "text/plain": [
       "orbit_in_list (generic function with 1 method)"
      ]
     },
     "metadata": {},
     "output_type": "display_data"
    }
   ],
   "source": [
    "# From sl_cell_computations, no need to have it twice in the end\n",
    "function same_orbit(matrix1,matrix2)\n",
    "    #= Checks whether matrix1 lies in the SL_n orbit as matrix2\n",
    "    =#\n",
    "    if length(SLnCohomology.stabiliser_coset_SL(SLnCohomology.quadratic_form(matrix1),SLnCohomology.quadratic_form(matrix2))) > 0\n",
    "        return true\n",
    "    else\n",
    "        return false\n",
    "    end\n",
    "end\n",
    "\n",
    "function orbit_in_list(matrix,list)\n",
    "    #= Checks whether matrix lies in the SL_n orbit of one of the elements in list\n",
    "    =#\n",
    "    for matrix2 in list\n",
    "        if same_orbit(matrix,matrix2)\n",
    "            return true\n",
    "        end\n",
    "    end\n",
    "    return false\n",
    "end"
   ]
  },
  {
   "cell_type": "code",
   "execution_count": 3,
   "metadata": {},
   "outputs": [
    {
     "data": {
      "text/plain": [
       "1-element Vector{Matrix{Int64}}:\n",
       " [1 0 … 1 1; 0 1 … 0 1; 0 0 … 1 1]"
      ]
     },
     "metadata": {},
     "output_type": "display_data"
    }
   ],
   "source": [
    "#SL_3\n",
    "\n",
    "e1 = [1,0,0]\n",
    "e2 = [0,1,0]\n",
    "e3 = [0,0,1]\n",
    "e12 = [1,1,0]\n",
    "e13 = [1,0,1]\n",
    "e123 = [1,1,1]\n",
    "m2 = [e1 e2 e3] # standard\n",
    "m3_1 = [e1 e2 e3 e12] # 2-additive\n",
    "m3_2 = [e1 e2 e3 e123] # 3-additive\n",
    "m4 = [e1 e2 e3 e12 e13] # double-triple\n",
    "m5 = [e1 e2 e3 e12 e13 e123] # Q\n",
    "cells_SL3 = Dict()\n",
    "cells_SL3[2] = [m2]\n",
    "cells_SL3[3] = [m3_1,m3_2]\n",
    "cells_SL3[4] = [m4]\n",
    "cells_SL3[5] = [m5]"
   ]
  },
  {
   "cell_type": "code",
   "execution_count": 4,
   "metadata": {},
   "outputs": [
    {
     "data": {
      "text/plain": [
       "create_polyhedron (generic function with 1 method)"
      ]
     },
     "metadata": {},
     "output_type": "display_data"
    }
   ],
   "source": [
    "function create_polyhedron(cell)\n",
    "    poly_vertices = Vector{Int64}[]\n",
    "    for col in eachcol(cell)\n",
    "        push!(poly_vertices,vec(SLnCohomology.quadratic_form(col)))\n",
    "    end\n",
    "    poly_cell = polyhedron(vrep(poly_vertices))\n",
    "    return poly_cell\n",
    "end"
   ]
  },
  {
   "cell_type": "code",
   "execution_count": 5,
   "metadata": {},
   "outputs": [
    {
     "data": {
      "text/plain": [
       "facets (generic function with 1 method)"
      ]
     },
     "metadata": {},
     "output_type": "display_data"
    }
   ],
   "source": [
    "function facets(polyhedral_cell, min_vectors, codim_1_cells)\n",
    "    #=\n",
    "    min_vectors must be ordered in the same way as the points in polyhedral_cell\n",
    "    =#\n",
    "    vertex_list = collect(points(polyhedral_cell))\n",
    "    for halfspace in eachindex(halfspaces(polyhedral_cell))\n",
    "        # create a list with all min_vectors that lie on this facet\n",
    "        vertices_facet = []\n",
    "        for vertex in incidentpoints(polyhedral_cell, halfspace) # read out using Oscar/polymake in the long term, this might get shorter\n",
    "            vertex_index = findfirst(x -> x==vertex, vertex_list) # this should somehow get quicker, but I couldn't find out how\n",
    "            push!(vertices_facet,min_vectors[vertex_index])\n",
    "        end\n",
    "        #now turn into matrix again to make accessible to other calculations, orbits extract_basis\n",
    "        facet = transpose(reduce(vcat,transpose.(vertices_facet)))\n",
    "        if isposdef(SLnCohomology.quadratic_form(facet))\n",
    "            # then it intersects the interior non-trivially - make this a separate function to increase readability\n",
    "            if !orbit_in_list(facet, codim_1_cells)\n",
    "                push!(codim_1_cells,facet)\n",
    "            end\n",
    "        end\n",
    "    end\n",
    "    return codim_1_cells\n",
    "end"
   ]
  },
  {
   "cell_type": "code",
   "execution_count": 6,
   "metadata": {},
   "outputs": [
    {
     "data": {
      "text/plain": [
       "min_vectors_facet (generic function with 1 method)"
      ]
     },
     "metadata": {},
     "output_type": "display_data"
    }
   ],
   "source": [
    "function min_vectors_facet(cell,codim_1_cells)\n",
    "    min_vectors = collect(eachcol(cell))\n",
    "    return facets(create_polyhedron(cell), min_vectors, codim_1_cells)\n",
    "end"
   ]
  },
  {
   "cell_type": "code",
   "execution_count": 8,
   "metadata": {},
   "outputs": [
    {
     "data": {
      "text/plain": [
       "1-element Vector{Any}:\n",
       " [0 0 … 1 1; 1 0 … 0 1; 0 1 … 1 1]"
      ]
     },
     "metadata": {},
     "output_type": "display_data"
    }
   ],
   "source": [
    "dim_4_cells = []\n",
    "min_vectors_facet(m5,dim_4_cells)"
   ]
  },
  {
   "cell_type": "code",
   "execution_count": 9,
   "metadata": {},
   "outputs": [
    {
     "data": {
      "text/plain": [
       "2-element Vector{Any}:\n",
       " [0 1 1 1; 0 1 0 1; 1 0 1 1]\n",
       " [0 0 1 1; 1 0 1 0; 0 1 0 1]"
      ]
     },
     "metadata": {},
     "output_type": "display_data"
    }
   ],
   "source": [
    "dim_3_cells = []\n",
    "min_vectors_facet(dim_4_cells[1],dim_3_cells)"
   ]
  },
  {
   "cell_type": "code",
   "execution_count": 10,
   "metadata": {},
   "outputs": [
    {
     "data": {
      "text/plain": [
       "2-element Vector{Any}:\n",
       " [1 1 1; 1 0 1; 0 1 1]\n",
       " [0 1 1; 0 1 1; 1 0 1]"
      ]
     },
     "metadata": {},
     "output_type": "display_data"
    }
   ],
   "source": [
    "dim_2_cells = []\n",
    "min_vectors_facet(dim_3_cells[1],dim_2_cells)\n",
    "min_vectors_facet(dim_3_cells[2],dim_2_cells)"
   ]
  },
  {
   "cell_type": "code",
   "execution_count": 11,
   "metadata": {},
   "outputs": [
    {
     "data": {
      "text/plain": [
       "3×3 transpose(::Matrix{Int64}) with eltype Int64:\n",
       " 1  1  1\n",
       " 1  0  1\n",
       " 0  1  1"
      ]
     },
     "metadata": {},
     "output_type": "display_data"
    }
   ],
   "source": [
    "dim_2_cells[1]"
   ]
  },
  {
   "cell_type": "code",
   "execution_count": 16,
   "metadata": {},
   "outputs": [
    {
     "data": {
      "text/plain": [
       "3×3 Matrix{Int64}:\n",
       " 3  2  2\n",
       " 2  2  1\n",
       " 2  1  2"
      ]
     },
     "metadata": {},
     "output_type": "display_data"
    }
   ],
   "source": [
    "SLnCohomology.quadratic_form(dim_2_cells[1])"
   ]
  },
  {
   "cell_type": "code",
   "execution_count": 12,
   "metadata": {},
   "outputs": [
    {
     "data": {
      "text/plain": [
       "3×3 transpose(::Matrix{Int64}) with eltype Int64:\n",
       " 0  1  1\n",
       " 0  1  1\n",
       " 1  0  1"
      ]
     },
     "metadata": {},
     "output_type": "display_data"
    }
   ],
   "source": [
    "dim_2_cells[2]"
   ]
  },
  {
   "cell_type": "code",
   "execution_count": 13,
   "metadata": {},
   "outputs": [
    {
     "data": {
      "text/plain": [
       "3×3 Matrix{Int64}:\n",
       " 2  2  1\n",
       " 2  2  1\n",
       " 1  1  2"
      ]
     },
     "metadata": {},
     "output_type": "display_data"
    }
   ],
   "source": [
    "m = SLnCohomology.quadratic_form(dim_2_cells[2])"
   ]
  },
  {
   "cell_type": "code",
   "execution_count": 14,
   "metadata": {},
   "outputs": [
    {
     "data": {
      "text/plain": [
       "true"
      ]
     },
     "metadata": {},
     "output_type": "display_data"
    }
   ],
   "source": [
    "isposdef(m)"
   ]
  },
  {
   "cell_type": "code",
   "execution_count": 15,
   "metadata": {},
   "outputs": [
    {
     "data": {
      "text/plain": [
       "3×3 Matrix{Int64}:\n",
       " 2  2  1\n",
       " 2  2  1\n",
       " 1  1  2"
      ]
     },
     "metadata": {},
     "output_type": "display_data"
    }
   ],
   "source": [
    "dim_2_cells[2]*transpose(dim_2_cells[2])"
   ]
  },
  {
   "cell_type": "markdown",
   "metadata": {},
   "source": [
    "## Checking\n",
    "maybe Dan gave me the data in a slightly different format. I should retry with the original data"
   ]
  },
  {
   "cell_type": "code",
   "execution_count": 17,
   "metadata": {},
   "outputs": [
    {
     "data": {
      "text/plain": [
       "3×3 Matrix{Int64}:\n",
       "  2  -1   0\n",
       " -1   2  -1\n",
       "  0  -1   2"
      ]
     },
     "metadata": {},
     "output_type": "display_data"
    }
   ],
   "source": [
    "A_3 = [2 -1 0\n",
    "-1 2 -1\n",
    "0 -1 2]"
   ]
  },
  {
   "cell_type": "code",
   "execution_count": 25,
   "metadata": {},
   "outputs": [
    {
     "data": {
      "text/plain": [
       "shortestVectors_once (generic function with 2 methods)"
      ]
     },
     "metadata": {},
     "output_type": "display_data"
    }
   ],
   "source": [
    "using GAP\n",
    "function shortestVectors_once(gramMatrix::Array{Int64,2}, limitNormSquare::Int64 = -1)::Array{Array{Int64,1},1}\n",
    "\t@assert(size(gramMatrix,1) == size(gramMatrix,2))\n",
    "\tif limitNormSquare < 0\n",
    "\t\tlimitNormSquare = maximum(Diagonal(gramMatrix))\n",
    "\tend\n",
    "\tgramMatrixGAP = GAP.julia_to_gap(map(GAP.julia_to_gap, gramMatrix))\n",
    "\trecGAP = GAP.Globals.ShortestVectors(gramMatrixGAP, limitNormSquare)\n",
    "\tvectors = GAP.gap_to_julia(Array{Array{Int64,1},1}, recGAP.vectors)\n",
    "\treturn vcat(map( v -> [v], vectors)...)\n",
    "end"
   ]
  },
  {
   "cell_type": "code",
   "execution_count": 26,
   "metadata": {},
   "outputs": [
    {
     "data": {
      "text/plain": [
       "6-element Vector{Vector{Int64}}:\n",
       " [1, 1, 1]\n",
       " [0, 1, 1]\n",
       " [0, 0, 1]\n",
       " [1, 1, 0]\n",
       " [0, 1, 0]\n",
       " [1, 0, 0]"
      ]
     },
     "metadata": {},
     "output_type": "display_data"
    }
   ],
   "source": [
    "shortestVectors_once(A_3)"
   ]
  },
  {
   "cell_type": "code",
   "execution_count": 27,
   "metadata": {},
   "outputs": [
    {
     "data": {
      "text/plain": [
       "3×6 transpose(::Matrix{Int64}) with eltype Int64:\n",
       " 1  0  0  1  0  1\n",
       " 1  1  0  1  1  0\n",
       " 1  1  1  0  0  0"
      ]
     },
     "metadata": {},
     "output_type": "display_data"
    }
   ],
   "source": [
    "m5_new = transpose(reduce(vcat,transpose.(shortestVectors_once(A_3))))"
   ]
  },
  {
   "cell_type": "code",
   "execution_count": 31,
   "metadata": {},
   "outputs": [
    {
     "data": {
      "text/plain": [
       "3×5 transpose(::Matrix{Int64}) with eltype Int64:\n",
       " 0  0  1  0  1\n",
       " 1  0  1  1  0\n",
       " 1  1  0  0  0"
      ]
     },
     "metadata": {},
     "output_type": "display_data"
    }
   ],
   "source": [
    "dim_4_cells = []\n",
    "min_vectors_facet(m5_new,dim_4_cells)\n",
    "dim_4_cells[1]"
   ]
  },
  {
   "cell_type": "code",
   "execution_count": 32,
   "metadata": {},
   "outputs": [
    {
     "data": {
      "text/plain": [
       "3×4 transpose(::Matrix{Int64}) with eltype Int64:\n",
       " 0  1  0  1\n",
       " 0  1  1  0\n",
       " 1  0  0  0"
      ]
     },
     "metadata": {},
     "output_type": "display_data"
    },
    {
     "data": {
      "text/plain": [
       "3×4 transpose(::Matrix{Int64}) with eltype Int64:\n",
       " 0  0  1  1\n",
       " 1  0  1  0\n",
       " 1  1  0  0"
      ]
     },
     "metadata": {},
     "output_type": "display_data"
    }
   ],
   "source": [
    "dim_3_cells = []\n",
    "min_vectors_facet(dim_4_cells[1],dim_3_cells)\n",
    "for cell in dim_3_cells\n",
    "    display(cell)\n",
    "end"
   ]
  },
  {
   "cell_type": "code",
   "execution_count": 30,
   "metadata": {},
   "outputs": [
    {
     "data": {
      "text/plain": [
       "1-element Vector{Any}:\n",
       " [0 0 1; 0 1 0; 1 0 0]"
      ]
     },
     "metadata": {},
     "output_type": "display_data"
    }
   ],
   "source": [
    "dim_2_cells = []\n",
    "min_vectors_facet(dim_3_cells[1],dim_2_cells)\n",
    "min_vectors_facet(dim_3_cells[2],dim_2_cells)"
   ]
  },
  {
   "cell_type": "code",
   "execution_count": null,
   "metadata": {},
   "outputs": [],
   "source": []
  }
 ],
 "metadata": {
  "kernelspec": {
   "display_name": "Julia 1.9.1",
   "language": "julia",
   "name": "julia-1.9"
  },
  "language_info": {
   "file_extension": ".jl",
   "mimetype": "application/julia",
   "name": "julia",
   "version": "1.9.1"
  }
 },
 "nbformat": 4,
 "nbformat_minor": 2
}
