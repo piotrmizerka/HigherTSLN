{
 "cells": [
  {
   "cell_type": "markdown",
   "metadata": {},
   "source": [
    "Experimenting in order to ultimately compute the cell structures of Voronoi complexes"
   ]
  },
  {
   "cell_type": "code",
   "execution_count": 9,
   "metadata": {},
   "outputs": [
    {
     "name": "stderr",
     "output_type": "stream",
     "text": [
      "\u001b[32m\u001b[1m  Activating\u001b[22m\u001b[39m project at `/mnt/c/Git/HigherTSL3/SLnCohomology`\n"
     ]
    },
    {
     "name": "stderr",
     "output_type": "stream",
     "text": [
      "\u001b[32m\u001b[1m   Resolving\u001b[22m\u001b[39m package versions...\n"
     ]
    },
    {
     "name": "stderr",
     "output_type": "stream",
     "text": [
      "\u001b[32m\u001b[1m  No Changes\u001b[22m\u001b[39m to `/mnt/c/Git/HigherTSL3/SLnCohomology/Project.toml`\n",
      "\u001b[32m\u001b[1m  No Changes\u001b[22m\u001b[39m to `/mnt/c/Git/HigherTSL3/SLnCohomology/Manifest.toml`\n"
     ]
    },
    {
     "name": "stderr",
     "output_type": "stream",
     "text": [
      "\u001b[32m\u001b[1m   Resolving\u001b[22m\u001b[39m package versions...\n"
     ]
    },
    {
     "name": "stderr",
     "output_type": "stream",
     "text": [
      "\u001b[32m\u001b[1m  No Changes\u001b[22m\u001b[39m to `/mnt/c/Git/HigherTSL3/SLnCohomology/Project.toml`\n",
      "\u001b[32m\u001b[1m  No Changes\u001b[22m\u001b[39m to `/mnt/c/Git/HigherTSL3/SLnCohomology/Manifest.toml`\n"
     ]
    }
   ],
   "source": [
    "using Pkg\n",
    "Pkg.activate(normpath(joinpath(@__DIR__, \"../\")))\n",
    "Pkg.add(\"Polyhedra\")\n",
    "Pkg.add(\"QHull\")\n",
    "using Revise\n",
    "using LinearAlgebra\n",
    "using Polyhedra\n",
    "using QHull\n",
    "import CDDLib\n",
    "ENV[\"JULIA_NUM_THREADS\"] = Sys.CPU_THREADS÷2\n",
    "LinearAlgebra.BLAS.set_num_threads(Sys.CPU_THREADS÷2)\n",
    "using Serialization\n",
    "\n",
    "using SLnCohomology"
   ]
  },
  {
   "cell_type": "markdown",
   "metadata": {},
   "source": [
    "# Test space for Voronoi cells"
   ]
  },
  {
   "cell_type": "code",
   "execution_count": 3,
   "metadata": {},
   "outputs": [
    {
     "data": {
      "text/plain": [
       "1-element Vector{Matrix{Int64}}:\n",
       " [1 0 … 1 1; 0 1 … 0 1; 0 0 … 1 1]"
      ]
     },
     "metadata": {},
     "output_type": "display_data"
    }
   ],
   "source": [
    "#SL_3\n",
    "\n",
    "e1 = [1,0,0]\n",
    "e2 = [0,1,0]\n",
    "e3 = [0,0,1]\n",
    "e12 = [1,1,0]\n",
    "e13 = [1,0,1]\n",
    "e123 = [1,1,1]\n",
    "m2 = [e1 e2 e3] # standard\n",
    "m3_1 = [e1 e2 e3 e12] # 2-additive\n",
    "m3_2 = [e1 e2 e3 e123] # 3-additive\n",
    "m4 = [e1 e2 e3 e12 e13] # double-triple\n",
    "m5 = [e1 e2 e3 e12 e13 e123] # Q\n",
    "cells_SL3 = Dict()\n",
    "cells_SL3[2] = [m2]\n",
    "cells_SL3[3] = [m3_1,m3_2]\n",
    "cells_SL3[4] = [m4]\n",
    "cells_SL3[5] = [m5]"
   ]
  },
  {
   "cell_type": "code",
   "execution_count": 8,
   "metadata": {},
   "outputs": [
    {
     "data": {
      "text/plain": [
       "1-element Vector{Any}:\n",
       " [0 0 … 1 1; 1 0 … 0 1; 0 1 … 1 1]"
      ]
     },
     "metadata": {},
     "output_type": "display_data"
    }
   ],
   "source": [
    "dim_4_cells = []\n",
    "min_vectors_facet(m5,dim_4_cells)"
   ]
  },
  {
   "cell_type": "code",
   "execution_count": 9,
   "metadata": {},
   "outputs": [
    {
     "data": {
      "text/plain": [
       "2-element Vector{Any}:\n",
       " [0 1 1 1; 0 1 0 1; 1 0 1 1]\n",
       " [0 0 1 1; 1 0 1 0; 0 1 0 1]"
      ]
     },
     "metadata": {},
     "output_type": "display_data"
    }
   ],
   "source": [
    "dim_3_cells = []\n",
    "min_vectors_facet(dim_4_cells[1],dim_3_cells)"
   ]
  },
  {
   "cell_type": "code",
   "execution_count": 10,
   "metadata": {},
   "outputs": [
    {
     "data": {
      "text/plain": [
       "2-element Vector{Any}:\n",
       " [1 1 1; 1 0 1; 0 1 1]\n",
       " [0 1 1; 0 1 1; 1 0 1]"
      ]
     },
     "metadata": {},
     "output_type": "display_data"
    }
   ],
   "source": [
    "dim_2_cells = []\n",
    "min_vectors_facet(dim_3_cells[1],dim_2_cells)\n",
    "min_vectors_facet(dim_3_cells[2],dim_2_cells)"
   ]
  },
  {
   "cell_type": "code",
   "execution_count": 11,
   "metadata": {},
   "outputs": [
    {
     "data": {
      "text/plain": [
       "3×3 transpose(::Matrix{Int64}) with eltype Int64:\n",
       " 1  1  1\n",
       " 1  0  1\n",
       " 0  1  1"
      ]
     },
     "metadata": {},
     "output_type": "display_data"
    }
   ],
   "source": [
    "dim_2_cells[1]"
   ]
  },
  {
   "cell_type": "code",
   "execution_count": 16,
   "metadata": {},
   "outputs": [
    {
     "data": {
      "text/plain": [
       "3×3 Matrix{Int64}:\n",
       " 3  2  2\n",
       " 2  2  1\n",
       " 2  1  2"
      ]
     },
     "metadata": {},
     "output_type": "display_data"
    }
   ],
   "source": [
    "SLnCohomology.quadratic_form(dim_2_cells[1])"
   ]
  },
  {
   "cell_type": "code",
   "execution_count": 12,
   "metadata": {},
   "outputs": [
    {
     "data": {
      "text/plain": [
       "3×3 transpose(::Matrix{Int64}) with eltype Int64:\n",
       " 0  1  1\n",
       " 0  1  1\n",
       " 1  0  1"
      ]
     },
     "metadata": {},
     "output_type": "display_data"
    }
   ],
   "source": [
    "dim_2_cells[2]"
   ]
  },
  {
   "cell_type": "code",
   "execution_count": 13,
   "metadata": {},
   "outputs": [
    {
     "data": {
      "text/plain": [
       "3×3 Matrix{Int64}:\n",
       " 2  2  1\n",
       " 2  2  1\n",
       " 1  1  2"
      ]
     },
     "metadata": {},
     "output_type": "display_data"
    }
   ],
   "source": [
    "m = SLnCohomology.quadratic_form(dim_2_cells[2])"
   ]
  },
  {
   "cell_type": "code",
   "execution_count": 14,
   "metadata": {},
   "outputs": [
    {
     "data": {
      "text/plain": [
       "true"
      ]
     },
     "metadata": {},
     "output_type": "display_data"
    }
   ],
   "source": [
    "isposdef(m)"
   ]
  },
  {
   "cell_type": "code",
   "execution_count": 15,
   "metadata": {},
   "outputs": [
    {
     "data": {
      "text/plain": [
       "3×3 Matrix{Int64}:\n",
       " 2  2  1\n",
       " 2  2  1\n",
       " 1  1  2"
      ]
     },
     "metadata": {},
     "output_type": "display_data"
    }
   ],
   "source": [
    "dim_2_cells[2]*transpose(dim_2_cells[2])"
   ]
  },
  {
   "cell_type": "markdown",
   "metadata": {},
   "source": [
    "## Checking\n",
    "maybe Dan gave me the data in a slightly different format. I should retry with the original data."
   ]
  },
  {
   "cell_type": "markdown",
   "metadata": {},
   "source": [
    "# Cleaned up version"
   ]
  },
  {
   "cell_type": "code",
   "execution_count": 41,
   "metadata": {},
   "outputs": [
    {
     "data": {
      "text/plain": [
       "orbit_in_list (generic function with 1 method)"
      ]
     },
     "metadata": {},
     "output_type": "display_data"
    }
   ],
   "source": [
    "# From sl_cell_computations, no need to have it twice in the end\n",
    "function same_orbit(matrix1,matrix2)\n",
    "    #= Checks whether matrix1 lies in the SL_n orbit as matrix2\n",
    "    =#\n",
    "    if length(SLnCohomology.stabiliser_coset_SL(SLnCohomology.quadratic_form(matrix1),SLnCohomology.quadratic_form(matrix2))) > 0\n",
    "        return true\n",
    "    else\n",
    "        return false\n",
    "    end\n",
    "end\n",
    "\n",
    "function orbit_in_list(matrix,list)\n",
    "    #= Checks whether matrix lies in the SL_n orbit of one of the elements in list\n",
    "    =#\n",
    "    for matrix2 in list\n",
    "        if same_orbit(matrix,matrix2)\n",
    "            return true\n",
    "        end\n",
    "    end\n",
    "    return false\n",
    "end"
   ]
  },
  {
   "cell_type": "code",
   "execution_count": 42,
   "metadata": {},
   "outputs": [
    {
     "data": {
      "text/plain": [
       "create_polyhedron (generic function with 1 method)"
      ]
     },
     "metadata": {},
     "output_type": "display_data"
    }
   ],
   "source": [
    "function create_polyhedron(cell)\n",
    "    poly_vertices = Vector{Int64}[]\n",
    "    for col in eachcol(cell)\n",
    "        push!(poly_vertices,vec(SLnCohomology.quadratic_form(col)))\n",
    "    end\n",
    "    poly_cell = polyhedron(vrep(poly_vertices),DefaultLibrary{Float64}(GLPK.Optimizer))\n",
    "    return poly_cell\n",
    "end"
   ]
  },
  {
   "cell_type": "code",
   "execution_count": 43,
   "metadata": {},
   "outputs": [
    {
     "data": {
      "text/plain": [
       "facets (generic function with 1 method)"
      ]
     },
     "metadata": {},
     "output_type": "display_data"
    }
   ],
   "source": [
    "function facets(polyhedral_cell, min_vectors, codim_1_cells)\n",
    "    #=\n",
    "    min_vectors must be ordered in the same way as the points in polyhedral_cell\n",
    "    =#\n",
    "    vertex_list = collect(points(polyhedral_cell))\n",
    "    for halfspace in eachindex(halfspaces(polyhedral_cell))\n",
    "        # create a list with all min_vectors that lie on this facet\n",
    "        vertices_facet = []\n",
    "        for vertex in incidentpoints(polyhedral_cell, halfspace) # read out using Oscar/polymake in the long term, this might get shorter\n",
    "            # also careful: At the moment, I'm not reducing the cells, this should be done or avoided by using polymake\n",
    "            vertex_index = findfirst(x -> x==vertex, vertex_list) # this should somehow get quicker, but I couldn't find out how\n",
    "            push!(vertices_facet,min_vectors[vertex_index])\n",
    "        end\n",
    "        #now turn into matrix again to make accessible to other calculations, orbits extract_basis\n",
    "        facet = transpose(reduce(vcat,transpose.(vertices_facet)))\n",
    "        if isposdef(SLnCohomology.quadratic_form(facet))\n",
    "            # then it intersects the interior non-trivially - make this a separate function to increase readability\n",
    "            if !orbit_in_list(facet, codim_1_cells)\n",
    "                push!(codim_1_cells,facet)\n",
    "            end\n",
    "        end\n",
    "    end\n",
    "    return codim_1_cells\n",
    "end"
   ]
  },
  {
   "cell_type": "code",
   "execution_count": 44,
   "metadata": {},
   "outputs": [
    {
     "data": {
      "text/plain": [
       "min_vectors_facet (generic function with 1 method)"
      ]
     },
     "metadata": {},
     "output_type": "display_data"
    }
   ],
   "source": [
    "function min_vectors_facet(cell,codim_1_cells)\n",
    "    min_vectors = collect(eachcol(cell))\n",
    "    return facets(create_polyhedron(cell), min_vectors, codim_1_cells)\n",
    "end"
   ]
  },
  {
   "cell_type": "code",
   "execution_count": 45,
   "metadata": {},
   "outputs": [
    {
     "data": {
      "text/plain": [
       "Voronoi_cells (generic function with 1 method)"
      ]
     },
     "metadata": {},
     "output_type": "display_data"
    }
   ],
   "source": [
    "function Voronoi_cells(n,perfect_forms)\n",
    "    #= perfect_forms: list of perfect forms in dimension n, up to action of SL/ GL\n",
    "    =#\n",
    "    dim_symmetric_space = n*(n+1)/2-1\n",
    "    cells_SLn = Dict()\n",
    "    perfect_forms_min_vec_rep = []\n",
    "    for perfect_form in perfect_forms\n",
    "        # compute the minimal vectors and put them in the right format\n",
    "        push!(perfect_forms_min_vec_rep, transpose(reduce(vcat,transpose.(SLnCohomology.minimal_vectors(perfect_form)))))\n",
    "        println(\"I computed minimal vectors.\")\n",
    "    end\n",
    "    cells_SLn[dim_symmetric_space] = perfect_forms_min_vec_rep # the perfect forms are the top cells\n",
    "    for dim in dim_symmetric_space-1:-1:n-1 # these are the dimensions where there are cells that intersect the interior non-trivially\n",
    "        println(\"I'm computing in dimension $dim\")\n",
    "        cells_SLn[dim] = []\n",
    "        for cell in cells_SLn[dim+1]\n",
    "            min_vectors_facet(cell,cells_SLn[dim]) # function needs better name\n",
    "        end\n",
    "    end\n",
    "    return cells_SLn\n",
    "end"
   ]
  },
  {
   "cell_type": "code",
   "execution_count": 46,
   "metadata": {},
   "outputs": [
    {
     "data": {
      "text/plain": [
       "1-element Vector{Matrix{Int64}}:\n",
       " [2 -1 0; -1 2 -1; 0 -1 2]"
      ]
     },
     "metadata": {},
     "output_type": "display_data"
    }
   ],
   "source": [
    "A_3 = [2 -1 0\n",
    "-1 2 -1\n",
    "0 -1 2]\n",
    "forms_3 = [A_3]"
   ]
  },
  {
   "cell_type": "code",
   "execution_count": 47,
   "metadata": {},
   "outputs": [
    {
     "name": "stdout",
     "output_type": "stream",
     "text": [
      "I computed minimal vectors.\n",
      "I'm computing in dimension 4.0\n"
     ]
    },
    {
     "name": "stdout",
     "output_type": "stream",
     "text": [
      "I'm computing in dimension 3.0\n",
      "I'm computing in dimension 2.0\n"
     ]
    },
    {
     "data": {
      "text/plain": [
       "Dict{Any, Any} with 4 entries:\n",
       "  5.0 => Any[[1 0 … 0 1; 1 1 … 1 0; 1 1 … 0 0]]\n",
       "  4.0 => Any[[0 0 … 0 1; 1 0 … 1 0; 1 1 … 0 0]]\n",
       "  2.0 => Any[[0 0 1; 0 1 0; 1 0 0]]\n",
       "  3.0 => Any[[0 1 0 1; 0 1 1 0; 1 0 0 0], [0 0 1 1; 1 0 1 0; 1 1 0 0]]"
      ]
     },
     "metadata": {},
     "output_type": "display_data"
    }
   ],
   "source": [
    "cells_SL3 = Voronoi_cells(3,forms_3)"
   ]
  },
  {
   "cell_type": "code",
   "execution_count": 48,
   "metadata": {},
   "outputs": [
    {
     "data": {
      "text/plain": [
       "2-element Vector{Matrix{Int64}}:\n",
       " [2 0 1 0; 0 2 -1 0; 1 -1 2 -1; 0 0 -1 2]\n",
       " [2 -1 0 0; -1 2 -1 0; 0 -1 2 -1; 0 0 -1 2]"
      ]
     },
     "metadata": {},
     "output_type": "display_data"
    }
   ],
   "source": [
    "D_4 = [2 0 1 0\n",
    "0 2 -1 0\n",
    "1 -1 2 -1\n",
    "0 0 -1 2]\n",
    "\n",
    "A_4 = [2 -1 0 0\n",
    "-1 2 -1 0\n",
    "0 -1 2 -1\n",
    "0 0 -1 2]\n",
    "\n",
    "forms_4 = [D_4, A_4]"
   ]
  },
  {
   "cell_type": "code",
   "execution_count": 49,
   "metadata": {},
   "outputs": [
    {
     "name": "stdout",
     "output_type": "stream",
     "text": [
      "I computed minimal vectors.\n",
      "I computed minimal vectors.\n",
      "I'm computing in dimension 8.0\n"
     ]
    },
    {
     "name": "stdout",
     "output_type": "stream",
     "text": [
      "I'm computing in dimension 7.0\n",
      "I'm computing in dimension 6.0\n",
      "I'm computing in dimension 5.0\n",
      "I'm computing in dimension 4.0\n"
     ]
    },
    {
     "name": "stdout",
     "output_type": "stream",
     "text": [
      "I'm computing in dimension 3.0\n"
     ]
    },
    {
     "data": {
      "text/plain": [
       "Dict{Any, Any} with 7 entries:\n",
       "  5.0 => Any[[0 -1 … 0 1; 0 1 … 1 0; 0 1 … 0 0; 1 0 … 0 0], [-1 0 … 0 1; 0 0 … …\n",
       "  4.0 => Any[[0 0 … 0 1; 0 0 … 1 0; 0 1 … 0 0; 1 0 … 0 0], [0 -1 … 0 1; 0 1 … 1…\n",
       "  6.0 => Any[[0 0 … 0 1; 0 1 … 1 0; 0 1 … 0 0; 1 0 … 0 0], [-1 0 … 0 1; 0 0 … 1…\n",
       "  7.0 => Any[[-1 0 … 0 1; 0 0 … 1 0; 1 0 … 0 0; 1 1 … 0 0], [0 -1 … 0 1; 0 0 … …\n",
       "  9.0 => Any[[-1 0 … 0 1; 1 1 … 1 0; 2 1 … 0 0; 1 1 … 0 0], [1 0 … 0 1; 1 1 … 1…\n",
       "  8.0 => Any[[0 -1 … 0 1; 0 0 … 1 0; 1 1 … 0 0; 1 1 … 0 0], [0 0 … 0 1; 1 0 … 1…\n",
       "  3.0 => Any[[0 -1 0 1; 0 0 1 0; 0 1 0 0; 1 0 0 0]]"
      ]
     },
     "metadata": {},
     "output_type": "display_data"
    }
   ],
   "source": [
    "cells_SL4 = Voronoi_cells(4,forms_4)"
   ]
  },
  {
   "cell_type": "code",
   "execution_count": 50,
   "metadata": {},
   "outputs": [
    {
     "data": {
      "text/plain": [
       "3-element Vector{Matrix{Int64}}:\n",
       " [2 0 … 0 0; 0 2 … 0 0; … ; 0 0 … 2 -1; 0 0 … -1 2]\n",
       " [6 -3 … 0 0; -3 6 … 0 3; … ; 0 0 … 6 0; 0 3 … 0 4]\n",
       " [2 -1 … 0 0; -1 2 … 0 0; … ; 0 0 … 2 -1; 0 0 … -1 2]"
      ]
     },
     "metadata": {},
     "output_type": "display_data"
    }
   ],
   "source": [
    "D_5 = [2 0 1 0 0\n",
    "0 2 -1 0 0\n",
    "1 -1 2 -1 0\n",
    "0 0 -1 2 -1\n",
    "0 0 0 -1 2]\n",
    "\n",
    "A_5_plus3 = [6 -3 0 0 0\n",
    "-3 6 -3 0 3\n",
    "0 -3 6 -3 0\n",
    "0 0 -3 6 0\n",
    "0 3 0 0 4]\n",
    "\n",
    "A_5 = [2 -1 0 0 0\n",
    "-1 2 -1 0 0\n",
    "0 -1 2 -1 0\n",
    "0 0 -1 2 -1\n",
    "0 0 0 -1 2]\n",
    "\n",
    "forms_5 = [D_5, A_5_plus3, A_5]"
   ]
  },
  {
   "cell_type": "code",
   "execution_count": 51,
   "metadata": {},
   "outputs": [
    {
     "data": {
      "text/plain": [
       "QHull.Library(nothing)"
      ]
     },
     "metadata": {},
     "output_type": "display_data"
    }
   ],
   "source": [
    "lib = QHull.Library()"
   ]
  },
  {
   "cell_type": "code",
   "execution_count": 33,
   "metadata": {},
   "outputs": [
    {
     "name": "stderr",
     "output_type": "stream",
     "text": [
      "\u001b[32m\u001b[1m   Resolving\u001b[22m\u001b[39m package versions...\n"
     ]
    },
    {
     "name": "stderr",
     "output_type": "stream",
     "text": [
      "\u001b[32m\u001b[1m  No Changes\u001b[22m\u001b[39m to `/mnt/c/Git/HigherTSL3/SLnCohomology/Project.toml`\n",
      "\u001b[32m\u001b[1m  No Changes\u001b[22m\u001b[39m to `/mnt/c/Git/HigherTSL3/SLnCohomology/Manifest.toml`\n"
     ]
    },
    {
     "name": "stderr",
     "output_type": "stream",
     "text": [
      "\u001b[32m\u001b[1m   Resolving\u001b[22m\u001b[39m package versions...\n"
     ]
    },
    {
     "name": "stderr",
     "output_type": "stream",
     "text": [
      "\u001b[32m\u001b[1m   Installed\u001b[22m\u001b[39m GLPK ─ v1.1.3\n"
     ]
    },
    {
     "name": "stderr",
     "output_type": "stream",
     "text": [
      "\u001b[32m\u001b[1m    Updating\u001b[22m\u001b[39m `/mnt/c/Git/HigherTSL3/SLnCohomology/Project.toml`\n",
      "  \u001b[90m[60bf3e95] \u001b[39m\u001b[92m+ GLPK v1.1.3\u001b[39m\n",
      "\u001b[32m\u001b[1m    Updating\u001b[22m\u001b[39m `/mnt/c/Git/HigherTSL3/SLnCohomology/Manifest.toml`\n",
      " "
     ]
    },
    {
     "name": "stderr",
     "output_type": "stream",
     "text": [
      " \u001b[90m[60bf3e95] \u001b[39m\u001b[92m+ GLPK v1.1.3\u001b[39m\n",
      "  \u001b[90m[e8aa6df9] \u001b[39m\u001b[92m+ GLPK_jll v5.0.1+0\u001b[39m\n"
     ]
    },
    {
     "name": "stderr",
     "output_type": "stream",
     "text": [
      "\u001b[32m\u001b[1mPrecompiling\u001b[22m\u001b[39m project...\n"
     ]
    },
    {
     "name": "stderr",
     "output_type": "stream",
     "text": [
      "\u001b[32m  ✓ \u001b[39mGLPK\n"
     ]
    },
    {
     "name": "stderr",
     "output_type": "stream",
     "text": [
      "\u001b[33m  ✓ \u001b[39mSLnCohomology\n"
     ]
    },
    {
     "name": "stderr",
     "output_type": "stream",
     "text": [
      "  2 dependencies successfully precompiled in 47 seconds. 165 already precompiled.\n",
      "  \u001b[33m1\u001b[39m dependency precompiled but a different version is currently loaded. Restart julia to access the new version\n"
     ]
    }
   ],
   "source": [
    "Pkg.add(\"CDDLib\")\n",
    "Pkg.add(\"GLPK\")"
   ]
  },
  {
   "cell_type": "code",
   "execution_count": 40,
   "metadata": {},
   "outputs": [],
   "source": [
    "import CDDLib\n",
    "import GLPK"
   ]
  },
  {
   "cell_type": "code",
   "execution_count": 18,
   "metadata": {},
   "outputs": [
    {
     "data": {
      "text/plain": [
       "CDDLib.Library(:float)"
      ]
     },
     "metadata": {},
     "output_type": "display_data"
    }
   ],
   "source": [
    "lib = CDDLib.Library()"
   ]
  },
  {
   "cell_type": "code",
   "execution_count": 52,
   "metadata": {},
   "outputs": [
    {
     "name": "stdout",
     "output_type": "stream",
     "text": [
      "I computed minimal vectors.\n",
      "I computed minimal vectors.\n",
      "I computed minimal vectors.\n",
      "I'm computing in dimension 13.0\n"
     ]
    },
    {
     "name": "stdout",
     "output_type": "stream",
     "text": [
      "I'm computing in dimension 12.0\n"
     ]
    },
    {
     "name": "stdout",
     "output_type": "stream",
     "text": [
      "I'm computing in dimension 11.0\n"
     ]
    },
    {
     "name": "stdout",
     "output_type": "stream",
     "text": [
      "I'm computing in dimension 10.0\n"
     ]
    },
    {
     "name": "stdout",
     "output_type": "stream",
     "text": [
      "I'm computing in dimension 9.0\n"
     ]
    },
    {
     "name": "stdout",
     "output_type": "stream",
     "text": [
      "I'm computing in dimension 8.0\n"
     ]
    },
    {
     "name": "stdout",
     "output_type": "stream",
     "text": [
      "I'm computing in dimension 7.0\n"
     ]
    },
    {
     "name": "stdout",
     "output_type": "stream",
     "text": [
      "I'm computing in dimension 6.0\n"
     ]
    },
    {
     "name": "stdout",
     "output_type": "stream",
     "text": [
      "I'm computing in dimension 5.0\n"
     ]
    },
    {
     "name": "stdout",
     "output_type": "stream",
     "text": [
      "I'm computing in dimension 4.0\n"
     ]
    },
    {
     "data": {
      "text/plain": [
       "Dict{Any, Any} with 11 entries:\n",
       "  5.0  => Any[[0 0 … 0 1; 0 0 … 1 0; … ; 0 1 … 0 0; 1 0 … 0 0], [0 0 … 0 1; 0 0…\n",
       "  12.0 => Any[[-1 0 … 0 1; 0 0 … 1 0; … ; 1 1 … 0 0; 1 1 … 0 0], [0 -1 … 0 1; 0…\n",
       "  8.0  => Any[[0 -1 … 0 1; 0 0 … 1 0; … ; 0 1 … 0 0; 1 0 … 0 0], [0 0 … 0 1; 0 …\n",
       "  6.0  => Any[[0 0 … 0 1; 0 0 … 1 0; … ; 0 1 … 0 0; 1 0 … 0 0], [0 -1 … 0 1; 0 …\n",
       "  11.0 => Any[[0 0 … 0 1; 0 0 … 1 0; … ; 1 0 … 0 0; 1 1 … 0 0], [-1 0 … 0 1; 0 …\n",
       "  9.0  => Any[[0 0 … 0 1; 0 0 … 1 0; … ; 0 1 … 0 0; 1 0 … 0 0], [0 0 … 0 1; 0 1…\n",
       "  14.0 => Any[[-1 -1 … 0 1; 1 1 … 1 0; … ; 2 1 … 0 0; 1 1 … 0 0], [2 1 … 1 0; 3…\n",
       "  7.0  => Any[[0 0 … 0 1; 0 0 … 1 0; … ; 0 1 … 0 0; 1 0 … 0 0], [0 -1 … 0 1; 0 …\n",
       "  13.0 => Any[[0 -1 … 0 1; 0 0 … 1 0; … ; 1 1 … 0 0; 1 1 … 0 0], [-1 0 … 0 1; 1…\n",
       "  4.0  => Any[[0 0 … 0 1; 0 0 … 1 0; … ; 0 1 … 0 0; 1 0 … 0 0], [0 0 … 0 1; 0 0…\n",
       "  10.0 => Any[[0 -1 … 0 1; 0 1 … 1 0; … ; 0 1 … 0 0; 1 0 … 0 0], [0 0 … 0 1; 0 …"
      ]
     },
     "metadata": {},
     "output_type": "display_data"
    }
   ],
   "source": [
    "cells_SL5 = Voronoi_cells(5,forms_5)"
   ]
  },
  {
   "cell_type": "markdown",
   "metadata": {},
   "source": [
    "compare with previous results"
   ]
  },
  {
   "cell_type": "code",
   "execution_count": 13,
   "metadata": {},
   "outputs": [
    {
     "data": {
      "text/plain": [
       "Dict{Any, Any} with 11 entries:\n",
       "  5  => Any[[0 0 … 0 1; 0 0 … 1 -1; … ; 1 0 … 0 0; 0 0 … 0 0], [0 0 … 0 1; 0 0 …\n",
       "  7  => Any[[0 0 … 1 1; 0 0 … -1 0; … ; 1 0 … 0 0; 0 0 … 0 0], [0 0 … 1 1; 0 0 …\n",
       "  12 => Any[[0 0 … 1 1; 0 0 … 0 1; … ; 1 1 … 1 0; -1 0 … -1 -1], [0 0 … 1 1; 0 …\n",
       "  8  => Any[[0 0 … 1 1; 0 0 … 0 0; … ; 1 0 … 0 -1; 0 0 … 0 0], [0 0 … 1 1; 0 0 …\n",
       "  4  => Any[[0 0 … 0 1; 0 0 … 1 -1; … ; 1 0 … 0 0; 0 0 … -1 0], [0 0 … 1 1; 0 1…\n",
       "  6  => Any[[0 0 … 0 1; 0 0 … 1 -1; … ; 1 0 … 1 0; 0 0 … -1 0], [0 0 … 1 1; 0 0…\n",
       "  13 => Any[[0 0 … 1 1; 0 0 … 0 1; … ; 1 1 … 1 0; -1 0 … -1 -1], [0 0 … 1 1; 0 …\n",
       "  11 => Any[[0 0 … 1 1; 0 0 … 0 1; … ; 1 0 … 0 0; 0 0 … 0 -1], [0 0 … 1 1; 0 0 …\n",
       "  10 => Any[[0 0 … 1 1; 0 0 … 0 0; … ; 1 0 … 0 0; 0 0 … -1 0], [0 0 … 1 1; 0 0 …\n",
       "  9  => Any[[0 0 … 1 1; 0 0 … 0 0; … ; 1 0 … -1 0; 0 0 … 0 -1], [0 0 … 1 1; 0 0…\n",
       "  14 => Any[[0 0 … 1 1; 0 0 … 0 1; … ; 1 1 … 0 0; -1 0 … -1 -1], [0 0 … 1 1; 0 …"
      ]
     },
     "metadata": {},
     "output_type": "display_data"
    }
   ],
   "source": [
    "cells_SL4_old = deserialize(joinpath(@__DIR__, \"./differentials_computation/precomputed_cells/sl4_cells.sjl\"))\n",
    "cells_SL3_old = deserialize(joinpath(@__DIR__, \"./differentials_computation/precomputed_cells/sl3_cells.sjl\"))\n",
    "cells_SL5_old = deserialize(joinpath(@__DIR__, \"./differentials_computation/precomputed_cells/sl5_cells.sjl\"))"
   ]
  },
  {
   "cell_type": "code",
   "execution_count": 17,
   "metadata": {},
   "outputs": [
    {
     "name": "stdout",
     "output_type": "stream",
     "text": [
      "Found the cell\n",
      "Found the cell\n",
      "Found the cell\n",
      "Found the cell\n",
      "Found the cell\n"
     ]
    }
   ],
   "source": [
    "for dim in keys(cells_SL3_old)\n",
    "    for old_cell in cells_SL3_old[dim]\n",
    "        if orbit_in_list(old_cell,cells_SL3[dim])\n",
    "            println(\"Found the cell\")\n",
    "        else\n",
    "            println(\"Not there\")\n",
    "        end\n",
    "    end\n",
    "end"
   ]
  },
  {
   "cell_type": "code",
   "execution_count": 18,
   "metadata": {},
   "outputs": [
    {
     "name": "stdout",
     "output_type": "stream",
     "text": [
      "Found the cell\n",
      "Found the cell\n",
      "Found the cell\n",
      "Found the cell\n",
      "Found the cell\n",
      "Found the cell\n",
      "Found the cell\n",
      "Found the cell\n",
      "Found the cell\n",
      "Found the cell\n",
      "Found the cell\n",
      "Found the cell\n",
      "Found the cell\n",
      "Found the cell\n",
      "Found the cell\n",
      "Found the cell\n"
     ]
    }
   ],
   "source": [
    "for dim in keys(cells_SL4_old)\n",
    "    for old_cell in cells_SL4_old[dim]\n",
    "        if orbit_in_list(old_cell,cells_SL4[dim])\n",
    "            println(\"Found the cell\")\n",
    "        else\n",
    "            println(\"Not there\")\n",
    "        end\n",
    "    end\n",
    "end"
   ]
  },
  {
   "cell_type": "code",
   "execution_count": 19,
   "metadata": {},
   "outputs": [
    {
     "name": "stdout",
     "output_type": "stream",
     "text": [
      "Found the cell\n",
      "Found the cell\n",
      "Found the cell\n"
     ]
    },
    {
     "name": "stdout",
     "output_type": "stream",
     "text": [
      "Found the cell\n",
      "Found the cell\n",
      "Found the cell\n",
      "Found the cell\n",
      "Found the cell\n",
      "Found the cell\n",
      "Found the cell\n",
      "Found the cell\n"
     ]
    },
    {
     "name": "stdout",
     "output_type": "stream",
     "text": [
      "Found the cell\n",
      "Found the cell\n",
      "Found the cell\n",
      "Found the cell\n",
      "Found the cell\n",
      "Found the cell\n",
      "Found the cell\n",
      "Found the cell\n"
     ]
    },
    {
     "name": "stdout",
     "output_type": "stream",
     "text": [
      "Found the cell\n",
      "Found the cell\n",
      "Found the cell\n",
      "Found the cell\n",
      "Found the cell\n",
      "Found the cell\n",
      "Found the cell\n",
      "Found the cell\n",
      "Found the cell\n",
      "Found the cell\n",
      "Found the cell\n",
      "Found the cell\n",
      "Found the cell\n",
      "Found the cell\n",
      "Found the cell\n",
      "Found the cell\n",
      "Found the cell\n",
      "Found the cell\n",
      "Found the cell\n",
      "Found the cell\n"
     ]
    },
    {
     "name": "stdout",
     "output_type": "stream",
     "text": [
      "Found the cell\n",
      "Found the cell\n",
      "Found the cell\n",
      "Found the cell\n",
      "Found the cell\n",
      "Found the cell\n",
      "Found the cell\n",
      "Found the cell\n",
      "Found the cell\n",
      "Found the cell\n",
      "Found the cell\n",
      "Found the cell\n",
      "Found the cell\n",
      "Found the cell\n"
     ]
    },
    {
     "name": "stdout",
     "output_type": "stream",
     "text": [
      "Found the cell\n"
     ]
    },
    {
     "name": "stdout",
     "output_type": "stream",
     "text": [
      "Found the cell\n",
      "Found the cell\n",
      "Found the cell\n",
      "Found the cell\n",
      "Found the cell\n",
      "Found the cell\n",
      "Found the cell\n",
      "Found the cell\n",
      "Found the cell\n",
      "Found the cell\n",
      "Found the cell\n",
      "Found the cell\n",
      "Found the cell\n",
      "Found the cell\n",
      "Found the cell\n",
      "Found the cell\n",
      "Found the cell\n",
      "Found the cell\n",
      "Found the cell\n",
      "Found the cell\n",
      "Found the cell\n",
      "Found the cell\n"
     ]
    },
    {
     "name": "stdout",
     "output_type": "stream",
     "text": [
      "Found the cell\n",
      "Found the cell\n",
      "Found the cell\n",
      "Found the cell\n",
      "Found the cell\n",
      "Found the cell\n",
      "Found the cell\n",
      "Found the cell\n",
      "Found the cell\n",
      "Found the cell\n",
      "Found the cell\n",
      "Found the cell\n",
      "Found the cell\n",
      "Found the cell\n",
      "Found the cell\n",
      "Found the cell\n"
     ]
    },
    {
     "name": "stdout",
     "output_type": "stream",
     "text": [
      "Found the cell\n",
      "Found the cell\n",
      "Found the cell\n",
      "Found the cell\n",
      "Found the cell\n",
      "Found the cell\n",
      "Found the cell\n",
      "Found the cell\n",
      "Found the cell\n",
      "Found the cell\n",
      "Found the cell\n",
      "Found the cell\n",
      "Found the cell\n",
      "Found the cell\n",
      "Found the cell\n",
      "Found the cell\n",
      "Found the cell\n",
      "Found the cell\n",
      "Found the cell\n"
     ]
    },
    {
     "name": "stdout",
     "output_type": "stream",
     "text": [
      "Found the cell\n",
      "Found the cell\n",
      "Found the cell\n",
      "Found the cell\n",
      "Found the cell\n",
      "Found the cell\n",
      "Found the cell\n",
      "Found the cell\n",
      "Found the cell\n",
      "Found the cell\n",
      "Found the cell\n",
      "Found the cell\n",
      "Found the cell\n",
      "Found the cell\n",
      "Found the cell\n",
      "Found the cell\n",
      "Found the cell\n",
      "Found the cell\n",
      "Found the cell\n",
      "Found the cell\n",
      "Found the cell\n"
     ]
    },
    {
     "name": "stdout",
     "output_type": "stream",
     "text": [
      "Found the cell\n"
     ]
    },
    {
     "name": "stdout",
     "output_type": "stream",
     "text": [
      "Found the cell\n"
     ]
    },
    {
     "name": "stdout",
     "output_type": "stream",
     "text": [
      "Found the cell\n",
      "Found the cell\n"
     ]
    }
   ],
   "source": [
    "for dim in keys(cells_SL5_old)\n",
    "    for old_cell in cells_SL5_old[dim]\n",
    "        if orbit_in_list(old_cell,cells_SL5[dim])\n",
    "            println(\"Found the cell\")\n",
    "        else\n",
    "            println(\"Not there\")\n",
    "        end\n",
    "    end\n",
    "end"
   ]
  },
  {
   "cell_type": "code",
   "execution_count": 53,
   "metadata": {},
   "outputs": [
    {
     "data": {
      "text/plain": [
       "7-element Vector{Matrix{Int64}}:\n",
       " [2 -1 … 0 0; -1 2 … 0 0; … ; 0 0 … 2 0; 0 0 … 0 2]\n",
       " [4 5 … 2 3; 5 10 … 4 6; … ; 2 4 … 4 3; 3 6 … 3 6]\n",
       " [2 0 … 0 0; 0 2 … 0 0; … ; 0 0 … 2 -1; 0 0 … -1 2]\n",
       " [4 1 … 2 2; 1 4 … 2 2; … ; 2 2 … 4 2; 2 2 … 2 4]\n",
       " [4 -1 … 1 -2; -1 4 … 1 1; … ; 1 1 … 4 -1; -2 1 … -1 4]\n",
       " [4 1 … 2 2; 1 4 … 2 2; … ; 2 2 … 4 1; 2 2 … 1 4]\n",
       " [2 -1 … 0 0; -1 2 … 0 0; … ; 0 0 … 2 -1; 0 0 … -1 2]"
      ]
     },
     "metadata": {},
     "output_type": "display_data"
    }
   ],
   "source": [
    "E6 = [2 -1 0 0 0 0\n",
    "-1 2 -1 0 0 0\n",
    "0 -1 2 -1 0 -1\n",
    "0 0 -1 2 -1 0\n",
    "0 0 0 -1 2 0\n",
    "0 0 -1 0 0 2]\n",
    "\n",
    "E6star = [4 5 6 4 2 3\n",
    "5 10 12 8 4 6\n",
    "6 12 18 12 6 9\n",
    "4 8 12 10 5 6\n",
    "2 4 6 5 4 3\n",
    "3 6 9 6 3 6]\n",
    "\n",
    "D6 = [2 0 1 0 0 0\n",
    "0 2 -1 0 0 0\n",
    "1 -1 2 -1 0 0\n",
    "0 0 -1 2 -1 0\n",
    "0 0 0 -1 2 -1\n",
    "0 0 0 0 -1 2]\n",
    "\n",
    "A6_2 = [4 1 2 2 2 2\n",
    "1 4 2 2 2 2\n",
    "2 2 4 1 1 2\n",
    "2 2 1 4 1 2\n",
    "2 2 1 1 4 2\n",
    "2 2 2 2 2 4]\n",
    "\n",
    "A6_sup2 = [4 -1 -2 1 1 -2\n",
    "-1 4 -1 -2 1 1\n",
    "-2 -1 4 -1 -2 1\n",
    "1 -2 -1 4 -1 -2\n",
    "1 1 -2 -1 4 -1\n",
    "-2 1 1 -2 -1 4]\n",
    "\n",
    "A6_1 = [4 1 2 2 2 2\n",
    "1 4 2 2 2 2\n",
    "2 2 4 1 2 2\n",
    "2 2 1 4 2 2\n",
    "2 2 2 2 4 1\n",
    "2 2 2 2 1 4]\n",
    "\n",
    "A6 = [2 -1 0 0 0 0\n",
    "-1 2 -1 0 0 0\n",
    "0 -1 2 -1 0 0\n",
    "0 0 -1 2 -1 0\n",
    "0 0 0 -1 2 -1\n",
    "0 0 0 0 -1 2]\n",
    "\n",
    "forms_6 = [E6, E6star,D6, A6_2, A6_sup2, A6_1, A6]"
   ]
  },
  {
   "cell_type": "code",
   "execution_count": 54,
   "metadata": {},
   "outputs": [
    {
     "name": "stdout",
     "output_type": "stream",
     "text": [
      "I computed minimal vectors.\n",
      "I computed minimal vectors.\n",
      "I computed minimal vectors.\n",
      "I computed minimal vectors.\n",
      "I computed minimal vectors.\n",
      "I computed minimal vectors.\n",
      "I computed minimal vectors.\n",
      "I'm computing in dimension 19.0\n"
     ]
    },
    {
     "name": "stdout",
     "output_type": "stream",
     "text": [
      "I'm computing in dimension 18.0\n"
     ]
    },
    {
     "name": "stdout",
     "output_type": "stream",
     "text": [
      "I'm computing in dimension 17.0\n"
     ]
    },
    {
     "name": "stdout",
     "output_type": "stream",
     "text": [
      "I'm computing in dimension 16.0\n"
     ]
    },
    {
     "name": "stdout",
     "output_type": "stream",
     "text": [
      "I'm computing in dimension 15.0\n"
     ]
    },
    {
     "name": "stdout",
     "output_type": "stream",
     "text": [
      "I'm computing in dimension 14.0\n"
     ]
    },
    {
     "name": "stdout",
     "output_type": "stream",
     "text": [
      "I'm computing in dimension 13.0\n"
     ]
    },
    {
     "name": "stdout",
     "output_type": "stream",
     "text": [
      "I'm computing in dimension 12.0\n"
     ]
    },
    {
     "name": "stdout",
     "output_type": "stream",
     "text": [
      "I'm computing in dimension 11.0\n"
     ]
    },
    {
     "name": "stdout",
     "output_type": "stream",
     "text": [
      "I'm computing in dimension 10.0\n"
     ]
    },
    {
     "name": "stdout",
     "output_type": "stream",
     "text": [
      "I'm computing in dimension 9.0\n"
     ]
    },
    {
     "name": "stdout",
     "output_type": "stream",
     "text": [
      "I'm computing in dimension 8.0\n"
     ]
    },
    {
     "name": "stdout",
     "output_type": "stream",
     "text": [
      "I'm computing in dimension 7.0\n"
     ]
    },
    {
     "name": "stdout",
     "output_type": "stream",
     "text": [
      "I'm computing in dimension 6.0\n"
     ]
    },
    {
     "name": "stdout",
     "output_type": "stream",
     "text": [
      "I'm computing in dimension 5.0\n"
     ]
    },
    {
     "ename": "ErrorException",
     "evalue": "Error thrown by GAP: Error, List Element: <list>[6] must have an assigned value in\n  m + 1 / 1000 - dam at /home/bbrueck/.julia/artifacts/b5c2f0f824457e5c391fb24916f94d5d91c62c4f/share/gap/lib/zlattice.gi:1274 called from \nsrt( n, 0 ); at /home/bbrueck/.julia/artifacts/b5c2f0f824457e5c391fb24916f94d5d91c62c4f/share/gap/lib/zlattice.gi:1355 called from\n<function \"ShortestVectors\">( <arguments> )\n called from read-eval loop at *defin*:0\n",
     "output_type": "error",
     "traceback": [
      "Error thrown by GAP: Error, List Element: <list>[6] must have an assigned value in\n",
      "  m + 1 / 1000 - dam at /home/bbrueck/.julia/artifacts/b5c2f0f824457e5c391fb24916f94d5d91c62c4f/share/gap/lib/zlattice.gi:1274 called from \n",
      "srt( n, 0 ); at /home/bbrueck/.julia/artifacts/b5c2f0f824457e5c391fb24916f94d5d91c62c4f/share/gap/lib/zlattice.gi:1355 called from\n",
      "<function \"ShortestVectors\">( <arguments> )\n",
      " called from read-eval loop at *defin*:0\n",
      "\n",
      "\n",
      "Stacktrace:\n",
      "  [1] error(s::String)\n",
      "    @ Base ./error.jl:35\n",
      "  [2] ThrowObserver(depth::Int32)\n",
      "    @ GAP ~/.julia/packages/GAP/aJO9M/src/GAP.jl:89\n",
      "  [3] _call_gap_func(func::GAP.GapObj, a1::GAP.GapObj, a2::Int64)\n",
      "    @ GAP ~/.julia/packages/GAP/aJO9M/src/ccalls.jl:338\n",
      "  [4] (::GAP.GapObj)(a1::GAP.GapObj, a2::Int64)\n",
      "    @ GAP ~/.julia/packages/GAP/aJO9M/src/ccalls.jl:303\n",
      "  [5] shortestVectors(gramMatrix::Matrix{Int64}, limitNormSquare::Int64)\n",
      "    @ SLnCohomology /mnt/c/Git/HigherTSL3/SLnCohomology/src/Plesken_Souvignier.jl:12\n",
      "  [6] stabiliser_coset_SL(form1::Matrix{Int64}, form2::Matrix{Int64})\n",
      "    @ SLnCohomology /mnt/c/Git/HigherTSL3/SLnCohomology/src/functions_differential.jl:47\n",
      "  [7] same_orbit(matrix1::Transpose{Int64, Matrix{Int64}}, matrix2::Transpose{Int64, Matrix{Int64}})\n",
      "    @ Main /mnt/c/Git/HigherTSL3/SLnCohomology/scripts/playing_with_polyhedra.ipynb:5\n",
      "  [8] orbit_in_list(matrix::Transpose{Int64, Matrix{Int64}}, list::Vector{Any})\n",
      "    @ Main /mnt/c/Git/HigherTSL3/SLnCohomology/scripts/playing_with_polyhedra.ipynb:16\n",
      "  [9] facets(polyhedral_cell::DefaultPolyhedron{Float64, Polyhedra.Intersection{Float64, Vector{Float64}, Int64}, Polyhedra.Hull{Float64, Vector{Float64}, Int64}}, min_vectors::Vector{SubArray{Int64, 1, Transpose{Int64, Matrix{Int64}}, Tuple{Base.Slice{Base.OneTo{Int64}}, Int64}, false}}, codim_1_cells::Vector{Any})\n",
      "    @ Main /mnt/c/Git/HigherTSL3/SLnCohomology/scripts/playing_with_polyhedra.ipynb:18\n",
      " [10] min_vectors_facet(cell::Transpose{Int64, Matrix{Int64}}, codim_1_cells::Vector{Any})\n",
      "    @ Main /mnt/c/Git/HigherTSL3/SLnCohomology/scripts/playing_with_polyhedra.ipynb:3\n",
      " [11] Voronoi_cells(n::Int64, perfect_forms::Vector{Matrix{Int64}})\n",
      "    @ Main /mnt/c/Git/HigherTSL3/SLnCohomology/scripts/playing_with_polyhedra.ipynb:17\n",
      " [12] top-level scope\n",
      "    @ /mnt/c/Git/HigherTSL3/SLnCohomology/scripts/playing_with_polyhedra.ipynb:1"
     ]
    }
   ],
   "source": [
    "cells_SL6 = Voronoi_cells(6,forms_6)"
   ]
  },
  {
   "cell_type": "code",
   "execution_count": null,
   "metadata": {},
   "outputs": [],
   "source": []
  }
 ],
 "metadata": {
  "kernelspec": {
   "display_name": "Julia 1.9.1",
   "language": "julia",
   "name": "julia-1.9"
  },
  "language_info": {
   "file_extension": ".jl",
   "mimetype": "application/julia",
   "name": "julia",
   "version": "1.9.1"
  }
 },
 "nbformat": 4,
 "nbformat_minor": 2
}
