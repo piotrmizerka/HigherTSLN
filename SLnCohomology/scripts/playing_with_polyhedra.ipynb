{
 "cells": [
  {
   "cell_type": "markdown",
   "metadata": {},
   "source": [
    "Experimenting in order to ultimately compute the cell structures of Voronoi complexes"
   ]
  },
  {
   "cell_type": "code",
   "execution_count": 1,
   "metadata": {},
   "outputs": [
    {
     "name": "stderr",
     "output_type": "stream",
     "text": [
      "\u001b[32m\u001b[1m  Activating\u001b[22m\u001b[39m project at `/mnt/c/Git/HigherTSL3/SLnCohomology`\n"
     ]
    },
    {
     "name": "stderr",
     "output_type": "stream",
     "text": [
      "\u001b[32m\u001b[1m   Resolving\u001b[22m\u001b[39m package versions...\n"
     ]
    },
    {
     "name": "stderr",
     "output_type": "stream",
     "text": [
      "\u001b[32m\u001b[1m  No Changes\u001b[22m\u001b[39m to `/mnt/c/Git/HigherTSL3/SLnCohomology/Project.toml`\n",
      "\u001b[32m\u001b[1m  No Changes\u001b[22m\u001b[39m to `/mnt/c/Git/HigherTSL3/SLnCohomology/Manifest.toml`\n"
     ]
    },
    {
     "name": "stderr",
     "output_type": "stream",
     "text": [
      "\u001b[32m\u001b[1m   Resolving\u001b[22m\u001b[39m package versions...\n"
     ]
    },
    {
     "name": "stderr",
     "output_type": "stream",
     "text": [
      "\u001b[32m\u001b[1m  No Changes\u001b[22m\u001b[39m to `/mnt/c/Git/HigherTSL3/SLnCohomology/Project.toml`\n",
      "\u001b[32m\u001b[1m  No Changes\u001b[22m\u001b[39m to `/mnt/c/Git/HigherTSL3/SLnCohomology/Manifest.toml`\n"
     ]
    },
    {
     "name": "stdout",
     "output_type": "stream",
     "text": [
      "\r"
     ]
    }
   ],
   "source": [
    "using Pkg\n",
    "Pkg.activate(normpath(joinpath(@__DIR__, \"../\")))\n",
    "Pkg.add(\"Polyhedra\")\n",
    "Pkg.add(\"QHull\")\n",
    "using Revise\n",
    "using LinearAlgebra\n",
    "using Polyhedra\n",
    "using QHull\n",
    "ENV[\"JULIA_NUM_THREADS\"] = Sys.CPU_THREADS÷2\n",
    "LinearAlgebra.BLAS.set_num_threads(Sys.CPU_THREADS÷2)\n",
    "using Serialization\n",
    "\n",
    "using SLnCohomology"
   ]
  },
  {
   "cell_type": "code",
   "execution_count": 11,
   "metadata": {},
   "outputs": [
    {
     "data": {
      "text/plain": [
       "V-representation Polyhedra.PointsHull{Float64, Vector{Float64}, Int64}:\n",
       "3-element iterator of Vector{Float64}:\n",
       " [0.0, 0.0]\n",
       " [0.0, 1.0]\n",
       " [0.5, 0.5]"
      ]
     },
     "metadata": {},
     "output_type": "display_data"
    }
   ],
   "source": [
    "test = vrep([[0, 0], [0, 1], [1/2, 1/2]])"
   ]
  },
  {
   "cell_type": "code",
   "execution_count": 9,
   "metadata": {},
   "outputs": [
    {
     "data": {
      "text/plain": [
       "H-representation LiftedHRepresentation{Float64, Matrix{Float64}}:\n",
       "3-element iterator of HalfSpace{Float64, Vector{Float64}}:\n",
       " HalfSpace([1.0, 1.0], 1.0)\n",
       " HalfSpace([0.5, -0.5], 0.0)\n",
       " HalfSpace([-2.0, -0.0], 0.0)"
      ]
     },
     "metadata": {},
     "output_type": "display_data"
    }
   ],
   "source": [
    "doubledescription(test)"
   ]
  },
  {
   "cell_type": "code",
   "execution_count": 12,
   "metadata": {},
   "outputs": [
    {
     "data": {
      "text/plain": [
       "Polyhedron DefaultPolyhedron{Float64, Polyhedra.Intersection{Float64, Vector{Float64}, Int64}, Polyhedra.Hull{Float64, Vector{Float64}, Int64}}:\n",
       "3-element iterator of Vector{Float64}:\n",
       " [0.0, 0.0]\n",
       " [0.0, 1.0]\n",
       " [0.5, 0.5]"
      ]
     },
     "metadata": {},
     "output_type": "display_data"
    }
   ],
   "source": [
    "test_poly = polyhedron(test)"
   ]
  },
  {
   "cell_type": "code",
   "execution_count": 14,
   "metadata": {},
   "outputs": [
    {
     "data": {
      "text/plain": [
       "false"
      ]
     },
     "metadata": {},
     "output_type": "display_data"
    }
   ],
   "source": [
    "hrepiscomputed(test_poly)"
   ]
  },
  {
   "cell_type": "code",
   "execution_count": null,
   "metadata": {},
   "outputs": [],
   "source": [
    "incidentpoints(test_poly, )"
   ]
  },
  {
   "cell_type": "code",
   "execution_count": 15,
   "metadata": {},
   "outputs": [
    {
     "ename": "TypeError",
     "evalue": "TypeError: in Incident, in IdxT, expected IdxT<:(Polyhedra.Index{Float64}), got Type{Vector{Int64}}",
     "output_type": "error",
     "traceback": [
      "TypeError: in Incident, in IdxT, expected IdxT<:(Polyhedra.Index{Float64}), got Type{Vector{Int64}}\n",
      "\n",
      "Stacktrace:\n",
      " [1] (Polyhedra.IncidentElements{Float64, HalfSpace{Float64, Vector{Float64}}})(p::DefaultPolyhedron{Float64, Polyhedra.Intersection{Float64, Vector{Float64}, Int64}, Polyhedra.Hull{Float64, Vector{Float64}, Int64}}, idx::Vector{Int64})\n",
      "   @ Polyhedra ~/.julia/packages/Polyhedra/Xhcfx/src/incidence.jl:23\n",
      " [2] incidenthalfspaces(p::DefaultPolyhedron{Float64, Polyhedra.Intersection{Float64, Vector{Float64}, Int64}, Polyhedra.Hull{Float64, Vector{Float64}, Int64}}, idx::Vector{Int64})\n",
      "   @ Polyhedra ~/.julia/packages/Polyhedra/Xhcfx/src/iterators.jl:152\n",
      " [3] top-level scope\n",
      "   @ /mnt/c/Git/HigherTSL3/SLnCohomology/scripts/playing_with_polyhedra.ipynb:1"
     ]
    }
   ],
   "source": [
    "incidenthalfspaces(test_poly, [0, 0])"
   ]
  },
  {
   "cell_type": "code",
   "execution_count": 18,
   "metadata": {},
   "outputs": [
    {
     "name": "stdout",
     "output_type": "stream",
     "text": [
      "get(test_poly, point) = [0.0, 0.0]\n",
      "get(test_poly, point) = [0.0, 1.0]\n",
      "get(test_poly, point) = [0.5, 0.5]\n"
     ]
    }
   ],
   "source": [
    "for point in eachindex(points(test_poly))\n",
    "    @show get(test_poly, point)\n",
    "end"
   ]
  },
  {
   "cell_type": "code",
   "execution_count": 24,
   "metadata": {},
   "outputs": [
    {
     "name": "stdout",
     "output_type": "stream",
     "text": [
      "get(test_poly, halfspace) = HalfSpace([1.0, 1.0], 1.0)\n",
      "get(test_poly, halfspace) = HalfSpace([0.5, -0.5], 0.0)\n",
      "get(test_poly, halfspace) = HalfSpace([-2.0, -0.0], 0.0)\n"
     ]
    }
   ],
   "source": [
    "for halfspace in eachindex(halfspaces(test_poly))\n",
    "    @show get(test_poly, halfspace)\n",
    "end"
   ]
  },
  {
   "cell_type": "code",
   "execution_count": 98,
   "metadata": {},
   "outputs": [
    {
     "name": "stdout",
     "output_type": "stream",
     "text": [
      "halfspace = Polyhedra.Index{Float64, HalfSpace{Float64, Vector{Float64}}}(1)\n",
      "halfspace = Polyhedra.Index{Float64, HalfSpace{Float64, Vector{Float64}}}(2)\n",
      "halfspace = Polyhedra.Index{Float64, HalfSpace{Float64, Vector{Float64}}}(3)\n"
     ]
    }
   ],
   "source": [
    "for halfspace in eachindex(halfspaces(test_poly))\n",
    "    @show halfspace\n",
    "end"
   ]
  },
  {
   "cell_type": "code",
   "execution_count": 22,
   "metadata": {},
   "outputs": [
    {
     "name": "stdout",
     "output_type": "stream",
     "text": [
      "HalfSpace{Float64, Vector{Float64}}[HalfSpace([0.5, -0.5], 0.0), HalfSpace([-2.0, -0.0], 0.0)]\n",
      "HalfSpace{Float64, Vector{Float64}}[HalfSpace([1.0, 1.0], 1.0), HalfSpace([-2.0, -0.0], 0.0)]\n",
      "HalfSpace{Float64, Vector{Float64}}[HalfSpace([1.0, 1.0], 1.0), HalfSpace([0.5, -0.5], 0.0)]\n"
     ]
    }
   ],
   "source": [
    "for point in eachindex(points(test_poly))\n",
    "    println(incidenthalfspaces(test_poly, point))\n",
    "end"
   ]
  },
  {
   "cell_type": "code",
   "execution_count": 28,
   "metadata": {},
   "outputs": [
    {
     "name": "stdout",
     "output_type": "stream",
     "text": [
      "incidentpointindices(test_poly, halfspace) = Polyhedra.Index{Float64, Vector{Float64}}[Polyhedra.Index{Float64, Vector{Float64}}(2), Polyhedra.Index{Float64, Vector{Float64}}(3)]\n",
      "incidentpointindices(test_poly, halfspace) = Polyhedra.Index{Float64, Vector{Float64}}[Polyhedra.Index{Float64, Vector{Float64}}(1), Polyhedra.Index{Float64, Vector{Float64}}(3)]\n",
      "incidentpointindices(test_poly, halfspace) = Polyhedra.Index{Float64, Vector{Float64}}[Polyhedra.Index{Float64, Vector{Float64}}(1), Polyhedra.Index{Float64, Vector{Float64}}(2)]\n"
     ]
    }
   ],
   "source": [
    "for halfspace in eachindex(halfspaces(test_poly))\n",
    "    @show incidentpointindices(test_poly, halfspace)\n",
    "end"
   ]
  },
  {
   "cell_type": "code",
   "execution_count": 34,
   "metadata": {},
   "outputs": [
    {
     "name": "stdout",
     "output_type": "stream",
     "text": [
      "A halfspace with points:\n",
      "Polyhedra.Index{Float64, Vector{Float64}}(2)\n",
      "Polyhedra.Index{Float64, Vector{Float64}}(3)\n",
      "A halfspace with points:\n",
      "Polyhedra.Index{Float64, Vector{Float64}}(1)\n",
      "Polyhedra.Index{Float64, Vector{Float64}}(3)\n",
      "A halfspace with points:\n",
      "Polyhedra.Index{Float64, Vector{Float64}}(1)\n",
      "Polyhedra.Index{Float64, Vector{Float64}}(2)\n"
     ]
    }
   ],
   "source": [
    "for halfspace in eachindex(halfspaces(test_poly))\n",
    "    println(\"A halfspace with points:\")\n",
    "    for number in incidentpointindices(test_poly, halfspace)\n",
    "        println(number)\n",
    "    end\n",
    "end"
   ]
  },
  {
   "cell_type": "code",
   "execution_count": 89,
   "metadata": {},
   "outputs": [
    {
     "name": "stdout",
     "output_type": "stream",
     "text": [
      "A halfspace with points:\n",
      "Polyhedra.Index{Float64, Vector{Float64}}(2)\n",
      "Polyhedra.Index{Float64, Vector{Float64}}(3)\n",
      "A halfspace with points:\n",
      "Polyhedra.Index{Float64, Vector{Float64}}(1)\n",
      "Polyhedra.Index{Float64, Vector{Float64}}(3)\n",
      "A halfspace with points:\n",
      "Polyhedra.Index{Float64, Vector{Float64}}(1)\n",
      "Polyhedra.Index{Float64, Vector{Float64}}(2)\n"
     ]
    }
   ],
   "source": [
    "for halfspace in eachindex(halfspaces(test_poly))\n",
    "    println(\"A halfspace with points:\")\n",
    "    for number in incidentpointindices(test_poly, halfspace)\n",
    "        println(number)\n",
    "    end\n",
    "end"
   ]
  },
  {
   "cell_type": "code",
   "execution_count": 95,
   "metadata": {},
   "outputs": [
    {
     "data": {
      "text/plain": [
       "Polyhedra.Index{Float64, Vector{Float64}}(2)"
      ]
     },
     "metadata": {},
     "output_type": "display_data"
    },
    {
     "data": {
      "text/plain": [
       "Polyhedra.Index{Float64, Vector{Float64}}(3)"
      ]
     },
     "metadata": {},
     "output_type": "display_data"
    },
    {
     "data": {
      "text/plain": [
       "Polyhedra.Index{Float64, Vector{Float64}}(1)"
      ]
     },
     "metadata": {},
     "output_type": "display_data"
    },
    {
     "data": {
      "text/plain": [
       "Polyhedra.Index{Float64, Vector{Float64}}(3)"
      ]
     },
     "metadata": {},
     "output_type": "display_data"
    },
    {
     "data": {
      "text/plain": [
       "Polyhedra.Index{Float64, Vector{Float64}}(1)"
      ]
     },
     "metadata": {},
     "output_type": "display_data"
    },
    {
     "data": {
      "text/plain": [
       "Polyhedra.Index{Float64, Vector{Float64}}(2)"
      ]
     },
     "metadata": {},
     "output_type": "display_data"
    },
    {
     "name": "stdout",
     "output_type": "stream",
     "text": [
      "A halfspace with points:\n",
      "A halfspace with points:\n",
      "A halfspace with points:\n"
     ]
    }
   ],
   "source": [
    "for halfspace in eachindex(halfspaces(test_poly))\n",
    "    println(\"A halfspace with points:\")\n",
    "    for number in incidentpointindices(test_poly, halfspace)\n",
    "        display(number)\n",
    "    end\n",
    "end"
   ]
  },
  {
   "cell_type": "code",
   "execution_count": 58,
   "metadata": {},
   "outputs": [
    {
     "name": "stdout",
     "output_type": "stream",
     "text": [
      "A halfspace with points:\n",
      "[0.0, 1.0]\n",
      "[0.5, 0.5]\n",
      "A halfspace with points:\n",
      "[0.0, 0.0]\n",
      "[0.5, 0.5]\n",
      "A halfspace with points:\n",
      "[0.0, 0.0]\n",
      "[0.0, 1.0]\n"
     ]
    }
   ],
   "source": [
    "for halfspace in eachindex(halfspaces(test_poly))\n",
    "    println(\"A halfspace with points:\")\n",
    "    for x in incidentpoints(test_poly, halfspace)\n",
    "        println(x)\n",
    "    end\n",
    "end"
   ]
  },
  {
   "cell_type": "markdown",
   "metadata": {},
   "source": [
    "One should be able to convert this into a number. But maybe that's also not necessary when staying in the polyhedra package?"
   ]
  },
  {
   "cell_type": "code",
   "execution_count": 47,
   "metadata": {},
   "outputs": [
    {
     "data": {
      "text/plain": [
       "3-element iterator of Vector{Float64}:\n",
       " [0.0, 0.0]\n",
       " [0.0, 1.0]\n",
       " [0.5, 0.5]"
      ]
     },
     "metadata": {},
     "output_type": "display_data"
    }
   ],
   "source": [
    "points(test_poly)"
   ]
  },
  {
   "cell_type": "markdown",
   "metadata": {},
   "source": [
    "## Removing redundancy\n",
    "To really only obtain the facets. Though it might be that if I always start with a v representation, I get no redundancy anyway..."
   ]
  },
  {
   "cell_type": "code",
   "execution_count": 48,
   "metadata": {},
   "outputs": [
    {
     "data": {
      "text/plain": [
       "Polyhedron DefaultPolyhedron{Float64, Polyhedra.Intersection{Float64, Vector{Float64}, Int64}, Polyhedra.Hull{Float64, Vector{Float64}, Int64}}:\n",
       "4-element iterator of HalfSpace{Float64, Vector{Float64}}:\n",
       " HalfSpace([1.0, 1.0], 1.0)\n",
       " HalfSpace([0.5, -0.5], 0.0)\n",
       " HalfSpace([-2.0, -0.0], 0.0)\n",
       " HalfSpace([-2.0, -0.0], 1.0)"
      ]
     },
     "metadata": {},
     "output_type": "display_data"
    }
   ],
   "source": [
    "red_rep = polyhedron(hrep([HalfSpace([1.0, 1.0], 1.0), HalfSpace([0.5, -0.5], 0.0), HalfSpace([-2.0, -0.0], 0.0), HalfSpace([-2.0, -0.0], 1.0)]))"
   ]
  },
  {
   "cell_type": "code",
   "execution_count": 54,
   "metadata": {},
   "outputs": [
    {
     "name": "stderr",
     "output_type": "stream",
     "text": [
      "┌ Warning: `removehredundancy!` will trigger the computation of the H-representation, which\n",
      "│ is computationally demanding because no solver was provided to the library.\n",
      "│ If this is expected, call `computevrep!` explicitely before calling this\n",
      "│ function to remove this warning.\n",
      "│ To provide a solver to a polyhedron, first select a solver from https://jump.dev/JuMP.jl/stable/installation/#Getting-Solvers-1.\n",
      "│ If you choose for instance `GLPK`, do `using GLPK; solver = GLPK.Optimizer`.\n",
      "│ Then provide the solver to the library. For instance, with the default library, do `lib = DefaultLibrary{Float64}(solver)`\n",
      "│ or if you use an external library, say `QHull`, do `lib = QHull.Library(solver)`.\n",
      "│ Then when you create the polyhedron, say from a representation `rep`, do `polyhedron(rep, lib)`.\n",
      "└ @ Polyhedra /home/bbrueck/.julia/packages/Polyhedra/Xhcfx/src/redundancy.jl:107\n",
      "┌ Warning: Cannot detect exact linearity as no solver was provided and the polyhedron is not affine.\n",
      "│ As fallback, we will only detect halfspaces from opposite hyperplanes but that may not detect all halfspaces.\n",
      "│ Set a solver if you believe that the polyhedron may have more linearity.\n",
      "│ To provide a solver to a polyhedron, first select a solver from https://jump.dev/JuMP.jl/stable/installation/#Getting-Solvers-1.\n",
      "│ If you choose for instance `GLPK`, do `using GLPK; solver = GLPK.Optimizer`.\n",
      "│ Then provide the solver to the library. For instance, with the default library, do `lib = DefaultLibrary{Float64}(solver)`\n",
      "│ or if you use an external library, say `QHull`, do `lib = QHull.Library(solver)`.\n",
      "│ Then when you create the polyhedron, say from a representation `rep`, do `polyhedron(rep, lib)`.\n",
      "└ @ Polyhedra /home/bbrueck/.julia/packages/Polyhedra/Xhcfx/src/linearity.jl:239\n"
     ]
    }
   ],
   "source": [
    "removehredundancy!(red_rep)"
   ]
  },
  {
   "cell_type": "code",
   "execution_count": 56,
   "metadata": {},
   "outputs": [
    {
     "data": {
      "text/plain": [
       "Polyhedron DefaultPolyhedron{Float64, Polyhedra.Intersection{Float64, Vector{Float64}, Int64}, Polyhedra.Hull{Float64, Vector{Float64}, Int64}}:\n",
       "3-element iterator of HalfSpace{Float64, Vector{Float64}}:\n",
       " HalfSpace([1.0, 1.0], 1.0)\n",
       " HalfSpace([0.5, -0.5], 0.0)\n",
       " HalfSpace([-2.0, -0.0], 0.0):\n",
       "3-element iterator of Vector{Float64}:\n",
       " [0.0, 0.0]\n",
       " [0.0, 1.0]\n",
       " [0.5, 0.5]"
      ]
     },
     "metadata": {},
     "output_type": "display_data"
    }
   ],
   "source": [
    "red_rep"
   ]
  },
  {
   "cell_type": "markdown",
   "metadata": {},
   "source": [
    "# Test space for Voronoi cells"
   ]
  },
  {
   "cell_type": "code",
   "execution_count": 3,
   "metadata": {},
   "outputs": [
    {
     "data": {
      "text/plain": [
       "1-element Vector{Matrix{Int64}}:\n",
       " [1 0 … 1 1; 0 1 … 0 1; 0 0 … 1 1]"
      ]
     },
     "metadata": {},
     "output_type": "display_data"
    }
   ],
   "source": [
    "#SL_3\n",
    "\n",
    "e1 = [1,0,0]\n",
    "e2 = [0,1,0]\n",
    "e3 = [0,0,1]\n",
    "e12 = [1,1,0]\n",
    "e13 = [1,0,1]\n",
    "e123 = [1,1,1]\n",
    "m2 = [e1 e2 e3] # standard\n",
    "m3_1 = [e1 e2 e3 e12] # 2-additive\n",
    "m3_2 = [e1 e2 e3 e123] # 3-additive\n",
    "m4 = [e1 e2 e3 e12 e13] # double-triple\n",
    "m5 = [e1 e2 e3 e12 e13 e123] # Q\n",
    "cells_SL3 = Dict()\n",
    "cells_SL3[2] = [m2]\n",
    "cells_SL3[3] = [m3_1,m3_2]\n",
    "cells_SL3[4] = [m4]\n",
    "cells_SL3[5] = [m5]"
   ]
  },
  {
   "cell_type": "code",
   "execution_count": 8,
   "metadata": {},
   "outputs": [
    {
     "data": {
      "text/plain": [
       "1-element Vector{Any}:\n",
       " [0 0 … 1 1; 1 0 … 0 1; 0 1 … 1 1]"
      ]
     },
     "metadata": {},
     "output_type": "display_data"
    }
   ],
   "source": [
    "dim_4_cells = []\n",
    "min_vectors_facet(m5,dim_4_cells)"
   ]
  },
  {
   "cell_type": "code",
   "execution_count": 9,
   "metadata": {},
   "outputs": [
    {
     "data": {
      "text/plain": [
       "2-element Vector{Any}:\n",
       " [0 1 1 1; 0 1 0 1; 1 0 1 1]\n",
       " [0 0 1 1; 1 0 1 0; 0 1 0 1]"
      ]
     },
     "metadata": {},
     "output_type": "display_data"
    }
   ],
   "source": [
    "dim_3_cells = []\n",
    "min_vectors_facet(dim_4_cells[1],dim_3_cells)"
   ]
  },
  {
   "cell_type": "code",
   "execution_count": 10,
   "metadata": {},
   "outputs": [
    {
     "data": {
      "text/plain": [
       "2-element Vector{Any}:\n",
       " [1 1 1; 1 0 1; 0 1 1]\n",
       " [0 1 1; 0 1 1; 1 0 1]"
      ]
     },
     "metadata": {},
     "output_type": "display_data"
    }
   ],
   "source": [
    "dim_2_cells = []\n",
    "min_vectors_facet(dim_3_cells[1],dim_2_cells)\n",
    "min_vectors_facet(dim_3_cells[2],dim_2_cells)"
   ]
  },
  {
   "cell_type": "code",
   "execution_count": 11,
   "metadata": {},
   "outputs": [
    {
     "data": {
      "text/plain": [
       "3×3 transpose(::Matrix{Int64}) with eltype Int64:\n",
       " 1  1  1\n",
       " 1  0  1\n",
       " 0  1  1"
      ]
     },
     "metadata": {},
     "output_type": "display_data"
    }
   ],
   "source": [
    "dim_2_cells[1]"
   ]
  },
  {
   "cell_type": "code",
   "execution_count": 16,
   "metadata": {},
   "outputs": [
    {
     "data": {
      "text/plain": [
       "3×3 Matrix{Int64}:\n",
       " 3  2  2\n",
       " 2  2  1\n",
       " 2  1  2"
      ]
     },
     "metadata": {},
     "output_type": "display_data"
    }
   ],
   "source": [
    "SLnCohomology.quadratic_form(dim_2_cells[1])"
   ]
  },
  {
   "cell_type": "code",
   "execution_count": 12,
   "metadata": {},
   "outputs": [
    {
     "data": {
      "text/plain": [
       "3×3 transpose(::Matrix{Int64}) with eltype Int64:\n",
       " 0  1  1\n",
       " 0  1  1\n",
       " 1  0  1"
      ]
     },
     "metadata": {},
     "output_type": "display_data"
    }
   ],
   "source": [
    "dim_2_cells[2]"
   ]
  },
  {
   "cell_type": "code",
   "execution_count": 13,
   "metadata": {},
   "outputs": [
    {
     "data": {
      "text/plain": [
       "3×3 Matrix{Int64}:\n",
       " 2  2  1\n",
       " 2  2  1\n",
       " 1  1  2"
      ]
     },
     "metadata": {},
     "output_type": "display_data"
    }
   ],
   "source": [
    "m = SLnCohomology.quadratic_form(dim_2_cells[2])"
   ]
  },
  {
   "cell_type": "code",
   "execution_count": 14,
   "metadata": {},
   "outputs": [
    {
     "data": {
      "text/plain": [
       "true"
      ]
     },
     "metadata": {},
     "output_type": "display_data"
    }
   ],
   "source": [
    "isposdef(m)"
   ]
  },
  {
   "cell_type": "code",
   "execution_count": 15,
   "metadata": {},
   "outputs": [
    {
     "data": {
      "text/plain": [
       "3×3 Matrix{Int64}:\n",
       " 2  2  1\n",
       " 2  2  1\n",
       " 1  1  2"
      ]
     },
     "metadata": {},
     "output_type": "display_data"
    }
   ],
   "source": [
    "dim_2_cells[2]*transpose(dim_2_cells[2])"
   ]
  },
  {
   "cell_type": "markdown",
   "metadata": {},
   "source": [
    "## Checking\n",
    "maybe Dan gave me the data in a slightly different format. I should retry with the original data"
   ]
  },
  {
   "cell_type": "markdown",
   "metadata": {},
   "source": [
    "# Cleaned up version"
   ]
  },
  {
   "cell_type": "code",
   "execution_count": 3,
   "metadata": {},
   "outputs": [
    {
     "data": {
      "text/plain": [
       "orbit_in_list (generic function with 1 method)"
      ]
     },
     "metadata": {},
     "output_type": "display_data"
    }
   ],
   "source": [
    "# From sl_cell_computations, no need to have it twice in the end\n",
    "function same_orbit(matrix1,matrix2)\n",
    "    #= Checks whether matrix1 lies in the SL_n orbit as matrix2\n",
    "    =#\n",
    "    if length(SLnCohomology.stabiliser_coset_SL(SLnCohomology.quadratic_form(matrix1),SLnCohomology.quadratic_form(matrix2))) > 0\n",
    "        return true\n",
    "    else\n",
    "        return false\n",
    "    end\n",
    "end\n",
    "\n",
    "function orbit_in_list(matrix,list)\n",
    "    #= Checks whether matrix lies in the SL_n orbit of one of the elements in list\n",
    "    =#\n",
    "    for matrix2 in list\n",
    "        if same_orbit(matrix,matrix2)\n",
    "            return true\n",
    "        end\n",
    "    end\n",
    "    return false\n",
    "end"
   ]
  },
  {
   "cell_type": "code",
   "execution_count": 4,
   "metadata": {},
   "outputs": [
    {
     "data": {
      "text/plain": [
       "create_polyhedron (generic function with 1 method)"
      ]
     },
     "metadata": {},
     "output_type": "display_data"
    }
   ],
   "source": [
    "function create_polyhedron(cell)\n",
    "    poly_vertices = Vector{Int64}[]\n",
    "    for col in eachcol(cell)\n",
    "        push!(poly_vertices,vec(SLnCohomology.quadratic_form(col)))\n",
    "    end\n",
    "    poly_cell = polyhedron(vrep(poly_vertices))\n",
    "    return poly_cell\n",
    "end"
   ]
  },
  {
   "cell_type": "code",
   "execution_count": 5,
   "metadata": {},
   "outputs": [
    {
     "data": {
      "text/plain": [
       "facets (generic function with 1 method)"
      ]
     },
     "metadata": {},
     "output_type": "display_data"
    }
   ],
   "source": [
    "function facets(polyhedral_cell, min_vectors, codim_1_cells)\n",
    "    #=\n",
    "    min_vectors must be ordered in the same way as the points in polyhedral_cell\n",
    "    =#\n",
    "    vertex_list = collect(points(polyhedral_cell))\n",
    "    for halfspace in eachindex(halfspaces(polyhedral_cell))\n",
    "        # create a list with all min_vectors that lie on this facet\n",
    "        vertices_facet = []\n",
    "        for vertex in incidentpoints(polyhedral_cell, halfspace) # read out using Oscar/polymake in the long term, this might get shorter\n",
    "            # also careful: At the moment, I'm not reducing the cells, this should be done or avoided by using polymake\n",
    "            vertex_index = findfirst(x -> x==vertex, vertex_list) # this should somehow get quicker, but I couldn't find out how\n",
    "            push!(vertices_facet,min_vectors[vertex_index])\n",
    "        end\n",
    "        #now turn into matrix again to make accessible to other calculations, orbits extract_basis\n",
    "        facet = transpose(reduce(vcat,transpose.(vertices_facet)))\n",
    "        if isposdef(SLnCohomology.quadratic_form(facet))\n",
    "            # then it intersects the interior non-trivially - make this a separate function to increase readability\n",
    "            if !orbit_in_list(facet, codim_1_cells)\n",
    "                push!(codim_1_cells,facet)\n",
    "            end\n",
    "        end\n",
    "    end\n",
    "    return codim_1_cells\n",
    "end"
   ]
  },
  {
   "cell_type": "code",
   "execution_count": 6,
   "metadata": {},
   "outputs": [
    {
     "data": {
      "text/plain": [
       "min_vectors_facet (generic function with 1 method)"
      ]
     },
     "metadata": {},
     "output_type": "display_data"
    }
   ],
   "source": [
    "function min_vectors_facet(cell,codim_1_cells)\n",
    "    min_vectors = collect(eachcol(cell))\n",
    "    return facets(create_polyhedron(cell), min_vectors, codim_1_cells)\n",
    "end"
   ]
  },
  {
   "cell_type": "code",
   "execution_count": 7,
   "metadata": {},
   "outputs": [
    {
     "data": {
      "text/plain": [
       "Voronoi_cells (generic function with 1 method)"
      ]
     },
     "metadata": {},
     "output_type": "display_data"
    }
   ],
   "source": [
    "function Voronoi_cells(n,perfect_forms)\n",
    "    #= perfect_forms: list of perfect forms in dimension n, up to action of SL/ GL\n",
    "    =#\n",
    "    dim_symmetric_space = n*(n+1)/2-1\n",
    "    cells_SLn = Dict()\n",
    "    perfect_forms_min_vec_rep = []\n",
    "    for perfect_form in perfect_forms\n",
    "        # compute the minimal vectors and put them in the right format\n",
    "        push!(perfect_forms_min_vec_rep, transpose(reduce(vcat,transpose.(SLnCohomology.minimal_vectors(perfect_form)))))\n",
    "        println(\"I computed minimal vectors.\")\n",
    "    end\n",
    "    cells_SLn[dim_symmetric_space] = perfect_forms_min_vec_rep # the perfect forms are the top cells\n",
    "    for dim in dim_symmetric_space-1:-1:n-1 # these are the dimensions where there are cells that intersect the interior non-trivially\n",
    "        println(\"I'm computing in dimension $dim\")\n",
    "        cells_SLn[dim] = []\n",
    "        for cell in cells_SLn[dim+1]\n",
    "            min_vectors_facet(cell,cells_SLn[dim]) # function needs better name\n",
    "        end\n",
    "    end\n",
    "    return cells_SLn\n",
    "end"
   ]
  },
  {
   "cell_type": "code",
   "execution_count": 7,
   "metadata": {},
   "outputs": [
    {
     "data": {
      "text/plain": [
       "1-element Vector{Matrix{Int64}}:\n",
       " [2 -1 0; -1 2 -1; 0 -1 2]"
      ]
     },
     "metadata": {},
     "output_type": "display_data"
    }
   ],
   "source": [
    "A_3 = [2 -1 0\n",
    "-1 2 -1\n",
    "0 -1 2]\n",
    "forms_3 = [A_3]"
   ]
  },
  {
   "cell_type": "code",
   "execution_count": 8,
   "metadata": {},
   "outputs": [
    {
     "name": "stdout",
     "output_type": "stream",
     "text": [
      "I computed minimal vectors.\n",
      "I'm computing in dimension 4.0\n"
     ]
    },
    {
     "name": "stdout",
     "output_type": "stream",
     "text": [
      "I'm computing in dimension 3.0\n",
      "I'm computing in dimension 2.0\n"
     ]
    },
    {
     "data": {
      "text/plain": [
       "Dict{Any, Any} with 4 entries:\n",
       "  5.0 => Any[[1 0 … 0 1; 1 1 … 1 0; 1 1 … 0 0]]\n",
       "  4.0 => Any[[0 0 … 0 1; 1 0 … 1 0; 1 1 … 0 0]]\n",
       "  2.0 => Any[[0 0 1; 0 1 0; 1 0 0]]\n",
       "  3.0 => Any[[0 1 0 1; 0 1 1 0; 1 0 0 0], [0 0 1 1; 1 0 1 0; 1 1 0 0]]"
      ]
     },
     "metadata": {},
     "output_type": "display_data"
    }
   ],
   "source": [
    "cells_SL3 = Voronoi_cells(3,forms_3)"
   ]
  },
  {
   "cell_type": "code",
   "execution_count": 9,
   "metadata": {},
   "outputs": [
    {
     "data": {
      "text/plain": [
       "2-element Vector{Matrix{Int64}}:\n",
       " [2 0 1 0; 0 2 -1 0; 1 -1 2 -1; 0 0 -1 2]\n",
       " [2 -1 0 0; -1 2 -1 0; 0 -1 2 -1; 0 0 -1 2]"
      ]
     },
     "metadata": {},
     "output_type": "display_data"
    }
   ],
   "source": [
    "D_4 = [2 0 1 0\n",
    "0 2 -1 0\n",
    "1 -1 2 -1\n",
    "0 0 -1 2]\n",
    "\n",
    "A_4 = [2 -1 0 0\n",
    "-1 2 -1 0\n",
    "0 -1 2 -1\n",
    "0 0 -1 2]\n",
    "\n",
    "forms_4 = [D_4, A_4]"
   ]
  },
  {
   "cell_type": "code",
   "execution_count": 10,
   "metadata": {},
   "outputs": [
    {
     "name": "stdout",
     "output_type": "stream",
     "text": [
      "I computed minimal vectors.\n",
      "I computed minimal vectors.\n",
      "I'm computing in dimension 8.0\n"
     ]
    },
    {
     "name": "stdout",
     "output_type": "stream",
     "text": [
      "I'm computing in dimension 7.0\n",
      "I'm computing in dimension 6.0\n",
      "I'm computing in dimension 5.0\n",
      "I'm computing in dimension 4.0\n"
     ]
    },
    {
     "name": "stdout",
     "output_type": "stream",
     "text": [
      "I'm computing in dimension 3.0\n"
     ]
    },
    {
     "data": {
      "text/plain": [
       "Dict{Any, Any} with 7 entries:\n",
       "  5.0 => Any[[0 -1 … 0 1; 0 1 … 1 0; 0 1 … 0 0; 1 0 … 0 0], [-1 0 … 0 1; 0 0 … …\n",
       "  4.0 => Any[[0 0 … 0 1; 0 0 … 1 0; 0 1 … 0 0; 1 0 … 0 0], [0 -1 … 0 1; 0 1 … 1…\n",
       "  6.0 => Any[[0 0 … 0 1; 0 1 … 1 0; 0 1 … 0 0; 1 0 … 0 0], [-1 0 … 0 1; 0 0 … 1…\n",
       "  7.0 => Any[[-1 0 … 0 1; 0 0 … 1 0; 1 0 … 0 0; 1 1 … 0 0], [0 -1 … 0 1; 0 0 … …\n",
       "  9.0 => Any[[-1 0 … 0 1; 1 1 … 1 0; 2 1 … 0 0; 1 1 … 0 0], [1 0 … 0 1; 1 1 … 1…\n",
       "  8.0 => Any[[0 -1 … 0 1; 0 0 … 1 0; 1 1 … 0 0; 1 1 … 0 0], [0 0 … 0 1; 1 0 … 1…\n",
       "  3.0 => Any[[0 -1 0 1; 0 0 1 0; 0 1 0 0; 1 0 0 0]]"
      ]
     },
     "metadata": {},
     "output_type": "display_data"
    }
   ],
   "source": [
    "cells_SL4 = Voronoi_cells(4,forms_4)"
   ]
  },
  {
   "cell_type": "code",
   "execution_count": 8,
   "metadata": {},
   "outputs": [
    {
     "data": {
      "text/plain": [
       "3-element Vector{Matrix{Int64}}:\n",
       " [2 0 … 0 0; 0 2 … 0 0; … ; 0 0 … 2 -1; 0 0 … -1 2]\n",
       " [6 -3 … 0 0; -3 6 … 0 3; … ; 0 0 … 6 0; 0 3 … 0 4]\n",
       " [2 -1 … 0 0; -1 2 … 0 0; … ; 0 0 … 2 -1; 0 0 … -1 2]"
      ]
     },
     "metadata": {},
     "output_type": "display_data"
    }
   ],
   "source": [
    "D_5 = [2 0 1 0 0\n",
    "0 2 -1 0 0\n",
    "1 -1 2 -1 0\n",
    "0 0 -1 2 -1\n",
    "0 0 0 -1 2]\n",
    "\n",
    "A_5_plus3 = [6 -3 0 0 0\n",
    "-3 6 -3 0 3\n",
    "0 -3 6 -3 0\n",
    "0 0 -3 6 0\n",
    "0 3 0 0 4]\n",
    "\n",
    "A_5 = [2 -1 0 0 0\n",
    "-1 2 -1 0 0\n",
    "0 -1 2 -1 0\n",
    "0 0 -1 2 -1\n",
    "0 0 0 -1 2]\n",
    "\n",
    "forms_5 = [D_5, A_5_plus3, A_5]"
   ]
  },
  {
   "cell_type": "code",
   "execution_count": 11,
   "metadata": {},
   "outputs": [
    {
     "data": {
      "text/plain": [
       "QHull.Library(nothing)"
      ]
     },
     "metadata": {},
     "output_type": "display_data"
    }
   ],
   "source": [
    "lib = QHull.Library()"
   ]
  },
  {
   "cell_type": "code",
   "execution_count": 16,
   "metadata": {},
   "outputs": [
    {
     "name": "stderr",
     "output_type": "stream",
     "text": [
      "\u001b[32m\u001b[1m   Resolving\u001b[22m\u001b[39m package versions...\n"
     ]
    },
    {
     "name": "stderr",
     "output_type": "stream",
     "text": [
      "\u001b[32m\u001b[1m   Installed\u001b[22m\u001b[39m CDDLib ─ v0.9.2\n"
     ]
    },
    {
     "name": "stderr",
     "output_type": "stream",
     "text": [
      "\u001b[32m\u001b[1m    Updating\u001b[22m\u001b[39m `/mnt/c/Git/HigherTSL3/SLnCohomology/Project.toml`\n",
      "  \u001b[90m[3391f64e] \u001b[39m\u001b[92m+ CDDLib v0.9.2\u001b[39m\n",
      "\u001b[32m\u001b[1m    Updating\u001b[22m\u001b[39m `/mnt/c/Git/HigherTSL3/SLnCohomology/Manifest.toml`\n",
      " "
     ]
    },
    {
     "name": "stderr",
     "output_type": "stream",
     "text": [
      " \u001b[90m[3391f64e] \u001b[39m\u001b[92m+ CDDLib v0.9.2\u001b[39m\n",
      "  \u001b[90m[f07e07eb] \u001b[39m\u001b[92m+ cddlib_jll v0.94.13+0\u001b[39m\n"
     ]
    },
    {
     "name": "stderr",
     "output_type": "stream",
     "text": [
      "\u001b[32m\u001b[1mPrecompiling\u001b[22m\u001b[39m project...\n"
     ]
    },
    {
     "name": "stderr",
     "output_type": "stream",
     "text": [
      "\u001b[32m  ✓ \u001b[39mCDDLib\n"
     ]
    },
    {
     "name": "stderr",
     "output_type": "stream",
     "text": [
      "\u001b[33m  ✓ \u001b[39mSLnCohomology\n"
     ]
    },
    {
     "name": "stderr",
     "output_type": "stream",
     "text": [
      "  2 dependencies successfully precompiled in 18 seconds. 163 already precompiled.\n",
      "  \u001b[33m1\u001b[39m dependency precompiled but a different version is currently loaded. Restart julia to access the new version\n"
     ]
    }
   ],
   "source": [
    "Pkg.add(\"CDDLib\")"
   ]
  },
  {
   "cell_type": "code",
   "execution_count": 17,
   "metadata": {},
   "outputs": [],
   "source": [
    "import CDDLib"
   ]
  },
  {
   "cell_type": "code",
   "execution_count": 18,
   "metadata": {},
   "outputs": [
    {
     "data": {
      "text/plain": [
       "CDDLib.Library(:float)"
      ]
     },
     "metadata": {},
     "output_type": "display_data"
    }
   ],
   "source": [
    "lib = CDDLib.Library()"
   ]
  },
  {
   "cell_type": "code",
   "execution_count": 19,
   "metadata": {},
   "outputs": [
    {
     "name": "stdout",
     "output_type": "stream",
     "text": [
      "I computed minimal vectors.\n",
      "I computed minimal vectors.\n",
      "I computed minimal vectors.\n",
      "I'm computing in dimension 13.0\n"
     ]
    },
    {
     "name": "stdout",
     "output_type": "stream",
     "text": [
      "I'm computing in dimension 12.0\n"
     ]
    },
    {
     "name": "stdout",
     "output_type": "stream",
     "text": [
      "I'm computing in dimension 11.0\n"
     ]
    },
    {
     "name": "stdout",
     "output_type": "stream",
     "text": [
      "I'm computing in dimension 10.0\n"
     ]
    },
    {
     "name": "stdout",
     "output_type": "stream",
     "text": [
      "I'm computing in dimension 9.0\n"
     ]
    },
    {
     "name": "stdout",
     "output_type": "stream",
     "text": [
      "I'm computing in dimension 8.0\n"
     ]
    },
    {
     "name": "stdout",
     "output_type": "stream",
     "text": [
      "I'm computing in dimension 7.0\n"
     ]
    },
    {
     "name": "stdout",
     "output_type": "stream",
     "text": [
      "I'm computing in dimension 6.0\n"
     ]
    },
    {
     "name": "stdout",
     "output_type": "stream",
     "text": [
      "I'm computing in dimension 5.0\n"
     ]
    },
    {
     "name": "stdout",
     "output_type": "stream",
     "text": [
      "I'm computing in dimension 4.0\n"
     ]
    },
    {
     "data": {
      "text/plain": [
       "Dict{Any, Any} with 11 entries:\n",
       "  5.0  => Any[[0 0 … 0 1; 0 0 … 1 0; … ; 0 1 … 0 0; 1 0 … 0 0], [0 0 … 0 1; 0 0…\n",
       "  12.0 => Any[[-1 0 … 0 1; 0 0 … 1 0; … ; 1 1 … 0 0; 1 1 … 0 0], [0 -1 … 0 1; 0…\n",
       "  8.0  => Any[[0 -1 … 0 1; 0 0 … 1 0; … ; 0 1 … 0 0; 1 0 … 0 0], [0 0 … 0 1; 0 …\n",
       "  6.0  => Any[[0 0 … 0 1; 0 0 … 1 0; … ; 0 1 … 0 0; 1 0 … 0 0], [0 -1 … 0 1; 0 …\n",
       "  11.0 => Any[[0 0 … 0 1; 0 0 … 1 0; … ; 1 0 … 0 0; 1 1 … 0 0], [-1 0 … 0 1; 0 …\n",
       "  9.0  => Any[[0 0 … 0 1; 0 0 … 1 0; … ; 0 1 … 0 0; 1 0 … 0 0], [0 0 … 0 1; 0 1…\n",
       "  14.0 => Any[[-1 -1 … 0 1; 1 1 … 1 0; … ; 2 1 … 0 0; 1 1 … 0 0], [2 1 … 1 0; 3…\n",
       "  7.0  => Any[[0 0 … 0 1; 0 0 … 1 0; … ; 0 1 … 0 0; 1 0 … 0 0], [0 -1 … 0 1; 0 …\n",
       "  13.0 => Any[[0 -1 … 0 1; 0 0 … 1 0; … ; 1 1 … 0 0; 1 1 … 0 0], [-1 0 … 0 1; 1…\n",
       "  4.0  => Any[[0 0 … 0 1; 0 0 … 1 0; … ; 0 1 … 0 0; 1 0 … 0 0], [0 0 … 0 1; 0 0…\n",
       "  10.0 => Any[[0 -1 … 0 1; 0 1 … 1 0; … ; 0 1 … 0 0; 1 0 … 0 0], [0 0 … 0 1; 0 …"
      ]
     },
     "metadata": {},
     "output_type": "display_data"
    }
   ],
   "source": [
    "cells_SL5 = Voronoi_cells(5,forms_5)"
   ]
  },
  {
   "cell_type": "markdown",
   "metadata": {},
   "source": [
    "compare with previous results"
   ]
  },
  {
   "cell_type": "code",
   "execution_count": 13,
   "metadata": {},
   "outputs": [
    {
     "data": {
      "text/plain": [
       "Dict{Any, Any} with 11 entries:\n",
       "  5  => Any[[0 0 … 0 1; 0 0 … 1 -1; … ; 1 0 … 0 0; 0 0 … 0 0], [0 0 … 0 1; 0 0 …\n",
       "  7  => Any[[0 0 … 1 1; 0 0 … -1 0; … ; 1 0 … 0 0; 0 0 … 0 0], [0 0 … 1 1; 0 0 …\n",
       "  12 => Any[[0 0 … 1 1; 0 0 … 0 1; … ; 1 1 … 1 0; -1 0 … -1 -1], [0 0 … 1 1; 0 …\n",
       "  8  => Any[[0 0 … 1 1; 0 0 … 0 0; … ; 1 0 … 0 -1; 0 0 … 0 0], [0 0 … 1 1; 0 0 …\n",
       "  4  => Any[[0 0 … 0 1; 0 0 … 1 -1; … ; 1 0 … 0 0; 0 0 … -1 0], [0 0 … 1 1; 0 1…\n",
       "  6  => Any[[0 0 … 0 1; 0 0 … 1 -1; … ; 1 0 … 1 0; 0 0 … -1 0], [0 0 … 1 1; 0 0…\n",
       "  13 => Any[[0 0 … 1 1; 0 0 … 0 1; … ; 1 1 … 1 0; -1 0 … -1 -1], [0 0 … 1 1; 0 …\n",
       "  11 => Any[[0 0 … 1 1; 0 0 … 0 1; … ; 1 0 … 0 0; 0 0 … 0 -1], [0 0 … 1 1; 0 0 …\n",
       "  10 => Any[[0 0 … 1 1; 0 0 … 0 0; … ; 1 0 … 0 0; 0 0 … -1 0], [0 0 … 1 1; 0 0 …\n",
       "  9  => Any[[0 0 … 1 1; 0 0 … 0 0; … ; 1 0 … -1 0; 0 0 … 0 -1], [0 0 … 1 1; 0 0…\n",
       "  14 => Any[[0 0 … 1 1; 0 0 … 0 1; … ; 1 1 … 0 0; -1 0 … -1 -1], [0 0 … 1 1; 0 …"
      ]
     },
     "metadata": {},
     "output_type": "display_data"
    }
   ],
   "source": [
    "cells_SL4_old = deserialize(joinpath(@__DIR__, \"./differentials_computation/precomputed_cells/sl4_cells.sjl\"))\n",
    "cells_SL3_old = deserialize(joinpath(@__DIR__, \"./differentials_computation/precomputed_cells/sl3_cells.sjl\"))\n",
    "cells_SL5_old = deserialize(joinpath(@__DIR__, \"./differentials_computation/precomputed_cells/sl5_cells.sjl\"))"
   ]
  },
  {
   "cell_type": "code",
   "execution_count": 17,
   "metadata": {},
   "outputs": [
    {
     "name": "stdout",
     "output_type": "stream",
     "text": [
      "Found the cell\n",
      "Found the cell\n",
      "Found the cell\n",
      "Found the cell\n",
      "Found the cell\n"
     ]
    }
   ],
   "source": [
    "for dim in keys(cells_SL3_old)\n",
    "    for old_cell in cells_SL3_old[dim]\n",
    "        if orbit_in_list(old_cell,cells_SL3[dim])\n",
    "            println(\"Found the cell\")\n",
    "        else\n",
    "            println(\"Not there\")\n",
    "        end\n",
    "    end\n",
    "end"
   ]
  },
  {
   "cell_type": "code",
   "execution_count": 18,
   "metadata": {},
   "outputs": [
    {
     "name": "stdout",
     "output_type": "stream",
     "text": [
      "Found the cell\n",
      "Found the cell\n",
      "Found the cell\n",
      "Found the cell\n",
      "Found the cell\n",
      "Found the cell\n",
      "Found the cell\n",
      "Found the cell\n",
      "Found the cell\n",
      "Found the cell\n",
      "Found the cell\n",
      "Found the cell\n",
      "Found the cell\n",
      "Found the cell\n",
      "Found the cell\n",
      "Found the cell\n"
     ]
    }
   ],
   "source": [
    "for dim in keys(cells_SL4_old)\n",
    "    for old_cell in cells_SL4_old[dim]\n",
    "        if orbit_in_list(old_cell,cells_SL4[dim])\n",
    "            println(\"Found the cell\")\n",
    "        else\n",
    "            println(\"Not there\")\n",
    "        end\n",
    "    end\n",
    "end"
   ]
  },
  {
   "cell_type": "code",
   "execution_count": 19,
   "metadata": {},
   "outputs": [
    {
     "name": "stdout",
     "output_type": "stream",
     "text": [
      "Found the cell\n",
      "Found the cell\n",
      "Found the cell\n"
     ]
    },
    {
     "name": "stdout",
     "output_type": "stream",
     "text": [
      "Found the cell\n",
      "Found the cell\n",
      "Found the cell\n",
      "Found the cell\n",
      "Found the cell\n",
      "Found the cell\n",
      "Found the cell\n",
      "Found the cell\n"
     ]
    },
    {
     "name": "stdout",
     "output_type": "stream",
     "text": [
      "Found the cell\n",
      "Found the cell\n",
      "Found the cell\n",
      "Found the cell\n",
      "Found the cell\n",
      "Found the cell\n",
      "Found the cell\n",
      "Found the cell\n"
     ]
    },
    {
     "name": "stdout",
     "output_type": "stream",
     "text": [
      "Found the cell\n",
      "Found the cell\n",
      "Found the cell\n",
      "Found the cell\n",
      "Found the cell\n",
      "Found the cell\n",
      "Found the cell\n",
      "Found the cell\n",
      "Found the cell\n",
      "Found the cell\n",
      "Found the cell\n",
      "Found the cell\n",
      "Found the cell\n",
      "Found the cell\n",
      "Found the cell\n",
      "Found the cell\n",
      "Found the cell\n",
      "Found the cell\n",
      "Found the cell\n",
      "Found the cell\n"
     ]
    },
    {
     "name": "stdout",
     "output_type": "stream",
     "text": [
      "Found the cell\n",
      "Found the cell\n",
      "Found the cell\n",
      "Found the cell\n",
      "Found the cell\n",
      "Found the cell\n",
      "Found the cell\n",
      "Found the cell\n",
      "Found the cell\n",
      "Found the cell\n",
      "Found the cell\n",
      "Found the cell\n",
      "Found the cell\n",
      "Found the cell\n"
     ]
    },
    {
     "name": "stdout",
     "output_type": "stream",
     "text": [
      "Found the cell\n"
     ]
    },
    {
     "name": "stdout",
     "output_type": "stream",
     "text": [
      "Found the cell\n",
      "Found the cell\n",
      "Found the cell\n",
      "Found the cell\n",
      "Found the cell\n",
      "Found the cell\n",
      "Found the cell\n",
      "Found the cell\n",
      "Found the cell\n",
      "Found the cell\n",
      "Found the cell\n",
      "Found the cell\n",
      "Found the cell\n",
      "Found the cell\n",
      "Found the cell\n",
      "Found the cell\n",
      "Found the cell\n",
      "Found the cell\n",
      "Found the cell\n",
      "Found the cell\n",
      "Found the cell\n",
      "Found the cell\n"
     ]
    },
    {
     "name": "stdout",
     "output_type": "stream",
     "text": [
      "Found the cell\n",
      "Found the cell\n",
      "Found the cell\n",
      "Found the cell\n",
      "Found the cell\n",
      "Found the cell\n",
      "Found the cell\n",
      "Found the cell\n",
      "Found the cell\n",
      "Found the cell\n",
      "Found the cell\n",
      "Found the cell\n",
      "Found the cell\n",
      "Found the cell\n",
      "Found the cell\n",
      "Found the cell\n"
     ]
    },
    {
     "name": "stdout",
     "output_type": "stream",
     "text": [
      "Found the cell\n",
      "Found the cell\n",
      "Found the cell\n",
      "Found the cell\n",
      "Found the cell\n",
      "Found the cell\n",
      "Found the cell\n",
      "Found the cell\n",
      "Found the cell\n",
      "Found the cell\n",
      "Found the cell\n",
      "Found the cell\n",
      "Found the cell\n",
      "Found the cell\n",
      "Found the cell\n",
      "Found the cell\n",
      "Found the cell\n",
      "Found the cell\n",
      "Found the cell\n"
     ]
    },
    {
     "name": "stdout",
     "output_type": "stream",
     "text": [
      "Found the cell\n",
      "Found the cell\n",
      "Found the cell\n",
      "Found the cell\n",
      "Found the cell\n",
      "Found the cell\n",
      "Found the cell\n",
      "Found the cell\n",
      "Found the cell\n",
      "Found the cell\n",
      "Found the cell\n",
      "Found the cell\n",
      "Found the cell\n",
      "Found the cell\n",
      "Found the cell\n",
      "Found the cell\n",
      "Found the cell\n",
      "Found the cell\n",
      "Found the cell\n",
      "Found the cell\n",
      "Found the cell\n"
     ]
    },
    {
     "name": "stdout",
     "output_type": "stream",
     "text": [
      "Found the cell\n"
     ]
    },
    {
     "name": "stdout",
     "output_type": "stream",
     "text": [
      "Found the cell\n"
     ]
    },
    {
     "name": "stdout",
     "output_type": "stream",
     "text": [
      "Found the cell\n",
      "Found the cell\n"
     ]
    }
   ],
   "source": [
    "for dim in keys(cells_SL5_old)\n",
    "    for old_cell in cells_SL5_old[dim]\n",
    "        if orbit_in_list(old_cell,cells_SL5[dim])\n",
    "            println(\"Found the cell\")\n",
    "        else\n",
    "            println(\"Not there\")\n",
    "        end\n",
    "    end\n",
    "end"
   ]
  },
  {
   "cell_type": "code",
   "execution_count": 20,
   "metadata": {},
   "outputs": [
    {
     "data": {
      "text/plain": [
       "7-element Vector{Matrix{Int64}}:\n",
       " [2 -1 … 0 0; -1 2 … 0 0; … ; 0 0 … 2 0; 0 0 … 0 2]\n",
       " [4 5 … 2 3; 5 10 … 4 6; … ; 2 4 … 4 3; 3 6 … 3 6]\n",
       " [2 0 … 0 0; 0 2 … 0 0; … ; 0 0 … 2 -1; 0 0 … -1 2]\n",
       " [4 1 … 2 2; 1 4 … 2 2; … ; 2 2 … 4 2; 2 2 … 2 4]\n",
       " [4 -1 … 1 -2; -1 4 … 1 1; … ; 1 1 … 4 -1; -2 1 … -1 4]\n",
       " [4 1 … 2 2; 1 4 … 2 2; … ; 2 2 … 4 1; 2 2 … 1 4]\n",
       " [2 -1 … 0 0; -1 2 … 0 0; … ; 0 0 … 2 -1; 0 0 … -1 2]"
      ]
     },
     "metadata": {},
     "output_type": "display_data"
    }
   ],
   "source": [
    "E6 = [2 -1 0 0 0 0\n",
    "-1 2 -1 0 0 0\n",
    "0 -1 2 -1 0 -1\n",
    "0 0 -1 2 -1 0\n",
    "0 0 0 -1 2 0\n",
    "0 0 -1 0 0 2]\n",
    "\n",
    "E6star = [4 5 6 4 2 3\n",
    "5 10 12 8 4 6\n",
    "6 12 18 12 6 9\n",
    "4 8 12 10 5 6\n",
    "2 4 6 5 4 3\n",
    "3 6 9 6 3 6]\n",
    "\n",
    "D6 = [2 0 1 0 0 0\n",
    "0 2 -1 0 0 0\n",
    "1 -1 2 -1 0 0\n",
    "0 0 -1 2 -1 0\n",
    "0 0 0 -1 2 -1\n",
    "0 0 0 0 -1 2]\n",
    "\n",
    "A6_2 = [4 1 2 2 2 2\n",
    "1 4 2 2 2 2\n",
    "2 2 4 1 1 2\n",
    "2 2 1 4 1 2\n",
    "2 2 1 1 4 2\n",
    "2 2 2 2 2 4]\n",
    "\n",
    "A6_sup2 = [4 -1 -2 1 1 -2\n",
    "-1 4 -1 -2 1 1\n",
    "-2 -1 4 -1 -2 1\n",
    "1 -2 -1 4 -1 -2\n",
    "1 1 -2 -1 4 -1\n",
    "-2 1 1 -2 -1 4]\n",
    "\n",
    "A6_1 = [4 1 2 2 2 2\n",
    "1 4 2 2 2 2\n",
    "2 2 4 1 2 2\n",
    "2 2 1 4 2 2\n",
    "2 2 2 2 4 1\n",
    "2 2 2 2 1 4]\n",
    "\n",
    "A6 = [2 -1 0 0 0 0\n",
    "-1 2 -1 0 0 0\n",
    "0 -1 2 -1 0 0\n",
    "0 0 -1 2 -1 0\n",
    "0 0 0 -1 2 -1\n",
    "0 0 0 0 -1 2]\n",
    "\n",
    "forms_6 = [E6, E6star,D6, A6_2, A6_sup2, A6_1, A6]"
   ]
  },
  {
   "cell_type": "code",
   "execution_count": 21,
   "metadata": {},
   "outputs": [],
   "source": [
    "cells_SL6 = Voronoi_cells(6,forms_6)"
   ]
  },
  {
   "cell_type": "code",
   "execution_count": null,
   "metadata": {},
   "outputs": [],
   "source": []
  }
 ],
 "metadata": {
  "kernelspec": {
   "display_name": "Julia 1.9.1",
   "language": "julia",
   "name": "julia-1.9"
  },
  "language_info": {
   "file_extension": ".jl",
   "mimetype": "application/julia",
   "name": "julia",
   "version": "1.9.1"
  }
 },
 "nbformat": 4,
 "nbformat_minor": 2
}
