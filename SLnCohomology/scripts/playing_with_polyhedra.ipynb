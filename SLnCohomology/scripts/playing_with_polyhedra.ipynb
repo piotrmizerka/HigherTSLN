{
 "cells": [
  {
   "cell_type": "markdown",
   "metadata": {},
   "source": [
    "Experimenting in order to ultimately compute the cell structures of Voronoi complexes"
   ]
  },
  {
   "cell_type": "code",
   "execution_count": 3,
   "metadata": {},
   "outputs": [
    {
     "name": "stderr",
     "output_type": "stream",
     "text": [
      "\u001b[32m\u001b[1m  Activating\u001b[22m\u001b[39m project at `/mnt/c/Git/HigherTSL3/SLnCohomology`\n"
     ]
    },
    {
     "name": "stderr",
     "output_type": "stream",
     "text": [
      "\u001b[32m\u001b[1m   Resolving\u001b[22m\u001b[39m package versions...\n"
     ]
    },
    {
     "name": "stderr",
     "output_type": "stream",
     "text": [
      "\u001b[32m\u001b[1m   Installed\u001b[22m\u001b[39m GAP_jll ──────────────────── v400.1200.200+7\n",
      "\u001b[32m\u001b[1m   Installed\u001b[22m\u001b[39m GAP_pkg_juliainterface_jll ─ v0.800.300+2\n",
      "\u001b[32m\u001b[1m   Installed\u001b[22m\u001b[39m ArrayLayouts ─────────────── v1.4.1\n",
      "\u001b[32m\u001b[1m   Installed\u001b[22m\u001b[39m FillArrays ───────────────── v1.6.1\n",
      "\u001b[32m\u001b[1m   Installed\u001b[22m\u001b[39m Scratch ──────────────────── v1.2.1\n",
      "\u001b[32m\u001b[1m   Installed\u001b[22m\u001b[39m BlockArrays ──────────────── v0.16.38\n",
      "\u001b[32m\u001b[1m   Installed\u001b[22m\u001b[39m GAP ──────────────────────── v0.10.1\n"
     ]
    },
    {
     "name": "stderr",
     "output_type": "stream",
     "text": [
      "\u001b[32m\u001b[1m    Updating\u001b[22m\u001b[39m `/mnt/c/Git/HigherTSL3/SLnCohomology/Project.toml`\n",
      "  \u001b[90m[67491407] \u001b[39m\u001b[92m+ Polyhedra v0.7.6\u001b[39m\n",
      "  \u001b[90m[2f01184e] \u001b[39m\u001b[93m~ SparseArrays v1.10.0 ⇒ \u001b[39m\n",
      "\u001b[32m\u001b[1m    Updating\u001b[22m\u001b[39m `/mnt/c/Git/HigherTSL3/SLnCohomology/Manifest.toml`\n"
     ]
    },
    {
     "name": "stderr",
     "output_type": "stream",
     "text": [
      "  \u001b[90m[411431e0] \u001b[39m\u001b[92m+ Extents v0.1.2\u001b[39m\n",
      "\u001b[32m⌃\u001b[39m \u001b[90m[46192b85] \u001b[39m\u001b[92m+ GPUArraysCore v0.1.5\u001b[39m\n",
      "  \u001b[90m[14197337] \u001b[39m\u001b[92m+ GenericLinearAlgebra v0.3.11\u001b[39m\n",
      "  \u001b[90m[cf35fbd7] \u001b[39m\u001b[92m+ GeoInterface v1.3.3\u001b[39m\n",
      "  \u001b[90m[5c1252a2] \u001b[39m\u001b[92m+ GeometryBasics v0.4.9\u001b[39m\n",
      "  \u001b[90m[67491407] \u001b[39m\u001b[92m+ Polyhedra v0.7.6\u001b[39m\n",
      "  \u001b[90m[09ab397b] \u001b[39m\u001b[92m+ StructArrays v0.6.16\u001b[39m\n",
      "  \u001b[90m[5ae413db] \u001b[39m\u001b[92m+ EarCut_jll v2.2.4+0\u001b[39m\n",
      "  \u001b[90m[b27032c2] \u001b[39m\u001b[95m↓ LibCURL v0.6.4 ⇒ v0.6.3\u001b[39m\n",
      "  \u001b[90m[44cfe95a] \u001b[39m\u001b[95m↓ Pkg v1.10.0 ⇒ v1.9.0\u001b[39m\n",
      "  \u001b[90m[2f01184e] \u001b[39m\u001b[93m~ SparseArrays v1.10.0 ⇒ \u001b[39m\n",
      "  \u001b[90m[10745b16] \u001b[39m\u001b[95m↓ Statistics v1.10.0 ⇒ v1.9.0\u001b[39m\n",
      "  \u001b[90m[e66e0078] \u001b[39m\u001b[95m↓ CompilerSupportLibraries_jll v1.0.5+1 ⇒ v1.0.2+0\u001b[39m\n",
      "  \u001b[90m[781609d7] \u001b[39m\u001b[95m↓ GMP_jll v6.2.1+6 ⇒ v6.2.1+2\u001b[39m\n",
      "  \u001b[90m[deac9b47] \u001b[39m\u001b[95m↓ LibCURL_jll v8.4.0+0 ⇒ v7.84.0+0\u001b[39m\n",
      "  \u001b[90m[e37daf67] \u001b[39m\u001b[91m- LibGit2_jll v1.6.4+0\u001b[39m\n",
      "  \u001b[90m[29816b5a] \u001b[39m\u001b[95m↓ LibSSH2_jll v1.11.0+1 ⇒ v1.10.2+0\u001b[39m\n",
      "  \u001b[90m[c8ffd9c3] \u001b[39m\u001b[95m↓ MbedTLS_jll v2.28.2+1 ⇒ v2.28.2+0\u001b[39m\n",
      "  \u001b[90m[14a3606d] \u001b[39m\u001b[95m↓ MozillaCACerts_jll v2023.1.10 ⇒ v2022.10.11\u001b[39m\n",
      "  \u001b[90m[4536629a] \u001b[39m\u001b[95m↓ OpenBLAS_jll v0.3.23+2 ⇒ v0.3.21+4\u001b[39m\n",
      "  \u001b[90m[05823500] \u001b[39m\u001b[95m↓ OpenLibm_jll v0.8.1+2 ⇒ v0.8.1+0\u001b[39m\n",
      "  \u001b[90m[bea87d4a] \u001b[39m\u001b[95m↓ SuiteSparse_jll v7.2.1+1 ⇒ v5.10.1+6\u001b[39m\n",
      "  \u001b[90m[83775a58] \u001b[39m\u001b[95m↓ Zlib_jll v1.2.13+1 ⇒ v1.2.13+0\u001b[39m\n",
      "  \u001b[90m[8e850b90] \u001b[39m\u001b[95m↓ libblastrampoline_jll v5.8.0+1 ⇒ v5.8.0+0\u001b[39m\n",
      "  \u001b[90m[8e850ede] \u001b[39m\u001b[95m↓ nghttp2_jll v1.52.0+1 ⇒ v1.48.0+0\u001b[39m\n",
      "  \u001b[90m[3f19e933] \u001b[39m\u001b[95m↓ p7zip_jll v17.4.0+2 ⇒ v17.4.0+0\u001b[39m\n",
      "\u001b[36m\u001b[1m        Info\u001b[22m\u001b[39m Packages marked with \u001b[32m⌃\u001b[39m have new versions available and may be upgradable.\n"
     ]
    },
    {
     "name": "stderr",
     "output_type": "stream",
     "text": [
      "\u001b[32m\u001b[1mPrecompiling\u001b[22m\u001b[39m "
     ]
    },
    {
     "name": "stderr",
     "output_type": "stream",
     "text": [
      "project...\n"
     ]
    },
    {
     "name": "stderr",
     "output_type": "stream",
     "text": [
      "\u001b[32m  ✓ \u001b[39m\u001b[90mScratch\u001b[39m\n"
     ]
    },
    {
     "name": "stderr",
     "output_type": "stream",
     "text": [
      "\u001b[32m  ✓ \u001b[39m\u001b[90mGAP_jll\u001b[39m\n"
     ]
    },
    {
     "name": "stderr",
     "output_type": "stream",
     "text": [
      "\u001b[32m  ✓ \u001b[39m\u001b[90mFillArrays\u001b[39m\n"
     ]
    },
    {
     "name": "stderr",
     "output_type": "stream",
     "text": [
      "\u001b[32m  ✓ \u001b[39m\u001b[90mGAP_pkg_juliainterface_jll\u001b[39m\n"
     ]
    },
    {
     "name": "stderr",
     "output_type": "stream",
     "text": [
      "\u001b[32m  ✓ \u001b[39m\u001b[90mFillArrays → FillArraysSparseArraysExt\u001b[39m\n"
     ]
    },
    {
     "name": "stderr",
     "output_type": "stream",
     "text": [
      "\u001b[32m  ✓ \u001b[39m\u001b[90mFillArrays → FillArraysStatisticsExt\u001b[39m\n",
      "\u001b[32m  ✓ \u001b[39m\u001b[90mBangBang → BangBangStructArraysExt\u001b[39m\n"
     ]
    },
    {
     "name": "stderr",
     "output_type": "stream",
     "text": [
      "\u001b[32m  ✓ \u001b[39m\u001b[90mAccessors → AccessorsStructArraysExt\u001b[39m\n"
     ]
    },
    {
     "name": "stderr",
     "output_type": "stream",
     "text": [
      "\u001b[32m  ✓ \u001b[39m\u001b[90mMicroCollections\u001b[39m\n"
     ]
    },
    {
     "name": "stderr",
     "output_type": "stream",
     "text": [
      "\u001b[32m  ✓ \u001b[39m\u001b[90mTransducers\u001b[39m\n"
     ]
    },
    {
     "name": "stderr",
     "output_type": "stream",
     "text": [
      "\u001b[32m  ✓ \u001b[39mGAP\n"
     ]
    },
    {
     "name": "stderr",
     "output_type": "stream",
     "text": [
      "\u001b[32m  ✓ \u001b[39m\u001b[90mTransducers → TransducersReferenceablesExt\u001b[39m\n"
     ]
    },
    {
     "name": "stderr",
     "output_type": "stream",
     "text": [
      "\u001b[32m  ✓ \u001b[39m\u001b[90mArrayLayouts\u001b[39m\n"
     ]
    },
    {
     "name": "stderr",
     "output_type": "stream",
     "text": [
      "\u001b[32m  ✓ \u001b[39m\u001b[90mFolds\u001b[39m\n"
     ]
    },
    {
     "name": "stderr",
     "output_type": "stream",
     "text": [
      "\u001b[32m  ✓ \u001b[39m\u001b[90mArrayLayouts → ArrayLayoutsSparseArraysExt\u001b[39m\n"
     ]
    },
    {
     "name": "stderr",
     "output_type": "stream",
     "text": [
      "\u001b[32m  ✓ \u001b[39mGroups\n"
     ]
    },
    {
     "name": "stderr",
     "output_type": "stream",
     "text": [
      "\u001b[32m  ✓ \u001b[39mBlockArrays\n"
     ]
    },
    {
     "name": "stderr",
     "output_type": "stream",
     "text": [
      "\u001b[32m  ✓ \u001b[39m\u001b[90mTransducers → TransducersBlockArraysExt\u001b[39m\n"
     ]
    },
    {
     "name": "stderr",
     "output_type": "stream",
     "text": [
      "\u001b[32m  ✓ \u001b[39mPropertyT\n"
     ]
    },
    {
     "name": "stderr",
     "output_type": "stream",
     "text": [
      "\u001b[32m  ✓ \u001b[39mLowCohomologySOS\n"
     ]
    },
    {
     "name": "stderr",
     "output_type": "stream",
     "text": [
      "\u001b[32m  ✓ \u001b[39mSLnCohomology\n",
      "  21 dependencies successfully precompiled in 45 seconds. 138 already precompiled.\n",
      "  \u001b[33m2\u001b[39m dependencies had warnings during precompilation:\u001b[33m\n",
      "┌ \u001b[39mAccessorsStructArraysExt [deedf894-762e-575a-ad8b-1df4bba63293]\u001b[33m\n",
      "│  \u001b[39m\u001b[33m\u001b[1m┌ \u001b[22m\u001b[39m\u001b[33m\u001b[1mWarning: \u001b[22m\u001b[39mThe call to compilecache failed to create a usable precompiled cache file for StructArrays [09ab397b-f2b6-538f-b94a-2f83cf4a842a]\u001b[33m\n",
      "│  \u001b[39m\u001b[33m\u001b[1m│ \u001b[22m\u001b[39m  exception = Required dependency GPUArraysCore [46192b85-c4d5-4398-a991-12ede77f4527] failed to load from a cache file.\u001b[33m\n",
      "│  \u001b[39m\u001b[33m\u001b[1m└ \u001b[22m\u001b[39m\u001b[90m@ Base loading.jl:1818\u001b[39m\u001b[33m\n",
      "└  \u001b[39m\u001b[33m\n",
      "┌ \u001b[39mLowCohomologySOS [70c9f613-c550-58ca-b626-6da403f9846d]\u001b[33m\n",
      "│  \u001b[39mWARNING: method definition for getindex at /home/bbrueck/.julia/packages/LowCohomologySOS/oTSwD/src/tensors.jl:111 declares type variable N but does not use it.\u001b[33m\n",
      "└  \u001b[39m\n",
      "\u001b[32m\u001b[1m   Resolving\u001b[22m\u001b[39m package versions...\n"
     ]
    },
    {
     "name": "stderr",
     "output_type": "stream",
     "text": [
      "\u001b[32m\u001b[1m    Updating\u001b[22m\u001b[39m `/mnt/c/Git/HigherTSL3/SLnCohomology/Project.toml`\n",
      "  \u001b[90m[a8468747] \u001b[39m\u001b[92m+ QHull v0.2.5\u001b[39m\n",
      "\u001b[32m\u001b[1m    Updating\u001b[22m\u001b[39m `/mnt/c/Git/HigherTSL3/SLnCohomology/Manifest.toml`\n",
      "  \u001b[90m[8f4d0f93] \u001b[39m\u001b[92m+ Conda v1.10.0\u001b[39m\n",
      "  \u001b[90m[438e738f] \u001b[39m\u001b[92m+ PyCall v1.96.4\u001b[39m\n",
      "  \u001b[90m[a8468747] \u001b[39m\u001b[92m+ QHull v0.2.5\u001b[39m\n",
      "  \u001b[90m[81def892] \u001b[39m\u001b[92m+ VersionParsing v1.3.0\u001b[39m\n"
     ]
    },
    {
     "name": "stdout",
     "output_type": "stream",
     "text": [
      "\r"
     ]
    },
    {
     "name": "stderr",
     "output_type": "stream",
     "text": [
      "\u001b[33m\u001b[1m┌ \u001b[22m\u001b[39m\u001b[33m\u001b[1mWarning: \u001b[22m\u001b[39mModule JuMP with build ID fafbfcfd-586a-b13e-0000-0235f7084258 is missing from the cache.\n",
      "\u001b[33m\u001b[1m│ \u001b[22m\u001b[39mThis may mean JuMP [4076af6c-e467-56ae-b986-b466b2749572] does not support precompilation but is imported by a module that does.\n",
      "\u001b[33m\u001b[1m└ \u001b[22m\u001b[39m\u001b[90m@ Base loading.jl:1793\u001b[39m\n"
     ]
    },
    {
     "name": "stdout",
     "output_type": "stream",
     "text": [
      "\r"
     ]
    },
    {
     "name": "stderr",
     "output_type": "stream",
     "text": [
      "\u001b[33m\u001b[1m┌ \u001b[22m\u001b[39m\u001b[33m\u001b[1mWarning: \u001b[22m\u001b[39mModule JuMP with build ID fafbfcfd-586a-b13e-0000-0235f7084258 is missing from the cache.\n",
      "\u001b[33m\u001b[1m│ \u001b[22m\u001b[39mThis may mean JuMP [4076af6c-e467-56ae-b986-b466b2749572] does not support precompilation but is imported by a module that does.\n",
      "\u001b[33m\u001b[1m└ \u001b[22m\u001b[39m\u001b[90m@ Base loading.jl:1793\u001b[39m\n"
     ]
    },
    {
     "name": "stderr",
     "output_type": "stream",
     "text": [
      "┌ Error: Error during loading of extension StaticArraysChainRulesCoreExt of StaticArrays, use `Base.retry_load_extensions()` to retry.\n",
      "│   exception = \u001b[0m1-element ExceptionStack:\n",
      "ArgumentError: Package StaticArraysChainRulesCoreExt [cbf6619a-af44-5bf5-931a-f7c73a88debd] is required but does not seem to be installed:\n",
      " - Run `Pkg.instantiate()` to install all recorded dependencies.\n",
      "\n",
      "Stacktrace:\n",
      "  [1] \u001b[0m\u001b[1m_require\u001b[22m\u001b[0m\u001b[1m(\u001b[22m\u001b[90mpkg\u001b[39m::\u001b[0mBase.PkgId, \u001b[90menv\u001b[39m::\u001b[0mNothing\u001b[0m\u001b[1m)\u001b[22m\n",
      "\u001b[90m    @\u001b[39m \u001b[90mBase\u001b[39m \u001b[90m./\u001b[39m\u001b[90m\u001b[4mloading.jl:1774\u001b[24m\u001b[39m\n",
      "  [2] \u001b[0m\u001b[1m_require_prelocked\u001b[22m\u001b[0m\u001b[1m(\u001b[22m\u001b[90muuidkey\u001b[39m::\u001b[0mBase.PkgId, \u001b[90menv\u001b[39m::\u001b[0mNothing\u001b[0m\u001b[1m)\u001b[22m\n",
      "\u001b[90m    @\u001b[39m \u001b[90mBase\u001b[39m \u001b[90m./\u001b[39m\u001b[90m\u001b[4mloading.jl:1660\u001b[24m\u001b[39m\n",
      "  [3] \u001b[0m\u001b[1m_require_prelocked\u001b[22m\u001b[0m\u001b[1m(\u001b[22m\u001b[90muuidkey\u001b[39m::\u001b[0mBase.PkgId\u001b[0m\u001b[1m)\u001b[22m\n",
      "\u001b[90m    @\u001b[39m \u001b[90mBase\u001b[39m \u001b[90m./\u001b[39m\u001b[90m\u001b[4mloading.jl:1658\u001b[24m\u001b[39m\n",
      "  [4] \u001b[0m\u001b[1mrun_extension_callbacks\u001b[22m\u001b[0m\u001b[1m(\u001b[22m\u001b[90mextid\u001b[39m::\u001b[0mBase.ExtensionId\u001b[0m\u001b[1m)\u001b[22m\n",
      "\u001b[90m    @\u001b[39m \u001b[90mBase\u001b[39m \u001b[90m./\u001b[39m\u001b[90m\u001b[4mloading.jl:1255\u001b[24m\u001b[39m\n",
      "  [5] \u001b[0m\u001b[1mrun_extension_callbacks\u001b[22m\u001b[0m\u001b[1m(\u001b[22m\u001b[90mpkgid\u001b[39m::\u001b[0mBase.PkgId\u001b[0m\u001b[1m)\u001b[22m\n",
      "\u001b[90m    @\u001b[39m \u001b[90mBase\u001b[39m \u001b[90m./\u001b[39m\u001b[90m\u001b[4mloading.jl:1290\u001b[24m\u001b[39m\n",
      "  [6] \u001b[0m\u001b[1mrun_package_callbacks\u001b[22m\u001b[0m\u001b[1m(\u001b[22m\u001b[90mmodkey\u001b[39m::\u001b[0mBase.PkgId\u001b[0m\u001b[1m)\u001b[22m\n",
      "\u001b[90m    @\u001b[39m \u001b[90mBase\u001b[39m \u001b[90m./\u001b[39m\u001b[90m\u001b[4mloading.jl:1124\u001b[24m\u001b[39m\n",
      "  [7] \u001b[0m\u001b[1m_tryrequire_from_serialized\u001b[22m\u001b[0m\u001b[1m(\u001b[22m\u001b[90mmodkey\u001b[39m::\u001b[0mBase.PkgId, \u001b[90mpath\u001b[39m::\u001b[0mString, \u001b[90mocachepath\u001b[39m::\u001b[0mString, \u001b[90msourcepath\u001b[39m::\u001b[0mString, \u001b[90mdepmods\u001b[39m::\u001b[0mVector\u001b[90m{Any}\u001b[39m\u001b[0m\u001b[1m)\u001b[22m\n",
      "\u001b[90m    @\u001b[39m \u001b[90mBase\u001b[39m \u001b[90m./\u001b[39m\u001b[90m\u001b[4mloading.jl:1398\u001b[24m\u001b[39m\n",
      "  [8] \u001b[0m\u001b[1m_require_search_from_serialized\u001b[22m\u001b[0m\u001b[1m(\u001b[22m\u001b[90mpkg\u001b[39m::\u001b[0mBase.PkgId, \u001b[90msourcepath\u001b[39m::\u001b[0mString, \u001b[90mbuild_id\u001b[39m::\u001b[0mUInt128\u001b[0m\u001b[1m)\u001b[22m\n",
      "\u001b[90m    @\u001b[39m \u001b[90mBase\u001b[39m \u001b[90m./\u001b[39m\u001b[90m\u001b[4mloading.jl:1494\u001b[24m\u001b[39m\n",
      "  [9] \u001b[0m\u001b[1m_require\u001b[22m\u001b[0m\u001b[1m(\u001b[22m\u001b[90mpkg\u001b[39m::\u001b[0mBase.PkgId, \u001b[90menv\u001b[39m::\u001b[0mString\u001b[0m\u001b[1m)\u001b[22m\n",
      "\u001b[90m    @\u001b[39m \u001b[90mBase\u001b[39m \u001b[90m./\u001b[39m\u001b[90m\u001b[4mloading.jl:1783\u001b[24m\u001b[39m\n",
      " [10] \u001b[0m\u001b[1m_require_prelocked\u001b[22m\u001b[0m\u001b[1m(\u001b[22m\u001b[90muuidkey\u001b[39m::\u001b[0mBase.PkgId, \u001b[90menv\u001b[39m::\u001b[0mString\u001b[0m\u001b[1m)\u001b[22m\n",
      "\u001b[90m    @\u001b[39m \u001b[90mBase\u001b[39m \u001b[90m./\u001b[39m\u001b[90m\u001b[4mloading.jl:1660\u001b[24m\u001b[39m\n",
      " [11] \u001b[0m\u001b[1mmacro expansion\u001b[22m\n",
      "\u001b[90m    @\u001b[39m \u001b[90m./\u001b[39m\u001b[90m\u001b[4mloading.jl:1648\u001b[24m\u001b[39m\u001b[90m [inlined]\u001b[39m\n",
      " [12] \u001b[0m\u001b[1mmacro expansion\u001b[22m\n",
      "\u001b[90m    @\u001b[39m \u001b[90m./\u001b[39m\u001b[90m\u001b[4mlock.jl:267\u001b[24m\u001b[39m\u001b[90m [inlined]\u001b[39m\n",
      " [13] \u001b[0m\u001b[1mrequire\u001b[22m\u001b[0m\u001b[1m(\u001b[22m\u001b[90minto\u001b[39m::\u001b[0mModule, \u001b[90mmod\u001b[39m::\u001b[0mSymbol\u001b[0m\u001b[1m)\u001b[22m\n",
      "\u001b[90m    @\u001b[39m \u001b[90mBase\u001b[39m \u001b[90m./\u001b[39m\u001b[90m\u001b[4mloading.jl:1611\u001b[24m\u001b[39m\n",
      " [14] \u001b[0m\u001b[1minclude\u001b[22m\n",
      "\u001b[90m    @\u001b[39m \u001b[90m./\u001b[39m\u001b[90m\u001b[4mBase.jl:457\u001b[24m\u001b[39m\u001b[90m [inlined]\u001b[39m\n",
      " [15] \u001b[0m\u001b[1m_require\u001b[22m\u001b[0m\u001b[1m(\u001b[22m\u001b[90mpkg\u001b[39m::\u001b[0mBase.PkgId, \u001b[90menv\u001b[39m::\u001b[0mString\u001b[0m\u001b[1m)\u001b[22m\n",
      "\u001b[90m    @\u001b[39m \u001b[90mBase\u001b[39m \u001b[90m./\u001b[39m\u001b[90m\u001b[4mloading.jl:1836\u001b[24m\u001b[39m\n",
      " [16] \u001b[0m\u001b[1m_require_prelocked\u001b[22m\u001b[0m\u001b[1m(\u001b[22m\u001b[90muuidkey\u001b[39m::\u001b[0mBase.PkgId, \u001b[90menv\u001b[39m::\u001b[0mString\u001b[0m\u001b[1m)\u001b[22m\n",
      "\u001b[90m    @\u001b[39m \u001b[90mBase\u001b[39m \u001b[90m./\u001b[39m\u001b[90m\u001b[4mloading.jl:1660\u001b[24m\u001b[39m\n",
      " [17] \u001b[0m\u001b[1mmacro expansion\u001b[22m\n",
      "\u001b[90m    @\u001b[39m \u001b[90m./\u001b[39m\u001b[90m\u001b[4mloading.jl:1648\u001b[24m\u001b[39m\u001b[90m [inlined]\u001b[39m\n",
      " [18] \u001b[0m\u001b[1mmacro expansion\u001b[22m\n",
      "\u001b[90m    @\u001b[39m \u001b[90m./\u001b[39m\u001b[90m\u001b[4mlock.jl:267\u001b[24m\u001b[39m\u001b[90m [inlined]\u001b[39m\n",
      " [19] \u001b[0m\u001b[1mrequire\u001b[22m\u001b[0m\u001b[1m(\u001b[22m\u001b[90minto\u001b[39m::\u001b[0mModule, \u001b[90mmod\u001b[39m::\u001b[0mSymbol\u001b[0m\u001b[1m)\u001b[22m\n",
      "\u001b[90m    @\u001b[39m \u001b[90mBase\u001b[39m \u001b[90m./\u001b[39m\u001b[90m\u001b[4mloading.jl:1611\u001b[24m\u001b[39m\n",
      " [20] \u001b[0m\u001b[1minclude\u001b[22m\n",
      "\u001b[90m    @\u001b[39m \u001b[90m./\u001b[39m\u001b[90m\u001b[4mBase.jl:457\u001b[24m\u001b[39m\u001b[90m [inlined]\u001b[39m\n",
      " [21] \u001b[0m\u001b[1m_require\u001b[22m\u001b[0m\u001b[1m(\u001b[22m\u001b[90mpkg\u001b[39m::\u001b[0mBase.PkgId, \u001b[90menv\u001b[39m::\u001b[0mString\u001b[0m\u001b[1m)\u001b[22m\n",
      "\u001b[90m    @\u001b[39m \u001b[90mBase\u001b[39m \u001b[90m./\u001b[39m\u001b[90m\u001b[4mloading.jl:1836\u001b[24m\u001b[39m\n",
      " [22] \u001b[0m\u001b[1m_require_prelocked\u001b[22m\u001b[0m\u001b[1m(\u001b[22m\u001b[90muuidkey\u001b[39m::\u001b[0mBase.PkgId, \u001b[90menv\u001b[39m::\u001b[0mString\u001b[0m\u001b[1m)\u001b[22m\n",
      "\u001b[90m    @\u001b[39m \u001b[90mBase\u001b[39m \u001b[90m./\u001b[39m\u001b[90m\u001b[4mloading.jl:1660\u001b[24m\u001b[39m\n",
      " [23] \u001b[0m\u001b[1mmacro expansion\u001b[22m\n",
      "\u001b[90m    @\u001b[39m \u001b[90m./\u001b[39m\u001b[90m\u001b[4mloading.jl:1648\u001b[24m\u001b[39m\u001b[90m [inlined]\u001b[39m\n",
      " [24] \u001b[0m\u001b[1mmacro expansion\u001b[22m\n",
      "\u001b[90m    @\u001b[39m \u001b[90m./\u001b[39m\u001b[90m\u001b[4mlock.jl:267\u001b[24m\u001b[39m\u001b[90m [inlined]\u001b[39m\n",
      " [25] \u001b[0m\u001b[1mrequire\u001b[22m\u001b[0m\u001b[1m(\u001b[22m\u001b[90minto\u001b[39m::\u001b[0mModule, \u001b[90mmod\u001b[39m::\u001b[0mSymbol\u001b[0m\u001b[1m)\u001b[22m\n",
      "\u001b[90m    @\u001b[39m \u001b[90mBase\u001b[39m \u001b[90m./\u001b[39m\u001b[90m\u001b[4mloading.jl:1611\u001b[24m\u001b[39m\n",
      " [26] \u001b[0m\u001b[1meval\u001b[22m\n",
      "\u001b[90m    @\u001b[39m \u001b[90m./\u001b[39m\u001b[90m\u001b[4mboot.jl:370\u001b[24m\u001b[39m\u001b[90m [inlined]\u001b[39m\n",
      " [27] \u001b[0m\u001b[1minclude_string\u001b[22m\u001b[0m\u001b[1m(\u001b[22m\u001b[90mmapexpr\u001b[39m::\u001b[0mtypeof(REPL.softscope), \u001b[90mmod\u001b[39m::\u001b[0mModule, \u001b[90mcode\u001b[39m::\u001b[0mString, \u001b[90mfilename\u001b[39m::\u001b[0mString\u001b[0m\u001b[1m)\u001b[22m\n",
      "\u001b[90m    @\u001b[39m \u001b[90mBase\u001b[39m \u001b[90m./\u001b[39m\u001b[90m\u001b[4mloading.jl:1899\u001b[24m\u001b[39m\n",
      " [28] \u001b[0m\u001b[1m#invokelatest#2\u001b[22m\n",
      "\u001b[90m    @\u001b[39m \u001b[90m./\u001b[39m\u001b[90m\u001b[4messentials.jl:816\u001b[24m\u001b[39m\u001b[90m [inlined]\u001b[39m\n",
      " [29] \u001b[0m\u001b[1minvokelatest\u001b[22m\n",
      "\u001b[90m    @\u001b[39m \u001b[90m./\u001b[39m\u001b[90m\u001b[4messentials.jl:813\u001b[24m\u001b[39m\u001b[90m [inlined]\u001b[39m\n",
      " [30] \u001b[0m\u001b[1m(::VSCodeServer.var\"#208#209\"{VSCodeServer.NotebookRunCellArguments, String})\u001b[22m\u001b[0m\u001b[1m(\u001b[22m\u001b[0m\u001b[1m)\u001b[22m\n",
      "\u001b[90m    @\u001b[39m \u001b[35mVSCodeServer\u001b[39m \u001b[90m~/.vscode-server/extensions/julialang.language-julia-1.66.2/scripts/packages/VSCodeServer/src/\u001b[39m\u001b[90m\u001b[4mserve_notebook.jl:19\u001b[24m\u001b[39m\n",
      " [31] \u001b[0m\u001b[1mwithpath\u001b[22m\u001b[0m\u001b[1m(\u001b[22m\u001b[90mf\u001b[39m::\u001b[0mVSCodeServer.var\"#208#209\"\u001b[90m{VSCodeServer.NotebookRunCellArguments, String}\u001b[39m, \u001b[90mpath\u001b[39m::\u001b[0mString\u001b[0m\u001b[1m)\u001b[22m\n",
      "\u001b[90m    @\u001b[39m \u001b[35mVSCodeServer\u001b[39m \u001b[90m~/.vscode-server/extensions/julialang.language-julia-1.66.2/scripts/packages/VSCodeServer/src/\u001b[39m\u001b[90m\u001b[4mrepl.jl:274\u001b[24m\u001b[39m\n",
      " [32] \u001b[0m\u001b[1mnotebook_runcell_request\u001b[22m\u001b[0m\u001b[1m(\u001b[22m\u001b[90mconn\u001b[39m::\u001b[0mVSCodeServer.JSONRPC.JSONRPCEndpoint\u001b[90m{Base.PipeEndpoint, Base.PipeEndpoint}\u001b[39m, \u001b[90mparams\u001b[39m::\u001b[0mVSCodeServer.NotebookRunCellArguments\u001b[0m\u001b[1m)\u001b[22m\n",
      "\u001b[90m    @\u001b[39m \u001b[35mVSCodeServer\u001b[39m \u001b[90m~/.vscode-server/extensions/julialang.language-julia-1.66.2/scripts/packages/VSCodeServer/src/\u001b[39m\u001b[90m\u001b[4mserve_notebook.jl:13\u001b[24m\u001b[39m\n",
      " [33] \u001b[0m\u001b[1mdispatch_msg\u001b[22m\u001b[0m\u001b[1m(\u001b[22m\u001b[90mx\u001b[39m::\u001b[0mVSCodeServer.JSONRPC.JSONRPCEndpoint\u001b[90m{Base.PipeEndpoint, Base.PipeEndpoint}\u001b[39m, \u001b[90mdispatcher\u001b[39m::\u001b[0mVSCodeServer.JSONRPC.MsgDispatcher, \u001b[90mmsg\u001b[39m::\u001b[0mDict\u001b[90m{String, Any}\u001b[39m\u001b[0m\u001b[1m)\u001b[22m\n",
      "\u001b[90m    @\u001b[39m \u001b[35mVSCodeServer.JSONRPC\u001b[39m \u001b[90m~/.vscode-server/extensions/julialang.language-julia-1.66.2/scripts/packages/JSONRPC/src/\u001b[39m\u001b[90m\u001b[4mtyped.jl:67\u001b[24m\u001b[39m\n",
      " [34] \u001b[0m\u001b[1mserve_notebook\u001b[22m\u001b[0m\u001b[1m(\u001b[22m\u001b[90mpipename\u001b[39m::\u001b[0mString, \u001b[90moutputchannel_logger\u001b[39m::\u001b[0mBase.CoreLogging.SimpleLogger; \u001b[90mcrashreporting_pipename\u001b[39m::\u001b[0mString\u001b[0m\u001b[1m)\u001b[22m\n",
      "\u001b[90m    @\u001b[39m \u001b[35mVSCodeServer\u001b[39m \u001b[90m~/.vscode-server/extensions/julialang.language-julia-1.66.2/scripts/packages/VSCodeServer/src/\u001b[39m\u001b[90m\u001b[4mserve_notebook.jl:139\u001b[24m\u001b[39m\n",
      " [35] top-level scope\n",
      "\u001b[90m    @\u001b[39m \u001b[90m~/.vscode-server/extensions/julialang.language-julia-1.66.2/scripts/notebook/\u001b[39m\u001b[90m\u001b[4mnotebook.jl:32\u001b[24m\u001b[39m\n",
      " [36] \u001b[0m\u001b[1minclude\u001b[22m\u001b[0m\u001b[1m(\u001b[22m\u001b[90mmod\u001b[39m::\u001b[0mModule, \u001b[90m_path\u001b[39m::\u001b[0mString\u001b[0m\u001b[1m)\u001b[22m\n",
      "\u001b[90m    @\u001b[39m \u001b[90mBase\u001b[39m \u001b[90m./\u001b[39m\u001b[90m\u001b[4mBase.jl:457\u001b[24m\u001b[39m\n",
      " [37] \u001b[0m\u001b[1mexec_options\u001b[22m\u001b[0m\u001b[1m(\u001b[22m\u001b[90mopts\u001b[39m::\u001b[0mBase.JLOptions\u001b[0m\u001b[1m)\u001b[22m\n",
      "\u001b[90m    @\u001b[39m \u001b[90mBase\u001b[39m \u001b[90m./\u001b[39m\u001b[90m\u001b[4mclient.jl:307\u001b[24m\u001b[39m\n",
      " [38] \u001b[0m\u001b[1m_start\u001b[22m\u001b[0m\u001b[1m(\u001b[22m\u001b[0m\u001b[1m)\u001b[22m\n",
      "\u001b[90m    @\u001b[39m \u001b[90mBase\u001b[39m \u001b[90m./\u001b[39m\u001b[90m\u001b[4mclient.jl:522\u001b[24m\u001b[39m\n",
      "└ @ Base loading.jl:1261\n"
     ]
    },
    {
     "name": "stderr",
     "output_type": "stream",
     "text": [
      "\u001b[33m\u001b[1m┌ \u001b[22m\u001b[39m\u001b[33m\u001b[1mWarning: \u001b[22m\u001b[39mModule JuMP with build ID fafbfcfd-586a-b13e-0000-0235f7084258 is missing from the cache.\n",
      "\u001b[33m\u001b[1m│ \u001b[22m\u001b[39mThis may mean JuMP [4076af6c-e467-56ae-b986-b466b2749572] does not support precompilation but is imported by a module that does.\n",
      "\u001b[33m\u001b[1m└ \u001b[22m\u001b[39m\u001b[90m@ Base loading.jl:1793\u001b[39m\n"
     ]
    },
    {
     "name": "stderr",
     "output_type": "stream",
     "text": [
      "WARNING: method definition for getindex at /home/bbrueck/.julia/packages/LowCohomologySOS/oTSwD/src/tensors.jl:111 declares type variable N but does not use it.\n"
     ]
    }
   ],
   "source": [
    "using Pkg\n",
    "Pkg.activate(normpath(joinpath(@__DIR__, \"../\")))\n",
    "Pkg.add(\"Polyhedra\")\n",
    "Pkg.add(\"QHull\")\n",
    "using Revise\n",
    "using LinearAlgebra\n",
    "using Polyhedra\n",
    "using QHull\n",
    "ENV[\"JULIA_NUM_THREADS\"] = Sys.CPU_THREADS÷2\n",
    "LinearAlgebra.BLAS.set_num_threads(Sys.CPU_THREADS÷2)\n",
    "\n",
    "using SLnCohomology"
   ]
  },
  {
   "cell_type": "code",
   "execution_count": 11,
   "metadata": {},
   "outputs": [
    {
     "data": {
      "text/plain": [
       "V-representation Polyhedra.PointsHull{Float64, Vector{Float64}, Int64}:\n",
       "3-element iterator of Vector{Float64}:\n",
       " [0.0, 0.0]\n",
       " [0.0, 1.0]\n",
       " [0.5, 0.5]"
      ]
     },
     "metadata": {},
     "output_type": "display_data"
    }
   ],
   "source": [
    "test = vrep([[0, 0], [0, 1], [1/2, 1/2]])"
   ]
  },
  {
   "cell_type": "code",
   "execution_count": 9,
   "metadata": {},
   "outputs": [
    {
     "data": {
      "text/plain": [
       "H-representation LiftedHRepresentation{Float64, Matrix{Float64}}:\n",
       "3-element iterator of HalfSpace{Float64, Vector{Float64}}:\n",
       " HalfSpace([1.0, 1.0], 1.0)\n",
       " HalfSpace([0.5, -0.5], 0.0)\n",
       " HalfSpace([-2.0, -0.0], 0.0)"
      ]
     },
     "metadata": {},
     "output_type": "display_data"
    }
   ],
   "source": [
    "doubledescription(test)"
   ]
  },
  {
   "cell_type": "code",
   "execution_count": 12,
   "metadata": {},
   "outputs": [
    {
     "data": {
      "text/plain": [
       "Polyhedron DefaultPolyhedron{Float64, Polyhedra.Intersection{Float64, Vector{Float64}, Int64}, Polyhedra.Hull{Float64, Vector{Float64}, Int64}}:\n",
       "3-element iterator of Vector{Float64}:\n",
       " [0.0, 0.0]\n",
       " [0.0, 1.0]\n",
       " [0.5, 0.5]"
      ]
     },
     "metadata": {},
     "output_type": "display_data"
    }
   ],
   "source": [
    "test_poly = polyhedron(test)"
   ]
  },
  {
   "cell_type": "code",
   "execution_count": 14,
   "metadata": {},
   "outputs": [
    {
     "data": {
      "text/plain": [
       "false"
      ]
     },
     "metadata": {},
     "output_type": "display_data"
    }
   ],
   "source": [
    "hrepiscomputed(test_poly)"
   ]
  },
  {
   "cell_type": "code",
   "execution_count": null,
   "metadata": {},
   "outputs": [],
   "source": [
    "incidentpoints(test_poly, )"
   ]
  },
  {
   "cell_type": "code",
   "execution_count": 15,
   "metadata": {},
   "outputs": [
    {
     "ename": "TypeError",
     "evalue": "TypeError: in Incident, in IdxT, expected IdxT<:(Polyhedra.Index{Float64}), got Type{Vector{Int64}}",
     "output_type": "error",
     "traceback": [
      "TypeError: in Incident, in IdxT, expected IdxT<:(Polyhedra.Index{Float64}), got Type{Vector{Int64}}\n",
      "\n",
      "Stacktrace:\n",
      " [1] (Polyhedra.IncidentElements{Float64, HalfSpace{Float64, Vector{Float64}}})(p::DefaultPolyhedron{Float64, Polyhedra.Intersection{Float64, Vector{Float64}, Int64}, Polyhedra.Hull{Float64, Vector{Float64}, Int64}}, idx::Vector{Int64})\n",
      "   @ Polyhedra ~/.julia/packages/Polyhedra/Xhcfx/src/incidence.jl:23\n",
      " [2] incidenthalfspaces(p::DefaultPolyhedron{Float64, Polyhedra.Intersection{Float64, Vector{Float64}, Int64}, Polyhedra.Hull{Float64, Vector{Float64}, Int64}}, idx::Vector{Int64})\n",
      "   @ Polyhedra ~/.julia/packages/Polyhedra/Xhcfx/src/iterators.jl:152\n",
      " [3] top-level scope\n",
      "   @ /mnt/c/Git/HigherTSL3/SLnCohomology/scripts/playing_with_polyhedra.ipynb:1"
     ]
    }
   ],
   "source": [
    "incidenthalfspaces(test_poly, [0, 0])"
   ]
  },
  {
   "cell_type": "code",
   "execution_count": 18,
   "metadata": {},
   "outputs": [
    {
     "name": "stdout",
     "output_type": "stream",
     "text": [
      "get(test_poly, point) = [0.0, 0.0]\n",
      "get(test_poly, point) = [0.0, 1.0]\n",
      "get(test_poly, point) = [0.5, 0.5]\n"
     ]
    }
   ],
   "source": [
    "for point in eachindex(points(test_poly))\n",
    "    @show get(test_poly, point)\n",
    "end"
   ]
  },
  {
   "cell_type": "code",
   "execution_count": 24,
   "metadata": {},
   "outputs": [
    {
     "name": "stdout",
     "output_type": "stream",
     "text": [
      "get(test_poly, halfspace) = HalfSpace([1.0, 1.0], 1.0)\n",
      "get(test_poly, halfspace) = HalfSpace([0.5, -0.5], 0.0)\n",
      "get(test_poly, halfspace) = HalfSpace([-2.0, -0.0], 0.0)\n"
     ]
    }
   ],
   "source": [
    "for halfspace in eachindex(halfspaces(test_poly))\n",
    "    @show get(test_poly, halfspace)\n",
    "end"
   ]
  },
  {
   "cell_type": "code",
   "execution_count": 98,
   "metadata": {},
   "outputs": [
    {
     "name": "stdout",
     "output_type": "stream",
     "text": [
      "halfspace = Polyhedra.Index{Float64, HalfSpace{Float64, Vector{Float64}}}(1)\n",
      "halfspace = Polyhedra.Index{Float64, HalfSpace{Float64, Vector{Float64}}}(2)\n",
      "halfspace = Polyhedra.Index{Float64, HalfSpace{Float64, Vector{Float64}}}(3)\n"
     ]
    }
   ],
   "source": [
    "for halfspace in eachindex(halfspaces(test_poly))\n",
    "    @show halfspace\n",
    "end"
   ]
  },
  {
   "cell_type": "code",
   "execution_count": 22,
   "metadata": {},
   "outputs": [
    {
     "name": "stdout",
     "output_type": "stream",
     "text": [
      "HalfSpace{Float64, Vector{Float64}}[HalfSpace([0.5, -0.5], 0.0), HalfSpace([-2.0, -0.0], 0.0)]\n",
      "HalfSpace{Float64, Vector{Float64}}[HalfSpace([1.0, 1.0], 1.0), HalfSpace([-2.0, -0.0], 0.0)]\n",
      "HalfSpace{Float64, Vector{Float64}}[HalfSpace([1.0, 1.0], 1.0), HalfSpace([0.5, -0.5], 0.0)]\n"
     ]
    }
   ],
   "source": [
    "for point in eachindex(points(test_poly))\n",
    "    println(incidenthalfspaces(test_poly, point))\n",
    "end"
   ]
  },
  {
   "cell_type": "code",
   "execution_count": 28,
   "metadata": {},
   "outputs": [
    {
     "name": "stdout",
     "output_type": "stream",
     "text": [
      "incidentpointindices(test_poly, halfspace) = Polyhedra.Index{Float64, Vector{Float64}}[Polyhedra.Index{Float64, Vector{Float64}}(2), Polyhedra.Index{Float64, Vector{Float64}}(3)]\n",
      "incidentpointindices(test_poly, halfspace) = Polyhedra.Index{Float64, Vector{Float64}}[Polyhedra.Index{Float64, Vector{Float64}}(1), Polyhedra.Index{Float64, Vector{Float64}}(3)]\n",
      "incidentpointindices(test_poly, halfspace) = Polyhedra.Index{Float64, Vector{Float64}}[Polyhedra.Index{Float64, Vector{Float64}}(1), Polyhedra.Index{Float64, Vector{Float64}}(2)]\n"
     ]
    }
   ],
   "source": [
    "for halfspace in eachindex(halfspaces(test_poly))\n",
    "    @show incidentpointindices(test_poly, halfspace)\n",
    "end"
   ]
  },
  {
   "cell_type": "code",
   "execution_count": 34,
   "metadata": {},
   "outputs": [
    {
     "name": "stdout",
     "output_type": "stream",
     "text": [
      "A halfspace with points:\n",
      "Polyhedra.Index{Float64, Vector{Float64}}(2)\n",
      "Polyhedra.Index{Float64, Vector{Float64}}(3)\n",
      "A halfspace with points:\n",
      "Polyhedra.Index{Float64, Vector{Float64}}(1)\n",
      "Polyhedra.Index{Float64, Vector{Float64}}(3)\n",
      "A halfspace with points:\n",
      "Polyhedra.Index{Float64, Vector{Float64}}(1)\n",
      "Polyhedra.Index{Float64, Vector{Float64}}(2)\n"
     ]
    }
   ],
   "source": [
    "for halfspace in eachindex(halfspaces(test_poly))\n",
    "    println(\"A halfspace with points:\")\n",
    "    for number in incidentpointindices(test_poly, halfspace)\n",
    "        println(number)\n",
    "    end\n",
    "end"
   ]
  },
  {
   "cell_type": "code",
   "execution_count": 89,
   "metadata": {},
   "outputs": [
    {
     "name": "stdout",
     "output_type": "stream",
     "text": [
      "A halfspace with points:\n",
      "Polyhedra.Index{Float64, Vector{Float64}}(2)\n",
      "Polyhedra.Index{Float64, Vector{Float64}}(3)\n",
      "A halfspace with points:\n",
      "Polyhedra.Index{Float64, Vector{Float64}}(1)\n",
      "Polyhedra.Index{Float64, Vector{Float64}}(3)\n",
      "A halfspace with points:\n",
      "Polyhedra.Index{Float64, Vector{Float64}}(1)\n",
      "Polyhedra.Index{Float64, Vector{Float64}}(2)\n"
     ]
    }
   ],
   "source": [
    "for halfspace in eachindex(halfspaces(test_poly))\n",
    "    println(\"A halfspace with points:\")\n",
    "    for number in incidentpointindices(test_poly, halfspace)\n",
    "        println(number)\n",
    "    end\n",
    "end"
   ]
  },
  {
   "cell_type": "code",
   "execution_count": 95,
   "metadata": {},
   "outputs": [
    {
     "data": {
      "text/plain": [
       "Polyhedra.Index{Float64, Vector{Float64}}(2)"
      ]
     },
     "metadata": {},
     "output_type": "display_data"
    },
    {
     "data": {
      "text/plain": [
       "Polyhedra.Index{Float64, Vector{Float64}}(3)"
      ]
     },
     "metadata": {},
     "output_type": "display_data"
    },
    {
     "data": {
      "text/plain": [
       "Polyhedra.Index{Float64, Vector{Float64}}(1)"
      ]
     },
     "metadata": {},
     "output_type": "display_data"
    },
    {
     "data": {
      "text/plain": [
       "Polyhedra.Index{Float64, Vector{Float64}}(3)"
      ]
     },
     "metadata": {},
     "output_type": "display_data"
    },
    {
     "data": {
      "text/plain": [
       "Polyhedra.Index{Float64, Vector{Float64}}(1)"
      ]
     },
     "metadata": {},
     "output_type": "display_data"
    },
    {
     "data": {
      "text/plain": [
       "Polyhedra.Index{Float64, Vector{Float64}}(2)"
      ]
     },
     "metadata": {},
     "output_type": "display_data"
    },
    {
     "name": "stdout",
     "output_type": "stream",
     "text": [
      "A halfspace with points:\n",
      "A halfspace with points:\n",
      "A halfspace with points:\n"
     ]
    }
   ],
   "source": [
    "for halfspace in eachindex(halfspaces(test_poly))\n",
    "    println(\"A halfspace with points:\")\n",
    "    for number in incidentpointindices(test_poly, halfspace)\n",
    "        display(number)\n",
    "    end\n",
    "end"
   ]
  },
  {
   "cell_type": "code",
   "execution_count": 58,
   "metadata": {},
   "outputs": [
    {
     "name": "stdout",
     "output_type": "stream",
     "text": [
      "A halfspace with points:\n",
      "[0.0, 1.0]\n",
      "[0.5, 0.5]\n",
      "A halfspace with points:\n",
      "[0.0, 0.0]\n",
      "[0.5, 0.5]\n",
      "A halfspace with points:\n",
      "[0.0, 0.0]\n",
      "[0.0, 1.0]\n"
     ]
    }
   ],
   "source": [
    "for halfspace in eachindex(halfspaces(test_poly))\n",
    "    println(\"A halfspace with points:\")\n",
    "    for x in incidentpoints(test_poly, halfspace)\n",
    "        println(x)\n",
    "    end\n",
    "end"
   ]
  },
  {
   "cell_type": "markdown",
   "metadata": {},
   "source": [
    "One should be able to convert this into a number. But maybe that's also not necessary when staying in the polyhedra package?"
   ]
  },
  {
   "cell_type": "code",
   "execution_count": 47,
   "metadata": {},
   "outputs": [
    {
     "data": {
      "text/plain": [
       "3-element iterator of Vector{Float64}:\n",
       " [0.0, 0.0]\n",
       " [0.0, 1.0]\n",
       " [0.5, 0.5]"
      ]
     },
     "metadata": {},
     "output_type": "display_data"
    }
   ],
   "source": [
    "points(test_poly)"
   ]
  },
  {
   "cell_type": "markdown",
   "metadata": {},
   "source": [
    "## Removing redundancy\n",
    "To really only obtain the facets. Though it might be that if I always start with a v representation, I get no redundancy anyway..."
   ]
  },
  {
   "cell_type": "code",
   "execution_count": 48,
   "metadata": {},
   "outputs": [
    {
     "data": {
      "text/plain": [
       "Polyhedron DefaultPolyhedron{Float64, Polyhedra.Intersection{Float64, Vector{Float64}, Int64}, Polyhedra.Hull{Float64, Vector{Float64}, Int64}}:\n",
       "4-element iterator of HalfSpace{Float64, Vector{Float64}}:\n",
       " HalfSpace([1.0, 1.0], 1.0)\n",
       " HalfSpace([0.5, -0.5], 0.0)\n",
       " HalfSpace([-2.0, -0.0], 0.0)\n",
       " HalfSpace([-2.0, -0.0], 1.0)"
      ]
     },
     "metadata": {},
     "output_type": "display_data"
    }
   ],
   "source": [
    "red_rep = polyhedron(hrep([HalfSpace([1.0, 1.0], 1.0), HalfSpace([0.5, -0.5], 0.0), HalfSpace([-2.0, -0.0], 0.0), HalfSpace([-2.0, -0.0], 1.0)]))"
   ]
  },
  {
   "cell_type": "code",
   "execution_count": 54,
   "metadata": {},
   "outputs": [
    {
     "name": "stderr",
     "output_type": "stream",
     "text": [
      "┌ Warning: `removehredundancy!` will trigger the computation of the H-representation, which\n",
      "│ is computationally demanding because no solver was provided to the library.\n",
      "│ If this is expected, call `computevrep!` explicitely before calling this\n",
      "│ function to remove this warning.\n",
      "│ To provide a solver to a polyhedron, first select a solver from https://jump.dev/JuMP.jl/stable/installation/#Getting-Solvers-1.\n",
      "│ If you choose for instance `GLPK`, do `using GLPK; solver = GLPK.Optimizer`.\n",
      "│ Then provide the solver to the library. For instance, with the default library, do `lib = DefaultLibrary{Float64}(solver)`\n",
      "│ or if you use an external library, say `QHull`, do `lib = QHull.Library(solver)`.\n",
      "│ Then when you create the polyhedron, say from a representation `rep`, do `polyhedron(rep, lib)`.\n",
      "└ @ Polyhedra /home/bbrueck/.julia/packages/Polyhedra/Xhcfx/src/redundancy.jl:107\n",
      "┌ Warning: Cannot detect exact linearity as no solver was provided and the polyhedron is not affine.\n",
      "│ As fallback, we will only detect halfspaces from opposite hyperplanes but that may not detect all halfspaces.\n",
      "│ Set a solver if you believe that the polyhedron may have more linearity.\n",
      "│ To provide a solver to a polyhedron, first select a solver from https://jump.dev/JuMP.jl/stable/installation/#Getting-Solvers-1.\n",
      "│ If you choose for instance `GLPK`, do `using GLPK; solver = GLPK.Optimizer`.\n",
      "│ Then provide the solver to the library. For instance, with the default library, do `lib = DefaultLibrary{Float64}(solver)`\n",
      "│ or if you use an external library, say `QHull`, do `lib = QHull.Library(solver)`.\n",
      "│ Then when you create the polyhedron, say from a representation `rep`, do `polyhedron(rep, lib)`.\n",
      "└ @ Polyhedra /home/bbrueck/.julia/packages/Polyhedra/Xhcfx/src/linearity.jl:239\n"
     ]
    }
   ],
   "source": [
    "removehredundancy!(red_rep)"
   ]
  },
  {
   "cell_type": "code",
   "execution_count": 56,
   "metadata": {},
   "outputs": [
    {
     "data": {
      "text/plain": [
       "Polyhedron DefaultPolyhedron{Float64, Polyhedra.Intersection{Float64, Vector{Float64}, Int64}, Polyhedra.Hull{Float64, Vector{Float64}, Int64}}:\n",
       "3-element iterator of HalfSpace{Float64, Vector{Float64}}:\n",
       " HalfSpace([1.0, 1.0], 1.0)\n",
       " HalfSpace([0.5, -0.5], 0.0)\n",
       " HalfSpace([-2.0, -0.0], 0.0):\n",
       "3-element iterator of Vector{Float64}:\n",
       " [0.0, 0.0]\n",
       " [0.0, 1.0]\n",
       " [0.5, 0.5]"
      ]
     },
     "metadata": {},
     "output_type": "display_data"
    }
   ],
   "source": [
    "red_rep"
   ]
  },
  {
   "cell_type": "markdown",
   "metadata": {},
   "source": [
    "# Test space for Voronoi cells"
   ]
  },
  {
   "cell_type": "code",
   "execution_count": 4,
   "metadata": {},
   "outputs": [
    {
     "data": {
      "text/plain": [
       "orbit_in_list (generic function with 1 method)"
      ]
     },
     "metadata": {},
     "output_type": "display_data"
    }
   ],
   "source": [
    "# From sl_cell_computations, no need to have it twice in the end\n",
    "function same_orbit(matrix1,matrix2)\n",
    "    #= Checks whether matrix1 lies in the SL_n orbit as matrix2\n",
    "    =#\n",
    "    if length(SLnCohomology.stabiliser_coset_SL(SLnCohomology.quadratic_form(matrix1),SLnCohomology.quadratic_form(matrix2))) > 0\n",
    "        return true\n",
    "    else\n",
    "        return false\n",
    "    end\n",
    "end\n",
    "\n",
    "function orbit_in_list(matrix,list)\n",
    "    #= Checks whether matrix lies in the SL_n orbit of one of the elements in list\n",
    "    =#\n",
    "    for matrix2 in list\n",
    "        if same_orbit(matrix,matrix2)\n",
    "            return true\n",
    "        end\n",
    "    end\n",
    "    return false\n",
    "end"
   ]
  },
  {
   "cell_type": "code",
   "execution_count": 25,
   "metadata": {},
   "outputs": [
    {
     "data": {
      "text/plain": [
       "1-element Vector{Matrix{Int64}}:\n",
       " [1 0 … 1 1; 0 1 … 0 1; 0 0 … 1 1]"
      ]
     },
     "metadata": {},
     "output_type": "display_data"
    }
   ],
   "source": [
    "#SL_3\n",
    "\n",
    "e1 = [1,0,0]\n",
    "e2 = [0,1,0]\n",
    "e3 = [0,0,1]\n",
    "e12 = [1,1,0]\n",
    "e13 = [1,0,1]\n",
    "e123 = [1,1,1]\n",
    "m2 = [e1 e2 e3] # standard\n",
    "m3_1 = [e1 e2 e3 e12] # 2-additive\n",
    "m3_2 = [e1 e2 e3 e123] # 3-additive\n",
    "m4 = [e1 e2 e3 e12 e13] # double-triple\n",
    "m5 = [e1 e2 e3 e12 e13 e123] # Q\n",
    "cells_SL3 = Dict()\n",
    "cells_SL3[2] = [m2]\n",
    "cells_SL3[3] = [m3_1,m3_2]\n",
    "cells_SL3[4] = [m4]\n",
    "cells_SL3[5] = [m5]"
   ]
  },
  {
   "cell_type": "code",
   "execution_count": 37,
   "metadata": {},
   "outputs": [
    {
     "data": {
      "text/plain": [
       "create_polyhedron (generic function with 1 method)"
      ]
     },
     "metadata": {},
     "output_type": "display_data"
    }
   ],
   "source": [
    "function create_polyhedron(cell)\n",
    "    poly_vertices = Vector{Int64}[]\n",
    "    for col in eachcol(cell)\n",
    "        push!(poly_vertices,vec(SLnCohomology.quadratic_form(col)))\n",
    "    end\n",
    "    poly_cell = polyhedron(vrep(poly_vertices))\n",
    "    return poly_cell\n",
    "end"
   ]
  },
  {
   "cell_type": "code",
   "execution_count": 67,
   "metadata": {},
   "outputs": [
    {
     "data": {
      "text/plain": [
       "facets (generic function with 2 methods)"
      ]
     },
     "metadata": {},
     "output_type": "display_data"
    }
   ],
   "source": [
    "function facets(polyhedral_cell, min_vectors, codim_1_cells)\n",
    "    #=\n",
    "    min_vectors must be ordered in the same way as the points in polyhedral_cell\n",
    "    =#\n",
    "    vertex_list = collect(points(polyhedral_cell))\n",
    "    for halfspace in eachindex(halfspaces(polyhedral_cell))\n",
    "        vertices_facet = []\n",
    "        for vertex in incidentpoints(polyhedral_cell, halfspace)\n",
    "            vertex_index = findfirst(x -> x==vertex, vertex_list) # this should somehow get quicker, but I couldn't find out how\n",
    "            push!(vertices_facet,min_vectors[vertex_index])\n",
    "        end\n",
    "        #now turn into matrix again to make accessible to other calculations, orbits extract_basis\n",
    "        facet = transpose(reduce(vcat,transpose.(vertices_facet)))\n",
    "        if isposdef(SLnCohomology.quadratic_form(facet)) # STH IS STILL WRONG WITH THIS CHECK!\n",
    "            # then it intersects the interior non-trivially\n",
    "            if !orbit_in_list(facet, codim_1_cells)\n",
    "                push!(codim_1_cells,facet)\n",
    "            end\n",
    "        end\n",
    "    end\n",
    "    return codim_1_cells\n",
    "end"
   ]
  },
  {
   "cell_type": "code",
   "execution_count": 48,
   "metadata": {},
   "outputs": [
    {
     "data": {
      "text/plain": [
       "min_vectors_facet (generic function with 1 method)"
      ]
     },
     "metadata": {},
     "output_type": "display_data"
    }
   ],
   "source": [
    "function min_vectors_facet(cell,codim_1_cells)\n",
    "    min_vectors = collect(eachcol(cell))\n",
    "    return facets(create_polyhedron(cell), min_vectors, codim_1_cells)\n",
    "end"
   ]
  },
  {
   "cell_type": "code",
   "execution_count": 68,
   "metadata": {},
   "outputs": [
    {
     "data": {
      "text/plain": [
       "1-element Vector{Any}:\n",
       " [0 0 … 1 1; 1 0 … 0 1; 0 1 … 1 1]"
      ]
     },
     "metadata": {},
     "output_type": "display_data"
    }
   ],
   "source": [
    "codim_1_cells = []\n",
    "facets(create_polyhedron(m5), min_vectors, codim_1_cells)"
   ]
  },
  {
   "cell_type": "code",
   "execution_count": 69,
   "metadata": {},
   "outputs": [
    {
     "data": {
      "text/plain": [
       "1-element Vector{Any}:\n",
       " [0 0 … 1 1; 1 0 … 0 1; 0 1 … 1 1]"
      ]
     },
     "metadata": {},
     "output_type": "display_data"
    }
   ],
   "source": [
    "dim_4_cells = []\n",
    "min_vectors_facet(m5,dim_4_cells)"
   ]
  },
  {
   "cell_type": "code",
   "execution_count": 70,
   "metadata": {},
   "outputs": [
    {
     "data": {
      "text/plain": [
       "2-element Vector{Any}:\n",
       " [0 1 1 1; 0 1 0 1; 1 0 1 1]\n",
       " [0 0 1 1; 1 0 1 0; 0 1 0 1]"
      ]
     },
     "metadata": {},
     "output_type": "display_data"
    }
   ],
   "source": [
    "dim_3_cells = []\n",
    "min_vectors_facet(dim_4_cells[1],dim_3_cells)"
   ]
  },
  {
   "cell_type": "code",
   "execution_count": 72,
   "metadata": {},
   "outputs": [
    {
     "data": {
      "text/plain": [
       "2-element Vector{Any}:\n",
       " [1 1 1; 1 0 1; 0 1 1]\n",
       " [0 1 1; 0 1 1; 1 0 1]"
      ]
     },
     "metadata": {},
     "output_type": "display_data"
    }
   ],
   "source": [
    "dim_2_cells = []\n",
    "min_vectors_facet(dim_3_cells[1],dim_2_cells)\n",
    "min_vectors_facet(dim_3_cells[2],dim_2_cells)"
   ]
  },
  {
   "cell_type": "code",
   "execution_count": 63,
   "metadata": {},
   "outputs": [
    {
     "data": {
      "text/plain": [
       "3×3 transpose(::Matrix{Int64}) with eltype Int64:\n",
       " 1  1  1\n",
       " 1  0  1\n",
       " 0  1  1"
      ]
     },
     "metadata": {},
     "output_type": "display_data"
    }
   ],
   "source": [
    "dim_2_cells[1]"
   ]
  },
  {
   "cell_type": "code",
   "execution_count": 76,
   "metadata": {},
   "outputs": [
    {
     "data": {
      "text/plain": [
       "3×3 transpose(::Matrix{Int64}) with eltype Int64:\n",
       " 0  1  1\n",
       " 0  1  1\n",
       " 1  0  1"
      ]
     },
     "metadata": {},
     "output_type": "display_data"
    }
   ],
   "source": [
    "dim_2_cells[2]"
   ]
  },
  {
   "cell_type": "code",
   "execution_count": 89,
   "metadata": {},
   "outputs": [
    {
     "data": {
      "text/plain": [
       "3×3 Matrix{Int64}:\n",
       " 2  2  1\n",
       " 2  2  1\n",
       " 1  1  2"
      ]
     },
     "metadata": {},
     "output_type": "display_data"
    }
   ],
   "source": [
    "m = SLnCohomology.quadratic_form(dim_2_cells[2])"
   ]
  },
  {
   "cell_type": "code",
   "execution_count": 90,
   "metadata": {},
   "outputs": [
    {
     "data": {
      "text/plain": [
       "true"
      ]
     },
     "metadata": {},
     "output_type": "display_data"
    }
   ],
   "source": [
    "isposdef(m)"
   ]
  },
  {
   "cell_type": "code",
   "execution_count": 91,
   "metadata": {},
   "outputs": [
    {
     "data": {
      "text/plain": [
       "3×3 Matrix{Int64}:\n",
       " 2  2  1\n",
       " 2  2  1\n",
       " 1  1  2"
      ]
     },
     "metadata": {},
     "output_type": "display_data"
    }
   ],
   "source": [
    "dim_2_cells[2]*transpose(dim_2_cells[2])"
   ]
  },
  {
   "cell_type": "code",
   "execution_count": null,
   "metadata": {},
   "outputs": [],
   "source": []
  }
 ],
 "metadata": {
  "kernelspec": {
   "display_name": "Julia 1.9.1",
   "language": "julia",
   "name": "julia-1.9"
  },
  "language_info": {
   "file_extension": ".jl",
   "mimetype": "application/julia",
   "name": "julia",
   "version": "1.9.1"
  }
 },
 "nbformat": 4,
 "nbformat_minor": 2
}
